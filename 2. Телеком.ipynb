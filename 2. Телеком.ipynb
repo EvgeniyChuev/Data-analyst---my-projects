{
 "cells": [
  {
   "cell_type": "markdown",
   "metadata": {},
   "source": [
    "### Шаг 1. Открываем файлы с данными и изучаем общую информацию"
   ]
  },
  {
   "cell_type": "code",
   "execution_count": 1,
   "metadata": {},
   "outputs": [],
   "source": [
    "import pandas as pd\n",
    "import numpy as np\n",
    "from scipy import stats as st\n",
    "import matplotlib.pyplot as plt\n",
    "import seaborn as sns"
   ]
  },
  {
   "cell_type": "code",
   "execution_count": 2,
   "metadata": {},
   "outputs": [],
   "source": [
    "calls = pd.read_csv('/datasets/calls.csv')\n",
    "internet = pd.read_csv('/datasets/internet.csv')\n",
    "messages = pd.read_csv('/datasets/messages.csv')\n",
    "tariffs = pd.read_csv('/datasets/tariffs.csv')\n",
    "users = pd.read_csv('/datasets/users.csv')"
   ]
  },
  {
   "cell_type": "markdown",
   "metadata": {},
   "source": [
    "#### Посмотрим отдельно на таблички"
   ]
  },
  {
   "cell_type": "markdown",
   "metadata": {},
   "source": [
    "### 1. Звонки: 'calls'\n",
    " - Данные по датам загруженны за весь 2018 год - 365 дней\n",
    " - Клиентов 492 - по **'user_id'**\n",
    " - Всего строк 202 607, из них 39 613 звонков с нулями в продолжительности времени звонка.\n",
    " ---\n",
    "- [ ]  <span style=\"color:blue\">***call_date*** Поле - заменить на формат Дата"
   ]
  },
  {
   "cell_type": "code",
   "execution_count": 3,
   "metadata": {},
   "outputs": [
    {
     "name": "stdout",
     "output_type": "stream",
     "text": [
      "<class 'pandas.core.frame.DataFrame'>\n",
      "RangeIndex: 202607 entries, 0 to 202606\n",
      "Data columns (total 4 columns):\n",
      "id           202607 non-null object\n",
      "call_date    202607 non-null object\n",
      "duration     202607 non-null float64\n",
      "user_id      202607 non-null int64\n",
      "dtypes: float64(1), int64(1), object(2)\n",
      "memory usage: 6.2+ MB\n"
     ]
    }
   ],
   "source": [
    "calls.info()"
   ]
  },
  {
   "cell_type": "code",
   "execution_count": 4,
   "metadata": {},
   "outputs": [
    {
     "data": {
      "text/html": [
       "<div>\n",
       "<style scoped>\n",
       "    .dataframe tbody tr th:only-of-type {\n",
       "        vertical-align: middle;\n",
       "    }\n",
       "\n",
       "    .dataframe tbody tr th {\n",
       "        vertical-align: top;\n",
       "    }\n",
       "\n",
       "    .dataframe thead th {\n",
       "        text-align: right;\n",
       "    }\n",
       "</style>\n",
       "<table border=\"1\" class=\"dataframe\">\n",
       "  <thead>\n",
       "    <tr style=\"text-align: right;\">\n",
       "      <th></th>\n",
       "      <th>id</th>\n",
       "      <th>call_date</th>\n",
       "      <th>duration</th>\n",
       "      <th>user_id</th>\n",
       "    </tr>\n",
       "  </thead>\n",
       "  <tbody>\n",
       "    <tr>\n",
       "      <td>0</td>\n",
       "      <td>1000_0</td>\n",
       "      <td>2018-07-25</td>\n",
       "      <td>0.00</td>\n",
       "      <td>1000</td>\n",
       "    </tr>\n",
       "    <tr>\n",
       "      <td>1</td>\n",
       "      <td>1000_1</td>\n",
       "      <td>2018-08-17</td>\n",
       "      <td>0.00</td>\n",
       "      <td>1000</td>\n",
       "    </tr>\n",
       "    <tr>\n",
       "      <td>2</td>\n",
       "      <td>1000_2</td>\n",
       "      <td>2018-06-11</td>\n",
       "      <td>2.85</td>\n",
       "      <td>1000</td>\n",
       "    </tr>\n",
       "    <tr>\n",
       "      <td>3</td>\n",
       "      <td>1000_3</td>\n",
       "      <td>2018-09-21</td>\n",
       "      <td>13.80</td>\n",
       "      <td>1000</td>\n",
       "    </tr>\n",
       "    <tr>\n",
       "      <td>4</td>\n",
       "      <td>1000_4</td>\n",
       "      <td>2018-12-15</td>\n",
       "      <td>5.18</td>\n",
       "      <td>1000</td>\n",
       "    </tr>\n",
       "  </tbody>\n",
       "</table>\n",
       "</div>"
      ],
      "text/plain": [
       "       id   call_date  duration  user_id\n",
       "0  1000_0  2018-07-25      0.00     1000\n",
       "1  1000_1  2018-08-17      0.00     1000\n",
       "2  1000_2  2018-06-11      2.85     1000\n",
       "3  1000_3  2018-09-21     13.80     1000\n",
       "4  1000_4  2018-12-15      5.18     1000"
      ]
     },
     "execution_count": 4,
     "metadata": {},
     "output_type": "execute_result"
    }
   ],
   "source": [
    "calls.head()"
   ]
  },
  {
   "cell_type": "markdown",
   "metadata": {},
   "source": [
    "### 2. Интернет: 'internet'\n",
    " - 149 396 строк\n",
    " ---\n",
    "- [ ]  <span style=\"color:blue\">***Unnamed: 0*** Залетное поле - просто удалить\n",
    "- [ ]  <span style=\"color:blue\">***session_date*** Перевести в формат - Дата"
   ]
  },
  {
   "cell_type": "code",
   "execution_count": 5,
   "metadata": {},
   "outputs": [
    {
     "name": "stdout",
     "output_type": "stream",
     "text": [
      "<class 'pandas.core.frame.DataFrame'>\n",
      "RangeIndex: 149396 entries, 0 to 149395\n",
      "Data columns (total 5 columns):\n",
      "Unnamed: 0      149396 non-null int64\n",
      "id              149396 non-null object\n",
      "mb_used         149396 non-null float64\n",
      "session_date    149396 non-null object\n",
      "user_id         149396 non-null int64\n",
      "dtypes: float64(1), int64(2), object(2)\n",
      "memory usage: 5.7+ MB\n"
     ]
    }
   ],
   "source": [
    "internet.info()"
   ]
  },
  {
   "cell_type": "code",
   "execution_count": 6,
   "metadata": {},
   "outputs": [
    {
     "data": {
      "text/html": [
       "<div>\n",
       "<style scoped>\n",
       "    .dataframe tbody tr th:only-of-type {\n",
       "        vertical-align: middle;\n",
       "    }\n",
       "\n",
       "    .dataframe tbody tr th {\n",
       "        vertical-align: top;\n",
       "    }\n",
       "\n",
       "    .dataframe thead th {\n",
       "        text-align: right;\n",
       "    }\n",
       "</style>\n",
       "<table border=\"1\" class=\"dataframe\">\n",
       "  <thead>\n",
       "    <tr style=\"text-align: right;\">\n",
       "      <th></th>\n",
       "      <th>Unnamed: 0</th>\n",
       "      <th>id</th>\n",
       "      <th>mb_used</th>\n",
       "      <th>session_date</th>\n",
       "      <th>user_id</th>\n",
       "    </tr>\n",
       "  </thead>\n",
       "  <tbody>\n",
       "    <tr>\n",
       "      <td>0</td>\n",
       "      <td>0</td>\n",
       "      <td>1000_0</td>\n",
       "      <td>112.95</td>\n",
       "      <td>2018-11-25</td>\n",
       "      <td>1000</td>\n",
       "    </tr>\n",
       "    <tr>\n",
       "      <td>1</td>\n",
       "      <td>1</td>\n",
       "      <td>1000_1</td>\n",
       "      <td>1052.81</td>\n",
       "      <td>2018-09-07</td>\n",
       "      <td>1000</td>\n",
       "    </tr>\n",
       "    <tr>\n",
       "      <td>2</td>\n",
       "      <td>2</td>\n",
       "      <td>1000_2</td>\n",
       "      <td>1197.26</td>\n",
       "      <td>2018-06-25</td>\n",
       "      <td>1000</td>\n",
       "    </tr>\n",
       "    <tr>\n",
       "      <td>3</td>\n",
       "      <td>3</td>\n",
       "      <td>1000_3</td>\n",
       "      <td>550.27</td>\n",
       "      <td>2018-08-22</td>\n",
       "      <td>1000</td>\n",
       "    </tr>\n",
       "    <tr>\n",
       "      <td>4</td>\n",
       "      <td>4</td>\n",
       "      <td>1000_4</td>\n",
       "      <td>302.56</td>\n",
       "      <td>2018-09-24</td>\n",
       "      <td>1000</td>\n",
       "    </tr>\n",
       "  </tbody>\n",
       "</table>\n",
       "</div>"
      ],
      "text/plain": [
       "   Unnamed: 0      id  mb_used session_date  user_id\n",
       "0           0  1000_0   112.95   2018-11-25     1000\n",
       "1           1  1000_1  1052.81   2018-09-07     1000\n",
       "2           2  1000_2  1197.26   2018-06-25     1000\n",
       "3           3  1000_3   550.27   2018-08-22     1000\n",
       "4           4  1000_4   302.56   2018-09-24     1000"
      ]
     },
     "execution_count": 6,
     "metadata": {},
     "output_type": "execute_result"
    }
   ],
   "source": [
    "internet.head()"
   ]
  },
  {
   "cell_type": "code",
   "execution_count": 7,
   "metadata": {},
   "outputs": [
    {
     "data": {
      "text/html": [
       "<div>\n",
       "<style scoped>\n",
       "    .dataframe tbody tr th:only-of-type {\n",
       "        vertical-align: middle;\n",
       "    }\n",
       "\n",
       "    .dataframe tbody tr th {\n",
       "        vertical-align: top;\n",
       "    }\n",
       "\n",
       "    .dataframe thead th {\n",
       "        text-align: right;\n",
       "    }\n",
       "</style>\n",
       "<table border=\"1\" class=\"dataframe\">\n",
       "  <thead>\n",
       "    <tr style=\"text-align: right;\">\n",
       "      <th></th>\n",
       "      <th>Unnamed: 0</th>\n",
       "      <th>mb_used</th>\n",
       "      <th>user_id</th>\n",
       "    </tr>\n",
       "  </thead>\n",
       "  <tbody>\n",
       "    <tr>\n",
       "      <td>count</td>\n",
       "      <td>149396.000000</td>\n",
       "      <td>149396.000000</td>\n",
       "      <td>149396.000000</td>\n",
       "    </tr>\n",
       "    <tr>\n",
       "      <td>mean</td>\n",
       "      <td>74697.500000</td>\n",
       "      <td>370.192426</td>\n",
       "      <td>1252.099842</td>\n",
       "    </tr>\n",
       "    <tr>\n",
       "      <td>std</td>\n",
       "      <td>43127.054745</td>\n",
       "      <td>278.300951</td>\n",
       "      <td>144.050823</td>\n",
       "    </tr>\n",
       "    <tr>\n",
       "      <td>min</td>\n",
       "      <td>0.000000</td>\n",
       "      <td>0.000000</td>\n",
       "      <td>1000.000000</td>\n",
       "    </tr>\n",
       "    <tr>\n",
       "      <td>25%</td>\n",
       "      <td>37348.750000</td>\n",
       "      <td>138.187500</td>\n",
       "      <td>1130.000000</td>\n",
       "    </tr>\n",
       "    <tr>\n",
       "      <td>50%</td>\n",
       "      <td>74697.500000</td>\n",
       "      <td>348.015000</td>\n",
       "      <td>1251.000000</td>\n",
       "    </tr>\n",
       "    <tr>\n",
       "      <td>75%</td>\n",
       "      <td>112046.250000</td>\n",
       "      <td>559.552500</td>\n",
       "      <td>1380.000000</td>\n",
       "    </tr>\n",
       "    <tr>\n",
       "      <td>max</td>\n",
       "      <td>149395.000000</td>\n",
       "      <td>1724.830000</td>\n",
       "      <td>1499.000000</td>\n",
       "    </tr>\n",
       "  </tbody>\n",
       "</table>\n",
       "</div>"
      ],
      "text/plain": [
       "          Unnamed: 0        mb_used        user_id\n",
       "count  149396.000000  149396.000000  149396.000000\n",
       "mean    74697.500000     370.192426    1252.099842\n",
       "std     43127.054745     278.300951     144.050823\n",
       "min         0.000000       0.000000    1000.000000\n",
       "25%     37348.750000     138.187500    1130.000000\n",
       "50%     74697.500000     348.015000    1251.000000\n",
       "75%    112046.250000     559.552500    1380.000000\n",
       "max    149395.000000    1724.830000    1499.000000"
      ]
     },
     "execution_count": 7,
     "metadata": {},
     "output_type": "execute_result"
    }
   ],
   "source": [
    "internet.describe()"
   ]
  },
  {
   "cell_type": "markdown",
   "metadata": {},
   "source": [
    "### 3. Сообщения: 'messages'\n",
    " - 123 036 строк\n",
    " ---\n",
    "- [ ]  <span style=\"color:blue\">***message_date*** Перевести в формат - Дата"
   ]
  },
  {
   "cell_type": "code",
   "execution_count": 8,
   "metadata": {},
   "outputs": [
    {
     "data": {
      "text/html": [
       "<div>\n",
       "<style scoped>\n",
       "    .dataframe tbody tr th:only-of-type {\n",
       "        vertical-align: middle;\n",
       "    }\n",
       "\n",
       "    .dataframe tbody tr th {\n",
       "        vertical-align: top;\n",
       "    }\n",
       "\n",
       "    .dataframe thead th {\n",
       "        text-align: right;\n",
       "    }\n",
       "</style>\n",
       "<table border=\"1\" class=\"dataframe\">\n",
       "  <thead>\n",
       "    <tr style=\"text-align: right;\">\n",
       "      <th></th>\n",
       "      <th>id</th>\n",
       "      <th>message_date</th>\n",
       "      <th>user_id</th>\n",
       "    </tr>\n",
       "  </thead>\n",
       "  <tbody>\n",
       "    <tr>\n",
       "      <td>0</td>\n",
       "      <td>1000_0</td>\n",
       "      <td>2018-06-27</td>\n",
       "      <td>1000</td>\n",
       "    </tr>\n",
       "    <tr>\n",
       "      <td>1</td>\n",
       "      <td>1000_1</td>\n",
       "      <td>2018-10-08</td>\n",
       "      <td>1000</td>\n",
       "    </tr>\n",
       "    <tr>\n",
       "      <td>2</td>\n",
       "      <td>1000_2</td>\n",
       "      <td>2018-08-04</td>\n",
       "      <td>1000</td>\n",
       "    </tr>\n",
       "    <tr>\n",
       "      <td>3</td>\n",
       "      <td>1000_3</td>\n",
       "      <td>2018-06-16</td>\n",
       "      <td>1000</td>\n",
       "    </tr>\n",
       "    <tr>\n",
       "      <td>4</td>\n",
       "      <td>1000_4</td>\n",
       "      <td>2018-12-05</td>\n",
       "      <td>1000</td>\n",
       "    </tr>\n",
       "  </tbody>\n",
       "</table>\n",
       "</div>"
      ],
      "text/plain": [
       "       id message_date  user_id\n",
       "0  1000_0   2018-06-27     1000\n",
       "1  1000_1   2018-10-08     1000\n",
       "2  1000_2   2018-08-04     1000\n",
       "3  1000_3   2018-06-16     1000\n",
       "4  1000_4   2018-12-05     1000"
      ]
     },
     "execution_count": 8,
     "metadata": {},
     "output_type": "execute_result"
    }
   ],
   "source": [
    "messages.head()"
   ]
  },
  {
   "cell_type": "code",
   "execution_count": 9,
   "metadata": {},
   "outputs": [
    {
     "name": "stdout",
     "output_type": "stream",
     "text": [
      "<class 'pandas.core.frame.DataFrame'>\n",
      "RangeIndex: 123036 entries, 0 to 123035\n",
      "Data columns (total 3 columns):\n",
      "id              123036 non-null object\n",
      "message_date    123036 non-null object\n",
      "user_id         123036 non-null int64\n",
      "dtypes: int64(1), object(2)\n",
      "memory usage: 2.8+ MB\n"
     ]
    }
   ],
   "source": [
    "messages.info()"
   ]
  },
  {
   "cell_type": "markdown",
   "metadata": {},
   "source": [
    "### 4. Тарифы: 'tariffs'\n",
    " - Табличка с описаниями тарифов - изменений не требуется"
   ]
  },
  {
   "cell_type": "code",
   "execution_count": 10,
   "metadata": {},
   "outputs": [
    {
     "data": {
      "text/html": [
       "<div>\n",
       "<style scoped>\n",
       "    .dataframe tbody tr th:only-of-type {\n",
       "        vertical-align: middle;\n",
       "    }\n",
       "\n",
       "    .dataframe tbody tr th {\n",
       "        vertical-align: top;\n",
       "    }\n",
       "\n",
       "    .dataframe thead th {\n",
       "        text-align: right;\n",
       "    }\n",
       "</style>\n",
       "<table border=\"1\" class=\"dataframe\">\n",
       "  <thead>\n",
       "    <tr style=\"text-align: right;\">\n",
       "      <th></th>\n",
       "      <th>messages_included</th>\n",
       "      <th>mb_per_month_included</th>\n",
       "      <th>minutes_included</th>\n",
       "      <th>rub_monthly_fee</th>\n",
       "      <th>rub_per_gb</th>\n",
       "      <th>rub_per_message</th>\n",
       "      <th>rub_per_minute</th>\n",
       "      <th>tariff_name</th>\n",
       "    </tr>\n",
       "  </thead>\n",
       "  <tbody>\n",
       "    <tr>\n",
       "      <td>0</td>\n",
       "      <td>50</td>\n",
       "      <td>15360</td>\n",
       "      <td>500</td>\n",
       "      <td>550</td>\n",
       "      <td>200</td>\n",
       "      <td>3</td>\n",
       "      <td>3</td>\n",
       "      <td>smart</td>\n",
       "    </tr>\n",
       "    <tr>\n",
       "      <td>1</td>\n",
       "      <td>1000</td>\n",
       "      <td>30720</td>\n",
       "      <td>3000</td>\n",
       "      <td>1950</td>\n",
       "      <td>150</td>\n",
       "      <td>1</td>\n",
       "      <td>1</td>\n",
       "      <td>ultra</td>\n",
       "    </tr>\n",
       "  </tbody>\n",
       "</table>\n",
       "</div>"
      ],
      "text/plain": [
       "   messages_included  mb_per_month_included  minutes_included  \\\n",
       "0                 50                  15360               500   \n",
       "1               1000                  30720              3000   \n",
       "\n",
       "   rub_monthly_fee  rub_per_gb  rub_per_message  rub_per_minute tariff_name  \n",
       "0              550         200                3               3       smart  \n",
       "1             1950         150                1               1       ultra  "
      ]
     },
     "execution_count": 10,
     "metadata": {},
     "output_type": "execute_result"
    }
   ],
   "source": [
    "tariffs"
   ]
  },
  {
   "cell_type": "code",
   "execution_count": 11,
   "metadata": {},
   "outputs": [
    {
     "name": "stdout",
     "output_type": "stream",
     "text": [
      "<class 'pandas.core.frame.DataFrame'>\n",
      "RangeIndex: 2 entries, 0 to 1\n",
      "Data columns (total 8 columns):\n",
      "messages_included        2 non-null int64\n",
      "mb_per_month_included    2 non-null int64\n",
      "minutes_included         2 non-null int64\n",
      "rub_monthly_fee          2 non-null int64\n",
      "rub_per_gb               2 non-null int64\n",
      "rub_per_message          2 non-null int64\n",
      "rub_per_minute           2 non-null int64\n",
      "tariff_name              2 non-null object\n",
      "dtypes: int64(7), object(1)\n",
      "memory usage: 256.0+ bytes\n"
     ]
    }
   ],
   "source": [
    "tariffs.info()"
   ]
  },
  {
   "cell_type": "markdown",
   "metadata": {},
   "source": [
    "### 5. Пользователи: 'users'\n",
    " - 500 строк\n",
    " ---\n",
    "- [ ]  <span style=\"color:blue\">***churn_date*** Прекращение пользования тарифом, Перевести в формат - Дата\n",
    "- [ ]  <span style=\"color:blue\">***reg_date*** Дата подключения тарифа, Перевести в формат - Дата"
   ]
  },
  {
   "cell_type": "code",
   "execution_count": 12,
   "metadata": {},
   "outputs": [
    {
     "data": {
      "text/html": [
       "<div>\n",
       "<style scoped>\n",
       "    .dataframe tbody tr th:only-of-type {\n",
       "        vertical-align: middle;\n",
       "    }\n",
       "\n",
       "    .dataframe tbody tr th {\n",
       "        vertical-align: top;\n",
       "    }\n",
       "\n",
       "    .dataframe thead th {\n",
       "        text-align: right;\n",
       "    }\n",
       "</style>\n",
       "<table border=\"1\" class=\"dataframe\">\n",
       "  <thead>\n",
       "    <tr style=\"text-align: right;\">\n",
       "      <th></th>\n",
       "      <th>user_id</th>\n",
       "      <th>age</th>\n",
       "      <th>churn_date</th>\n",
       "      <th>city</th>\n",
       "      <th>first_name</th>\n",
       "      <th>last_name</th>\n",
       "      <th>reg_date</th>\n",
       "      <th>tariff</th>\n",
       "    </tr>\n",
       "  </thead>\n",
       "  <tbody>\n",
       "    <tr>\n",
       "      <td>0</td>\n",
       "      <td>1000</td>\n",
       "      <td>52</td>\n",
       "      <td>NaN</td>\n",
       "      <td>Краснодар</td>\n",
       "      <td>Рафаил</td>\n",
       "      <td>Верещагин</td>\n",
       "      <td>2018-05-25</td>\n",
       "      <td>ultra</td>\n",
       "    </tr>\n",
       "    <tr>\n",
       "      <td>1</td>\n",
       "      <td>1001</td>\n",
       "      <td>41</td>\n",
       "      <td>NaN</td>\n",
       "      <td>Москва</td>\n",
       "      <td>Иван</td>\n",
       "      <td>Ежов</td>\n",
       "      <td>2018-11-01</td>\n",
       "      <td>smart</td>\n",
       "    </tr>\n",
       "    <tr>\n",
       "      <td>2</td>\n",
       "      <td>1002</td>\n",
       "      <td>59</td>\n",
       "      <td>NaN</td>\n",
       "      <td>Стерлитамак</td>\n",
       "      <td>Евгений</td>\n",
       "      <td>Абрамович</td>\n",
       "      <td>2018-06-17</td>\n",
       "      <td>smart</td>\n",
       "    </tr>\n",
       "    <tr>\n",
       "      <td>3</td>\n",
       "      <td>1003</td>\n",
       "      <td>23</td>\n",
       "      <td>NaN</td>\n",
       "      <td>Москва</td>\n",
       "      <td>Белла</td>\n",
       "      <td>Белякова</td>\n",
       "      <td>2018-08-17</td>\n",
       "      <td>ultra</td>\n",
       "    </tr>\n",
       "    <tr>\n",
       "      <td>4</td>\n",
       "      <td>1004</td>\n",
       "      <td>68</td>\n",
       "      <td>NaN</td>\n",
       "      <td>Новокузнецк</td>\n",
       "      <td>Татьяна</td>\n",
       "      <td>Авдеенко</td>\n",
       "      <td>2018-05-14</td>\n",
       "      <td>ultra</td>\n",
       "    </tr>\n",
       "  </tbody>\n",
       "</table>\n",
       "</div>"
      ],
      "text/plain": [
       "   user_id  age churn_date         city first_name  last_name    reg_date  \\\n",
       "0     1000   52        NaN    Краснодар     Рафаил  Верещагин  2018-05-25   \n",
       "1     1001   41        NaN       Москва       Иван       Ежов  2018-11-01   \n",
       "2     1002   59        NaN  Стерлитамак    Евгений  Абрамович  2018-06-17   \n",
       "3     1003   23        NaN       Москва      Белла   Белякова  2018-08-17   \n",
       "4     1004   68        NaN  Новокузнецк    Татьяна   Авдеенко  2018-05-14   \n",
       "\n",
       "  tariff  \n",
       "0  ultra  \n",
       "1  smart  \n",
       "2  smart  \n",
       "3  ultra  \n",
       "4  ultra  "
      ]
     },
     "execution_count": 12,
     "metadata": {},
     "output_type": "execute_result"
    }
   ],
   "source": [
    "users.head()"
   ]
  },
  {
   "cell_type": "code",
   "execution_count": 13,
   "metadata": {},
   "outputs": [
    {
     "name": "stdout",
     "output_type": "stream",
     "text": [
      "<class 'pandas.core.frame.DataFrame'>\n",
      "RangeIndex: 500 entries, 0 to 499\n",
      "Data columns (total 8 columns):\n",
      "user_id       500 non-null int64\n",
      "age           500 non-null int64\n",
      "churn_date    38 non-null object\n",
      "city          500 non-null object\n",
      "first_name    500 non-null object\n",
      "last_name     500 non-null object\n",
      "reg_date      500 non-null object\n",
      "tariff        500 non-null object\n",
      "dtypes: int64(2), object(6)\n",
      "memory usage: 31.4+ KB\n"
     ]
    }
   ],
   "source": [
    "users.info()"
   ]
  },
  {
   "cell_type": "markdown",
   "metadata": {},
   "source": [
    "### Итого по Шагу 1\n",
    "Данные корректные особой обработки не требуют за исключением перевода в формат даты и удаления ненужного столбца\n",
    "- **'calls'**\n",
    "- [ ]  <span style=\"color:blue\">***call_date*** Поле - заменить на формат Дата\n",
    "---    \n",
    "- **'internet'**   \n",
    "- [ ]  <span style=\"color:blue\">***Unnamed: 0*** Залетное поле - просто удалить\n",
    "- [ ]  <span style=\"color:blue\">***session_date*** Перевести в формат - Дата\n",
    "---   \n",
    "- **'messages'**   \n",
    "- [ ]  <span style=\"color:blue\">***message_date*** Перевести в формат - Дата\n",
    "---\n",
    "- **'users'**    \n",
    "- [ ]  <span style=\"color:blue\">***churn_date*** Прекращение пользования тарифом, Перевести в формат - Дата\n",
    "- [ ]  <span style=\"color:blue\">***reg_date*** Дата подключения тарифа, Перевести в формат - Дата"
   ]
  },
  {
   "cell_type": "markdown",
   "metadata": {},
   "source": [
    "-------------------------------------------------------------------------------------------------------------------------------"
   ]
  },
  {
   "cell_type": "markdown",
   "metadata": {},
   "source": [
    "### Шаг 2. Подготовка данных"
   ]
  },
  {
   "cell_type": "markdown",
   "metadata": {},
   "source": [
    "#### 1. Приведение данных к нужным типам"
   ]
  },
  {
   "cell_type": "code",
   "execution_count": 14,
   "metadata": {},
   "outputs": [],
   "source": [
    "# Переводим в дату\n",
    "internet['session_date'] = pd.to_datetime(internet['session_date'], format='%Y-%m-%d')\n",
    "calls['call_date'] = pd.to_datetime(calls['call_date'], format='%Y-%m-%d')\n",
    "messages['message_date'] = pd.to_datetime(messages['message_date'], format='%Y-%m-%d')\n",
    "users['churn_date'] = pd.to_datetime(users['churn_date'], format='%Y-%m-%d')\n",
    "users['reg_date'] = pd.to_datetime(users['reg_date'], format='%Y-%m-%d')"
   ]
  },
  {
   "cell_type": "markdown",
   "metadata": {},
   "source": [
    "#### 2. Исправление ошибок"
   ]
  },
  {
   "cell_type": "code",
   "execution_count": 15,
   "metadata": {},
   "outputs": [],
   "source": [
    "# Удаляем столбец Unnamed: 0\n",
    "del internet['Unnamed: 0']"
   ]
  },
  {
   "cell_type": "code",
   "execution_count": 16,
   "metadata": {},
   "outputs": [],
   "source": [
    "# Округляем до минуты длительность звонка и переводим в формат 'int'\n",
    "calls['ceil_duration'] = np.ceil(calls.duration).astype('int')"
   ]
  },
  {
   "cell_type": "code",
   "execution_count": 17,
   "metadata": {},
   "outputs": [
    {
     "data": {
      "text/html": [
       "<div>\n",
       "<style scoped>\n",
       "    .dataframe tbody tr th:only-of-type {\n",
       "        vertical-align: middle;\n",
       "    }\n",
       "\n",
       "    .dataframe tbody tr th {\n",
       "        vertical-align: top;\n",
       "    }\n",
       "\n",
       "    .dataframe thead th {\n",
       "        text-align: right;\n",
       "    }\n",
       "</style>\n",
       "<table border=\"1\" class=\"dataframe\">\n",
       "  <thead>\n",
       "    <tr style=\"text-align: right;\">\n",
       "      <th></th>\n",
       "      <th>id</th>\n",
       "      <th>call_date</th>\n",
       "      <th>duration</th>\n",
       "      <th>user_id</th>\n",
       "      <th>ceil_duration</th>\n",
       "    </tr>\n",
       "  </thead>\n",
       "  <tbody>\n",
       "    <tr>\n",
       "      <td>0</td>\n",
       "      <td>1000_0</td>\n",
       "      <td>2018-07-25</td>\n",
       "      <td>0.00</td>\n",
       "      <td>1000</td>\n",
       "      <td>0</td>\n",
       "    </tr>\n",
       "    <tr>\n",
       "      <td>1</td>\n",
       "      <td>1000_1</td>\n",
       "      <td>2018-08-17</td>\n",
       "      <td>0.00</td>\n",
       "      <td>1000</td>\n",
       "      <td>0</td>\n",
       "    </tr>\n",
       "    <tr>\n",
       "      <td>2</td>\n",
       "      <td>1000_2</td>\n",
       "      <td>2018-06-11</td>\n",
       "      <td>2.85</td>\n",
       "      <td>1000</td>\n",
       "      <td>3</td>\n",
       "    </tr>\n",
       "    <tr>\n",
       "      <td>3</td>\n",
       "      <td>1000_3</td>\n",
       "      <td>2018-09-21</td>\n",
       "      <td>13.80</td>\n",
       "      <td>1000</td>\n",
       "      <td>14</td>\n",
       "    </tr>\n",
       "    <tr>\n",
       "      <td>4</td>\n",
       "      <td>1000_4</td>\n",
       "      <td>2018-12-15</td>\n",
       "      <td>5.18</td>\n",
       "      <td>1000</td>\n",
       "      <td>6</td>\n",
       "    </tr>\n",
       "  </tbody>\n",
       "</table>\n",
       "</div>"
      ],
      "text/plain": [
       "       id  call_date  duration  user_id  ceil_duration\n",
       "0  1000_0 2018-07-25      0.00     1000              0\n",
       "1  1000_1 2018-08-17      0.00     1000              0\n",
       "2  1000_2 2018-06-11      2.85     1000              3\n",
       "3  1000_3 2018-09-21     13.80     1000             14\n",
       "4  1000_4 2018-12-15      5.18     1000              6"
      ]
     },
     "execution_count": 17,
     "metadata": {},
     "output_type": "execute_result"
    }
   ],
   "source": [
    "calls.head()"
   ]
  },
  {
   "cell_type": "code",
   "execution_count": 18,
   "metadata": {},
   "outputs": [
    {
     "name": "stdout",
     "output_type": "stream",
     "text": [
      "<class 'pandas.core.frame.DataFrame'>\n",
      "RangeIndex: 202607 entries, 0 to 202606\n",
      "Data columns (total 5 columns):\n",
      "id               202607 non-null object\n",
      "call_date        202607 non-null datetime64[ns]\n",
      "duration         202607 non-null float64\n",
      "user_id          202607 non-null int64\n",
      "ceil_duration    202607 non-null int64\n",
      "dtypes: datetime64[ns](1), float64(1), int64(2), object(1)\n",
      "memory usage: 7.7+ MB\n"
     ]
    }
   ],
   "source": [
    "calls.info()"
   ]
  },
  {
   "cell_type": "markdown",
   "metadata": {},
   "source": [
    "#### 3. Найденные ошибки и их исправление"
   ]
  },
  {
   "cell_type": "markdown",
   "metadata": {},
   "source": [
    "- Нулевые звонки расположены равномерно по всем абонентам и составляют примерно 20%, видимо звонили и не дозвонились.\n",
    "- Удалять такое большое кол-во звонков пока не имеет смысла, т.к. сумма удаления слишком большая. И при необходимости можно   пустые звонки не брать в расчет отсекая их фильтром."
   ]
  },
  {
   "cell_type": "code",
   "execution_count": 19,
   "metadata": {},
   "outputs": [],
   "source": [
    "# Добавим столбец 'Null_time' обозначающий нулевые звонки\n",
    "calls.loc[calls['duration'] == 0.00, 'Null_time'] = 'zero'\n",
    "calls['Null_time'] = calls['Null_time'].fillna('good_calls')"
   ]
  },
  {
   "cell_type": "code",
   "execution_count": 20,
   "metadata": {},
   "outputs": [
    {
     "data": {
      "text/html": [
       "<div>\n",
       "<style scoped>\n",
       "    .dataframe tbody tr th:only-of-type {\n",
       "        vertical-align: middle;\n",
       "    }\n",
       "\n",
       "    .dataframe tbody tr th {\n",
       "        vertical-align: top;\n",
       "    }\n",
       "\n",
       "    .dataframe thead th {\n",
       "        text-align: right;\n",
       "    }\n",
       "</style>\n",
       "<table border=\"1\" class=\"dataframe\">\n",
       "  <thead>\n",
       "    <tr style=\"text-align: right;\">\n",
       "      <th></th>\n",
       "      <th>id</th>\n",
       "      <th>call_date</th>\n",
       "      <th>duration</th>\n",
       "      <th>user_id</th>\n",
       "      <th>ceil_duration</th>\n",
       "      <th>Null_time</th>\n",
       "    </tr>\n",
       "  </thead>\n",
       "  <tbody>\n",
       "    <tr>\n",
       "      <td>0</td>\n",
       "      <td>1000_0</td>\n",
       "      <td>2018-07-25</td>\n",
       "      <td>0.00</td>\n",
       "      <td>1000</td>\n",
       "      <td>0</td>\n",
       "      <td>zero</td>\n",
       "    </tr>\n",
       "    <tr>\n",
       "      <td>1</td>\n",
       "      <td>1000_1</td>\n",
       "      <td>2018-08-17</td>\n",
       "      <td>0.00</td>\n",
       "      <td>1000</td>\n",
       "      <td>0</td>\n",
       "      <td>zero</td>\n",
       "    </tr>\n",
       "    <tr>\n",
       "      <td>2</td>\n",
       "      <td>1000_2</td>\n",
       "      <td>2018-06-11</td>\n",
       "      <td>2.85</td>\n",
       "      <td>1000</td>\n",
       "      <td>3</td>\n",
       "      <td>good_calls</td>\n",
       "    </tr>\n",
       "    <tr>\n",
       "      <td>3</td>\n",
       "      <td>1000_3</td>\n",
       "      <td>2018-09-21</td>\n",
       "      <td>13.80</td>\n",
       "      <td>1000</td>\n",
       "      <td>14</td>\n",
       "      <td>good_calls</td>\n",
       "    </tr>\n",
       "    <tr>\n",
       "      <td>4</td>\n",
       "      <td>1000_4</td>\n",
       "      <td>2018-12-15</td>\n",
       "      <td>5.18</td>\n",
       "      <td>1000</td>\n",
       "      <td>6</td>\n",
       "      <td>good_calls</td>\n",
       "    </tr>\n",
       "  </tbody>\n",
       "</table>\n",
       "</div>"
      ],
      "text/plain": [
       "       id  call_date  duration  user_id  ceil_duration   Null_time\n",
       "0  1000_0 2018-07-25      0.00     1000              0        zero\n",
       "1  1000_1 2018-08-17      0.00     1000              0        zero\n",
       "2  1000_2 2018-06-11      2.85     1000              3  good_calls\n",
       "3  1000_3 2018-09-21     13.80     1000             14  good_calls\n",
       "4  1000_4 2018-12-15      5.18     1000              6  good_calls"
      ]
     },
     "execution_count": 20,
     "metadata": {},
     "output_type": "execute_result"
    }
   ],
   "source": [
    "calls.head()"
   ]
  },
  {
   "cell_type": "code",
   "execution_count": 21,
   "metadata": {},
   "outputs": [],
   "source": [
    "# Посмотрим на наличие нулевых звонков у всех клиентов\n",
    "pvt=(calls.pivot_table(index='user_id', \n",
    "                       columns='Null_time', \n",
    "                       values='id', \n",
    "                       aggfunc='count', \n",
    "                       margins=True, \n",
    "                       margins_name='all_calls')\n",
    ".sort_values(by='good_calls', ascending=False))"
   ]
  },
  {
   "cell_type": "code",
   "execution_count": 22,
   "metadata": {},
   "outputs": [],
   "source": [
    "pvt['procent'] = pvt['zero']/pvt['all_calls']"
   ]
  },
  {
   "cell_type": "code",
   "execution_count": 23,
   "metadata": {},
   "outputs": [
    {
     "data": {
      "text/html": [
       "<div>\n",
       "<style scoped>\n",
       "    .dataframe tbody tr th:only-of-type {\n",
       "        vertical-align: middle;\n",
       "    }\n",
       "\n",
       "    .dataframe tbody tr th {\n",
       "        vertical-align: top;\n",
       "    }\n",
       "\n",
       "    .dataframe thead th {\n",
       "        text-align: right;\n",
       "    }\n",
       "</style>\n",
       "<table border=\"1\" class=\"dataframe\">\n",
       "  <thead>\n",
       "    <tr style=\"text-align: right;\">\n",
       "      <th>Null_time</th>\n",
       "      <th>good_calls</th>\n",
       "      <th>zero</th>\n",
       "      <th>all_calls</th>\n",
       "      <th>procent</th>\n",
       "    </tr>\n",
       "    <tr>\n",
       "      <th>user_id</th>\n",
       "      <th></th>\n",
       "      <th></th>\n",
       "      <th></th>\n",
       "      <th></th>\n",
       "    </tr>\n",
       "  </thead>\n",
       "  <tbody>\n",
       "    <tr>\n",
       "      <td>all_calls</td>\n",
       "      <td>162994</td>\n",
       "      <td>39613</td>\n",
       "      <td>202607</td>\n",
       "      <td>0.195516</td>\n",
       "    </tr>\n",
       "    <tr>\n",
       "      <td>1377</td>\n",
       "      <td>1424</td>\n",
       "      <td>336</td>\n",
       "      <td>1760</td>\n",
       "      <td>0.190909</td>\n",
       "    </tr>\n",
       "    <tr>\n",
       "      <td>1168</td>\n",
       "      <td>1384</td>\n",
       "      <td>308</td>\n",
       "      <td>1692</td>\n",
       "      <td>0.182033</td>\n",
       "    </tr>\n",
       "    <tr>\n",
       "      <td>1375</td>\n",
       "      <td>1270</td>\n",
       "      <td>290</td>\n",
       "      <td>1560</td>\n",
       "      <td>0.185897</td>\n",
       "    </tr>\n",
       "    <tr>\n",
       "      <td>1453</td>\n",
       "      <td>1145</td>\n",
       "      <td>295</td>\n",
       "      <td>1440</td>\n",
       "      <td>0.204861</td>\n",
       "    </tr>\n",
       "  </tbody>\n",
       "</table>\n",
       "</div>"
      ],
      "text/plain": [
       "Null_time  good_calls   zero  all_calls   procent\n",
       "user_id                                          \n",
       "all_calls      162994  39613     202607  0.195516\n",
       "1377             1424    336       1760  0.190909\n",
       "1168             1384    308       1692  0.182033\n",
       "1375             1270    290       1560  0.185897\n",
       "1453             1145    295       1440  0.204861"
      ]
     },
     "execution_count": 23,
     "metadata": {},
     "output_type": "execute_result"
    }
   ],
   "source": [
    "pvt.head()"
   ]
  },
  {
   "cell_type": "markdown",
   "metadata": {},
   "source": [
    "#### 4. Расчеты для каждого пользователя"
   ]
  },
  {
   "cell_type": "markdown",
   "metadata": {},
   "source": [
    "#### a) Работаем со Звонками\n",
    " - создаем переменную с группированными данными по звонкам: **agg_calls**\n",
    " - Сгруппируем пользователей по месяцам и получим Минуты за месяц и Кол-во звонков за месяц\n",
    " - Нулевые звонки считать не будем"
   ]
  },
  {
   "cell_type": "code",
   "execution_count": 24,
   "metadata": {},
   "outputs": [],
   "source": [
    "# Добавляем месяц\n",
    "calls['month'] = calls.call_date.dt.month"
   ]
  },
  {
   "cell_type": "code",
   "execution_count": 25,
   "metadata": {},
   "outputs": [
    {
     "data": {
      "text/html": [
       "<div>\n",
       "<style scoped>\n",
       "    .dataframe tbody tr th:only-of-type {\n",
       "        vertical-align: middle;\n",
       "    }\n",
       "\n",
       "    .dataframe tbody tr th {\n",
       "        vertical-align: top;\n",
       "    }\n",
       "\n",
       "    .dataframe thead th {\n",
       "        text-align: right;\n",
       "    }\n",
       "</style>\n",
       "<table border=\"1\" class=\"dataframe\">\n",
       "  <thead>\n",
       "    <tr style=\"text-align: right;\">\n",
       "      <th></th>\n",
       "      <th>user_id</th>\n",
       "      <th>month</th>\n",
       "      <th>sum_dur</th>\n",
       "      <th>qty_call</th>\n",
       "    </tr>\n",
       "  </thead>\n",
       "  <tbody>\n",
       "    <tr>\n",
       "      <td>2966</td>\n",
       "      <td>1467</td>\n",
       "      <td>12</td>\n",
       "      <td>1673</td>\n",
       "      <td>190</td>\n",
       "    </tr>\n",
       "    <tr>\n",
       "      <td>2353</td>\n",
       "      <td>1377</td>\n",
       "      <td>3</td>\n",
       "      <td>1609</td>\n",
       "      <td>165</td>\n",
       "    </tr>\n",
       "    <tr>\n",
       "      <td>1359</td>\n",
       "      <td>1216</td>\n",
       "      <td>12</td>\n",
       "      <td>1435</td>\n",
       "      <td>162</td>\n",
       "    </tr>\n",
       "    <tr>\n",
       "      <td>1237</td>\n",
       "      <td>1196</td>\n",
       "      <td>6</td>\n",
       "      <td>1410</td>\n",
       "      <td>149</td>\n",
       "    </tr>\n",
       "    <tr>\n",
       "      <td>2360</td>\n",
       "      <td>1377</td>\n",
       "      <td>10</td>\n",
       "      <td>1401</td>\n",
       "      <td>148</td>\n",
       "    </tr>\n",
       "  </tbody>\n",
       "</table>\n",
       "</div>"
      ],
      "text/plain": [
       "      user_id  month  sum_dur  qty_call\n",
       "2966     1467     12     1673       190\n",
       "2353     1377      3     1609       165\n",
       "1359     1216     12     1435       162\n",
       "1237     1196      6     1410       149\n",
       "2360     1377     10     1401       148"
      ]
     },
     "execution_count": 25,
     "metadata": {},
     "output_type": "execute_result"
    }
   ],
   "source": [
    "# Убираем нулевые звонки, Группируем, Переименовываем и Сортируем\n",
    "agg_calls = calls.query(\"Null_time=='good_calls'\") \\\n",
    "                 .groupby(by=['user_id', 'month'], as_index=False)\\\n",
    "                 .agg({'ceil_duration':'sum', 'id':'count'})\\\n",
    "                 .rename(columns={'ceil_duration':'sum_dur', 'id':'qty_call'})\\\n",
    "                 .sort_values('sum_dur', ascending=False)\n",
    "agg_calls.head()"
   ]
  },
  {
   "cell_type": "markdown",
   "metadata": {},
   "source": [
    "#### b) Сделаем тоже самое, но с сообщениями\n",
    "- **agg_messages**"
   ]
  },
  {
   "cell_type": "code",
   "execution_count": 26,
   "metadata": {},
   "outputs": [],
   "source": [
    "# Добавляем месяц\n",
    "messages['month'] = messages.message_date.dt.month"
   ]
  },
  {
   "cell_type": "code",
   "execution_count": 27,
   "metadata": {},
   "outputs": [
    {
     "data": {
      "text/html": [
       "<div>\n",
       "<style scoped>\n",
       "    .dataframe tbody tr th:only-of-type {\n",
       "        vertical-align: middle;\n",
       "    }\n",
       "\n",
       "    .dataframe tbody tr th {\n",
       "        vertical-align: top;\n",
       "    }\n",
       "\n",
       "    .dataframe thead th {\n",
       "        text-align: right;\n",
       "    }\n",
       "</style>\n",
       "<table border=\"1\" class=\"dataframe\">\n",
       "  <thead>\n",
       "    <tr style=\"text-align: right;\">\n",
       "      <th></th>\n",
       "      <th>user_id</th>\n",
       "      <th>month</th>\n",
       "      <th>qty_sms</th>\n",
       "    </tr>\n",
       "  </thead>\n",
       "  <tbody>\n",
       "    <tr>\n",
       "      <td>866</td>\n",
       "      <td>1165</td>\n",
       "      <td>12</td>\n",
       "      <td>224</td>\n",
       "    </tr>\n",
       "    <tr>\n",
       "      <td>154</td>\n",
       "      <td>1028</td>\n",
       "      <td>10</td>\n",
       "      <td>223</td>\n",
       "    </tr>\n",
       "    <tr>\n",
       "      <td>1197</td>\n",
       "      <td>1231</td>\n",
       "      <td>7</td>\n",
       "      <td>211</td>\n",
       "    </tr>\n",
       "    <tr>\n",
       "      <td>1196</td>\n",
       "      <td>1231</td>\n",
       "      <td>6</td>\n",
       "      <td>201</td>\n",
       "    </tr>\n",
       "    <tr>\n",
       "      <td>865</td>\n",
       "      <td>1165</td>\n",
       "      <td>11</td>\n",
       "      <td>197</td>\n",
       "    </tr>\n",
       "  </tbody>\n",
       "</table>\n",
       "</div>"
      ],
      "text/plain": [
       "      user_id  month  qty_sms\n",
       "866      1165     12      224\n",
       "154      1028     10      223\n",
       "1197     1231      7      211\n",
       "1196     1231      6      201\n",
       "865      1165     11      197"
      ]
     },
     "execution_count": 27,
     "metadata": {},
     "output_type": "execute_result"
    }
   ],
   "source": [
    "# Группируем, убираем индекс, Переименовываем и сортируем\n",
    "agg_messages = messages.groupby(by=['user_id', 'month'], as_index=False)\\\n",
    "                       .agg({'id':'count'})\\\n",
    "                       .rename(columns={'id':'qty_sms'})\\\n",
    "                       .sort_values('qty_sms', ascending=False)\n",
    "agg_messages.head()"
   ]
  },
  {
   "cell_type": "markdown",
   "metadata": {},
   "source": [
    "#### c) Объем Интернет трафика\n",
    "- **agg_internet**"
   ]
  },
  {
   "cell_type": "code",
   "execution_count": 28,
   "metadata": {},
   "outputs": [],
   "source": [
    "# Добавляем месяц\n",
    "internet['month'] = internet.session_date.dt.month"
   ]
  },
  {
   "cell_type": "code",
   "execution_count": 29,
   "metadata": {},
   "outputs": [
    {
     "data": {
      "text/html": [
       "<div>\n",
       "<style scoped>\n",
       "    .dataframe tbody tr th:only-of-type {\n",
       "        vertical-align: middle;\n",
       "    }\n",
       "\n",
       "    .dataframe tbody tr th {\n",
       "        vertical-align: top;\n",
       "    }\n",
       "\n",
       "    .dataframe thead th {\n",
       "        text-align: right;\n",
       "    }\n",
       "</style>\n",
       "<table border=\"1\" class=\"dataframe\">\n",
       "  <thead>\n",
       "    <tr style=\"text-align: right;\">\n",
       "      <th></th>\n",
       "      <th>user_id</th>\n",
       "      <th>month</th>\n",
       "      <th>sum_mb</th>\n",
       "    </tr>\n",
       "  </thead>\n",
       "  <tbody>\n",
       "    <tr>\n",
       "      <td>799</td>\n",
       "      <td>1124</td>\n",
       "      <td>10</td>\n",
       "      <td>49745.69</td>\n",
       "    </tr>\n",
       "    <tr>\n",
       "      <td>1524</td>\n",
       "      <td>1240</td>\n",
       "      <td>8</td>\n",
       "      <td>48351.59</td>\n",
       "    </tr>\n",
       "    <tr>\n",
       "      <td>1622</td>\n",
       "      <td>1255</td>\n",
       "      <td>7</td>\n",
       "      <td>45180.71</td>\n",
       "    </tr>\n",
       "    <tr>\n",
       "      <td>1901</td>\n",
       "      <td>1300</td>\n",
       "      <td>11</td>\n",
       "      <td>44296.86</td>\n",
       "    </tr>\n",
       "    <tr>\n",
       "      <td>383</td>\n",
       "      <td>1060</td>\n",
       "      <td>12</td>\n",
       "      <td>43931.36</td>\n",
       "    </tr>\n",
       "  </tbody>\n",
       "</table>\n",
       "</div>"
      ],
      "text/plain": [
       "      user_id  month    sum_mb\n",
       "799      1124     10  49745.69\n",
       "1524     1240      8  48351.59\n",
       "1622     1255      7  45180.71\n",
       "1901     1300     11  44296.86\n",
       "383      1060     12  43931.36"
      ]
     },
     "execution_count": 29,
     "metadata": {},
     "output_type": "execute_result"
    }
   ],
   "source": [
    "# Группируем, убираем индекс, Переименовываем и сортируем\n",
    "agg_internet = internet.groupby(by=['user_id', 'month'], as_index=False)\\\n",
    "                       .agg({'mb_used':'sum'})\\\n",
    "                       .rename(columns={'mb_used':'sum_mb'})\\\n",
    "                       .sort_values('sum_mb', ascending=False)\n",
    "agg_internet.head()"
   ]
  },
  {
   "cell_type": "markdown",
   "metadata": {},
   "source": [
    "#### d) Выручка с каждого пользователя"
   ]
  },
  {
   "cell_type": "code",
   "execution_count": 30,
   "metadata": {},
   "outputs": [],
   "source": [
    "# Объеденяем все данные в одну табличку 'full_data'\n",
    "# Звонки + Интернет + Сообщения\n",
    "# И добавляем ко всему этому данные по Пользователям\n",
    "\n",
    "full_data = agg_calls.merge(agg_internet, on=['user_id', 'month'], how='outer')\n",
    "full_data = full_data.merge(agg_messages, on=['user_id', 'month'], how='outer')\n",
    "full_data = full_data.merge(users, on='user_id', how='left')"
   ]
  },
  {
   "cell_type": "code",
   "execution_count": 31,
   "metadata": {},
   "outputs": [],
   "source": [
    "# Заменяем пустоты на нули, там где это необходимо\n",
    "values = {'sum_dur':0, 'qty_call':0, 'sum_mb':0, 'qty_sms':0}\n",
    "full_data = full_data.fillna(value=values)"
   ]
  },
  {
   "cell_type": "code",
   "execution_count": 32,
   "metadata": {},
   "outputs": [],
   "source": [
    "# Переводим 'qty_call' и 'qty_sms' в формат 'int'\n",
    "full_data = full_data.astype({'sum_dur': 'int64', 'qty_call': 'int64', 'qty_sms': 'int64'})"
   ]
  },
  {
   "cell_type": "code",
   "execution_count": 33,
   "metadata": {},
   "outputs": [],
   "source": [
    "# Добавляем поле с индексом 'tariffs'\n",
    "tariffs.index = tariffs.tariff_name\n",
    "tariffs.index.names = ['tariff']"
   ]
  },
  {
   "cell_type": "code",
   "execution_count": 34,
   "metadata": {},
   "outputs": [
    {
     "data": {
      "text/html": [
       "<div>\n",
       "<style scoped>\n",
       "    .dataframe tbody tr th:only-of-type {\n",
       "        vertical-align: middle;\n",
       "    }\n",
       "\n",
       "    .dataframe tbody tr th {\n",
       "        vertical-align: top;\n",
       "    }\n",
       "\n",
       "    .dataframe thead th {\n",
       "        text-align: right;\n",
       "    }\n",
       "</style>\n",
       "<table border=\"1\" class=\"dataframe\">\n",
       "  <thead>\n",
       "    <tr style=\"text-align: right;\">\n",
       "      <th></th>\n",
       "      <th>messages_included</th>\n",
       "      <th>mb_per_month_included</th>\n",
       "      <th>minutes_included</th>\n",
       "      <th>rub_monthly_fee</th>\n",
       "      <th>rub_per_gb</th>\n",
       "      <th>rub_per_message</th>\n",
       "      <th>rub_per_minute</th>\n",
       "      <th>tariff_name</th>\n",
       "    </tr>\n",
       "    <tr>\n",
       "      <th>tariff</th>\n",
       "      <th></th>\n",
       "      <th></th>\n",
       "      <th></th>\n",
       "      <th></th>\n",
       "      <th></th>\n",
       "      <th></th>\n",
       "      <th></th>\n",
       "      <th></th>\n",
       "    </tr>\n",
       "  </thead>\n",
       "  <tbody>\n",
       "    <tr>\n",
       "      <td>smart</td>\n",
       "      <td>50</td>\n",
       "      <td>15360</td>\n",
       "      <td>500</td>\n",
       "      <td>550</td>\n",
       "      <td>200</td>\n",
       "      <td>3</td>\n",
       "      <td>3</td>\n",
       "      <td>smart</td>\n",
       "    </tr>\n",
       "    <tr>\n",
       "      <td>ultra</td>\n",
       "      <td>1000</td>\n",
       "      <td>30720</td>\n",
       "      <td>3000</td>\n",
       "      <td>1950</td>\n",
       "      <td>150</td>\n",
       "      <td>1</td>\n",
       "      <td>1</td>\n",
       "      <td>ultra</td>\n",
       "    </tr>\n",
       "  </tbody>\n",
       "</table>\n",
       "</div>"
      ],
      "text/plain": [
       "        messages_included  mb_per_month_included  minutes_included  \\\n",
       "tariff                                                               \n",
       "smart                  50                  15360               500   \n",
       "ultra                1000                  30720              3000   \n",
       "\n",
       "        rub_monthly_fee  rub_per_gb  rub_per_message  rub_per_minute  \\\n",
       "tariff                                                                 \n",
       "smart               550         200                3               3   \n",
       "ultra              1950         150                1               1   \n",
       "\n",
       "       tariff_name  \n",
       "tariff              \n",
       "smart        smart  \n",
       "ultra        ultra  "
      ]
     },
     "execution_count": 34,
     "metadata": {},
     "output_type": "execute_result"
    }
   ],
   "source": [
    "tariffs.head()"
   ]
  },
  {
   "cell_type": "code",
   "execution_count": 35,
   "metadata": {},
   "outputs": [
    {
     "data": {
      "text/plain": [
       "950.0"
      ]
     },
     "execution_count": 35,
     "metadata": {},
     "output_type": "execute_result"
    }
   ],
   "source": [
    "def month_payment_calculation(row):\n",
    "    \"\"\" Считаем доходность по Клиентам в разрезе месяцев\"\"\"\n",
    "    # Закидываем данные в переменные\n",
    "    short_min = row['sum_dur']\n",
    "    short_message = row['qty_sms']\n",
    "    short_internet = row['sum_mb']\n",
    "    tariff = row['tariff']\n",
    "    \n",
    "    # допустим мы храним лимиты по тарифам в отдельной табличке, где индекс - название тарифа. достаем\n",
    "    minutes_lim = tariffs.loc[tariff, 'minutes_included']\n",
    "    mess_lim = tariffs.loc[tariff, 'messages_included']\n",
    "    inter_lim = tariffs.loc[tariff, 'mb_per_month_included']\n",
    "    \n",
    "    # вычисляем переплату по звонкам.\n",
    "    call_overlimit = max(short_min - minutes_lim, 0)\n",
    "    call_overpay = call_overlimit * tariffs.loc[tariff, 'rub_per_minute']\n",
    "    \n",
    "    # вычисляем переплату по сообщениям.\n",
    "    message_overlimit = max(short_message - mess_lim, 0)\n",
    "    message_overpay = message_overlimit * tariffs.loc[tariff, 'rub_per_message']\n",
    "    \n",
    "    # вычисляем переплату по интернету.\n",
    "    inter_overlimit = max(short_internet - inter_lim, 0)\n",
    "    inter_overpay = np.ceil(inter_overlimit/1024) * tariffs.loc[tariff, 'rub_per_gb']    \n",
    "\n",
    "    # где-то в конце должен быть return с суммарной стоимостью денег, что пользователь должен заплатить за этот месяц\n",
    "    return (call_overpay + message_overpay + inter_overpay)\n",
    "\n",
    "# Проверка работоспособности функции\n",
    "month_payment_calculation(full_data.loc[336])"
   ]
  },
  {
   "cell_type": "code",
   "execution_count": 36,
   "metadata": {},
   "outputs": [
    {
     "data": {
      "text/plain": [
       "user_id                      1282\n",
       "month                           2\n",
       "sum_dur                       747\n",
       "qty_call                       80\n",
       "sum_mb                    15680.3\n",
       "qty_sms                        53\n",
       "age                            59\n",
       "churn_date                    NaT\n",
       "city                    Ульяновск\n",
       "first_name                  Артём\n",
       "last_name                Аракчеев\n",
       "reg_date      2018-01-21 00:00:00\n",
       "tariff                      smart\n",
       "Name: 336, dtype: object"
      ]
     },
     "execution_count": 36,
     "metadata": {},
     "output_type": "execute_result"
    }
   ],
   "source": [
    "full_data.loc[336]"
   ]
  },
  {
   "cell_type": "code",
   "execution_count": 37,
   "metadata": {},
   "outputs": [
    {
     "data": {
      "text/plain": [
       "950.0"
      ]
     },
     "execution_count": 37,
     "metadata": {},
     "output_type": "execute_result"
    }
   ],
   "source": [
    "# Ручная проверка переплат, по user 1282\n",
    "(747-500)*3 + np.ceil((15680.3-15360)/1024)*200 + (53-50)*3"
   ]
  },
  {
   "cell_type": "code",
   "execution_count": 38,
   "metadata": {},
   "outputs": [],
   "source": [
    "# Добавляем столбец с переплатами\n",
    "full_data['overpay'] = full_data.apply(month_payment_calculation, axis=1)"
   ]
  },
  {
   "cell_type": "code",
   "execution_count": 39,
   "metadata": {},
   "outputs": [],
   "source": [
    "# Добавим Ежемесячный платеж\n",
    "full_data = full_data.merge(tariffs['rub_monthly_fee'], on='tariff', how='left')"
   ]
  },
  {
   "cell_type": "code",
   "execution_count": 40,
   "metadata": {},
   "outputs": [],
   "source": [
    "# И рассчитаем итоговую выручку с пользователя в месяц\n",
    "full_data['revenue'] = full_data['rub_monthly_fee'] + full_data['overpay']"
   ]
  },
  {
   "cell_type": "code",
   "execution_count": 41,
   "metadata": {
    "scrolled": false
   },
   "outputs": [
    {
     "data": {
      "text/html": [
       "<div>\n",
       "<style scoped>\n",
       "    .dataframe tbody tr th:only-of-type {\n",
       "        vertical-align: middle;\n",
       "    }\n",
       "\n",
       "    .dataframe tbody tr th {\n",
       "        vertical-align: top;\n",
       "    }\n",
       "\n",
       "    .dataframe thead th {\n",
       "        text-align: right;\n",
       "    }\n",
       "</style>\n",
       "<table border=\"1\" class=\"dataframe\">\n",
       "  <thead>\n",
       "    <tr style=\"text-align: right;\">\n",
       "      <th></th>\n",
       "      <th>user_id</th>\n",
       "      <th>month</th>\n",
       "      <th>sum_dur</th>\n",
       "      <th>qty_call</th>\n",
       "      <th>sum_mb</th>\n",
       "      <th>qty_sms</th>\n",
       "      <th>age</th>\n",
       "      <th>churn_date</th>\n",
       "      <th>city</th>\n",
       "      <th>first_name</th>\n",
       "      <th>last_name</th>\n",
       "      <th>reg_date</th>\n",
       "      <th>tariff</th>\n",
       "      <th>overpay</th>\n",
       "      <th>rub_monthly_fee</th>\n",
       "      <th>revenue</th>\n",
       "    </tr>\n",
       "  </thead>\n",
       "  <tbody>\n",
       "    <tr>\n",
       "      <td>0</td>\n",
       "      <td>1467</td>\n",
       "      <td>12</td>\n",
       "      <td>1673</td>\n",
       "      <td>190</td>\n",
       "      <td>9756.90</td>\n",
       "      <td>39</td>\n",
       "      <td>66</td>\n",
       "      <td>NaT</td>\n",
       "      <td>Киров</td>\n",
       "      <td>Исак</td>\n",
       "      <td>Александрюк</td>\n",
       "      <td>2018-11-24</td>\n",
       "      <td>ultra</td>\n",
       "      <td>0.0</td>\n",
       "      <td>1950</td>\n",
       "      <td>1950.0</td>\n",
       "    </tr>\n",
       "    <tr>\n",
       "      <td>1</td>\n",
       "      <td>1377</td>\n",
       "      <td>3</td>\n",
       "      <td>1609</td>\n",
       "      <td>165</td>\n",
       "      <td>3059.85</td>\n",
       "      <td>20</td>\n",
       "      <td>59</td>\n",
       "      <td>NaT</td>\n",
       "      <td>Брянск</td>\n",
       "      <td>Альфред</td>\n",
       "      <td>Семин</td>\n",
       "      <td>2018-02-25</td>\n",
       "      <td>ultra</td>\n",
       "      <td>0.0</td>\n",
       "      <td>1950</td>\n",
       "      <td>1950.0</td>\n",
       "    </tr>\n",
       "    <tr>\n",
       "      <td>2</td>\n",
       "      <td>1216</td>\n",
       "      <td>12</td>\n",
       "      <td>1435</td>\n",
       "      <td>162</td>\n",
       "      <td>20066.05</td>\n",
       "      <td>64</td>\n",
       "      <td>74</td>\n",
       "      <td>NaT</td>\n",
       "      <td>Волгоград</td>\n",
       "      <td>Рустам</td>\n",
       "      <td>Малинин</td>\n",
       "      <td>2018-11-23</td>\n",
       "      <td>smart</td>\n",
       "      <td>3847.0</td>\n",
       "      <td>550</td>\n",
       "      <td>4397.0</td>\n",
       "    </tr>\n",
       "    <tr>\n",
       "      <td>3</td>\n",
       "      <td>1196</td>\n",
       "      <td>6</td>\n",
       "      <td>1410</td>\n",
       "      <td>149</td>\n",
       "      <td>22652.05</td>\n",
       "      <td>153</td>\n",
       "      <td>25</td>\n",
       "      <td>NaT</td>\n",
       "      <td>Воронеж</td>\n",
       "      <td>Фёдор</td>\n",
       "      <td>Чернышев</td>\n",
       "      <td>2018-05-28</td>\n",
       "      <td>ultra</td>\n",
       "      <td>0.0</td>\n",
       "      <td>1950</td>\n",
       "      <td>1950.0</td>\n",
       "    </tr>\n",
       "    <tr>\n",
       "      <td>4</td>\n",
       "      <td>1377</td>\n",
       "      <td>10</td>\n",
       "      <td>1401</td>\n",
       "      <td>148</td>\n",
       "      <td>4880.62</td>\n",
       "      <td>10</td>\n",
       "      <td>59</td>\n",
       "      <td>NaT</td>\n",
       "      <td>Брянск</td>\n",
       "      <td>Альфред</td>\n",
       "      <td>Семин</td>\n",
       "      <td>2018-02-25</td>\n",
       "      <td>ultra</td>\n",
       "      <td>0.0</td>\n",
       "      <td>1950</td>\n",
       "      <td>1950.0</td>\n",
       "    </tr>\n",
       "  </tbody>\n",
       "</table>\n",
       "</div>"
      ],
      "text/plain": [
       "   user_id  month  sum_dur  qty_call    sum_mb  qty_sms  age churn_date  \\\n",
       "0     1467     12     1673       190   9756.90       39   66        NaT   \n",
       "1     1377      3     1609       165   3059.85       20   59        NaT   \n",
       "2     1216     12     1435       162  20066.05       64   74        NaT   \n",
       "3     1196      6     1410       149  22652.05      153   25        NaT   \n",
       "4     1377     10     1401       148   4880.62       10   59        NaT   \n",
       "\n",
       "        city first_name    last_name   reg_date tariff  overpay  \\\n",
       "0      Киров       Исак  Александрюк 2018-11-24  ultra      0.0   \n",
       "1     Брянск    Альфред        Семин 2018-02-25  ultra      0.0   \n",
       "2  Волгоград     Рустам      Малинин 2018-11-23  smart   3847.0   \n",
       "3    Воронеж      Фёдор     Чернышев 2018-05-28  ultra      0.0   \n",
       "4     Брянск    Альфред        Семин 2018-02-25  ultra      0.0   \n",
       "\n",
       "   rub_monthly_fee  revenue  \n",
       "0             1950   1950.0  \n",
       "1             1950   1950.0  \n",
       "2              550   4397.0  \n",
       "3             1950   1950.0  \n",
       "4             1950   1950.0  "
      ]
     },
     "execution_count": 41,
     "metadata": {},
     "output_type": "execute_result"
    }
   ],
   "source": [
    "full_data.head()"
   ]
  },
  {
   "cell_type": "markdown",
   "metadata": {},
   "source": [
    "### Шаг 3. Анализ данных"
   ]
  },
  {
   "cell_type": "markdown",
   "metadata": {},
   "source": [
    "#### 3.0. Посмотрим распределение данных"
   ]
  },
  {
   "cell_type": "code",
   "execution_count": 42,
   "metadata": {},
   "outputs": [
    {
     "data": {
      "text/plain": [
       "Text(0.5, 0, 'Минут в месяц')"
      ]
     },
     "execution_count": 42,
     "metadata": {},
     "output_type": "execute_result"
    },
    {
     "data": {
      "image/png": "[encoded data removed]",
      "text/plain": [
       "<Figure size 432x288 with 1 Axes>"
      ]
     },
     "metadata": {
      "needs_background": "light"
     },
     "output_type": "display_data"
    }
   ],
   "source": [
    "# Сначала по тарифу 'smart'\n",
    "smart = full_data.query('tariff == \"smart\" & month>2 & sum_dur > 0')\n",
    "smart.hist('sum_dur', bins=30)\n",
    "plt.ylabel(\"Частота\")\n",
    "plt.xlabel(\"Минут в месяц\")"
   ]
  },
  {
   "cell_type": "code",
   "execution_count": 43,
   "metadata": {},
   "outputs": [
    {
     "data": {
      "text/plain": [
       "<matplotlib.axes._subplots.AxesSubplot at 0x7f70fd2d8390>"
      ]
     },
     "execution_count": 43,
     "metadata": {},
     "output_type": "execute_result"
    },
    {
     "data": {
      "image/png": "[encoded data removed]",
      "text/plain": [
       "<Figure size 432x288 with 1 Axes>"
      ]
     },
     "metadata": {
      "needs_background": "light"
     },
     "output_type": "display_data"
    }
   ],
   "source": [
    "smart.boxplot(column='sum_dur')"
   ]
  },
  {
   "cell_type": "code",
   "execution_count": 44,
   "metadata": {},
   "outputs": [
    {
     "data": {
      "text/plain": [
       "Text(0.5, 0, 'Минут в месяц')"
      ]
     },
     "execution_count": 44,
     "metadata": {},
     "output_type": "execute_result"
    },
    {
     "data": {
      "image/png": "[encoded data removed]",
      "text/plain": [
       "<Figure size 432x288 with 1 Axes>"
      ]
     },
     "metadata": {
      "needs_background": "light"
     },
     "output_type": "display_data"
    }
   ],
   "source": [
    "smart = full_data.query('tariff == \"smart\" & month>2 & sum_dur > 0')\n",
    "smart.hist('revenue', bins=25, range=(0, 5000))\n",
    "plt.ylabel(\"Частота\")\n",
    "plt.xlabel(\"Минут в месяц\")"
   ]
  },
  {
   "cell_type": "code",
   "execution_count": 45,
   "metadata": {},
   "outputs": [
    {
     "data": {
      "text/plain": [
       "823.3646117331789"
      ]
     },
     "execution_count": 45,
     "metadata": {},
     "output_type": "execute_result"
    }
   ],
   "source": [
    "np.std(smart['revenue'], ddof=1)"
   ]
  },
  {
   "cell_type": "markdown",
   "metadata": {},
   "source": [
    "- Данные по тарифу **smart** по минутам разговора скошены в левую сторону, относительно нормального распределения\n",
    "- Есть некоторые значения, которые выпадают из диапазона 3х сигм\n",
    "- Большинство абонентов платит только абонентскую плату в 550р."
   ]
  },
  {
   "cell_type": "code",
   "execution_count": 46,
   "metadata": {},
   "outputs": [
    {
     "data": {
      "text/plain": [
       "Text(0.5, 0, 'Минут в месяц')"
      ]
     },
     "execution_count": 46,
     "metadata": {},
     "output_type": "execute_result"
    },
    {
     "data": {
      "image/png": "[encoded data removed]",
      "text/plain": [
       "<Figure size 432x288 with 1 Axes>"
      ]
     },
     "metadata": {
      "needs_background": "light"
     },
     "output_type": "display_data"
    }
   ],
   "source": [
    "# Теперь посмотрим тариф 'ultra'\n",
    "ultra = full_data.query('tariff == \"ultra\" & month>2 & sum_dur > 0')\n",
    "ultra.hist('sum_dur', bins=30)\n",
    "plt.ylabel(\"Частота\")\n",
    "plt.xlabel(\"Минут в месяц\")"
   ]
  },
  {
   "cell_type": "code",
   "execution_count": 47,
   "metadata": {},
   "outputs": [
    {
     "data": {
      "text/plain": [
       "<matplotlib.axes._subplots.AxesSubplot at 0x7f70fbc28f10>"
      ]
     },
     "execution_count": 47,
     "metadata": {},
     "output_type": "execute_result"
    },
    {
     "data": {
      "image/png": "[encoded data removed]",
      "text/plain": [
       "<Figure size 432x288 with 1 Axes>"
      ]
     },
     "metadata": {
      "needs_background": "light"
     },
     "output_type": "display_data"
    }
   ],
   "source": [
    "ultra.boxplot(column='sum_dur')"
   ]
  },
  {
   "cell_type": "markdown",
   "metadata": {},
   "source": [
    "- В тарифе **ultra** в абонентскую сумму входит 3000 минут разговора. Столько в месяц никто не выговаривает, в основном все говорят от 250 до 800 минут в месяц.\n",
    "- распределение смещено в право"
   ]
  },
  {
   "cell_type": "code",
   "execution_count": 48,
   "metadata": {},
   "outputs": [
    {
     "data": {
      "text/html": [
       "<div>\n",
       "<style scoped>\n",
       "    .dataframe tbody tr th:only-of-type {\n",
       "        vertical-align: middle;\n",
       "    }\n",
       "\n",
       "    .dataframe tbody tr th {\n",
       "        vertical-align: top;\n",
       "    }\n",
       "\n",
       "    .dataframe thead th {\n",
       "        text-align: right;\n",
       "    }\n",
       "</style>\n",
       "<table border=\"1\" class=\"dataframe\">\n",
       "  <thead>\n",
       "    <tr style=\"text-align: right;\">\n",
       "      <th></th>\n",
       "      <th>user_id</th>\n",
       "      <th>month</th>\n",
       "      <th>sum_dur</th>\n",
       "      <th>qty_call</th>\n",
       "      <th>sum_mb</th>\n",
       "      <th>qty_sms</th>\n",
       "      <th>age</th>\n",
       "      <th>churn_date</th>\n",
       "      <th>city</th>\n",
       "      <th>first_name</th>\n",
       "      <th>last_name</th>\n",
       "      <th>reg_date</th>\n",
       "      <th>tariff</th>\n",
       "      <th>overpay</th>\n",
       "      <th>rub_monthly_fee</th>\n",
       "      <th>revenue</th>\n",
       "    </tr>\n",
       "  </thead>\n",
       "  <tbody>\n",
       "    <tr>\n",
       "      <td>0</td>\n",
       "      <td>1467</td>\n",
       "      <td>12</td>\n",
       "      <td>1673</td>\n",
       "      <td>190</td>\n",
       "      <td>9756.90</td>\n",
       "      <td>39</td>\n",
       "      <td>66</td>\n",
       "      <td>NaT</td>\n",
       "      <td>Киров</td>\n",
       "      <td>Исак</td>\n",
       "      <td>Александрюк</td>\n",
       "      <td>2018-11-24</td>\n",
       "      <td>ultra</td>\n",
       "      <td>0.0</td>\n",
       "      <td>1950</td>\n",
       "      <td>1950.0</td>\n",
       "    </tr>\n",
       "    <tr>\n",
       "      <td>1</td>\n",
       "      <td>1377</td>\n",
       "      <td>3</td>\n",
       "      <td>1609</td>\n",
       "      <td>165</td>\n",
       "      <td>3059.85</td>\n",
       "      <td>20</td>\n",
       "      <td>59</td>\n",
       "      <td>NaT</td>\n",
       "      <td>Брянск</td>\n",
       "      <td>Альфред</td>\n",
       "      <td>Семин</td>\n",
       "      <td>2018-02-25</td>\n",
       "      <td>ultra</td>\n",
       "      <td>0.0</td>\n",
       "      <td>1950</td>\n",
       "      <td>1950.0</td>\n",
       "    </tr>\n",
       "    <tr>\n",
       "      <td>2</td>\n",
       "      <td>1216</td>\n",
       "      <td>12</td>\n",
       "      <td>1435</td>\n",
       "      <td>162</td>\n",
       "      <td>20066.05</td>\n",
       "      <td>64</td>\n",
       "      <td>74</td>\n",
       "      <td>NaT</td>\n",
       "      <td>Волгоград</td>\n",
       "      <td>Рустам</td>\n",
       "      <td>Малинин</td>\n",
       "      <td>2018-11-23</td>\n",
       "      <td>smart</td>\n",
       "      <td>3847.0</td>\n",
       "      <td>550</td>\n",
       "      <td>4397.0</td>\n",
       "    </tr>\n",
       "    <tr>\n",
       "      <td>3</td>\n",
       "      <td>1196</td>\n",
       "      <td>6</td>\n",
       "      <td>1410</td>\n",
       "      <td>149</td>\n",
       "      <td>22652.05</td>\n",
       "      <td>153</td>\n",
       "      <td>25</td>\n",
       "      <td>NaT</td>\n",
       "      <td>Воронеж</td>\n",
       "      <td>Фёдор</td>\n",
       "      <td>Чернышев</td>\n",
       "      <td>2018-05-28</td>\n",
       "      <td>ultra</td>\n",
       "      <td>0.0</td>\n",
       "      <td>1950</td>\n",
       "      <td>1950.0</td>\n",
       "    </tr>\n",
       "    <tr>\n",
       "      <td>4</td>\n",
       "      <td>1377</td>\n",
       "      <td>10</td>\n",
       "      <td>1401</td>\n",
       "      <td>148</td>\n",
       "      <td>4880.62</td>\n",
       "      <td>10</td>\n",
       "      <td>59</td>\n",
       "      <td>NaT</td>\n",
       "      <td>Брянск</td>\n",
       "      <td>Альфред</td>\n",
       "      <td>Семин</td>\n",
       "      <td>2018-02-25</td>\n",
       "      <td>ultra</td>\n",
       "      <td>0.0</td>\n",
       "      <td>1950</td>\n",
       "      <td>1950.0</td>\n",
       "    </tr>\n",
       "  </tbody>\n",
       "</table>\n",
       "</div>"
      ],
      "text/plain": [
       "   user_id  month  sum_dur  qty_call    sum_mb  qty_sms  age churn_date  \\\n",
       "0     1467     12     1673       190   9756.90       39   66        NaT   \n",
       "1     1377      3     1609       165   3059.85       20   59        NaT   \n",
       "2     1216     12     1435       162  20066.05       64   74        NaT   \n",
       "3     1196      6     1410       149  22652.05      153   25        NaT   \n",
       "4     1377     10     1401       148   4880.62       10   59        NaT   \n",
       "\n",
       "        city first_name    last_name   reg_date tariff  overpay  \\\n",
       "0      Киров       Исак  Александрюк 2018-11-24  ultra      0.0   \n",
       "1     Брянск    Альфред        Семин 2018-02-25  ultra      0.0   \n",
       "2  Волгоград     Рустам      Малинин 2018-11-23  smart   3847.0   \n",
       "3    Воронеж      Фёдор     Чернышев 2018-05-28  ultra      0.0   \n",
       "4     Брянск    Альфред        Семин 2018-02-25  ultra      0.0   \n",
       "\n",
       "   rub_monthly_fee  revenue  \n",
       "0             1950   1950.0  \n",
       "1             1950   1950.0  \n",
       "2              550   4397.0  \n",
       "3             1950   1950.0  \n",
       "4             1950   1950.0  "
      ]
     },
     "execution_count": 48,
     "metadata": {},
     "output_type": "execute_result"
    }
   ],
   "source": [
    "full_data.head()"
   ]
  },
  {
   "cell_type": "code",
   "execution_count": 49,
   "metadata": {},
   "outputs": [
    {
     "data": {
      "text/plain": [
       "<seaborn.axisgrid.FacetGrid at 0x7f70fbc11450>"
      ]
     },
     "execution_count": 49,
     "metadata": {},
     "output_type": "execute_result"
    },
    {
     "data": {
      "image/png": "[encoded data removed]",
      "text/plain": [
       "<Figure size 720x360 with 2 Axes>"
      ]
     },
     "metadata": {
      "needs_background": "light"
     },
     "output_type": "display_data"
    }
   ],
   "source": [
    "sns.relplot('sum_dur', 'user_id', data=full_data, col='tariff')"
   ]
  },
  {
   "cell_type": "code",
   "execution_count": 50,
   "metadata": {},
   "outputs": [
    {
     "data": {
      "image/png": "[encoded data removed]",
      "text/plain": [
       "<Figure size 432x288 with 1 Axes>"
      ]
     },
     "metadata": {
      "needs_background": "light"
     },
     "output_type": "display_data"
    }
   ],
   "source": [
    "ax = sns.distplot(full_data.\n",
    "                  query('tariff == \"ultra\" & month>2 & sum_dur > 0')['sum_dur'], \n",
    "                  #kde=False,\n",
    "                 bins=30)"
   ]
  },
  {
   "cell_type": "code",
   "execution_count": 52,
   "metadata": {},
   "outputs": [
    {
     "data": {
      "text/plain": [
       "<matplotlib.legend.Legend at 0x7f70fa816c10>"
      ]
     },
     "execution_count": 52,
     "metadata": {},
     "output_type": "execute_result"
    },
    {
     "data": {
      "image/png": "[encoded data removed]",
      "text/plain": [
       "<Figure size 432x288 with 1 Axes>"
      ]
     },
     "metadata": {
      "needs_background": "light"
     },
     "output_type": "display_data"
    }
   ],
   "source": [
    "ax = full_data.query('tariff == \"smart\" & month>2 & sum_dur > 0')['sum_dur'].hist(bins=50, alpha=0.5, label = 'smart') \n",
    "full_data.query('tariff == \"ultra\" & month>2 & sum_dur > 0')['sum_dur'].hist(bins=50, alpha=0.5, label = 'ultra') \n",
    "\n",
    "ax.set_ylabel('Кол-во таких юзеров')\n",
    "ax.set_xlabel('Кол-во минут')\n",
    "ax.legend()"
   ]
  },
  {
   "cell_type": "code",
   "execution_count": 53,
   "metadata": {},
   "outputs": [
    {
     "data": {
      "text/plain": [
       "<matplotlib.legend.Legend at 0x7f70f69d6dd0>"
      ]
     },
     "execution_count": 53,
     "metadata": {},
     "output_type": "execute_result"
    },
    {
     "data": {
      "image/png": "[encoded data removed]",
      "text/plain": [
       "<Figure size 432x288 with 1 Axes>"
      ]
     },
     "metadata": {
      "needs_background": "light"
     },
     "output_type": "display_data"
    }
   ],
   "source": [
    "ax = full_data.query('tariff == \"smart\"& month>2 & sum_mb > 0')['sum_mb'].hist(bins=50, alpha=0.5, label = 'smart') \n",
    "full_data.query('tariff == \"ultra\"& month>2 & sum_mb > 0')['sum_mb'].hist(bins=50, alpha=0.5, label = 'ultra') \n",
    "\n",
    "ax.set_ylabel('Кол-во таких юзеров')\n",
    "ax.set_xlabel('Кол-во Мегабайт')\n",
    "ax.legend()"
   ]
  },
  {
   "cell_type": "markdown",
   "metadata": {},
   "source": [
    "По кол-ву потребления мегабайт можно сказать что пользователи тарифа **smart** в большинстве своем расходуют от 10-20 гб в месяц, в то время как абоненты тарифа **ultra** расположены более полого и потребление трафика варьируется в диапазоне от 7-25 гб с пиком на 22 гб."
   ]
  },
  {
   "cell_type": "code",
   "execution_count": 54,
   "metadata": {},
   "outputs": [
    {
     "data": {
      "text/plain": [
       "<matplotlib.legend.Legend at 0x7f70f6874b90>"
      ]
     },
     "execution_count": 54,
     "metadata": {},
     "output_type": "execute_result"
    },
    {
     "data": {
      "image/png": "[encoded data removed]",
      "text/plain": [
       "<Figure size 432x288 with 1 Axes>"
      ]
     },
     "metadata": {
      "needs_background": "light"
     },
     "output_type": "display_data"
    }
   ],
   "source": [
    "ax = full_data.query('tariff == \"smart\" & qty_sms>0 & month>2')['qty_sms'].hist(bins=50, alpha=0.5, label = 'smart') \n",
    "full_data.query('tariff == \"ultra\" & qty_sms>0 & month>2')['qty_sms'].hist(bins=50, alpha=0.5, label = 'ultra') \n",
    "\n",
    "ax.set_ylabel('Кол-во таких юзеров')\n",
    "ax.set_xlabel('Кол-во СМС')\n",
    "ax.legend()"
   ]
  },
  {
   "cell_type": "markdown",
   "metadata": {},
   "source": [
    "По кол-ву СМС можно сделать вывод что пользователи тарифа **ultra** в большинстве своем на пользуются всего 100 сообщениями в месяц при возможных 1000."
   ]
  },
  {
   "cell_type": "markdown",
   "metadata": {},
   "source": [
    "#### 3.1. Для начала усредним данные по Тарифам и месяцам\n",
    "- Посчитаем Среднее\n",
    "- Суммарное кол-во пользователей\n",
    "- Переведем мегабайты в ГБ"
   ]
  },
  {
   "cell_type": "code",
   "execution_count": 69,
   "metadata": {},
   "outputs": [
    {
     "data": {
      "text/plain": [
       "Index(['user_id', 'month', 'sum_dur', 'qty_call', 'sum_mb', 'qty_sms', 'age',\n",
       "       'churn_date', 'city', 'first_name', 'last_name', 'reg_date', 'tariff',\n",
       "       'overpay', 'rub_monthly_fee', 'revenue'],\n",
       "      dtype='object')"
      ]
     },
     "execution_count": 69,
     "metadata": {},
     "output_type": "execute_result"
    }
   ],
   "source": [
    "full_data.columns"
   ]
  },
  {
   "cell_type": "code",
   "execution_count": 70,
   "metadata": {},
   "outputs": [],
   "source": [
    "mean_data = round(full_data\\\n",
    "  .groupby(by=['tariff', 'month'], as_index=False)\\\n",
    "  .agg({'sum_dur':'mean', 'qty_sms':'mean', 'sum_mb':'mean', 'user_id':'sum', 'overpay':'mean', 'revenue':'mean'})\\\n",
    "  .rename(columns={'sum_dur':'call_mean', 'qty_sms':'sms_mean', 'sum_mb':'gb_mean', 'user_id':'user_qty'}))\n",
    "mean_data['gb_mean'] = (mean_data['gb_mean']/1024).round(1)"
   ]
  },
  {
   "cell_type": "code",
   "execution_count": 76,
   "metadata": {},
   "outputs": [],
   "source": [
    "Osn_pokazately = round(full_data.query('month > 2')\n",
    "      .groupby(by='tariff')[['sum_dur', 'qty_sms', 'sum_mb']]\n",
    "      .agg(['mean', 'var', 'std']).stack()\n",
    "      .rename(columns={'sum_dur':'call', 'qty_sms':'sms', 'sum_mb':'mb'}))"
   ]
  },
  {
   "cell_type": "code",
   "execution_count": 75,
   "metadata": {},
   "outputs": [
    {
     "data": {
      "text/html": [
       "<div>\n",
       "<style scoped>\n",
       "    .dataframe tbody tr th:only-of-type {\n",
       "        vertical-align: middle;\n",
       "    }\n",
       "\n",
       "    .dataframe tbody tr th {\n",
       "        vertical-align: top;\n",
       "    }\n",
       "\n",
       "    .dataframe thead th {\n",
       "        text-align: right;\n",
       "    }\n",
       "</style>\n",
       "<table border=\"1\" class=\"dataframe\">\n",
       "  <thead>\n",
       "    <tr style=\"text-align: right;\">\n",
       "      <th></th>\n",
       "      <th>tariff</th>\n",
       "      <th>agg</th>\n",
       "      <th>call</th>\n",
       "      <th>sms</th>\n",
       "      <th>mb</th>\n",
       "    </tr>\n",
       "  </thead>\n",
       "  <tbody>\n",
       "    <tr>\n",
       "      <td>0</td>\n",
       "      <td>smart</td>\n",
       "      <td>mean</td>\n",
       "      <td>425.0</td>\n",
       "      <td>34.0</td>\n",
       "      <td>16456.0</td>\n",
       "    </tr>\n",
       "    <tr>\n",
       "      <td>3</td>\n",
       "      <td>ultra</td>\n",
       "      <td>mean</td>\n",
       "      <td>533.0</td>\n",
       "      <td>50.0</td>\n",
       "      <td>19723.0</td>\n",
       "    </tr>\n",
       "    <tr>\n",
       "      <td>2</td>\n",
       "      <td>smart</td>\n",
       "      <td>std</td>\n",
       "      <td>188.0</td>\n",
       "      <td>28.0</td>\n",
       "      <td>5717.0</td>\n",
       "    </tr>\n",
       "    <tr>\n",
       "      <td>5</td>\n",
       "      <td>ultra</td>\n",
       "      <td>std</td>\n",
       "      <td>316.0</td>\n",
       "      <td>48.0</td>\n",
       "      <td>10010.0</td>\n",
       "    </tr>\n",
       "    <tr>\n",
       "      <td>1</td>\n",
       "      <td>smart</td>\n",
       "      <td>var</td>\n",
       "      <td>35280.0</td>\n",
       "      <td>808.0</td>\n",
       "      <td>32682469.0</td>\n",
       "    </tr>\n",
       "    <tr>\n",
       "      <td>4</td>\n",
       "      <td>ultra</td>\n",
       "      <td>var</td>\n",
       "      <td>100169.0</td>\n",
       "      <td>2317.0</td>\n",
       "      <td>100207995.0</td>\n",
       "    </tr>\n",
       "  </tbody>\n",
       "</table>\n",
       "</div>"
      ],
      "text/plain": [
       "  tariff   agg      call     sms           mb\n",
       "0  smart  mean     425.0    34.0      16456.0\n",
       "3  ultra  mean     533.0    50.0      19723.0\n",
       "2  smart   std     188.0    28.0       5717.0\n",
       "5  ultra   std     316.0    48.0      10010.0\n",
       "1  smart   var   35280.0   808.0   32682469.0\n",
       "4  ultra   var  100169.0  2317.0  100207995.0"
      ]
     },
     "execution_count": 75,
     "metadata": {},
     "output_type": "execute_result"
    }
   ],
   "source": [
    "Osn_pokazately.reset_index().rename(columns={'level_1':'agg'}).sort_values(by='agg')"
   ]
  },
  {
   "cell_type": "markdown",
   "metadata": {},
   "source": [
    "#### 3.2. Строим графики и смотрим на данные "
   ]
  },
  {
   "cell_type": "code",
   "execution_count": 68,
   "metadata": {},
   "outputs": [
    {
     "data": {
      "image/png": "[encoded data removed]",
      "text/plain": [
       "<Figure size 432x288 with 1 Axes>"
      ]
     },
     "metadata": {
      "needs_background": "light"
     },
     "output_type": "display_data"
    },
    {
     "data": {
      "image/png": "[encoded data removed]",
      "text/plain": [
       "<Figure size 432x288 with 1 Axes>"
      ]
     },
     "metadata": {
      "needs_background": "light"
     },
     "output_type": "display_data"
    },
    {
     "data": {
      "image/png": "[encoded data removed]",
      "text/plain": [
       "<Figure size 432x288 with 1 Axes>"
      ]
     },
     "metadata": {
      "needs_background": "light"
     },
     "output_type": "display_data"
    },
    {
     "data": {
      "image/png": "[encoded data removed]",
      "text/plain": [
       "<Figure size 432x288 with 1 Axes>"
      ]
     },
     "metadata": {
      "needs_background": "light"
     },
     "output_type": "display_data"
    },
    {
     "data": {
      "image/png": "[encoded data removed]",
      "text/plain": [
       "<Figure size 432x288 with 1 Axes>"
      ]
     },
     "metadata": {
      "needs_background": "light"
     },
     "output_type": "display_data"
    },
    {
     "data": {
      "image/png": "[encoded data removed]",
      "text/plain": [
       "<Figure size 432x288 with 1 Axes>"
      ]
     },
     "metadata": {
      "needs_background": "light"
     },
     "output_type": "display_data"
    }
   ],
   "source": [
    "for col in ['call_mean', 'sms_mean', 'gb_mean', 'user_qty', 'overpay', 'revenue']:\n",
    "    ax = mean_data.query('tariff == \"smart\"').plot(x='month', y=col, style='o-', grid=True, label='smart')\n",
    "    mean_data.query('tariff == \"ultra\"').plot(x='month', y=col, style='o-', grid=True, label='ultra', ax=ax, title=col)\n",
    "    ax.set_xlabel('Месяц')\n",
    "    ax.set_ylabel(col[0:3])"
   ]
  },
  {
   "cell_type": "markdown",
   "metadata": {},
   "source": [
    "\n",
    "\n",
    "\n",
    "\n",
    "- Можно отметить что оба тарифа скорее всего были запущены в январе, судя по 2х кратному приросту в последующие месяцы\n",
    "- Плюс некая стабилизация результатов на одного пользователя с марта\n",
    "- По тарифу **smart** пользователи интернета почти полностью его расходуют, тогда как пользователи тарифа **ultra** используют трафик примерно на 2/3 от максимума\n",
    "- Кол-во пользователей **smart** больше чем пользователей **ultra** в 2 раза\n",
    "- По уровню выручки на одного пользователя более интересен пользователь тарифа **ultra**\n",
    "- Возможно стоит перетягивать клиентов на тариф **ultra**, особенно тех по которым есть существенные переплаты\n",
    "- Либо в качестве маркетинговой акции снизить стоимость тарифа **ultra**, предварительно рассчитав стоимость повышенных затрат на более высокое потребление минут, смс и гб\n",
    "- В Ультра очень странное увеличение кол-ва смс каждый месяц, но объем смс не такой существенный"
   ]
  },
  {
   "cell_type": "markdown",
   "metadata": {},
   "source": [
    "#### 3.3. Сравниваем тарифы, смотрим Стандартное отклонение и Дисперсию"
   ]
  },
  {
   "cell_type": "code",
   "execution_count": 57,
   "metadata": {},
   "outputs": [
    {
     "data": {
      "text/plain": [
       "Index(['tariff', 'month', 'call_mean', 'sms_mean', 'gb_mean', 'user_qty',\n",
       "       'overpay', 'revenue'],\n",
       "      dtype='object')"
      ]
     },
     "execution_count": 57,
     "metadata": {},
     "output_type": "execute_result"
    }
   ],
   "source": [
    "# Убираем январь и февраль из рассмотрения и получаем аггрегированные данные по тарифам\n",
    "mean_data.columns"
   ]
  },
  {
   "cell_type": "code",
   "execution_count": 58,
   "metadata": {},
   "outputs": [],
   "source": [
    "mean_var_std = round(mean_data.query('month > 2')\n",
    "      .groupby(by='tariff')[['call_mean', 'sms_mean', 'gb_mean']]\n",
    "      .agg(['mean', 'var', 'std']).stack()\n",
    "      .rename(columns={'call_mean':'call', 'sms_mean':'sms', 'gb_mean':'gb'}))"
   ]
  },
  {
   "cell_type": "code",
   "execution_count": 59,
   "metadata": {},
   "outputs": [
    {
     "data": {
      "text/html": [
       "<div>\n",
       "<style scoped>\n",
       "    .dataframe tbody tr th:only-of-type {\n",
       "        vertical-align: middle;\n",
       "    }\n",
       "\n",
       "    .dataframe tbody tr th {\n",
       "        vertical-align: top;\n",
       "    }\n",
       "\n",
       "    .dataframe thead th {\n",
       "        text-align: right;\n",
       "    }\n",
       "</style>\n",
       "<table border=\"1\" class=\"dataframe\">\n",
       "  <thead>\n",
       "    <tr style=\"text-align: right;\">\n",
       "      <th></th>\n",
       "      <th>tariff</th>\n",
       "      <th>agg</th>\n",
       "      <th>call</th>\n",
       "      <th>sms</th>\n",
       "      <th>gb</th>\n",
       "    </tr>\n",
       "  </thead>\n",
       "  <tbody>\n",
       "    <tr>\n",
       "      <td>0</td>\n",
       "      <td>smart</td>\n",
       "      <td>mean</td>\n",
       "      <td>414.0</td>\n",
       "      <td>34.0</td>\n",
       "      <td>16.0</td>\n",
       "    </tr>\n",
       "    <tr>\n",
       "      <td>3</td>\n",
       "      <td>ultra</td>\n",
       "      <td>mean</td>\n",
       "      <td>523.0</td>\n",
       "      <td>47.0</td>\n",
       "      <td>19.0</td>\n",
       "    </tr>\n",
       "    <tr>\n",
       "      <td>2</td>\n",
       "      <td>smart</td>\n",
       "      <td>std</td>\n",
       "      <td>32.0</td>\n",
       "      <td>1.0</td>\n",
       "      <td>1.0</td>\n",
       "    </tr>\n",
       "    <tr>\n",
       "      <td>5</td>\n",
       "      <td>ultra</td>\n",
       "      <td>std</td>\n",
       "      <td>40.0</td>\n",
       "      <td>10.0</td>\n",
       "      <td>1.0</td>\n",
       "    </tr>\n",
       "    <tr>\n",
       "      <td>1</td>\n",
       "      <td>smart</td>\n",
       "      <td>var</td>\n",
       "      <td>995.0</td>\n",
       "      <td>2.0</td>\n",
       "      <td>1.0</td>\n",
       "    </tr>\n",
       "    <tr>\n",
       "      <td>4</td>\n",
       "      <td>ultra</td>\n",
       "      <td>var</td>\n",
       "      <td>1634.0</td>\n",
       "      <td>110.0</td>\n",
       "      <td>2.0</td>\n",
       "    </tr>\n",
       "  </tbody>\n",
       "</table>\n",
       "</div>"
      ],
      "text/plain": [
       "  tariff   agg    call    sms    gb\n",
       "0  smart  mean   414.0   34.0  16.0\n",
       "3  ultra  mean   523.0   47.0  19.0\n",
       "2  smart   std    32.0    1.0   1.0\n",
       "5  ultra   std    40.0   10.0   1.0\n",
       "1  smart   var   995.0    2.0   1.0\n",
       "4  ultra   var  1634.0  110.0   2.0"
      ]
     },
     "execution_count": 59,
     "metadata": {},
     "output_type": "execute_result"
    }
   ],
   "source": [
    "mean_var_std.reset_index().rename(columns={'level_1':'agg'}).sort_values(by='agg')"
   ]
  },
  {
   "cell_type": "markdown",
   "metadata": {},
   "source": [
    "- Пользователям тарифа **ultra** явно не нужно столько времени на телефонные разговоры, время общения по телефону у них на 20% превышает время общения по тарифу **smart**"
   ]
  },
  {
   "cell_type": "markdown",
   "metadata": {},
   "source": [
    "### Шаг 4. Проверка гипотез"
   ]
  },
  {
   "cell_type": "markdown",
   "metadata": {},
   "source": [
    "#### Проверяем гипотизу о том что средняя выручка пользователей тарифов «Ультра» и «Смарт» различается"
   ]
  },
  {
   "cell_type": "markdown",
   "metadata": {},
   "source": [
    "Формулируем нулевую гипотизу\n",
    "- H0 - Средняя выручка по тарифам «Ультра» и «Смарт» одинакова\n",
    "- H1 - Средняя выручка по тарифам разная."
   ]
  },
  {
   "cell_type": "code",
   "execution_count": 60,
   "metadata": {},
   "outputs": [
    {
     "name": "stdout",
     "output_type": "stream",
     "text": [
      "smart - среднее значение 1312.5\n",
      "smart - медианное значение 1078.5\n",
      "ultra - среднее значение 2075.1\n",
      "ultra - медианное значение 1950.0\n",
      "p-значение: 4.929185557356966e-142\n",
      "Отвергаем нулевую гипотезу\n"
     ]
    }
   ],
   "source": [
    "# Возьмем уровень alpha = 0.05 что будет соответствовать 95% точности результата\n",
    "# Сравним 2 тарифа\n",
    "\n",
    "alpha = .05\n",
    "\n",
    "results = st.ttest_ind(\n",
    "    smart['revenue'],\n",
    "    ultra['revenue'])\n",
    "\n",
    "print('smart - среднее значение', (smart['revenue'].mean()).round(1))\n",
    "print('smart - медианное значение', (smart['revenue'].median()).round(1))\n",
    "print('ultra - среднее значение', (ultra['revenue'].mean()).round(1))\n",
    "print('ultra - медианное значение', (ultra['revenue'].median()).round(1))\n",
    "print('p-значение:', results.pvalue)\n",
    "\n",
    "if results.pvalue < alpha:\n",
    "    print(\"Отвергаем нулевую гипотезу\")\n",
    "else:\n",
    "    print(\"Не получилось отвергнуть нулевую гипотезу\")"
   ]
  },
  {
   "cell_type": "markdown",
   "metadata": {},
   "source": [
    "#### Отличие в тарифах очень очевидно, выручка по тарифу 'ultra' существенно выше чем по тарифу 'smart'\n",
    "- Дополнительная проверка по среднему и медиане подтверждает различие выручки в тарифах"
   ]
  },
  {
   "cell_type": "markdown",
   "metadata": {},
   "source": [
    "#### Проверяем гипотизу о том что средняя выручка пользователей из Москвы отличается от выручки пользователей из других регионов"
   ]
  },
  {
   "cell_type": "markdown",
   "metadata": {},
   "source": [
    "Т.к. мы уже выяснили что выручка по тарифам отличается логичнее всего сравнивать Москву и Другие регионы так-же по тарифам"
   ]
  },
  {
   "cell_type": "code",
   "execution_count": 61,
   "metadata": {},
   "outputs": [],
   "source": [
    "# Формируем выборки по Москве и другим городам по тарифу 'smart'\n",
    "moscow_smart_data = full_data.query('city == \"Москва\" & tariff == \"smart\"')\n",
    "regions_smart_data = full_data.query('city != \"Москва\" & tariff == \"smart\"')"
   ]
  },
  {
   "cell_type": "markdown",
   "metadata": {},
   "source": [
    "Формулируем нулевую и альтернативную гипотизу\n",
    "- H0 - Средняя выручка по тарифу «smart» в Москве и Других регионах одинаковая\n",
    "- H1 - Средняя выручка в Москве и Регионах по тарифу «smart» - разная"
   ]
  },
  {
   "cell_type": "code",
   "execution_count": 62,
   "metadata": {},
   "outputs": [
    {
     "name": "stdout",
     "output_type": "stream",
     "text": [
      "Москва - среднее значение 1239.4\n",
      "Москва - медианное значение 1007.5\n",
      "Регион - среднее значение 1300.6\n",
      "Регион - медианное значение 1039.0\n",
      "p-значение: 0.18150864159228705\n",
      "Не получилось отвергнуть нулевую гипотезу\n"
     ]
    }
   ],
   "source": [
    "alpha = .05\n",
    "\n",
    "results = st.ttest_ind(\n",
    "    moscow_smart_data['revenue'],\n",
    "    regions_smart_data['revenue'])\n",
    "\n",
    "print('Москва - среднее значение', (moscow_smart_data['revenue'].mean()).round(1))\n",
    "print('Москва - медианное значение', (moscow_smart_data['revenue'].median()).round(1))\n",
    "print('Регион - среднее значение', (regions_smart_data['revenue'].mean()).round(1))\n",
    "print('Регион - медианное значение', (regions_smart_data['revenue'].median()).round(1))\n",
    "print('p-значение:', results.pvalue)\n",
    "\n",
    "if results.pvalue < alpha:\n",
    "    print(\"Отвергаем нулевую гипотезу\")\n",
    "else:\n",
    "    print(\"Не получилось отвергнуть нулевую гипотезу\")"
   ]
  },
  {
   "cell_type": "markdown",
   "metadata": {},
   "source": [
    "#### Итого: Выручка по тарифу 'smart' в Москве и Регионах примерно одинаковая"
   ]
  },
  {
   "cell_type": "markdown",
   "metadata": {},
   "source": [
    "Сделаем проверку в Москве и Регионах по второму тарифу: **'ultra'**"
   ]
  },
  {
   "cell_type": "markdown",
   "metadata": {},
   "source": [
    "Формулируем нулевую и альтернативную гипотизу\n",
    "- H0 - Средняя выручка по тарифу «ultra» в Москве и Других регионах одинаковая\n",
    "- H1 - Средняя выручка в Москве и Регионах по тарифу «ultra» - разная"
   ]
  },
  {
   "cell_type": "code",
   "execution_count": 63,
   "metadata": {},
   "outputs": [],
   "source": [
    "# Формируем выборки по Москве и другим городам по тарифу 'smart'\n",
    "moscow_ultra_data = full_data.query('city == \"Москва\" & tariff == \"ultra\"')\n",
    "regions_ultra_data = full_data.query('city != \"Москва\" & tariff == \"ultra\"')"
   ]
  },
  {
   "cell_type": "code",
   "execution_count": 64,
   "metadata": {},
   "outputs": [
    {
     "name": "stdout",
     "output_type": "stream",
     "text": [
      "Москва - среднее значение 2074.0\n",
      "Москва - медианное значение 1950.0\n",
      "Регион - среднее значение 2069.0\n",
      "Регион - медианное значение 1950.0\n",
      "p-значение: 0.8614477943640767\n",
      "Не получилось отвергнуть нулевую гипотезу\n"
     ]
    }
   ],
   "source": [
    "alpha = .05\n",
    "\n",
    "results = st.ttest_ind(\n",
    "    moscow_ultra_data['revenue'],\n",
    "    regions_ultra_data['revenue'])\n",
    "\n",
    "print('Москва - среднее значение', (moscow_ultra_data['revenue'].mean()).round(1))\n",
    "print('Москва - медианное значение', (moscow_ultra_data['revenue'].median()).round(1))\n",
    "print('Регион - среднее значение', (regions_ultra_data['revenue'].mean()).round(1))\n",
    "print('Регион - медианное значение', (regions_ultra_data['revenue'].median()).round(1))\n",
    "print('p-значение:', results.pvalue)\n",
    "\n",
    "if results.pvalue < alpha:\n",
    "    print(\"Отвергаем нулевую гипотезу\")\n",
    "else:\n",
    "    print(\"Не получилось отвергнуть нулевую гипотезу\")"
   ]
  },
  {
   "cell_type": "markdown",
   "metadata": {},
   "source": [
    "Аналогично и по тарифу 'ultra' не удалось отвергнуть нулевую гипотизу. Сумма оплаты по тарифам в Москве и Регионах одинаковая."
   ]
  },
  {
   "cell_type": "markdown",
   "metadata": {},
   "source": [
    "#### Обовнование выбора теста для проверки гипотезы такое:\n",
    "- Т.к. мы использует выборки из генеральной совокупности и предпологаем что абоненты в них разные то нужно использовать именно такой метод st.ttest_ind().\n",
    "- Если бы мы сравнивали одних и тех же клиентов до и после, то нужно было-бы использовать scipy.stats.ttest_rel()\n",
    "- И у нас не одна выборка а две. Для одной можно было-бы использовать метод: scipy.stats.ttest_1samp()"
   ]
  },
  {
   "cell_type": "markdown",
   "metadata": {},
   "source": [
    "### Итоги"
   ]
  },
  {
   "cell_type": "markdown",
   "metadata": {},
   "source": [
    "1. Больше всего выручки на одного абонента приносит тариф **'ultra'** 2075р vs 1313р. по тарифу 'smart'\n",
    "2. Но тариф 'smart' генерирует новых клиентов в 2 раза больше. Так при одинаковом запуске этих 2х тарифов кол-во абонентов на конец года по тарифу 'smart' было = 328 а по тарифу 'ultra' = 134.\n",
    "3. Абоненты тарифа 'smart' в 2 раза переплачивают за свой тариф, так при абонентской плате в месяц в 550р. средняя переплата составляет 739р.\n",
    "4. Пользователи тарифа **smart** почти полностью израсходуют интернет, тогда как пользователи тарифа **ultra** используют трафик примерно на 2/3 от максимума\n",
    "5. Возможно стоит перетягивать клиентов на тариф **ultra**, особенно тех по которым есть существенные переплаты в тарифе **smart**\n",
    "6. Либо в качестве маркетинговой акции снизить стоимость тарифа **ultra**, предварительно рассчитав стоимость повышенных затрат на более высокое потребление минут, смс и гб\n",
    "7. Выручка в Москве и Регионах по обоим тарифам примерно одинаковая"
   ]
  },
  {
   "cell_type": "code",
   "execution_count": 65,
   "metadata": {},
   "outputs": [
    {
     "data": {
      "text/plain": [
       "328"
      ]
     },
     "execution_count": 65,
     "metadata": {},
     "output_type": "execute_result"
    }
   ],
   "source": [
    "# Активные клиенты по тарифу \"smart\"\n",
    "len(full_data.query('tariff == \"smart\"')['user_id'].unique())\\\n",
    "- len(full_data.query('tariff == \"smart\" & churn_date==churn_date')['user_id'].unique())"
   ]
  },
  {
   "cell_type": "code",
   "execution_count": 66,
   "metadata": {},
   "outputs": [
    {
     "data": {
      "text/plain": [
       "739.9735307312696"
      ]
     },
     "execution_count": 66,
     "metadata": {},
     "output_type": "execute_result"
    }
   ],
   "source": [
    "# Средняя переплата в месяц по тарифу \"smart\"\n",
    "full_data.query('tariff == \"smart\"')['overpay'].mean()"
   ]
  },
  {
   "cell_type": "code",
   "execution_count": 67,
   "metadata": {},
   "outputs": [
    {
     "data": {
      "text/plain": [
       "134"
      ]
     },
     "execution_count": 67,
     "metadata": {},
     "output_type": "execute_result"
    }
   ],
   "source": [
    "# Активные клиенты по тарифу \"ultra\"\n",
    "len(full_data.query('tariff == \"ultra\"')['user_id'].unique())\\\n",
    "- len(full_data.query('tariff == \"ultra\" & churn_date==churn_date')['user_id'].unique())"
   ]
  }
 ],
 "metadata": {
  "kernelspec": {
   "display_name": "Python 3",
   "language": "python",
   "name": "python3"
  },
  "language_info": {
   "codemirror_mode": {
    "name": "ipython",
    "version": 3
   },
   "file_extension": ".py",
   "mimetype": "text/x-python",
   "name": "python",
   "nbconvert_exporter": "python",
   "pygments_lexer": "ipython3",
   "version": "3.7.6"
  }
 },
 "nbformat": 4,
 "nbformat_minor": 2
}
