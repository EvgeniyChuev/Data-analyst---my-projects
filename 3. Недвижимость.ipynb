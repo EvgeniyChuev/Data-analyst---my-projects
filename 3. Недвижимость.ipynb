{
 "cells": [
  {
   "cell_type": "markdown",
   "metadata": {},
   "source": [
    "# Исследование объявлений о продаже квартир\n",
    "\n",
    "В нашем распоряжении данные сервиса Яндекс.Недвижимость — архив объявлений о продаже квартир в Санкт-Петербурге и соседних населённых пунктов за несколько лет. Нужно определять рыночную стоимость объектов недвижимости. Плюс задача — установить параметры. Это позволит построить автоматизированную систему: она отследит аномалии и мошенническую деятельность. \n",
    "\n",
    "По каждой квартире на продажу доступны два вида данных. Первые вписаны пользователем, вторые — получены автоматически на основе картографических данных. Например, расстояние до центра, аэропорта, ближайшего парка и водоёма. "
   ]
  },
  {
   "cell_type": "markdown",
   "metadata": {},
   "source": [
    "### Шаг 1. Открываем файл, изучаем информацию"
   ]
  },
  {
   "cell_type": "markdown",
   "metadata": {},
   "source": [
    "#### Описание данных\n",
    "- ***airports_nearest*** — расстояние до ближайшего аэропорта в метрах (м)\n",
    "- ***balcony*** — число балконов\n",
    "- ***ceiling_height*** — высота потолков (м)\n",
    "- ***cityCenters_nearest*** — расстояние до центра города (м)\n",
    "- ***days_exposition*** — сколько дней было размещено объявление (от публикации до снятия)\n",
    "- ***first_day_exposition*** — дата публикации\n",
    "- ***floor*** — этаж\n",
    "- ***floors_total*** — всего этажей в доме\n",
    "- ***is_apartment*** — апартаменты (булев тип)\n",
    "- ***kitchen_area*** — площадь кухни в квадратных метрах (м²)\n",
    "- ***last_price*** — цена на момент снятия с публикации\n",
    "- ***living_area*** — жилая площадь в квадратных метрах(м²)\n",
    "- ***locality_name*** — название населённого пункта\n",
    "- ***open_plan*** — свободная планировка (булев тип)\n",
    "- ***parks_around3000*** — число парков в радиусе 3 км\n",
    "- ***parks_nearest*** — расстояние до ближайшего парка (м)\n",
    "- ***ponds_around3000*** — число водоёмов в радиусе 3 км\n",
    "- ***ponds_nearest*** — расстояние до ближайшего водоёма (м)\n",
    "- ***rooms*** — число комнат\n",
    "- ***studio*** — квартира-студия (булев тип)\n",
    "- ***total_area*** — площадь квартиры в квадратных метрах (м²)\n",
    "- ***total_images*** — число фотографий квартиры в объявлении"
   ]
  },
  {
   "cell_type": "code",
   "execution_count": 1,
   "metadata": {},
   "outputs": [],
   "source": [
    "import pandas as pd\n",
    "import matplotlib.pyplot as plt\n",
    "%matplotlib inline\n",
    "import math\n",
    "\n",
    "from pymystem3 import Mystem # Импорт лемм\n",
    "m = Mystem()\n",
    "from collections import Counter # Для расчета кол-ва лемм"
   ]
  },
  {
   "cell_type": "markdown",
   "metadata": {},
   "source": [
    "#### Вывод первых строк, info, describe, Корректность написания столбцов"
   ]
  },
  {
   "cell_type": "code",
   "execution_count": 2,
   "metadata": {},
   "outputs": [
    {
     "data": {
      "text/html": [
       "<div>\n",
       "<style scoped>\n",
       "    .dataframe tbody tr th:only-of-type {\n",
       "        vertical-align: middle;\n",
       "    }\n",
       "\n",
       "    .dataframe tbody tr th {\n",
       "        vertical-align: top;\n",
       "    }\n",
       "\n",
       "    .dataframe thead th {\n",
       "        text-align: right;\n",
       "    }\n",
       "</style>\n",
       "<table border=\"1\" class=\"dataframe\">\n",
       "  <thead>\n",
       "    <tr style=\"text-align: right;\">\n",
       "      <th></th>\n",
       "      <th>total_images</th>\n",
       "      <th>last_price</th>\n",
       "      <th>total_area</th>\n",
       "      <th>first_day_exposition</th>\n",
       "      <th>rooms</th>\n",
       "      <th>ceiling_height</th>\n",
       "      <th>floors_total</th>\n",
       "      <th>living_area</th>\n",
       "      <th>floor</th>\n",
       "      <th>is_apartment</th>\n",
       "      <th>...</th>\n",
       "      <th>kitchen_area</th>\n",
       "      <th>balcony</th>\n",
       "      <th>locality_name</th>\n",
       "      <th>airports_nearest</th>\n",
       "      <th>cityCenters_nearest</th>\n",
       "      <th>parks_around3000</th>\n",
       "      <th>parks_nearest</th>\n",
       "      <th>ponds_around3000</th>\n",
       "      <th>ponds_nearest</th>\n",
       "      <th>days_exposition</th>\n",
       "    </tr>\n",
       "  </thead>\n",
       "  <tbody>\n",
       "    <tr>\n",
       "      <td>0</td>\n",
       "      <td>20</td>\n",
       "      <td>13000000.0</td>\n",
       "      <td>108.0</td>\n",
       "      <td>2019-03-07T00:00:00</td>\n",
       "      <td>3</td>\n",
       "      <td>2.70</td>\n",
       "      <td>16.0</td>\n",
       "      <td>51.0</td>\n",
       "      <td>8</td>\n",
       "      <td>NaN</td>\n",
       "      <td>...</td>\n",
       "      <td>25.0</td>\n",
       "      <td>NaN</td>\n",
       "      <td>Санкт-Петербург</td>\n",
       "      <td>18863.0</td>\n",
       "      <td>16028.0</td>\n",
       "      <td>1.0</td>\n",
       "      <td>482.0</td>\n",
       "      <td>2.0</td>\n",
       "      <td>755.0</td>\n",
       "      <td>NaN</td>\n",
       "    </tr>\n",
       "    <tr>\n",
       "      <td>1</td>\n",
       "      <td>7</td>\n",
       "      <td>3350000.0</td>\n",
       "      <td>40.4</td>\n",
       "      <td>2018-12-04T00:00:00</td>\n",
       "      <td>1</td>\n",
       "      <td>NaN</td>\n",
       "      <td>11.0</td>\n",
       "      <td>18.6</td>\n",
       "      <td>1</td>\n",
       "      <td>NaN</td>\n",
       "      <td>...</td>\n",
       "      <td>11.0</td>\n",
       "      <td>2.0</td>\n",
       "      <td>посёлок Шушары</td>\n",
       "      <td>12817.0</td>\n",
       "      <td>18603.0</td>\n",
       "      <td>0.0</td>\n",
       "      <td>NaN</td>\n",
       "      <td>0.0</td>\n",
       "      <td>NaN</td>\n",
       "      <td>81.0</td>\n",
       "    </tr>\n",
       "    <tr>\n",
       "      <td>2</td>\n",
       "      <td>10</td>\n",
       "      <td>5196000.0</td>\n",
       "      <td>56.0</td>\n",
       "      <td>2015-08-20T00:00:00</td>\n",
       "      <td>2</td>\n",
       "      <td>NaN</td>\n",
       "      <td>5.0</td>\n",
       "      <td>34.3</td>\n",
       "      <td>4</td>\n",
       "      <td>NaN</td>\n",
       "      <td>...</td>\n",
       "      <td>8.3</td>\n",
       "      <td>0.0</td>\n",
       "      <td>Санкт-Петербург</td>\n",
       "      <td>21741.0</td>\n",
       "      <td>13933.0</td>\n",
       "      <td>1.0</td>\n",
       "      <td>90.0</td>\n",
       "      <td>2.0</td>\n",
       "      <td>574.0</td>\n",
       "      <td>558.0</td>\n",
       "    </tr>\n",
       "    <tr>\n",
       "      <td>3</td>\n",
       "      <td>0</td>\n",
       "      <td>64900000.0</td>\n",
       "      <td>159.0</td>\n",
       "      <td>2015-07-24T00:00:00</td>\n",
       "      <td>3</td>\n",
       "      <td>NaN</td>\n",
       "      <td>14.0</td>\n",
       "      <td>NaN</td>\n",
       "      <td>9</td>\n",
       "      <td>NaN</td>\n",
       "      <td>...</td>\n",
       "      <td>NaN</td>\n",
       "      <td>0.0</td>\n",
       "      <td>Санкт-Петербург</td>\n",
       "      <td>28098.0</td>\n",
       "      <td>6800.0</td>\n",
       "      <td>2.0</td>\n",
       "      <td>84.0</td>\n",
       "      <td>3.0</td>\n",
       "      <td>234.0</td>\n",
       "      <td>424.0</td>\n",
       "    </tr>\n",
       "    <tr>\n",
       "      <td>4</td>\n",
       "      <td>2</td>\n",
       "      <td>10000000.0</td>\n",
       "      <td>100.0</td>\n",
       "      <td>2018-06-19T00:00:00</td>\n",
       "      <td>2</td>\n",
       "      <td>3.03</td>\n",
       "      <td>14.0</td>\n",
       "      <td>32.0</td>\n",
       "      <td>13</td>\n",
       "      <td>NaN</td>\n",
       "      <td>...</td>\n",
       "      <td>41.0</td>\n",
       "      <td>NaN</td>\n",
       "      <td>Санкт-Петербург</td>\n",
       "      <td>31856.0</td>\n",
       "      <td>8098.0</td>\n",
       "      <td>2.0</td>\n",
       "      <td>112.0</td>\n",
       "      <td>1.0</td>\n",
       "      <td>48.0</td>\n",
       "      <td>121.0</td>\n",
       "    </tr>\n",
       "  </tbody>\n",
       "</table>\n",
       "<p>5 rows × 22 columns</p>\n",
       "</div>"
      ],
      "text/plain": [
       "   total_images  last_price  total_area first_day_exposition  rooms  \\\n",
       "0            20  13000000.0       108.0  2019-03-07T00:00:00      3   \n",
       "1             7   3350000.0        40.4  2018-12-04T00:00:00      1   \n",
       "2            10   5196000.0        56.0  2015-08-20T00:00:00      2   \n",
       "3             0  64900000.0       159.0  2015-07-24T00:00:00      3   \n",
       "4             2  10000000.0       100.0  2018-06-19T00:00:00      2   \n",
       "\n",
       "   ceiling_height  floors_total  living_area  floor is_apartment  ...  \\\n",
       "0            2.70          16.0         51.0      8          NaN  ...   \n",
       "1             NaN          11.0         18.6      1          NaN  ...   \n",
       "2             NaN           5.0         34.3      4          NaN  ...   \n",
       "3             NaN          14.0          NaN      9          NaN  ...   \n",
       "4            3.03          14.0         32.0     13          NaN  ...   \n",
       "\n",
       "   kitchen_area  balcony    locality_name  airports_nearest  \\\n",
       "0          25.0      NaN  Санкт-Петербург           18863.0   \n",
       "1          11.0      2.0   посёлок Шушары           12817.0   \n",
       "2           8.3      0.0  Санкт-Петербург           21741.0   \n",
       "3           NaN      0.0  Санкт-Петербург           28098.0   \n",
       "4          41.0      NaN  Санкт-Петербург           31856.0   \n",
       "\n",
       "  cityCenters_nearest  parks_around3000  parks_nearest  ponds_around3000  \\\n",
       "0             16028.0               1.0          482.0               2.0   \n",
       "1             18603.0               0.0            NaN               0.0   \n",
       "2             13933.0               1.0           90.0               2.0   \n",
       "3              6800.0               2.0           84.0               3.0   \n",
       "4              8098.0               2.0          112.0               1.0   \n",
       "\n",
       "   ponds_nearest  days_exposition  \n",
       "0          755.0              NaN  \n",
       "1            NaN             81.0  \n",
       "2          574.0            558.0  \n",
       "3          234.0            424.0  \n",
       "4           48.0            121.0  \n",
       "\n",
       "[5 rows x 22 columns]"
      ]
     },
     "execution_count": 2,
     "metadata": {},
     "output_type": "execute_result"
    }
   ],
   "source": [
    "data = pd.read_csv('/datasets/real_estate_data.csv', sep='\\t')\n",
    "data.head()"
   ]
  },
  {
   "cell_type": "code",
   "execution_count": 3,
   "metadata": {},
   "outputs": [
    {
     "name": "stdout",
     "output_type": "stream",
     "text": [
      "<class 'pandas.core.frame.DataFrame'>\n",
      "RangeIndex: 23699 entries, 0 to 23698\n",
      "Data columns (total 22 columns):\n",
      "total_images            23699 non-null int64\n",
      "last_price              23699 non-null float64\n",
      "total_area              23699 non-null float64\n",
      "first_day_exposition    23699 non-null object\n",
      "rooms                   23699 non-null int64\n",
      "ceiling_height          14504 non-null float64\n",
      "floors_total            23613 non-null float64\n",
      "living_area             21796 non-null float64\n",
      "floor                   23699 non-null int64\n",
      "is_apartment            2775 non-null object\n",
      "studio                  23699 non-null bool\n",
      "open_plan               23699 non-null bool\n",
      "kitchen_area            21421 non-null float64\n",
      "balcony                 12180 non-null float64\n",
      "locality_name           23650 non-null object\n",
      "airports_nearest        18157 non-null float64\n",
      "cityCenters_nearest     18180 non-null float64\n",
      "parks_around3000        18181 non-null float64\n",
      "parks_nearest           8079 non-null float64\n",
      "ponds_around3000        18181 non-null float64\n",
      "ponds_nearest           9110 non-null float64\n",
      "days_exposition         20518 non-null float64\n",
      "dtypes: bool(2), float64(14), int64(3), object(3)\n",
      "memory usage: 3.7+ MB\n"
     ]
    }
   ],
   "source": [
    "data.info()"
   ]
  },
  {
   "cell_type": "code",
   "execution_count": 4,
   "metadata": {},
   "outputs": [
    {
     "data": {
      "text/html": [
       "<div>\n",
       "<style scoped>\n",
       "    .dataframe tbody tr th:only-of-type {\n",
       "        vertical-align: middle;\n",
       "    }\n",
       "\n",
       "    .dataframe tbody tr th {\n",
       "        vertical-align: top;\n",
       "    }\n",
       "\n",
       "    .dataframe thead th {\n",
       "        text-align: right;\n",
       "    }\n",
       "</style>\n",
       "<table border=\"1\" class=\"dataframe\">\n",
       "  <thead>\n",
       "    <tr style=\"text-align: right;\">\n",
       "      <th></th>\n",
       "      <th>count</th>\n",
       "      <th>mean</th>\n",
       "      <th>std</th>\n",
       "      <th>min</th>\n",
       "      <th>25%</th>\n",
       "      <th>50%</th>\n",
       "      <th>75%</th>\n",
       "      <th>max</th>\n",
       "    </tr>\n",
       "  </thead>\n",
       "  <tbody>\n",
       "    <tr>\n",
       "      <td>total_images</td>\n",
       "      <td>23699.0</td>\n",
       "      <td>9.858475e+00</td>\n",
       "      <td>5.682529e+00</td>\n",
       "      <td>0.0</td>\n",
       "      <td>6.00</td>\n",
       "      <td>9.00</td>\n",
       "      <td>14.0</td>\n",
       "      <td>50.0</td>\n",
       "    </tr>\n",
       "    <tr>\n",
       "      <td>last_price</td>\n",
       "      <td>23699.0</td>\n",
       "      <td>6.541549e+06</td>\n",
       "      <td>1.088701e+07</td>\n",
       "      <td>12190.0</td>\n",
       "      <td>3400000.00</td>\n",
       "      <td>4650000.00</td>\n",
       "      <td>6800000.0</td>\n",
       "      <td>763000000.0</td>\n",
       "    </tr>\n",
       "    <tr>\n",
       "      <td>total_area</td>\n",
       "      <td>23699.0</td>\n",
       "      <td>6.034865e+01</td>\n",
       "      <td>3.565408e+01</td>\n",
       "      <td>12.0</td>\n",
       "      <td>40.00</td>\n",
       "      <td>52.00</td>\n",
       "      <td>69.9</td>\n",
       "      <td>900.0</td>\n",
       "    </tr>\n",
       "    <tr>\n",
       "      <td>rooms</td>\n",
       "      <td>23699.0</td>\n",
       "      <td>2.070636e+00</td>\n",
       "      <td>1.078405e+00</td>\n",
       "      <td>0.0</td>\n",
       "      <td>1.00</td>\n",
       "      <td>2.00</td>\n",
       "      <td>3.0</td>\n",
       "      <td>19.0</td>\n",
       "    </tr>\n",
       "    <tr>\n",
       "      <td>ceiling_height</td>\n",
       "      <td>14504.0</td>\n",
       "      <td>2.771499e+00</td>\n",
       "      <td>1.261056e+00</td>\n",
       "      <td>1.0</td>\n",
       "      <td>2.52</td>\n",
       "      <td>2.65</td>\n",
       "      <td>2.8</td>\n",
       "      <td>100.0</td>\n",
       "    </tr>\n",
       "    <tr>\n",
       "      <td>floors_total</td>\n",
       "      <td>23613.0</td>\n",
       "      <td>1.067382e+01</td>\n",
       "      <td>6.597173e+00</td>\n",
       "      <td>1.0</td>\n",
       "      <td>5.00</td>\n",
       "      <td>9.00</td>\n",
       "      <td>16.0</td>\n",
       "      <td>60.0</td>\n",
       "    </tr>\n",
       "    <tr>\n",
       "      <td>living_area</td>\n",
       "      <td>21796.0</td>\n",
       "      <td>3.445785e+01</td>\n",
       "      <td>2.203045e+01</td>\n",
       "      <td>2.0</td>\n",
       "      <td>18.60</td>\n",
       "      <td>30.00</td>\n",
       "      <td>42.3</td>\n",
       "      <td>409.7</td>\n",
       "    </tr>\n",
       "    <tr>\n",
       "      <td>floor</td>\n",
       "      <td>23699.0</td>\n",
       "      <td>5.892358e+00</td>\n",
       "      <td>4.885249e+00</td>\n",
       "      <td>1.0</td>\n",
       "      <td>2.00</td>\n",
       "      <td>4.00</td>\n",
       "      <td>8.0</td>\n",
       "      <td>33.0</td>\n",
       "    </tr>\n",
       "    <tr>\n",
       "      <td>kitchen_area</td>\n",
       "      <td>21421.0</td>\n",
       "      <td>1.056981e+01</td>\n",
       "      <td>5.905438e+00</td>\n",
       "      <td>1.3</td>\n",
       "      <td>7.00</td>\n",
       "      <td>9.10</td>\n",
       "      <td>12.0</td>\n",
       "      <td>112.0</td>\n",
       "    </tr>\n",
       "    <tr>\n",
       "      <td>balcony</td>\n",
       "      <td>12180.0</td>\n",
       "      <td>1.150082e+00</td>\n",
       "      <td>1.071300e+00</td>\n",
       "      <td>0.0</td>\n",
       "      <td>0.00</td>\n",
       "      <td>1.00</td>\n",
       "      <td>2.0</td>\n",
       "      <td>5.0</td>\n",
       "    </tr>\n",
       "    <tr>\n",
       "      <td>airports_nearest</td>\n",
       "      <td>18157.0</td>\n",
       "      <td>2.879367e+04</td>\n",
       "      <td>1.263088e+04</td>\n",
       "      <td>0.0</td>\n",
       "      <td>18585.00</td>\n",
       "      <td>26726.00</td>\n",
       "      <td>37273.0</td>\n",
       "      <td>84869.0</td>\n",
       "    </tr>\n",
       "    <tr>\n",
       "      <td>cityCenters_nearest</td>\n",
       "      <td>18180.0</td>\n",
       "      <td>1.419128e+04</td>\n",
       "      <td>8.608386e+03</td>\n",
       "      <td>181.0</td>\n",
       "      <td>9238.00</td>\n",
       "      <td>13098.50</td>\n",
       "      <td>16293.0</td>\n",
       "      <td>65968.0</td>\n",
       "    </tr>\n",
       "    <tr>\n",
       "      <td>parks_around3000</td>\n",
       "      <td>18181.0</td>\n",
       "      <td>6.114075e-01</td>\n",
       "      <td>8.020736e-01</td>\n",
       "      <td>0.0</td>\n",
       "      <td>0.00</td>\n",
       "      <td>0.00</td>\n",
       "      <td>1.0</td>\n",
       "      <td>3.0</td>\n",
       "    </tr>\n",
       "    <tr>\n",
       "      <td>parks_nearest</td>\n",
       "      <td>8079.0</td>\n",
       "      <td>4.908046e+02</td>\n",
       "      <td>3.423180e+02</td>\n",
       "      <td>1.0</td>\n",
       "      <td>288.00</td>\n",
       "      <td>455.00</td>\n",
       "      <td>612.0</td>\n",
       "      <td>3190.0</td>\n",
       "    </tr>\n",
       "    <tr>\n",
       "      <td>ponds_around3000</td>\n",
       "      <td>18181.0</td>\n",
       "      <td>7.702547e-01</td>\n",
       "      <td>9.383456e-01</td>\n",
       "      <td>0.0</td>\n",
       "      <td>0.00</td>\n",
       "      <td>1.00</td>\n",
       "      <td>1.0</td>\n",
       "      <td>3.0</td>\n",
       "    </tr>\n",
       "    <tr>\n",
       "      <td>ponds_nearest</td>\n",
       "      <td>9110.0</td>\n",
       "      <td>5.179809e+02</td>\n",
       "      <td>2.777206e+02</td>\n",
       "      <td>13.0</td>\n",
       "      <td>294.00</td>\n",
       "      <td>502.00</td>\n",
       "      <td>729.0</td>\n",
       "      <td>1344.0</td>\n",
       "    </tr>\n",
       "    <tr>\n",
       "      <td>days_exposition</td>\n",
       "      <td>20518.0</td>\n",
       "      <td>1.808886e+02</td>\n",
       "      <td>2.197280e+02</td>\n",
       "      <td>1.0</td>\n",
       "      <td>45.00</td>\n",
       "      <td>95.00</td>\n",
       "      <td>232.0</td>\n",
       "      <td>1580.0</td>\n",
       "    </tr>\n",
       "  </tbody>\n",
       "</table>\n",
       "</div>"
      ],
      "text/plain": [
       "                       count          mean           std      min         25%  \\\n",
       "total_images         23699.0  9.858475e+00  5.682529e+00      0.0        6.00   \n",
       "last_price           23699.0  6.541549e+06  1.088701e+07  12190.0  3400000.00   \n",
       "total_area           23699.0  6.034865e+01  3.565408e+01     12.0       40.00   \n",
       "rooms                23699.0  2.070636e+00  1.078405e+00      0.0        1.00   \n",
       "ceiling_height       14504.0  2.771499e+00  1.261056e+00      1.0        2.52   \n",
       "floors_total         23613.0  1.067382e+01  6.597173e+00      1.0        5.00   \n",
       "living_area          21796.0  3.445785e+01  2.203045e+01      2.0       18.60   \n",
       "floor                23699.0  5.892358e+00  4.885249e+00      1.0        2.00   \n",
       "kitchen_area         21421.0  1.056981e+01  5.905438e+00      1.3        7.00   \n",
       "balcony              12180.0  1.150082e+00  1.071300e+00      0.0        0.00   \n",
       "airports_nearest     18157.0  2.879367e+04  1.263088e+04      0.0    18585.00   \n",
       "cityCenters_nearest  18180.0  1.419128e+04  8.608386e+03    181.0     9238.00   \n",
       "parks_around3000     18181.0  6.114075e-01  8.020736e-01      0.0        0.00   \n",
       "parks_nearest         8079.0  4.908046e+02  3.423180e+02      1.0      288.00   \n",
       "ponds_around3000     18181.0  7.702547e-01  9.383456e-01      0.0        0.00   \n",
       "ponds_nearest         9110.0  5.179809e+02  2.777206e+02     13.0      294.00   \n",
       "days_exposition      20518.0  1.808886e+02  2.197280e+02      1.0       45.00   \n",
       "\n",
       "                            50%        75%          max  \n",
       "total_images               9.00       14.0         50.0  \n",
       "last_price           4650000.00  6800000.0  763000000.0  \n",
       "total_area                52.00       69.9        900.0  \n",
       "rooms                      2.00        3.0         19.0  \n",
       "ceiling_height             2.65        2.8        100.0  \n",
       "floors_total               9.00       16.0         60.0  \n",
       "living_area               30.00       42.3        409.7  \n",
       "floor                      4.00        8.0         33.0  \n",
       "kitchen_area               9.10       12.0        112.0  \n",
       "balcony                    1.00        2.0          5.0  \n",
       "airports_nearest       26726.00    37273.0      84869.0  \n",
       "cityCenters_nearest    13098.50    16293.0      65968.0  \n",
       "parks_around3000           0.00        1.0          3.0  \n",
       "parks_nearest            455.00      612.0       3190.0  \n",
       "ponds_around3000           1.00        1.0          3.0  \n",
       "ponds_nearest            502.00      729.0       1344.0  \n",
       "days_exposition           95.00      232.0       1580.0  "
      ]
     },
     "execution_count": 4,
     "metadata": {},
     "output_type": "execute_result"
    }
   ],
   "source": [
    "data.describe().T\n",
    "# days_exposition, ponds_nearest - Видимо много выбросов. Большое отличие Среднего от Медианы"
   ]
  },
  {
   "cell_type": "code",
   "execution_count": 5,
   "metadata": {},
   "outputs": [
    {
     "data": {
      "text/plain": [
       "Index(['total_images', 'last_price', 'total_area', 'first_day_exposition',\n",
       "       'rooms', 'ceiling_height', 'floors_total', 'living_area', 'floor',\n",
       "       'is_apartment', 'studio', 'open_plan', 'kitchen_area', 'balcony',\n",
       "       'locality_name', 'airports_nearest', 'cityCenters_nearest',\n",
       "       'parks_around3000', 'parks_nearest', 'ponds_around3000',\n",
       "       'ponds_nearest', 'days_exposition'],\n",
       "      dtype='object')"
      ]
     },
     "execution_count": 5,
     "metadata": {},
     "output_type": "execute_result"
    }
   ],
   "source": [
    "data.columns # Проверка отсутствия пропусков в названии столбцов + просмотр названия столбцов"
   ]
  },
  {
   "cell_type": "markdown",
   "metadata": {},
   "source": [
    "### Вывод"
   ]
  },
  {
   "cell_type": "markdown",
   "metadata": {},
   "source": [
    "- [x]  <span style=\"color:green\">***total_images*** Поле формата int, Пропусков в данных нет, максимальное значение 50 фото, изменений в столбце не требуется\n",
    "- [ ]  <span style=\"color:red\">***last_price*** - Поле заполненно полностью, странное минимальное значение = 12 190, квартир с такой ценой явно не бывает. Нужно почистить от Всплесков, экстримальные цены нам не к чему.\n",
    "- [ ]  <span style=\"color:red\"> ***total_area*** - Среднее значение сильно отличается от Медианы. Нужно убирать Всплески - Квартиры по 900 м\n",
    "- [ ]  <span style=\"color:red\"> ***first_day_exposition*** - Необходимо перевести в формат даты, пропусков в поле нет\n",
    "- [x]  <span style=\"color:green\">***rooms*** - Формат int, Пропусков в данных нет - коррекций в поле не требуется\n",
    "- [ ]  <span style=\"color:red\"> ***ceiling_height*** - Есть 3 значения с высотой потолков менее 2х метров, поле заполнено не полностью, есть потолки сто метров. Поле не является обязательным, но можно его разделить на группы: от 2,5м; от 2,7м; от 3м; от 4м. Итого подрезать Артефакты и добавить группировку, где есть это значение\n",
    "- [ ]  <span style=\"color:red\"> ***floors_total*** Перевести поле в int, есть пустые значения \n",
    "- [ ]  <span style=\"color:red\"> ***living_area*** - Есть пустые значения и артефакты, заполнить по Коэффициенту и в зависимости от Общей площади и Площади Кухни\n",
    "- [x]  <span style=\"color:green\">***floor*** - Поле заполнено полностью, формат подходящий, изменений не требуется\n",
    "- [ ]  <span style=\"color:red\"> ***is_apartment*** - Заполнено не полностью, сделать допущение: Там где пусто проставить FALSE; Перевести поле в формат 'bool'\n",
    "- [x]  <span style=\"color:green\">***studio*** - Изменений не требуется\n",
    "- [x]  <span style=\"color:green\">***open_plan*** - Изменений не требуется\n",
    "- [ ]  <span style=\"color:red\"> ***kitchen_area*** - Заполнено не везде, проставить по Коэффициенту по данным где есть кухни и общая площадь\n",
    "- [ ]  <span style=\"color:red\"> ***balcony*** - Перевести в int; Проставить нули где значение опущено\n",
    "- [ ]  <span style=\"color:red\"> ***locality_name*** - Тип населенного пункта убрать или заменить на ''; Пустые значения удалить - Кому нужна квартира где-то там?\n",
    "- [ ]  <span style=\"color:red\"> ***airports_nearest*** - перевести в 'int'\n",
    "- [ ]  <span style=\"color:red\"> ***cityCenters_nearest*** - перевести в 'int'\n",
    "- [ ]  <span style=\"color:red\"> ***parks_around3000*** - перевести в 'int'; Поставлю Нули где пусто\n",
    "- [ ]  <span style=\"color:red\"> ***parks_nearest*** - перевести в 'int'\n",
    "- [ ]  <span style=\"color:red\"> ***ponds_around3000*** - перевести в 'int'; Поставлю Нули где пусто\n",
    "- [ ]  <span style=\"color:red\"> ***ponds_nearest*** - перевести в 'int'\n",
    "- [ ]  <span style=\"color:red\"> ***days_exposition*** - перевести в 'int'; Есть Пустые значения - Возможно передумали или купили в тот-же день - поставлю ноль; Есть значения более 4х лет - Про них явно забыли - Сделать Диаграмму boxplot и то что не попадет в межквартельный размах удалить. Если будут проблемы с переводом в int попробовать это: ***data.days_exposition.round().astype('Int64')***"
   ]
  },
  {
   "cell_type": "markdown",
   "metadata": {},
   "source": [
    "### Шаг 2. Предобработка данных"
   ]
  },
  {
   "cell_type": "code",
   "execution_count": 6,
   "metadata": {},
   "outputs": [],
   "source": [
    "# Меняем Пусто на Ноль \n",
    "values = {'balcony':0, 'days_exposition':0}\n",
    "data = data.fillna(value=values)"
   ]
  },
  {
   "cell_type": "code",
   "execution_count": 7,
   "metadata": {},
   "outputs": [
    {
     "name": "stdout",
     "output_type": "stream",
     "text": [
      "try_1 Column   ponds_around3000  cannot be converted to int.\n",
      "try_1 Column   parks_around3000  cannot be converted to int.\n",
      "try_1 Column   floors_total  cannot be converted to int.\n",
      "try_1 Column   airports_nearest  cannot be converted to int.\n",
      "try_1 Column   cityCenters_nearest  cannot be converted to int.\n",
      "try_1 Column   parks_nearest  cannot be converted to int.\n",
      "try_1 Column   ponds_nearest  cannot be converted to int.\n"
     ]
    }
   ],
   "source": [
    "# Заменяем тип данных на int, если есть пустые то меняем на Int64, по столбцам\n",
    "for col in ['ponds_around3000', 'parks_around3000', 'balcony', 'floors_total', 'airports_nearest', 'cityCenters_nearest',\n",
    "           'parks_nearest', 'ponds_nearest', 'days_exposition']:\n",
    "    try:\n",
    "        data[col] = data[col].astype('int')\n",
    "    except:\n",
    "        print('try_1 Column',' ',col,' cannot be converted to int.')\n",
    "        try:\n",
    "            data[col] = data[col].round().astype('Int64')\n",
    "        except:\n",
    "            print('try_2 Column',' ',col,' and to Int64 also can not.')    "
   ]
  },
  {
   "cell_type": "code",
   "execution_count": 8,
   "metadata": {},
   "outputs": [
    {
     "name": "stdout",
     "output_type": "stream",
     "text": [
      "<class 'pandas.core.frame.DataFrame'>\n",
      "RangeIndex: 23699 entries, 0 to 23698\n",
      "Data columns (total 22 columns):\n",
      "total_images            23699 non-null int64\n",
      "last_price              23699 non-null float64\n",
      "total_area              23699 non-null float64\n",
      "first_day_exposition    23699 non-null object\n",
      "rooms                   23699 non-null int64\n",
      "ceiling_height          14504 non-null float64\n",
      "floors_total            23613 non-null Int64\n",
      "living_area             21796 non-null float64\n",
      "floor                   23699 non-null int64\n",
      "is_apartment            2775 non-null object\n",
      "studio                  23699 non-null bool\n",
      "open_plan               23699 non-null bool\n",
      "kitchen_area            21421 non-null float64\n",
      "balcony                 23699 non-null int64\n",
      "locality_name           23650 non-null object\n",
      "airports_nearest        18157 non-null Int64\n",
      "cityCenters_nearest     18180 non-null Int64\n",
      "parks_around3000        18181 non-null Int64\n",
      "parks_nearest           8079 non-null Int64\n",
      "ponds_around3000        18181 non-null Int64\n",
      "ponds_nearest           9110 non-null Int64\n",
      "days_exposition         23699 non-null int64\n",
      "dtypes: Int64(7), bool(2), float64(5), int64(5), object(3)\n",
      "memory usage: 3.8+ MB\n"
     ]
    }
   ],
   "source": [
    "data.info()"
   ]
  },
  {
   "cell_type": "code",
   "execution_count": 9,
   "metadata": {},
   "outputs": [],
   "source": [
    "# Удаляем строки с пустыми адресами. Кому нужны квартиры где то там!\n",
    "data.dropna(subset = ['locality_name'], inplace = True)"
   ]
  },
  {
   "cell_type": "code",
   "execution_count": 10,
   "metadata": {},
   "outputs": [],
   "source": [
    "# Создаем столбец с леммами из адресов\n",
    "data['locality_lemma'] =  data['locality_name'].apply(m.lemmatize)"
   ]
  },
  {
   "cell_type": "code",
   "execution_count": 11,
   "metadata": {},
   "outputs": [
    {
     "data": {
      "text/plain": [
       "[('\\n', 23650),\n",
       " ('санкт-петербург', 15721),\n",
       " (' ', 5221),\n",
       " ('поселок', 2660),\n",
       " ('деревня', 945),\n",
       " ('муриный', 590),\n",
       " ('городской', 550),\n",
       " ('кудрово', 472),\n",
       " ('шушар', 440),\n",
       " ('всеволожск', 398),\n",
       " ('пушкин', 369),\n",
       " ('тип', 363),\n",
       " ('колпино', 338),\n",
       " ('парголовый', 327),\n",
       " ('гатчина', 307),\n",
       " ('выборг', 237),\n",
       " ('село', 210),\n",
       " ('петергоф', 201),\n",
       " ('красный', 190),\n",
       " ('новый', 187),\n",
       " ('сестрорецк', 183),\n",
       " ('девяткино', 144),\n",
       " ('сертолово', 142),\n",
       " ('ломоносов', 133),\n",
       " ('кириши', 125),\n",
       " ('бугор', 114),\n",
       " ('сланцы', 112),\n",
       " ('волхов', 111),\n",
       " ('сосновый', 105),\n",
       " ('кингисепп', 104),\n",
       " ('тосно', 104),\n",
       " ('бор', 101),\n",
       " ('кронштадт', 96),\n",
       " ('никольское', 94),\n",
       " ('-', 91),\n",
       " ('коммунар', 90),\n",
       " ('кировск', 84),\n",
       " ('отрадный', 80),\n",
       " ('старый', 75),\n",
       " ('янино', 68),\n",
       " ('1', 68),\n",
       " ('металлострой', 66),\n",
       " ('приозерск', 66),\n",
       " ('луг', 61),\n",
       " ('шлиссельбург', 57),\n",
       " ('имя', 53),\n",
       " ('тихвин', 49),\n",
       " ('стрельна', 44),\n",
       " ('тельман', 41),\n",
       " ('большой', 40),\n",
       " ('рощино', 39),\n",
       " ('павловск', 38),\n",
       " ('романовка', 37),\n",
       " ('волосово', 36),\n",
       " ('свердлов', 36),\n",
       " ('кузьмоловский', 35),\n",
       " ('мга', 33),\n",
       " ('сиверский', 29),\n",
       " ('ивангород', 28),\n",
       " ('новоселье', 28),\n",
       " ('малый', 28),\n",
       " ('сясьстрой', 24),\n",
       " ('зеленогорск', 24),\n",
       " ('щегловый', 24),\n",
       " ('колпана', 23),\n",
       " ('свет', 22),\n",
       " ('вырица', 22),\n",
       " ('синявина', 21),\n",
       " ('понтонный', 20),\n",
       " ('лесколово', 20),\n",
       " ('токсово', 20),\n",
       " ('вартемяга', 20),\n",
       " ('новогорелово', 20),\n",
       " ('лодейный', 20),\n",
       " ('поле', 20),\n",
       " ('подпорожье', 19),\n",
       " ('ижора', 19),\n",
       " ('бегуница', 19),\n",
       " ('павлово', 18),\n",
       " ('пикалево', 18),\n",
       " ('морозов', 17),\n",
       " ('назия', 17),\n",
       " ('гарболовый', 17),\n",
       " ('аннино', 16),\n",
       " ('бокситогорск', 16),\n",
       " ('рахья', 16),\n",
       " ('ладога', 16),\n",
       " ('федоровский', 15),\n",
       " ('лебяжий', 15),\n",
       " ('горбунок', 15),\n",
       " ('станция', 15),\n",
       " ('дубровка', 15),\n",
       " ('елизаветин', 13),\n",
       " ('кузнечный', 13),\n",
       " ('ульяновка', 13),\n",
       " ('каменногорск', 13),\n",
       " ('нурм', 11),\n",
       " ('советский', 11),\n",
       " ('белогорка', 11),\n",
       " ('мистолово', 11),\n",
       " ('колтуша', 11),\n",
       " ('гостилица', 11),\n",
       " ('мичуринский', 11),\n",
       " ('верево', 11),\n",
       " ('светогорск', 11),\n",
       " ('любань', 11),\n",
       " ('лаголовый', 10),\n",
       " ('низино', 10),\n",
       " ('войсковица', 10),\n",
       " ('приладожский', 10),\n",
       " ('сяськелевый', 10),\n",
       " ('молодцово', 9),\n",
       " ('оржица', 9),\n",
       " ('сельцо', 9),\n",
       " ('батово', 9),\n",
       " ('карлино', 9),\n",
       " ('пудость', 9),\n",
       " ('русский', 9),\n",
       " ('высоцкий', 9),\n",
       " ('кобраловый', 9),\n",
       " ('первомайский', 8),\n",
       " ('приморск', 8),\n",
       " ('запорожский', 8),\n",
       " ('ильичев', 8),\n",
       " ('саперный', 8),\n",
       " ('стеклянный', 8),\n",
       " ('суходолье', 8),\n",
       " ('куттузить', 7),\n",
       " ('кальтина', 7),\n",
       " ('кипень', 7),\n",
       " ('поляна', 7),\n",
       " ('извар', 7),\n",
       " ('калитин', 7),\n",
       " ('никольский', 7),\n",
       " ('кузьмоловый', 7),\n",
       " ('угловый', 7),\n",
       " ('усть', 7),\n",
       " ('победа', 6),\n",
       " ('лопухинка', 6),\n",
       " ('терволов', 6),\n",
       " ('заневка', 6),\n",
       " ('пеник', 6),\n",
       " ('пудомяга', 6),\n",
       " ('тайцы', 6),\n",
       " ('кобринский', 6),\n",
       " ('важин', 6),\n",
       " ('форносовый', 6),\n",
       " ('ламповый', 6),\n",
       " ('горка', 6),\n",
       " ('яльгелево', 6),\n",
       " ('учхоз', 6),\n",
       " ('ушак', 6),\n",
       " ('громовый', 6),\n",
       " ('товарищество', 5),\n",
       " ('плодовый', 5),\n",
       " ('копорье', 5),\n",
       " ('молодежный', 5),\n",
       " ('петровское', 5),\n",
       " ('лесогорский', 5),\n",
       " ('вещево', 5),\n",
       " ('гаврилов', 5),\n",
       " ('семрино', 5),\n",
       " ('глажево', 5),\n",
       " ('юкка', 5),\n",
       " ('мельниково', 5),\n",
       " ('селезневый', 5),\n",
       " ('войскоровый', 5),\n",
       " ('дружный', 5),\n",
       " ('садовый', 4),\n",
       " ('келози', 4),\n",
       " ('агалатово', 4),\n",
       " ('цвелодубово', 4),\n",
       " ('зимитиц', 4),\n",
       " ('разметелево', 4),\n",
       " ('рябово', 4),\n",
       " ('песочный', 4),\n",
       " ('репино', 4),\n",
       " ('малукс', 4),\n",
       " ('парица', 4),\n",
       " ('кикерино', 4),\n",
       " ('торфяной', 4),\n",
       " ('будогощь', 4),\n",
       " ('лесной', 4),\n",
       " ('разбегаево', 4),\n",
       " ('вруд', 4),\n",
       " ('суйда', 4),\n",
       " ('перово', 4),\n",
       " ('высоцк', 4),\n",
       " ('ефимовский', 3),\n",
       " ('заклинья', 3),\n",
       " ('торкович', 3),\n",
       " ('оредеж', 3),\n",
       " ('заводской', 3),\n",
       " ('аро', 3),\n",
       " ('рабитиц', 3),\n",
       " ('приветнинский', 3),\n",
       " ('глебычево', 3),\n",
       " ('виллози', 3),\n",
       " ('возрождение', 3),\n",
       " ('старосиверский', 3),\n",
       " ('пригородный', 3),\n",
       " ('долина', 3),\n",
       " ('лисий', 3),\n",
       " ('нос', 3),\n",
       " ('рождествено', 3),\n",
       " ('старополье', 3),\n",
       " ('жилгородка', 3),\n",
       " ('торошкович', 3),\n",
       " ('лукаша', 3),\n",
       " ('торосовый', 3),\n",
       " ('тесовый', 3),\n",
       " ('коттеджный', 3),\n",
       " ('котельский', 3),\n",
       " ('ваганово', 3),\n",
       " ('ропша', 2),\n",
       " ('путиловый', 2),\n",
       " ('александровский', 2),\n",
       " ('барышево', 2),\n",
       " ('паша', 2),\n",
       " ('мина', 2),\n",
       " ('коркино', 2),\n",
       " ('житковый', 2),\n",
       " ('сумино', 2),\n",
       " ('камышовка', 2),\n",
       " ('фалилеево', 2),\n",
       " ('серебрянский', 2),\n",
       " ('тарасовый', 2),\n",
       " ('кингисеппский', 2),\n",
       " ('при', 2),\n",
       " ('железнодорожный', 2),\n",
       " ('глинка', 2),\n",
       " ('пустошь', 2),\n",
       " ('починок', 2),\n",
       " ('вознесение', 2),\n",
       " ('коробицыно', 2),\n",
       " ('суоранд', 2),\n",
       " ('совхозный', 2),\n",
       " ('ленинский', 2),\n",
       " ('нижний', 2),\n",
       " ('свирь', 2),\n",
       " ('яма', 2),\n",
       " ('пушной', 2),\n",
       " ('выскатка', 2),\n",
       " ('пансионат', 2),\n",
       " ('зеленый', 2),\n",
       " ('ненимяк', 2),\n",
       " ('пикколово', 1),\n",
       " ('севастьяново', 1),\n",
       " ('иссад', 1),\n",
       " ('корневый', 1),\n",
       " ('чудской', 1),\n",
       " ('петро', 1),\n",
       " ('славянка', 1),\n",
       " ('меньковый', 1),\n",
       " ('мануйлово', 1),\n",
       " ('пчев', 1),\n",
       " ('цвылево', 1),\n",
       " ('кривко', 1),\n",
       " ('жилпоселок', 1),\n",
       " ('мыза', 1),\n",
       " ('ивановка', 1),\n",
       " ('шпаньково', 1),\n",
       " ('лаврик', 1),\n",
       " ('хинколово', 1),\n",
       " ('хапо', 1),\n",
       " ('Ое', 1),\n",
       " ('левашово', 1),\n",
       " ('садоводческий', 1),\n",
       " ('некоммерческий', 1),\n",
       " ('хязелька', 1),\n",
       " ('ялгино', 1),\n",
       " ('гончарово', 1),\n",
       " ('почап', 1),\n",
       " ('платформа', 1),\n",
       " ('69', 1),\n",
       " ('й', 1),\n",
       " ('километр', 1),\n",
       " ('каложица', 1),\n",
       " ('пельгора', 1),\n",
       " ('белоостров', 1),\n",
       " ('алексеевка', 1),\n",
       " ('котел', 1),\n",
       " ('сижно', 1),\n",
       " ('форт', 1),\n",
       " ('новолисиный', 1),\n",
       " ('гладкий', 1),\n",
       " ('4', 1),\n",
       " ('курковица', 1),\n",
       " ('кондратьево', 1),\n",
       " ('счастие', 1),\n",
       " ('ребровый', 1),\n",
       " ('тойворовый', 1),\n",
       " ('семиозерье', 1),\n",
       " ('оселек', 1),\n",
       " ('шум', 1),\n",
       " ('лужайка', 1),\n",
       " ('пустомерж', 1),\n",
       " ('красносельский', 1),\n",
       " ('вахнов', 1),\n",
       " ('кара', 1),\n",
       " ('пижма', 1),\n",
       " ('кивеннап', 1),\n",
       " ('север', 1),\n",
       " ('ромашка', 1),\n",
       " ('каськово', 1),\n",
       " ('куровица', 1),\n",
       " ('плоский', 1),\n",
       " ('кирпичный', 1),\n",
       " ('раздолье', 1),\n",
       " ('терпилица', 1),\n",
       " ('шугозеро', 1),\n",
       " ('садко', 1),\n",
       " ('свирьстрой', 1),\n",
       " ('кисельня', 1),\n",
       " ('трубник', 1),\n",
       " ('калитино', 1),\n",
       " ('высокоключевой', 1),\n",
       " ('снегиревка', 1),\n",
       " ('рапполовый', 1),\n",
       " ('пустынка', 1),\n",
       " ('сабск', 1),\n",
       " ('русско', 1),\n",
       " ('лупполовый', 1),\n",
       " ('рейзино', 1),\n",
       " ('дружноселье', 1),\n",
       " ('пчевжа', 1),\n",
       " ('володарское', 1),\n",
       " ('тихковица', 1),\n",
       " ('борисова', 1),\n",
       " ('грива', 1),\n",
       " ('дзержинский', 1)]"
      ]
     },
     "execution_count": 11,
     "metadata": {},
     "output_type": "execute_result"
    }
   ],
   "source": [
    "# Считаем кол-во лемм\n",
    "qty_lemm = Counter(data['locality_lemma'].sum())\n",
    "qty_lemm.most_common()"
   ]
  },
  {
   "cell_type": "code",
   "execution_count": 12,
   "metadata": {},
   "outputs": [
    {
     "data": {
      "text/html": [
       "<div>\n",
       "<style scoped>\n",
       "    .dataframe tbody tr th:only-of-type {\n",
       "        vertical-align: middle;\n",
       "    }\n",
       "\n",
       "    .dataframe tbody tr th {\n",
       "        vertical-align: top;\n",
       "    }\n",
       "\n",
       "    .dataframe thead th {\n",
       "        text-align: right;\n",
       "    }\n",
       "</style>\n",
       "<table border=\"1\" class=\"dataframe\">\n",
       "  <thead>\n",
       "    <tr style=\"text-align: right;\">\n",
       "      <th></th>\n",
       "      <th>locality_name</th>\n",
       "      <th>locality_lemma</th>\n",
       "    </tr>\n",
       "  </thead>\n",
       "  <tbody>\n",
       "    <tr>\n",
       "      <td>37</td>\n",
       "      <td>поселок городского типа Красный Бор</td>\n",
       "      <td>[поселок,  , городской,  , тип,  , красный,  ,...</td>\n",
       "    </tr>\n",
       "    <tr>\n",
       "      <td>88</td>\n",
       "      <td>посёлок городского типа Лебяжье</td>\n",
       "      <td>[поселок,  , городской,  , тип,  , лебяжий, \\n]</td>\n",
       "    </tr>\n",
       "    <tr>\n",
       "      <td>89</td>\n",
       "      <td>посёлок городского типа Сиверский</td>\n",
       "      <td>[поселок,  , городской,  , тип,  , сиверский, \\n]</td>\n",
       "    </tr>\n",
       "    <tr>\n",
       "      <td>92</td>\n",
       "      <td>поселок городского типа Кузьмоловский</td>\n",
       "      <td>[поселок,  , городской,  , тип,  , кузьмоловск...</td>\n",
       "    </tr>\n",
       "    <tr>\n",
       "      <td>139</td>\n",
       "      <td>поселок городского типа Кузьмоловский</td>\n",
       "      <td>[поселок,  , городской,  , тип,  , кузьмоловск...</td>\n",
       "    </tr>\n",
       "    <tr>\n",
       "      <td>...</td>\n",
       "      <td>...</td>\n",
       "      <td>...</td>\n",
       "    </tr>\n",
       "    <tr>\n",
       "      <td>23480</td>\n",
       "      <td>поселок городского типа Рахья</td>\n",
       "      <td>[поселок,  , городской,  , тип,  , рахья, \\n]</td>\n",
       "    </tr>\n",
       "    <tr>\n",
       "      <td>23623</td>\n",
       "      <td>поселок городского типа имени Свердлова</td>\n",
       "      <td>[поселок,  , городской,  , тип,  , имя,  , све...</td>\n",
       "    </tr>\n",
       "    <tr>\n",
       "      <td>23624</td>\n",
       "      <td>поселок городского типа Кузьмоловский</td>\n",
       "      <td>[поселок,  , городской,  , тип,  , кузьмоловск...</td>\n",
       "    </tr>\n",
       "    <tr>\n",
       "      <td>23651</td>\n",
       "      <td>посёлок городского типа Токсово</td>\n",
       "      <td>[поселок,  , городской,  , тип,  , токсово, \\n]</td>\n",
       "    </tr>\n",
       "    <tr>\n",
       "      <td>23670</td>\n",
       "      <td>поселок городского типа Синявино</td>\n",
       "      <td>[поселок,  , городской,  , тип,  , синявина, \\n]</td>\n",
       "    </tr>\n",
       "  </tbody>\n",
       "</table>\n",
       "<p>363 rows × 2 columns</p>\n",
       "</div>"
      ],
      "text/plain": [
       "                                 locality_name  \\\n",
       "37         поселок городского типа Красный Бор   \n",
       "88             посёлок городского типа Лебяжье   \n",
       "89           посёлок городского типа Сиверский   \n",
       "92       поселок городского типа Кузьмоловский   \n",
       "139      поселок городского типа Кузьмоловский   \n",
       "...                                        ...   \n",
       "23480            поселок городского типа Рахья   \n",
       "23623  поселок городского типа имени Свердлова   \n",
       "23624    поселок городского типа Кузьмоловский   \n",
       "23651          посёлок городского типа Токсово   \n",
       "23670         поселок городского типа Синявино   \n",
       "\n",
       "                                          locality_lemma  \n",
       "37     [поселок,  , городской,  , тип,  , красный,  ,...  \n",
       "88       [поселок,  , городской,  , тип,  , лебяжий, \\n]  \n",
       "89     [поселок,  , городской,  , тип,  , сиверский, \\n]  \n",
       "92     [поселок,  , городской,  , тип,  , кузьмоловск...  \n",
       "139    [поселок,  , городской,  , тип,  , кузьмоловск...  \n",
       "...                                                  ...  \n",
       "23480      [поселок,  , городской,  , тип,  , рахья, \\n]  \n",
       "23623  [поселок,  , городской,  , тип,  , имя,  , све...  \n",
       "23624  [поселок,  , городской,  , тип,  , кузьмоловск...  \n",
       "23651    [поселок,  , городской,  , тип,  , токсово, \\n]  \n",
       "23670   [поселок,  , городской,  , тип,  , синявина, \\n]  \n",
       "\n",
       "[363 rows x 2 columns]"
      ]
     },
     "execution_count": 12,
     "metadata": {},
     "output_type": "execute_result"
    }
   ],
   "source": [
    "# Проверка непонятных причин визуально:\n",
    "data[data['locality_name'].str.contains('тип', case = False)][['locality_name', 'locality_lemma']]"
   ]
  },
  {
   "cell_type": "markdown",
   "metadata": {},
   "source": [
    " - Заменяем в столбце ***'locality_lemma'*** названия: \n",
    "    - поселок, посёлок, \n",
    "посёлок городского типа, деревня, село, поселок городского типа, садовое товарищество и прочие железнодорожные станции"
   ]
  },
  {
   "cell_type": "code",
   "execution_count": 13,
   "metadata": {},
   "outputs": [],
   "source": [
    "# Формируем список замен\n",
    "rep = ['посёлок, посёлок городского типа', 'поселок городского типа', 'садовое товарищество', 'село', \n",
    "       'деревня', 'посёлок', 'пок', 'городской', 'городского типа', 'садоводческое некоммерческое товарищество',\n",
    "      'имени', 'станции', 'при железнодорожной', 'коттеджный']"
   ]
  },
  {
   "cell_type": "code",
   "execution_count": 14,
   "metadata": {},
   "outputs": [],
   "source": [
    "# Заменяем сёла и деревни и т.п. на пустыри\n",
    "for word in rep:\n",
    "    data['locality_name'] = data['locality_name'].str.replace(word, '')"
   ]
  },
  {
   "cell_type": "code",
   "execution_count": 15,
   "metadata": {},
   "outputs": [],
   "source": [
    "# Убираем лишние пробелы\n",
    "data['locality_name'] = data['locality_name'].str.strip()"
   ]
  },
  {
   "cell_type": "code",
   "execution_count": 16,
   "metadata": {},
   "outputs": [
    {
     "data": {
      "text/plain": [
       "array(['Санкт-Петербург', 'Шушары', 'Янино-1', 'Парголово', 'Мурино',\n",
       "       'Ломоносов', 'Сертолово', 'Петергоф', 'Пушкин', 'Кудрово',\n",
       "       'Коммунар', 'Колпино', 'Красный Бор', 'Гатчина', 'Фёдоровское',\n",
       "       'Выборг', 'Кронштадт', 'Кировск', 'Новое Девяткино',\n",
       "       'Металлострой', 'Лебяжье', 'Сиверский', 'Молодцово',\n",
       "       'Кузьмоловский', 'Новая Ропша', 'Павловск', 'Пикколово',\n",
       "       'Всеволожск', 'Волхов', 'Кингисепп', 'Приозерск', 'Сестрорецк',\n",
       "       'Куттузи', 'Аннино', 'Ефимовский', 'Плодовое', 'Заклинье',\n",
       "       'Торковичи', 'Первомайское', 'Красное Село', 'Понтонный',\n",
       "       'Сясьстрой', 'Старая', 'Лесколово', 'Новый Свет', 'Сланцы',\n",
       "       'Путилово', 'Ивангород', 'Шлиссельбург', 'Никольское',\n",
       "       'Зеленогорск', 'Сосновый Бор', 'Оржицы', 'Кальтино', 'Романовка',\n",
       "       'Бугры', 'Рощино', 'Кириши', 'Луга', 'Волосово', 'Отрадное',\n",
       "       'Павлово', 'Оредеж', 'Копорье', 'Молодёжное', 'Тихвин', 'Победа',\n",
       "       'Нурма', 'Синявино', 'Тосно', 'Стрельна', 'Бокситогорск',\n",
       "       'Александровская', 'Лопухинка', 'Пикалёво', 'Терволово',\n",
       "       'Советский', 'Подпорожье', 'Петровское', 'Токсово', 'Сельцо',\n",
       "       'Вырица', 'Кипень', 'Келози', 'Вартемяги', 'Тельмана',\n",
       "       'Севастьяново', 'Большая Ижора', 'Агалатово', 'Новогорелово',\n",
       "       'Лесогорский', 'Лаголово', 'Цвелодубово', 'Рахья', 'Белогорка',\n",
       "       'Заводской', 'Новоселье', 'Большие Колпаны', 'Горбунки', 'Батово',\n",
       "       'Заневка', 'Иссад', 'Приморск', 'Мистолово', 'Новая Ладога',\n",
       "       'Зимитицы', 'Барышево', 'Разметелево', 'Свердлова', 'Пеники',\n",
       "       'Рябово', 'Пудомяги', 'Корнево', 'Низино', 'Бегуницы', 'Поляны',\n",
       "       'Мга', 'Елизаветино', 'Кузнечное', 'Колтуши', 'Запорожское',\n",
       "       'Гостилицы', 'Малое Карлино', 'Мичуринское', 'Морозова',\n",
       "       'Песочный', 'Сосново', 'Аро', 'Ильичёво', 'Тайцы', 'Малое Верево',\n",
       "       'Извара', 'Вещево', 'Паша', 'Калитино', 'Ульяновка', 'Чудской Бор',\n",
       "       'Дубровка', 'Мины', 'Войсковицы', 'Коркино', 'Ропша',\n",
       "       'Приладожский', 'Щеглово', 'Гаврилово', 'Лодейное Поле',\n",
       "       'Рабитицы', 'Никольский', 'Кузьмолово', 'Малые Колпаны',\n",
       "       'Петро-Славянка', 'Назия', 'Репино', 'Углово', 'Старая Малукса',\n",
       "       'Меньково', 'Старые Бегуницы', 'Сапёрный', 'Семрино', 'Глажево',\n",
       "       'Кобринское', 'Гарболово', 'Юкки', 'Приветнинское', 'Мануйлово',\n",
       "       'Пчева', 'Цвылёво', 'Мельниково', 'Пудость', 'Усть-Луга',\n",
       "       'Светогорск', 'Любань', 'Селезнёво', 'Каменногорск', 'Кривко',\n",
       "       'Глебычево', 'Парицы', 'Жил', 'Войскорово', 'Стеклянный', 'Важины',\n",
       "       'Мыза-Ивановка', 'Русско-Высоцкое', 'Форносово', 'Старая Ладога',\n",
       "       'Житково', 'Виллози', 'Лампово', 'Шпаньково', 'Лаврики', 'Сумино',\n",
       "       'Возрождение', 'Старосиверская', 'Кикерино', 'Старое Хинколово',\n",
       "       'Пригородный', 'Торфяное', 'Будогощь', 'Суходолье',\n",
       "       'Красная Долина', 'Хапо-Ое', 'Дружная Горка', 'Лисий Нос',\n",
       "       'Яльгелево', 'Рождествено', 'Старополье', 'Левашово', 'Сяськелево',\n",
       "       'Камышовка', 'Лесная Поляна', 'Хязельки', 'Жилгородок', 'Ялгино',\n",
       "       'Новый Учхоз', 'Гончарово', 'Почап', 'Сапёрное',\n",
       "       'Платформа 69-й километр', 'Каложицы', 'Фалилеево', 'Пельгора',\n",
       "       'Торошковичи', 'Белоостров', 'Алексеевка', 'Серебрянский',\n",
       "       'Лукаши', 'Тарасово', 'Кингисеппский', 'Ушаки', 'Котлы', 'Сижно',\n",
       "       'Торосово', 'Форт Красная Горка', 'Новолисино', 'Громово',\n",
       "       'Глинка', 'Старая Пустошь', 'Коммунары', 'Починок', 'Вознесенье',\n",
       "       'Разбегаево', 'Гладкое', 'Тёсово-4', 'Бор', 'Коробицыно',\n",
       "       'Большая Вруда', 'Курковицы', 'Кобралово', 'Суоранда',\n",
       "       'Кондратьево', 'Счастье', 'Реброво', 'Тойворово', 'Семиозерье',\n",
       "       'Лесное', 'Совхозный', 'Ленинское', 'Суйда', 'Нижние Осельки',\n",
       "       'Свирь', 'Перово', 'Высоцк', 'Шум', 'Котельский', 'Лужайка',\n",
       "       'Большая Пустомержа', 'Красносельское', 'Вахнова Кара', 'Пижма',\n",
       "       'Кивеннапа Север', 'Ромашки', 'Каськово', 'Куровицы', 'Плоское',\n",
       "       'Кирпичное', 'Ям-Тесово', 'Раздолье', 'Терпилицы', 'Шугозеро',\n",
       "       'Ваганово', 'Пушное', 'Садко', 'Усть-Ижора', 'Выскатка',\n",
       "       'Свирьстрой', 'Кисельня', 'Трубников Бор', 'Высокоключевой',\n",
       "       'Пансионат Зелёный Бор', 'Ненимяки', 'Снегирёвка', 'Рапполово',\n",
       "       'Пустынка', 'Большой Сабск', 'Русско', 'Лупполово',\n",
       "       'Большое Рейзино', 'Малая Романовка', 'Дружноселье', 'Пчевжа',\n",
       "       'Володарское', 'Нижняя', 'Тихковицы', 'Борисова Грива',\n",
       "       'Дзержинского'], dtype=object)"
      ]
     },
     "execution_count": 16,
     "metadata": {},
     "output_type": "execute_result"
    }
   ],
   "source": [
    "# Проверяем глазками\n",
    "data['locality_name'].unique()"
   ]
  },
  {
   "cell_type": "code",
   "execution_count": 17,
   "metadata": {},
   "outputs": [],
   "source": [
    "# Удаляем столбец с леммами, зачем они нам\n",
    "del data['locality_lemma']"
   ]
  },
  {
   "cell_type": "code",
   "execution_count": 18,
   "metadata": {},
   "outputs": [],
   "source": [
    "# Переводим в дату и время\n",
    "data['first_day_exposition']= pd.to_datetime(data['first_day_exposition'], format='%Y-%m-%dT%H:%M:%S')"
   ]
  },
  {
   "cell_type": "code",
   "execution_count": 19,
   "metadata": {},
   "outputs": [],
   "source": [
    "# is_apartment - Заполнено не полностью, делаем допущение: Там где пусто проставить FALSE; Перевести поле в формат 'bool'\n",
    "data['is_apartment'] = data['is_apartment'].fillna(False).astype('bool')"
   ]
  },
  {
   "cell_type": "markdown",
   "metadata": {},
   "source": [
    "### Заполняем столбец ***living_area***"
   ]
  },
  {
   "cell_type": "code",
   "execution_count": 20,
   "metadata": {},
   "outputs": [],
   "source": [
    "# Заполняем столбец living_area - Сначала для Студий, в них нет Кухни.\n",
    "# Вычислим Коэф. жилой площади по тем квартирам где есть 2 показателя Жилая площадь и Общая площадь, но только для студий\n",
    "# Заодно проставим нули вместо NaN в столбце kitchen_area для Студий\n",
    "data.loc[data['studio'] == True, 'kitchen_area'] = 0"
   ]
  },
  {
   "cell_type": "code",
   "execution_count": 21,
   "metadata": {},
   "outputs": [],
   "source": [
    "# Делаем копию данных, дабы избежать ошибок в дальнейшем\n",
    "good_studio = data.copy(deep=True)"
   ]
  },
  {
   "cell_type": "code",
   "execution_count": 22,
   "metadata": {},
   "outputs": [],
   "source": [
    "# Создаем переменную с хорошими данными по Студиям - там где есть Жилая площадь\n",
    "good_studio = good_studio.query('studio == True and living_area > 0')"
   ]
  },
  {
   "cell_type": "code",
   "execution_count": 23,
   "metadata": {},
   "outputs": [],
   "source": [
    "# Добавим столбец с коэффициентом Жилой площади в Студиях\n",
    "good_studio['kf_living_studil'] = good_studio.loc[:,'living_area']/good_studio.loc[:,'total_area']"
   ]
  },
  {
   "cell_type": "code",
   "execution_count": 24,
   "metadata": {},
   "outputs": [
    {
     "data": {
      "text/plain": [
       "0.6894049346879536"
      ]
     },
     "execution_count": 24,
     "metadata": {},
     "output_type": "execute_result"
    }
   ],
   "source": [
    "# А вот и Коэф. жилой площади в Студиях\n",
    "koef_living_in_studio = good_studio.loc[:, 'kf_living_studil'].median()\n",
    "koef_living_in_studio"
   ]
  },
  {
   "cell_type": "code",
   "execution_count": 25,
   "metadata": {},
   "outputs": [
    {
     "data": {
      "text/plain": [
       "total_images                              4\n",
       "last_price                         1.98e+06\n",
       "total_area                               27\n",
       "first_day_exposition    2018-03-23 00:00:00\n",
       "rooms                                     0\n",
       "ceiling_height                          NaN\n",
       "floors_total                             18\n",
       "living_area                         18.6139\n",
       "floor                                     4\n",
       "is_apartment                          False\n",
       "studio                                 True\n",
       "open_plan                             False\n",
       "kitchen_area                              0\n",
       "balcony                                   0\n",
       "locality_name                Петро-Славянка\n",
       "airports_nearest                      20605\n",
       "cityCenters_nearest                   27165\n",
       "parks_around3000                          0\n",
       "parks_nearest                           NaN\n",
       "ponds_around3000                          2\n",
       "ponds_nearest                           663\n",
       "days_exposition                          75\n",
       "Name: 2409, dtype: object"
      ]
     },
     "execution_count": 25,
     "metadata": {},
     "output_type": "execute_result"
    }
   ],
   "source": [
    "# Заполняем в студиях пустые значения в жилой площади\n",
    "\n",
    "data.loc[(data['studio'] == True)&(data['living_area'] != data['living_area']), 'living_area'] = koef_living_in_studio * data['total_area']\n",
    "\n",
    "# Проверяем по строке которая не была заполнена\n",
    "data.loc[2409]"
   ]
  },
  {
   "cell_type": "code",
   "execution_count": 26,
   "metadata": {},
   "outputs": [
    {
     "data": {
      "text/plain": [
       "rooms\n",
       "0     0.690979\n",
       "1     0.481796\n",
       "2     0.575472\n",
       "3     0.617284\n",
       "4     0.641206\n",
       "5     0.626733\n",
       "6     0.672273\n",
       "7     0.677570\n",
       "8     0.683072\n",
       "9     0.595448\n",
       "10    0.592076\n",
       "11    0.708841\n",
       "12    0.455222\n",
       "14    0.641519\n",
       "15    0.693220\n",
       "16    0.666667\n",
       "19    0.706086\n",
       "dtype: float64"
      ]
     },
     "execution_count": 26,
     "metadata": {},
     "output_type": "execute_result"
    }
   ],
   "source": [
    "# Вычисляем коэффициент жилой площади для комнат\n",
    "data_pivot = data.pivot_table(index='rooms', values=['living_area', 'total_area'], aggfunc='median')\n",
    "koef_living_room = data_pivot['living_area'] / data_pivot['total_area']\n",
    "koef_living_room"
   ]
  },
  {
   "cell_type": "code",
   "execution_count": 27,
   "metadata": {},
   "outputs": [],
   "source": [
    "# Заполняем пустые Жилые зоны по Коэффициенту комнат\n",
    "for room_num in koef_living_room.index:\n",
    "    data.loc[data['rooms'] == room_num, 'living_area'] = data.loc[data['rooms'] == room_num, 'living_area']\\\n",
    "    .fillna(koef_living_room.loc[room_num] * data['total_area'])"
   ]
  },
  {
   "cell_type": "code",
   "execution_count": 28,
   "metadata": {},
   "outputs": [],
   "source": [
    "# В квартирах с кол-ом комнат == 0, нет площади для кухни, заполню в них пустые значения нулями\n",
    "data.loc[data['rooms']==0, 'kitchen_area'] = 0"
   ]
  },
  {
   "cell_type": "code",
   "execution_count": 29,
   "metadata": {},
   "outputs": [
    {
     "data": {
      "text/plain": [
       "2061"
      ]
     },
     "execution_count": 29,
     "metadata": {},
     "output_type": "execute_result"
    }
   ],
   "source": [
    "data[data['rooms']>0]['kitchen_area'].isna().sum()"
   ]
  },
  {
   "cell_type": "code",
   "execution_count": 30,
   "metadata": {},
   "outputs": [
    {
     "data": {
      "text/plain": [
       "rooms\n",
       "0     0.000000\n",
       "1     0.246373\n",
       "2     0.166038\n",
       "3     0.130316\n",
       "4     0.111055\n",
       "5     0.103107\n",
       "6     0.105806\n",
       "7     0.093458\n",
       "8     0.106067\n",
       "9     0.047516\n",
       "10    0.072634\n",
       "11    0.066702\n",
       "12    0.124444\n",
       "14    0.069855\n",
       "15    0.169492\n",
       "16    0.048148\n",
       "19    0.073679\n",
       "dtype: float64"
      ]
     },
     "execution_count": 30,
     "metadata": {},
     "output_type": "execute_result"
    }
   ],
   "source": [
    "# Вычисляем площадь кухни по Коэффициентам для комнат\n",
    "data_pivot_kitchen = data.pivot_table(index='rooms', values=['total_area', 'kitchen_area'], aggfunc='median')\n",
    "koef_kitchen = data_pivot_kitchen['kitchen_area'] / data_pivot_kitchen['total_area']\n",
    "koef_kitchen"
   ]
  },
  {
   "cell_type": "code",
   "execution_count": 31,
   "metadata": {},
   "outputs": [],
   "source": [
    "# Заполняем пустые Кухни по Коэффициенту\n",
    "for room_num in koef_kitchen.index:\n",
    "    data.loc[data['rooms'] == room_num, 'kitchen_area'] = data.loc[data['rooms'] == room_num, 'kitchen_area']\\\n",
    "    .fillna(koef_kitchen.loc[room_num] * data['total_area'])"
   ]
  },
  {
   "cell_type": "markdown",
   "metadata": {},
   "source": [
    "Работаем со столбцом: **'last_price'**"
   ]
  },
  {
   "cell_type": "code",
   "execution_count": 32,
   "metadata": {},
   "outputs": [
    {
     "data": {
      "text/plain": [
       "array([[<matplotlib.axes._subplots.AxesSubplot object at 0x7f484d868dd0>]],\n",
       "      dtype=object)"
      ]
     },
     "execution_count": 32,
     "metadata": {},
     "output_type": "execute_result"
    },
    {
     "data": {
      "image/png": "[encoded data removed]",
      "text/plain": [
       "<Figure size 432x288 with 1 Axes>"
      ]
     },
     "metadata": {
      "needs_background": "light"
     },
     "output_type": "display_data"
    }
   ],
   "source": [
    "# Посмотрим как распределены данные по ценам\n",
    "data.hist('last_price', bins=100, range=(0, 1000000))\n",
    "\n",
    "# Цены начинаются от 400 тыс, то что меньше - явно нужно удалить"
   ]
  },
  {
   "cell_type": "code",
   "execution_count": 33,
   "metadata": {},
   "outputs": [
    {
     "data": {
      "text/plain": [
       "count    2.365000e+04\n",
       "mean     6.541127e+06\n",
       "std      1.089640e+07\n",
       "min      1.219000e+04\n",
       "5%       1.864500e+06\n",
       "10%      2.500000e+06\n",
       "20%      3.190000e+06\n",
       "30%      3.650000e+06\n",
       "40%      4.100000e+06\n",
       "50%      4.650000e+06\n",
       "60%      5.290000e+06\n",
       "70%      6.182687e+06\n",
       "80%      7.580000e+06\n",
       "90%      1.090000e+07\n",
       "95%      1.530000e+07\n",
       "97%      2.000000e+07\n",
       "99%      3.600000e+07\n",
       "max      7.630000e+08\n",
       "Name: last_price, dtype: float64"
      ]
     },
     "execution_count": 33,
     "metadata": {},
     "output_type": "execute_result"
    }
   ],
   "source": [
    "# Посмотрим в каких процентилях расположены данные\n",
    "data['last_price'].describe(percentiles=[0.05, 0.1, 0.2, 0.3, 0.4, 0.5, 0.6, 0.7, 0.8, 0.9, 0.95, 0.97,0.99]).T"
   ]
  },
  {
   "cell_type": "code",
   "execution_count": 34,
   "metadata": {},
   "outputs": [
    {
     "data": {
      "text/plain": [
       "array([[<matplotlib.axes._subplots.AxesSubplot object at 0x7f4839535750>]],\n",
       "      dtype=object)"
      ]
     },
     "execution_count": 34,
     "metadata": {},
     "output_type": "execute_result"
    },
    {
     "data": {
      "image/png": "[encoded data removed]",
      "text/plain": [
       "<Figure size 432x288 with 1 Axes>"
      ]
     },
     "metadata": {
      "needs_background": "light"
     },
     "output_type": "display_data"
    }
   ],
   "source": [
    "# Большинство данных расположены в цене 3 мнл, 97% данных до 20 млн.\n",
    "# Остальные данные явно уникальные\n",
    "data.hist('last_price', bins=100, range=(400000, 20000000))"
   ]
  },
  {
   "cell_type": "code",
   "execution_count": 35,
   "metadata": {},
   "outputs": [
    {
     "name": "stdout",
     "output_type": "stream",
     "text": [
      "0.02989429175475687\n"
     ]
    }
   ],
   "source": [
    "# Посмотрим насколько сократятся наши данные при таких ограничениях\n",
    "good_price = data.query('last_price.between(400000, 20000000, inclusive = True)')\n",
    "print((len(data) - len(good_price))/len(data))\n",
    "# Кол-во убранных позиций меньше 3%"
   ]
  },
  {
   "cell_type": "code",
   "execution_count": 36,
   "metadata": {},
   "outputs": [
    {
     "data": {
      "text/plain": [
       "count    22943.000000\n",
       "mean        56.707870\n",
       "std         24.792031\n",
       "min         12.000000\n",
       "5%          31.000000\n",
       "10%         32.800000\n",
       "20%         37.000000\n",
       "30%         42.000000\n",
       "40%         45.300000\n",
       "50%         51.000000\n",
       "60%         57.000000\n",
       "70%         63.000000\n",
       "80%         72.000000\n",
       "90%         87.000000\n",
       "95%        101.290000\n",
       "97%        114.000000\n",
       "99%        145.316000\n",
       "max        460.800000\n",
       "Name: total_area, dtype: float64"
      ]
     },
     "execution_count": 36,
     "metadata": {},
     "output_type": "execute_result"
    }
   ],
   "source": [
    "# Сделаем тоже самое для площади квартир\n",
    "good_price['total_area'].describe(percentiles=[0.05, 0.1, 0.2, 0.3, 0.4, 0.5, 0.6, 0.7, 0.8, 0.9, 0.95, 0.97,0.99]).T\n",
    "\n",
    "# Медиана 51 м.кв., есть 12 метровые и 460 метровые, посмотрим их распределение на диаграмме"
   ]
  },
  {
   "cell_type": "code",
   "execution_count": 37,
   "metadata": {},
   "outputs": [
    {
     "data": {
      "text/plain": [
       "array([[<matplotlib.axes._subplots.AxesSubplot object at 0x7f483926e1d0>]],\n",
       "      dtype=object)"
      ]
     },
     "execution_count": 37,
     "metadata": {},
     "output_type": "execute_result"
    },
    {
     "data": {
      "image/png": "[encoded data removed]",
      "text/plain": [
       "<Figure size 432x288 with 1 Axes>"
      ]
     },
     "metadata": {
      "needs_background": "light"
     },
     "output_type": "display_data"
    }
   ],
   "source": [
    "good_price.hist('total_area', bins=100, range=(20, 150))\n",
    "# Нормальный диапазон от 20 до 150 м.кв"
   ]
  },
  {
   "cell_type": "code",
   "execution_count": 38,
   "metadata": {},
   "outputs": [
    {
     "name": "stdout",
     "output_type": "stream",
     "text": [
      "0.009414636272501416\n"
     ]
    }
   ],
   "source": [
    "# Посмотрим насколько сократятся наши данные при таких ограничениях\n",
    "good_data = good_price.copy(deep=True)\n",
    "good_data = good_data.query('total_area.between(20, 150, inclusive = True)')\n",
    "print((len(good_price) - len(good_data))/len(good_price))\n",
    "# Кол-во убранных позиций меньше 1%, оставляем"
   ]
  },
  {
   "cell_type": "code",
   "execution_count": 39,
   "metadata": {},
   "outputs": [
    {
     "data": {
      "text/plain": [
       "count    13866.000000\n",
       "mean         2.752488\n",
       "std          1.283380\n",
       "min          1.000000\n",
       "5%           2.500000\n",
       "10%          2.500000\n",
       "20%          2.500000\n",
       "30%          2.550000\n",
       "40%          2.600000\n",
       "50%          2.650000\n",
       "60%          2.700000\n",
       "70%          2.750000\n",
       "80%          2.800000\n",
       "90%          3.000000\n",
       "95%          3.200000\n",
       "97%          3.350000\n",
       "99%          3.700000\n",
       "max        100.000000\n",
       "Name: ceiling_height, dtype: float64"
      ]
     },
     "execution_count": 39,
     "metadata": {},
     "output_type": "execute_result"
    }
   ],
   "source": [
    "# Посмотрим что с потолками\n",
    "good_data['ceiling_height'].describe(percentiles=[0.05, 0.1, 0.2, 0.3, 0.4, 0.5, 0.6, 0.7, 0.8, 0.9, 0.95, 0.97,0.99]).T\n",
    "\n",
    "# Потолок 1 метр - неее, я там жить не хочу\n",
    "# Сто метров, 35 этажей вы высоту, наверное для Кинг-Конга строили"
   ]
  },
  {
   "cell_type": "code",
   "execution_count": 40,
   "metadata": {},
   "outputs": [
    {
     "data": {
      "text/plain": [
       "array([[<matplotlib.axes._subplots.AxesSubplot object at 0x7f4838aa0510>]],\n",
       "      dtype=object)"
      ]
     },
     "execution_count": 40,
     "metadata": {},
     "output_type": "execute_result"
    },
    {
     "data": {
      "image/png": "[encoded data removed]",
      "text/plain": [
       "<Figure size 432x288 with 1 Axes>"
      ]
     },
     "metadata": {
      "needs_background": "light"
     },
     "output_type": "display_data"
    }
   ],
   "source": [
    "good_data.hist('ceiling_height', bins=50, range=(2.4, 4))\n",
    "# Большинство потолков от 2,4 до 4 метров.\n",
    "# Всё что не входит в этот диапазон явно не квартира\n",
    "# Удалять не будем но при анализе высоты потолков информация явно пригодиться"
   ]
  },
  {
   "cell_type": "code",
   "execution_count": 41,
   "metadata": {},
   "outputs": [
    {
     "data": {
      "text/plain": [
       "array([[<matplotlib.axes._subplots.AxesSubplot object at 0x7f4838996790>]],\n",
       "      dtype=object)"
      ]
     },
     "execution_count": 41,
     "metadata": {},
     "output_type": "execute_result"
    },
    {
     "data": {
      "image/png": "[encoded data removed]",
      "text/plain": [
       "<Figure size 432x288 with 1 Axes>"
      ]
     },
     "metadata": {
      "needs_background": "light"
     },
     "output_type": "display_data"
    }
   ],
   "source": [
    "# Большинство объявлений с показателем Дней в экспозиции == 0 или Пусто, может быть только-что разместили объявление?!\n",
    "# Построим диаграмму без этих значений\n",
    "# Резко выделяется кол-во дней = 45, 60 и 90 возможно система автоматически закрывает объявления в этом промежутке\n",
    "# Думаю при оценке результатов лучше будет избавиться от этих полей\n",
    "good_data.hist('days_exposition', bins=50, range=(1, 200))"
   ]
  },
  {
   "cell_type": "code",
   "execution_count": 42,
   "metadata": {},
   "outputs": [
    {
     "name": "stdout",
     "output_type": "stream",
     "text": [
      "<class 'pandas.core.frame.DataFrame'>\n",
      "Int64Index: 22727 entries, 0 to 23698\n",
      "Data columns (total 22 columns):\n",
      "total_images            22727 non-null int64\n",
      "last_price              22727 non-null float64\n",
      "total_area              22727 non-null float64\n",
      "first_day_exposition    22727 non-null datetime64[ns]\n",
      "rooms                   22727 non-null int64\n",
      "ceiling_height          13866 non-null float64\n",
      "floors_total            22644 non-null Int64\n",
      "living_area             22727 non-null float64\n",
      "floor                   22727 non-null int64\n",
      "is_apartment            22727 non-null bool\n",
      "studio                  22727 non-null bool\n",
      "open_plan               22727 non-null bool\n",
      "kitchen_area            22727 non-null float64\n",
      "balcony                 22727 non-null int64\n",
      "locality_name           22727 non-null object\n",
      "airports_nearest        17229 non-null Int64\n",
      "cityCenters_nearest     17246 non-null Int64\n",
      "parks_around3000        17247 non-null Int64\n",
      "parks_nearest           7438 non-null Int64\n",
      "ponds_around3000        17247 non-null Int64\n",
      "ponds_nearest           8438 non-null Int64\n",
      "days_exposition         22727 non-null int64\n",
      "dtypes: Int64(7), bool(3), datetime64[ns](1), float64(5), int64(5), object(1)\n",
      "memory usage: 3.7+ MB\n"
     ]
    }
   ],
   "source": [
    "good_data.info()"
   ]
  },
  {
   "cell_type": "code",
   "execution_count": 43,
   "metadata": {},
   "outputs": [
    {
     "data": {
      "text/html": [
       "<div>\n",
       "<style scoped>\n",
       "    .dataframe tbody tr th:only-of-type {\n",
       "        vertical-align: middle;\n",
       "    }\n",
       "\n",
       "    .dataframe tbody tr th {\n",
       "        vertical-align: top;\n",
       "    }\n",
       "\n",
       "    .dataframe thead th {\n",
       "        text-align: right;\n",
       "    }\n",
       "</style>\n",
       "<table border=\"1\" class=\"dataframe\">\n",
       "  <thead>\n",
       "    <tr style=\"text-align: right;\">\n",
       "      <th></th>\n",
       "      <th>total_images</th>\n",
       "      <th>last_price</th>\n",
       "      <th>total_area</th>\n",
       "      <th>first_day_exposition</th>\n",
       "      <th>rooms</th>\n",
       "      <th>ceiling_height</th>\n",
       "      <th>floors_total</th>\n",
       "      <th>living_area</th>\n",
       "      <th>floor</th>\n",
       "      <th>is_apartment</th>\n",
       "      <th>...</th>\n",
       "      <th>kitchen_area</th>\n",
       "      <th>balcony</th>\n",
       "      <th>locality_name</th>\n",
       "      <th>airports_nearest</th>\n",
       "      <th>cityCenters_nearest</th>\n",
       "      <th>parks_around3000</th>\n",
       "      <th>parks_nearest</th>\n",
       "      <th>ponds_around3000</th>\n",
       "      <th>ponds_nearest</th>\n",
       "      <th>days_exposition</th>\n",
       "    </tr>\n",
       "  </thead>\n",
       "  <tbody>\n",
       "    <tr>\n",
       "      <td>186</td>\n",
       "      <td>12</td>\n",
       "      <td>11640000.0</td>\n",
       "      <td>65.2</td>\n",
       "      <td>2018-10-02</td>\n",
       "      <td>2</td>\n",
       "      <td>NaN</td>\n",
       "      <td>NaN</td>\n",
       "      <td>30.800000</td>\n",
       "      <td>4</td>\n",
       "      <td>False</td>\n",
       "      <td>...</td>\n",
       "      <td>12.000000</td>\n",
       "      <td>0</td>\n",
       "      <td>Санкт-Петербург</td>\n",
       "      <td>39197</td>\n",
       "      <td>12373</td>\n",
       "      <td>1</td>\n",
       "      <td>123</td>\n",
       "      <td>0</td>\n",
       "      <td>NaN</td>\n",
       "      <td>49</td>\n",
       "    </tr>\n",
       "    <tr>\n",
       "      <td>237</td>\n",
       "      <td>4</td>\n",
       "      <td>2438033.0</td>\n",
       "      <td>28.1</td>\n",
       "      <td>2016-11-23</td>\n",
       "      <td>1</td>\n",
       "      <td>NaN</td>\n",
       "      <td>NaN</td>\n",
       "      <td>20.750000</td>\n",
       "      <td>1</td>\n",
       "      <td>False</td>\n",
       "      <td>...</td>\n",
       "      <td>6.923077</td>\n",
       "      <td>0</td>\n",
       "      <td>Санкт-Петербург</td>\n",
       "      <td>22041</td>\n",
       "      <td>17369</td>\n",
       "      <td>0</td>\n",
       "      <td>NaN</td>\n",
       "      <td>1</td>\n",
       "      <td>374</td>\n",
       "      <td>251</td>\n",
       "    </tr>\n",
       "    <tr>\n",
       "      <td>457</td>\n",
       "      <td>4</td>\n",
       "      <td>9788348.0</td>\n",
       "      <td>70.8</td>\n",
       "      <td>2015-08-01</td>\n",
       "      <td>2</td>\n",
       "      <td>NaN</td>\n",
       "      <td>NaN</td>\n",
       "      <td>38.400000</td>\n",
       "      <td>12</td>\n",
       "      <td>False</td>\n",
       "      <td>...</td>\n",
       "      <td>10.630000</td>\n",
       "      <td>0</td>\n",
       "      <td>Санкт-Петербург</td>\n",
       "      <td>37364</td>\n",
       "      <td>8322</td>\n",
       "      <td>2</td>\n",
       "      <td>309</td>\n",
       "      <td>2</td>\n",
       "      <td>706</td>\n",
       "      <td>727</td>\n",
       "    </tr>\n",
       "    <tr>\n",
       "      <td>671</td>\n",
       "      <td>4</td>\n",
       "      <td>6051191.0</td>\n",
       "      <td>93.6</td>\n",
       "      <td>2017-04-06</td>\n",
       "      <td>3</td>\n",
       "      <td>NaN</td>\n",
       "      <td>NaN</td>\n",
       "      <td>47.100000</td>\n",
       "      <td>8</td>\n",
       "      <td>False</td>\n",
       "      <td>...</td>\n",
       "      <td>16.800000</td>\n",
       "      <td>0</td>\n",
       "      <td>Санкт-Петербург</td>\n",
       "      <td>22041</td>\n",
       "      <td>17369</td>\n",
       "      <td>0</td>\n",
       "      <td>NaN</td>\n",
       "      <td>1</td>\n",
       "      <td>374</td>\n",
       "      <td>123</td>\n",
       "    </tr>\n",
       "    <tr>\n",
       "      <td>1757</td>\n",
       "      <td>5</td>\n",
       "      <td>3600000.0</td>\n",
       "      <td>39.0</td>\n",
       "      <td>2017-04-22</td>\n",
       "      <td>1</td>\n",
       "      <td>NaN</td>\n",
       "      <td>NaN</td>\n",
       "      <td>18.790036</td>\n",
       "      <td>9</td>\n",
       "      <td>False</td>\n",
       "      <td>...</td>\n",
       "      <td>9.608541</td>\n",
       "      <td>0</td>\n",
       "      <td>Санкт-Петербург</td>\n",
       "      <td>22735</td>\n",
       "      <td>11618</td>\n",
       "      <td>1</td>\n",
       "      <td>835</td>\n",
       "      <td>1</td>\n",
       "      <td>652</td>\n",
       "      <td>77</td>\n",
       "    </tr>\n",
       "    <tr>\n",
       "      <td>...</td>\n",
       "      <td>...</td>\n",
       "      <td>...</td>\n",
       "      <td>...</td>\n",
       "      <td>...</td>\n",
       "      <td>...</td>\n",
       "      <td>...</td>\n",
       "      <td>...</td>\n",
       "      <td>...</td>\n",
       "      <td>...</td>\n",
       "      <td>...</td>\n",
       "      <td>...</td>\n",
       "      <td>...</td>\n",
       "      <td>...</td>\n",
       "      <td>...</td>\n",
       "      <td>...</td>\n",
       "      <td>...</td>\n",
       "      <td>...</td>\n",
       "      <td>...</td>\n",
       "      <td>...</td>\n",
       "      <td>...</td>\n",
       "      <td>...</td>\n",
       "    </tr>\n",
       "    <tr>\n",
       "      <td>21753</td>\n",
       "      <td>7</td>\n",
       "      <td>6800000.0</td>\n",
       "      <td>57.0</td>\n",
       "      <td>2017-05-01</td>\n",
       "      <td>2</td>\n",
       "      <td>NaN</td>\n",
       "      <td>NaN</td>\n",
       "      <td>32.801887</td>\n",
       "      <td>21</td>\n",
       "      <td>False</td>\n",
       "      <td>...</td>\n",
       "      <td>9.464151</td>\n",
       "      <td>0</td>\n",
       "      <td>Санкт-Петербург</td>\n",
       "      <td>17618</td>\n",
       "      <td>14600</td>\n",
       "      <td>2</td>\n",
       "      <td>104</td>\n",
       "      <td>0</td>\n",
       "      <td>NaN</td>\n",
       "      <td>36</td>\n",
       "    </tr>\n",
       "    <tr>\n",
       "      <td>22542</td>\n",
       "      <td>5</td>\n",
       "      <td>8500000.0</td>\n",
       "      <td>63.5</td>\n",
       "      <td>2017-05-24</td>\n",
       "      <td>2</td>\n",
       "      <td>2.8</td>\n",
       "      <td>NaN</td>\n",
       "      <td>36.542453</td>\n",
       "      <td>3</td>\n",
       "      <td>False</td>\n",
       "      <td>...</td>\n",
       "      <td>10.543396</td>\n",
       "      <td>0</td>\n",
       "      <td>Санкт-Петербург</td>\n",
       "      <td>51340</td>\n",
       "      <td>15363</td>\n",
       "      <td>0</td>\n",
       "      <td>NaN</td>\n",
       "      <td>1</td>\n",
       "      <td>853</td>\n",
       "      <td>512</td>\n",
       "    </tr>\n",
       "    <tr>\n",
       "      <td>22656</td>\n",
       "      <td>4</td>\n",
       "      <td>4574160.0</td>\n",
       "      <td>64.5</td>\n",
       "      <td>2017-04-02</td>\n",
       "      <td>2</td>\n",
       "      <td>NaN</td>\n",
       "      <td>NaN</td>\n",
       "      <td>31.700000</td>\n",
       "      <td>20</td>\n",
       "      <td>False</td>\n",
       "      <td>...</td>\n",
       "      <td>14.400000</td>\n",
       "      <td>0</td>\n",
       "      <td>Санкт-Петербург</td>\n",
       "      <td>22041</td>\n",
       "      <td>17369</td>\n",
       "      <td>0</td>\n",
       "      <td>NaN</td>\n",
       "      <td>1</td>\n",
       "      <td>374</td>\n",
       "      <td>127</td>\n",
       "    </tr>\n",
       "    <tr>\n",
       "      <td>22808</td>\n",
       "      <td>0</td>\n",
       "      <td>14569263.0</td>\n",
       "      <td>110.4</td>\n",
       "      <td>2016-11-20</td>\n",
       "      <td>3</td>\n",
       "      <td>NaN</td>\n",
       "      <td>NaN</td>\n",
       "      <td>45.380000</td>\n",
       "      <td>6</td>\n",
       "      <td>False</td>\n",
       "      <td>...</td>\n",
       "      <td>23.420000</td>\n",
       "      <td>0</td>\n",
       "      <td>Санкт-Петербург</td>\n",
       "      <td>19095</td>\n",
       "      <td>4529</td>\n",
       "      <td>0</td>\n",
       "      <td>NaN</td>\n",
       "      <td>0</td>\n",
       "      <td>NaN</td>\n",
       "      <td>260</td>\n",
       "    </tr>\n",
       "    <tr>\n",
       "      <td>23658</td>\n",
       "      <td>6</td>\n",
       "      <td>3063600.0</td>\n",
       "      <td>43.8</td>\n",
       "      <td>2016-11-28</td>\n",
       "      <td>1</td>\n",
       "      <td>2.7</td>\n",
       "      <td>NaN</td>\n",
       "      <td>14.000000</td>\n",
       "      <td>8</td>\n",
       "      <td>False</td>\n",
       "      <td>...</td>\n",
       "      <td>15.500000</td>\n",
       "      <td>2</td>\n",
       "      <td>Санкт-Петербург</td>\n",
       "      <td>8426</td>\n",
       "      <td>12082</td>\n",
       "      <td>2</td>\n",
       "      <td>24</td>\n",
       "      <td>1</td>\n",
       "      <td>271</td>\n",
       "      <td>246</td>\n",
       "    </tr>\n",
       "  </tbody>\n",
       "</table>\n",
       "<p>83 rows × 22 columns</p>\n",
       "</div>"
      ],
      "text/plain": [
       "       total_images  last_price  total_area first_day_exposition  rooms  \\\n",
       "186              12  11640000.0        65.2           2018-10-02      2   \n",
       "237               4   2438033.0        28.1           2016-11-23      1   \n",
       "457               4   9788348.0        70.8           2015-08-01      2   \n",
       "671               4   6051191.0        93.6           2017-04-06      3   \n",
       "1757              5   3600000.0        39.0           2017-04-22      1   \n",
       "...             ...         ...         ...                  ...    ...   \n",
       "21753             7   6800000.0        57.0           2017-05-01      2   \n",
       "22542             5   8500000.0        63.5           2017-05-24      2   \n",
       "22656             4   4574160.0        64.5           2017-04-02      2   \n",
       "22808             0  14569263.0       110.4           2016-11-20      3   \n",
       "23658             6   3063600.0        43.8           2016-11-28      1   \n",
       "\n",
       "       ceiling_height  floors_total  living_area  floor  is_apartment  ...  \\\n",
       "186               NaN           NaN    30.800000      4         False  ...   \n",
       "237               NaN           NaN    20.750000      1         False  ...   \n",
       "457               NaN           NaN    38.400000     12         False  ...   \n",
       "671               NaN           NaN    47.100000      8         False  ...   \n",
       "1757              NaN           NaN    18.790036      9         False  ...   \n",
       "...               ...           ...          ...    ...           ...  ...   \n",
       "21753             NaN           NaN    32.801887     21         False  ...   \n",
       "22542             2.8           NaN    36.542453      3         False  ...   \n",
       "22656             NaN           NaN    31.700000     20         False  ...   \n",
       "22808             NaN           NaN    45.380000      6         False  ...   \n",
       "23658             2.7           NaN    14.000000      8         False  ...   \n",
       "\n",
       "       kitchen_area  balcony    locality_name  airports_nearest  \\\n",
       "186       12.000000        0  Санкт-Петербург             39197   \n",
       "237        6.923077        0  Санкт-Петербург             22041   \n",
       "457       10.630000        0  Санкт-Петербург             37364   \n",
       "671       16.800000        0  Санкт-Петербург             22041   \n",
       "1757       9.608541        0  Санкт-Петербург             22735   \n",
       "...             ...      ...              ...               ...   \n",
       "21753      9.464151        0  Санкт-Петербург             17618   \n",
       "22542     10.543396        0  Санкт-Петербург             51340   \n",
       "22656     14.400000        0  Санкт-Петербург             22041   \n",
       "22808     23.420000        0  Санкт-Петербург             19095   \n",
       "23658     15.500000        2  Санкт-Петербург              8426   \n",
       "\n",
       "      cityCenters_nearest  parks_around3000  parks_nearest  ponds_around3000  \\\n",
       "186                 12373                 1            123                 0   \n",
       "237                 17369                 0            NaN                 1   \n",
       "457                  8322                 2            309                 2   \n",
       "671                 17369                 0            NaN                 1   \n",
       "1757                11618                 1            835                 1   \n",
       "...                   ...               ...            ...               ...   \n",
       "21753               14600                 2            104                 0   \n",
       "22542               15363                 0            NaN                 1   \n",
       "22656               17369                 0            NaN                 1   \n",
       "22808                4529                 0            NaN                 0   \n",
       "23658               12082                 2             24                 1   \n",
       "\n",
       "       ponds_nearest  days_exposition  \n",
       "186              NaN               49  \n",
       "237              374              251  \n",
       "457              706              727  \n",
       "671              374              123  \n",
       "1757             652               77  \n",
       "...              ...              ...  \n",
       "21753            NaN               36  \n",
       "22542            853              512  \n",
       "22656            374              127  \n",
       "22808            NaN              260  \n",
       "23658            271              246  \n",
       "\n",
       "[83 rows x 22 columns]"
      ]
     },
     "execution_count": 43,
     "metadata": {},
     "output_type": "execute_result"
    }
   ],
   "source": [
    "# Заполняем столбец 'floors_total'\n",
    "good_data.query('floors_total != floors_total')"
   ]
  },
  {
   "cell_type": "code",
   "execution_count": 44,
   "metadata": {},
   "outputs": [
    {
     "data": {
      "text/plain": [
       "83"
      ]
     },
     "execution_count": 44,
     "metadata": {},
     "output_type": "execute_result"
    }
   ],
   "source": [
    "good_data['floors_total'].isna().sum()"
   ]
  },
  {
   "cell_type": "code",
   "execution_count": 45,
   "metadata": {},
   "outputs": [],
   "source": [
    "# Заполним поле 'floors_total', если поле пустое то добавляем к этажу +1\n",
    "good_data['floors_total'] = good_data['floors_total'].fillna(good_data['floor']+1)"
   ]
  },
  {
   "cell_type": "code",
   "execution_count": 46,
   "metadata": {},
   "outputs": [
    {
     "data": {
      "text/plain": [
       "2.5    3506\n",
       "2.6    1640\n",
       "2.7    1552\n",
       "Name: ceiling_height, dtype: int64"
      ]
     },
     "execution_count": 46,
     "metadata": {},
     "output_type": "execute_result"
    }
   ],
   "source": [
    "# Наиболее часто встречающаяся высота потолков 2.5м, заполню все пустые значение этим параметром\n",
    "good_data['ceiling_height'].value_counts().sort_values(ascending=False).head(3)"
   ]
  },
  {
   "cell_type": "code",
   "execution_count": 47,
   "metadata": {},
   "outputs": [
    {
     "data": {
      "text/plain": [
       "8861"
      ]
     },
     "execution_count": 47,
     "metadata": {},
     "output_type": "execute_result"
    }
   ],
   "source": [
    "good_data['ceiling_height'].isna().sum()"
   ]
  },
  {
   "cell_type": "code",
   "execution_count": 48,
   "metadata": {},
   "outputs": [],
   "source": [
    "# Заполняем пустые значение в высоте потолков наиболее частыми значениями 2.5 м\n",
    "good_data['ceiling_height'] = good_data['ceiling_height'].fillna(2.5)"
   ]
  },
  {
   "cell_type": "code",
   "execution_count": 49,
   "metadata": {},
   "outputs": [
    {
     "name": "stdout",
     "output_type": "stream",
     "text": [
      "<class 'pandas.core.frame.DataFrame'>\n",
      "Int64Index: 22727 entries, 0 to 23698\n",
      "Data columns (total 22 columns):\n",
      "total_images            22727 non-null int64\n",
      "last_price              22727 non-null float64\n",
      "total_area              22727 non-null float64\n",
      "first_day_exposition    22727 non-null datetime64[ns]\n",
      "rooms                   22727 non-null int64\n",
      "ceiling_height          22727 non-null float64\n",
      "floors_total            22727 non-null Int64\n",
      "living_area             22727 non-null float64\n",
      "floor                   22727 non-null int64\n",
      "is_apartment            22727 non-null bool\n",
      "studio                  22727 non-null bool\n",
      "open_plan               22727 non-null bool\n",
      "kitchen_area            22727 non-null float64\n",
      "balcony                 22727 non-null int64\n",
      "locality_name           22727 non-null object\n",
      "airports_nearest        17229 non-null Int64\n",
      "cityCenters_nearest     17246 non-null Int64\n",
      "parks_around3000        17247 non-null Int64\n",
      "parks_nearest           7438 non-null Int64\n",
      "ponds_around3000        17247 non-null Int64\n",
      "ponds_nearest           8438 non-null Int64\n",
      "days_exposition         22727 non-null int64\n",
      "dtypes: Int64(7), bool(3), datetime64[ns](1), float64(5), int64(5), object(1)\n",
      "memory usage: 3.7+ MB\n"
     ]
    }
   ],
   "source": [
    "good_data.info()"
   ]
  },
  {
   "cell_type": "code",
   "execution_count": 50,
   "metadata": {},
   "outputs": [
    {
     "data": {
      "text/plain": [
       "total_images                             12\n",
       "last_price                        1.164e+07\n",
       "total_area                             65.2\n",
       "first_day_exposition    2018-10-02 00:00:00\n",
       "rooms                                     2\n",
       "ceiling_height                          2.5\n",
       "floors_total                              5\n",
       "living_area                            30.8\n",
       "floor                                     4\n",
       "is_apartment                          False\n",
       "studio                                False\n",
       "open_plan                             False\n",
       "kitchen_area                             12\n",
       "balcony                                   0\n",
       "locality_name               Санкт-Петербург\n",
       "airports_nearest                      39197\n",
       "cityCenters_nearest                   12373\n",
       "parks_around3000                          1\n",
       "parks_nearest                           123\n",
       "ponds_around3000                          0\n",
       "ponds_nearest                           NaN\n",
       "days_exposition                          49\n",
       "Name: 186, dtype: object"
      ]
     },
     "execution_count": 50,
     "metadata": {},
     "output_type": "execute_result"
    }
   ],
   "source": [
    "# Отобразим все данные по строке\n",
    "pd.options.display.max_rows = 30\n",
    "good_data.loc[186]"
   ]
  },
  {
   "cell_type": "markdown",
   "metadata": {},
   "source": [
    "- Лист самоконтроля\n",
    "---\n",
    "- [x]  <span style=\"color:green\">***last_price*** - Поле заполненно полностью, странное минимальное значение = 12 190, квартир с такой ценой явно не бывает. Нужно почистить от Всплесков, экстримальные цены нам не к чему.\n",
    "- [x]  <span style=\"color:green\"> ***total_area*** - Среднее значение сильно отличается от Медианы. Нужно убирать Всплески - Квартиры по 900 м\n",
    "- [x]  <span style=\"color:green\"> ***first_day_exposition*** - Необходимо перевести в формат даты, пропусков в поле нет\n",
    "- [x]  <span style=\"color:green\"> ***ceiling_height*** - Есть 3 значения с высотой потолков менее 2х метров, поле заполнено не полностью, есть потолки сто метров. Посмотреть на данные\n",
    "- [x]  <span style=\"color:green\"> ***floors_total*** Перевести поле в int, есть пустые значения \n",
    "- [x]  <span style=\"color:green\"> ***living_area*** - Есть пустые значения, заполнить по Коэффициенту и в зависимости от Общей площади\n",
    "- [x]  <span style=\"color:green\"> ***is_apartment*** - Заполнено не полностью, сделать допущение: Там где пусто проставить FALSE; Перевести поле в формат 'bool'\n",
    "- [x]  <span style=\"color:green\"> ***kitchen_area*** - Заполнено не везде, проставить по Коэффициенту по данным где есть кухни и общая площадь\n",
    "- [x]  <span style=\"color:green\"> ***balcony*** - Перевести в int; Проставить нули где значение опущено\n",
    "- [x]  <span style=\"color:green\"> ***locality_name*** - Тип населенного пункта убрать или заменить на ''; Пустые значения удалить - Кому нужна квартира где-то там?\n",
    "- [x]  <span style=\"color:green\"> ***airports_nearest*** - перевести в 'int'\n",
    "- [x]  <span style=\"color:green\"> ***cityCenters_nearest*** - перевести в 'int'\n",
    "- [x]  <span style=\"color:green\"> ***parks_around3000*** - перевести в 'int'; Поставлю Нули где пусто\n",
    "- [x]  <span style=\"color:green\"> ***parks_nearest*** - перевести в 'int'\n",
    "- [x]  <span style=\"color:green\"> ***ponds_around3000*** - перевести в 'int'; Поставлю Нули где пусто\n",
    "- [x]  <span style=\"color:green\"> ***ponds_nearest*** - перевести в 'int'\n",
    "- [x]  <span style=\"color:green\"> ***days_exposition*** - перевести в 'int'; Есть Пустые значения - Возможно передумали или купили в тот-же день - поставлю ноль; Есть значения более 4х лет - Про них явно забыли. Посмотреть визуально на это поле"
   ]
  },
  {
   "cell_type": "markdown",
   "metadata": {},
   "source": [
    "### Шаг 3. Считаем и добавляем в таблицу"
   ]
  },
  {
   "cell_type": "markdown",
   "metadata": {},
   "source": [
    "Добавляем поля в таблицу:\n",
    "1. Цена (м2)\n",
    "2. День Недели, Месяц, Год Публикации объявления\n",
    "3. Этаж квартиры: 'Первый', 'Последний', 'Другой'\n",
    "4. Соотношения Жилой и Общей площади, Площадь Кухни к общей площади\n",
    "\n",
    "- Диаграмма scatter plot\n",
    "- Сделать срезы данных\n"
   ]
  },
  {
   "cell_type": "code",
   "execution_count": 51,
   "metadata": {},
   "outputs": [
    {
     "data": {
      "text/plain": [
       "Index(['total_images', 'last_price', 'total_area', 'first_day_exposition',\n",
       "       'rooms', 'ceiling_height', 'floors_total', 'living_area', 'floor',\n",
       "       'is_apartment', 'studio', 'open_plan', 'kitchen_area', 'balcony',\n",
       "       'locality_name', 'airports_nearest', 'cityCenters_nearest',\n",
       "       'parks_around3000', 'parks_nearest', 'ponds_around3000',\n",
       "       'ponds_nearest', 'days_exposition'],\n",
       "      dtype='object')"
      ]
     },
     "execution_count": 51,
     "metadata": {},
     "output_type": "execute_result"
    }
   ],
   "source": [
    "good_data.columns"
   ]
  },
  {
   "cell_type": "code",
   "execution_count": 52,
   "metadata": {},
   "outputs": [
    {
     "data": {
      "text/html": [
       "<div>\n",
       "<style scoped>\n",
       "    .dataframe tbody tr th:only-of-type {\n",
       "        vertical-align: middle;\n",
       "    }\n",
       "\n",
       "    .dataframe tbody tr th {\n",
       "        vertical-align: top;\n",
       "    }\n",
       "\n",
       "    .dataframe thead th {\n",
       "        text-align: right;\n",
       "    }\n",
       "</style>\n",
       "<table border=\"1\" class=\"dataframe\">\n",
       "  <thead>\n",
       "    <tr style=\"text-align: right;\">\n",
       "      <th></th>\n",
       "      <th>total_images</th>\n",
       "      <th>last_price</th>\n",
       "      <th>total_area</th>\n",
       "      <th>first_day_exposition</th>\n",
       "      <th>rooms</th>\n",
       "      <th>ceiling_height</th>\n",
       "      <th>floors_total</th>\n",
       "      <th>living_area</th>\n",
       "      <th>floor</th>\n",
       "      <th>is_apartment</th>\n",
       "      <th>...</th>\n",
       "      <th>balcony</th>\n",
       "      <th>locality_name</th>\n",
       "      <th>airports_nearest</th>\n",
       "      <th>cityCenters_nearest</th>\n",
       "      <th>parks_around3000</th>\n",
       "      <th>parks_nearest</th>\n",
       "      <th>ponds_around3000</th>\n",
       "      <th>ponds_nearest</th>\n",
       "      <th>days_exposition</th>\n",
       "      <th>price_metr</th>\n",
       "    </tr>\n",
       "  </thead>\n",
       "  <tbody>\n",
       "    <tr>\n",
       "      <td>0</td>\n",
       "      <td>20</td>\n",
       "      <td>13000000.0</td>\n",
       "      <td>108.0</td>\n",
       "      <td>2019-03-07</td>\n",
       "      <td>3</td>\n",
       "      <td>2.70</td>\n",
       "      <td>16</td>\n",
       "      <td>51.0</td>\n",
       "      <td>8</td>\n",
       "      <td>False</td>\n",
       "      <td>...</td>\n",
       "      <td>0</td>\n",
       "      <td>Санкт-Петербург</td>\n",
       "      <td>18863</td>\n",
       "      <td>16028</td>\n",
       "      <td>1</td>\n",
       "      <td>482</td>\n",
       "      <td>2</td>\n",
       "      <td>755</td>\n",
       "      <td>0</td>\n",
       "      <td>120370.0</td>\n",
       "    </tr>\n",
       "    <tr>\n",
       "      <td>1</td>\n",
       "      <td>7</td>\n",
       "      <td>3350000.0</td>\n",
       "      <td>40.4</td>\n",
       "      <td>2018-12-04</td>\n",
       "      <td>1</td>\n",
       "      <td>2.50</td>\n",
       "      <td>11</td>\n",
       "      <td>18.6</td>\n",
       "      <td>1</td>\n",
       "      <td>False</td>\n",
       "      <td>...</td>\n",
       "      <td>2</td>\n",
       "      <td>Шушары</td>\n",
       "      <td>12817</td>\n",
       "      <td>18603</td>\n",
       "      <td>0</td>\n",
       "      <td>NaN</td>\n",
       "      <td>0</td>\n",
       "      <td>NaN</td>\n",
       "      <td>81</td>\n",
       "      <td>82921.0</td>\n",
       "    </tr>\n",
       "    <tr>\n",
       "      <td>2</td>\n",
       "      <td>10</td>\n",
       "      <td>5196000.0</td>\n",
       "      <td>56.0</td>\n",
       "      <td>2015-08-20</td>\n",
       "      <td>2</td>\n",
       "      <td>2.50</td>\n",
       "      <td>5</td>\n",
       "      <td>34.3</td>\n",
       "      <td>4</td>\n",
       "      <td>False</td>\n",
       "      <td>...</td>\n",
       "      <td>0</td>\n",
       "      <td>Санкт-Петербург</td>\n",
       "      <td>21741</td>\n",
       "      <td>13933</td>\n",
       "      <td>1</td>\n",
       "      <td>90</td>\n",
       "      <td>2</td>\n",
       "      <td>574</td>\n",
       "      <td>558</td>\n",
       "      <td>92786.0</td>\n",
       "    </tr>\n",
       "    <tr>\n",
       "      <td>4</td>\n",
       "      <td>2</td>\n",
       "      <td>10000000.0</td>\n",
       "      <td>100.0</td>\n",
       "      <td>2018-06-19</td>\n",
       "      <td>2</td>\n",
       "      <td>3.03</td>\n",
       "      <td>14</td>\n",
       "      <td>32.0</td>\n",
       "      <td>13</td>\n",
       "      <td>False</td>\n",
       "      <td>...</td>\n",
       "      <td>0</td>\n",
       "      <td>Санкт-Петербург</td>\n",
       "      <td>31856</td>\n",
       "      <td>8098</td>\n",
       "      <td>2</td>\n",
       "      <td>112</td>\n",
       "      <td>1</td>\n",
       "      <td>48</td>\n",
       "      <td>121</td>\n",
       "      <td>100000.0</td>\n",
       "    </tr>\n",
       "    <tr>\n",
       "      <td>5</td>\n",
       "      <td>10</td>\n",
       "      <td>2890000.0</td>\n",
       "      <td>30.4</td>\n",
       "      <td>2018-09-10</td>\n",
       "      <td>1</td>\n",
       "      <td>2.50</td>\n",
       "      <td>12</td>\n",
       "      <td>14.4</td>\n",
       "      <td>5</td>\n",
       "      <td>False</td>\n",
       "      <td>...</td>\n",
       "      <td>0</td>\n",
       "      <td>Янино-1</td>\n",
       "      <td>NaN</td>\n",
       "      <td>NaN</td>\n",
       "      <td>NaN</td>\n",
       "      <td>NaN</td>\n",
       "      <td>NaN</td>\n",
       "      <td>NaN</td>\n",
       "      <td>55</td>\n",
       "      <td>95066.0</td>\n",
       "    </tr>\n",
       "  </tbody>\n",
       "</table>\n",
       "<p>5 rows × 23 columns</p>\n",
       "</div>"
      ],
      "text/plain": [
       "   total_images  last_price  total_area first_day_exposition  rooms  \\\n",
       "0            20  13000000.0       108.0           2019-03-07      3   \n",
       "1             7   3350000.0        40.4           2018-12-04      1   \n",
       "2            10   5196000.0        56.0           2015-08-20      2   \n",
       "4             2  10000000.0       100.0           2018-06-19      2   \n",
       "5            10   2890000.0        30.4           2018-09-10      1   \n",
       "\n",
       "   ceiling_height  floors_total  living_area  floor  is_apartment  ...  \\\n",
       "0            2.70            16         51.0      8         False  ...   \n",
       "1            2.50            11         18.6      1         False  ...   \n",
       "2            2.50             5         34.3      4         False  ...   \n",
       "4            3.03            14         32.0     13         False  ...   \n",
       "5            2.50            12         14.4      5         False  ...   \n",
       "\n",
       "   balcony    locality_name  airports_nearest  cityCenters_nearest  \\\n",
       "0        0  Санкт-Петербург             18863                16028   \n",
       "1        2           Шушары             12817                18603   \n",
       "2        0  Санкт-Петербург             21741                13933   \n",
       "4        0  Санкт-Петербург             31856                 8098   \n",
       "5        0          Янино-1               NaN                  NaN   \n",
       "\n",
       "  parks_around3000  parks_nearest  ponds_around3000  ponds_nearest  \\\n",
       "0                1            482                 2            755   \n",
       "1                0            NaN                 0            NaN   \n",
       "2                1             90                 2            574   \n",
       "4                2            112                 1             48   \n",
       "5              NaN            NaN               NaN            NaN   \n",
       "\n",
       "   days_exposition  price_metr  \n",
       "0                0    120370.0  \n",
       "1               81     82921.0  \n",
       "2              558     92786.0  \n",
       "4              121    100000.0  \n",
       "5               55     95066.0  \n",
       "\n",
       "[5 rows x 23 columns]"
      ]
     },
     "execution_count": 52,
     "metadata": {},
     "output_type": "execute_result"
    }
   ],
   "source": [
    "# 1. Добавляем цену за метр кв\n",
    "good_data.loc[:, 'price_metr'] = round(good_data.loc[:, 'last_price'] / good_data.loc[:, 'total_area'])\n",
    "good_data.head()"
   ]
  },
  {
   "cell_type": "code",
   "execution_count": 53,
   "metadata": {},
   "outputs": [
    {
     "data": {
      "text/html": [
       "<div>\n",
       "<style scoped>\n",
       "    .dataframe tbody tr th:only-of-type {\n",
       "        vertical-align: middle;\n",
       "    }\n",
       "\n",
       "    .dataframe tbody tr th {\n",
       "        vertical-align: top;\n",
       "    }\n",
       "\n",
       "    .dataframe thead th {\n",
       "        text-align: right;\n",
       "    }\n",
       "</style>\n",
       "<table border=\"1\" class=\"dataframe\">\n",
       "  <thead>\n",
       "    <tr style=\"text-align: right;\">\n",
       "      <th></th>\n",
       "      <th>total_images</th>\n",
       "      <th>last_price</th>\n",
       "      <th>total_area</th>\n",
       "      <th>first_day_exposition</th>\n",
       "      <th>rooms</th>\n",
       "      <th>ceiling_height</th>\n",
       "      <th>floors_total</th>\n",
       "      <th>living_area</th>\n",
       "      <th>floor</th>\n",
       "      <th>is_apartment</th>\n",
       "      <th>...</th>\n",
       "      <th>cityCenters_nearest</th>\n",
       "      <th>parks_around3000</th>\n",
       "      <th>parks_nearest</th>\n",
       "      <th>ponds_around3000</th>\n",
       "      <th>ponds_nearest</th>\n",
       "      <th>days_exposition</th>\n",
       "      <th>price_metr</th>\n",
       "      <th>weekday</th>\n",
       "      <th>month</th>\n",
       "      <th>year</th>\n",
       "    </tr>\n",
       "  </thead>\n",
       "  <tbody>\n",
       "    <tr>\n",
       "      <td>0</td>\n",
       "      <td>20</td>\n",
       "      <td>13000000.0</td>\n",
       "      <td>108.0</td>\n",
       "      <td>2019-03-07</td>\n",
       "      <td>3</td>\n",
       "      <td>2.70</td>\n",
       "      <td>16</td>\n",
       "      <td>51.0</td>\n",
       "      <td>8</td>\n",
       "      <td>False</td>\n",
       "      <td>...</td>\n",
       "      <td>16028</td>\n",
       "      <td>1</td>\n",
       "      <td>482</td>\n",
       "      <td>2</td>\n",
       "      <td>755</td>\n",
       "      <td>0</td>\n",
       "      <td>120370.0</td>\n",
       "      <td>4</td>\n",
       "      <td>3</td>\n",
       "      <td>2019</td>\n",
       "    </tr>\n",
       "    <tr>\n",
       "      <td>1</td>\n",
       "      <td>7</td>\n",
       "      <td>3350000.0</td>\n",
       "      <td>40.4</td>\n",
       "      <td>2018-12-04</td>\n",
       "      <td>1</td>\n",
       "      <td>2.50</td>\n",
       "      <td>11</td>\n",
       "      <td>18.6</td>\n",
       "      <td>1</td>\n",
       "      <td>False</td>\n",
       "      <td>...</td>\n",
       "      <td>18603</td>\n",
       "      <td>0</td>\n",
       "      <td>NaN</td>\n",
       "      <td>0</td>\n",
       "      <td>NaN</td>\n",
       "      <td>81</td>\n",
       "      <td>82921.0</td>\n",
       "      <td>2</td>\n",
       "      <td>12</td>\n",
       "      <td>2018</td>\n",
       "    </tr>\n",
       "    <tr>\n",
       "      <td>2</td>\n",
       "      <td>10</td>\n",
       "      <td>5196000.0</td>\n",
       "      <td>56.0</td>\n",
       "      <td>2015-08-20</td>\n",
       "      <td>2</td>\n",
       "      <td>2.50</td>\n",
       "      <td>5</td>\n",
       "      <td>34.3</td>\n",
       "      <td>4</td>\n",
       "      <td>False</td>\n",
       "      <td>...</td>\n",
       "      <td>13933</td>\n",
       "      <td>1</td>\n",
       "      <td>90</td>\n",
       "      <td>2</td>\n",
       "      <td>574</td>\n",
       "      <td>558</td>\n",
       "      <td>92786.0</td>\n",
       "      <td>4</td>\n",
       "      <td>8</td>\n",
       "      <td>2015</td>\n",
       "    </tr>\n",
       "    <tr>\n",
       "      <td>4</td>\n",
       "      <td>2</td>\n",
       "      <td>10000000.0</td>\n",
       "      <td>100.0</td>\n",
       "      <td>2018-06-19</td>\n",
       "      <td>2</td>\n",
       "      <td>3.03</td>\n",
       "      <td>14</td>\n",
       "      <td>32.0</td>\n",
       "      <td>13</td>\n",
       "      <td>False</td>\n",
       "      <td>...</td>\n",
       "      <td>8098</td>\n",
       "      <td>2</td>\n",
       "      <td>112</td>\n",
       "      <td>1</td>\n",
       "      <td>48</td>\n",
       "      <td>121</td>\n",
       "      <td>100000.0</td>\n",
       "      <td>2</td>\n",
       "      <td>6</td>\n",
       "      <td>2018</td>\n",
       "    </tr>\n",
       "    <tr>\n",
       "      <td>5</td>\n",
       "      <td>10</td>\n",
       "      <td>2890000.0</td>\n",
       "      <td>30.4</td>\n",
       "      <td>2018-09-10</td>\n",
       "      <td>1</td>\n",
       "      <td>2.50</td>\n",
       "      <td>12</td>\n",
       "      <td>14.4</td>\n",
       "      <td>5</td>\n",
       "      <td>False</td>\n",
       "      <td>...</td>\n",
       "      <td>NaN</td>\n",
       "      <td>NaN</td>\n",
       "      <td>NaN</td>\n",
       "      <td>NaN</td>\n",
       "      <td>NaN</td>\n",
       "      <td>55</td>\n",
       "      <td>95066.0</td>\n",
       "      <td>1</td>\n",
       "      <td>9</td>\n",
       "      <td>2018</td>\n",
       "    </tr>\n",
       "  </tbody>\n",
       "</table>\n",
       "<p>5 rows × 26 columns</p>\n",
       "</div>"
      ],
      "text/plain": [
       "   total_images  last_price  total_area first_day_exposition  rooms  \\\n",
       "0            20  13000000.0       108.0           2019-03-07      3   \n",
       "1             7   3350000.0        40.4           2018-12-04      1   \n",
       "2            10   5196000.0        56.0           2015-08-20      2   \n",
       "4             2  10000000.0       100.0           2018-06-19      2   \n",
       "5            10   2890000.0        30.4           2018-09-10      1   \n",
       "\n",
       "   ceiling_height  floors_total  living_area  floor  is_apartment  ...  \\\n",
       "0            2.70            16         51.0      8         False  ...   \n",
       "1            2.50            11         18.6      1         False  ...   \n",
       "2            2.50             5         34.3      4         False  ...   \n",
       "4            3.03            14         32.0     13         False  ...   \n",
       "5            2.50            12         14.4      5         False  ...   \n",
       "\n",
       "   cityCenters_nearest  parks_around3000  parks_nearest  ponds_around3000  \\\n",
       "0                16028                 1            482                 2   \n",
       "1                18603                 0            NaN                 0   \n",
       "2                13933                 1             90                 2   \n",
       "4                 8098                 2            112                 1   \n",
       "5                  NaN               NaN            NaN               NaN   \n",
       "\n",
       "  ponds_nearest  days_exposition  price_metr  weekday  month  year  \n",
       "0           755                0    120370.0        4      3  2019  \n",
       "1           NaN               81     82921.0        2     12  2018  \n",
       "2           574              558     92786.0        4      8  2015  \n",
       "4            48              121    100000.0        2      6  2018  \n",
       "5           NaN               55     95066.0        1      9  2018  \n",
       "\n",
       "[5 rows x 26 columns]"
      ]
     },
     "execution_count": 53,
     "metadata": {},
     "output_type": "execute_result"
    }
   ],
   "source": [
    "# 2. Добавляем День Недели, Месяц, Год Публикации объявления\n",
    "good_data['weekday'] = good_data['first_day_exposition'].dt.weekday+1\n",
    "good_data['month'] = good_data['first_day_exposition'].dt.month\n",
    "good_data['year'] = good_data['first_day_exposition'].dt.year\n",
    "good_data.head()"
   ]
  },
  {
   "cell_type": "code",
   "execution_count": 54,
   "metadata": {},
   "outputs": [
    {
     "data": {
      "text/plain": [
       "'Последний'"
      ]
     },
     "execution_count": 54,
     "metadata": {},
     "output_type": "execute_result"
    }
   ],
   "source": [
    "#3. Этаж квартиры: 'Первый', 'Последний', 'Другой'\n",
    "# Создаем функцию и тестируем ее\n",
    "def flr(row):\n",
    "    if row['floor'] == row['floors_total']:\n",
    "        return 'Последний'\n",
    "    elif row['floor'] == 1:\n",
    "        return 'Первый'\n",
    "    return 'Другой'\n",
    "\n",
    "flr(good_data.loc[13])"
   ]
  },
  {
   "cell_type": "code",
   "execution_count": 55,
   "metadata": {},
   "outputs": [
    {
     "data": {
      "text/html": [
       "<div>\n",
       "<style scoped>\n",
       "    .dataframe tbody tr th:only-of-type {\n",
       "        vertical-align: middle;\n",
       "    }\n",
       "\n",
       "    .dataframe tbody tr th {\n",
       "        vertical-align: top;\n",
       "    }\n",
       "\n",
       "    .dataframe thead th {\n",
       "        text-align: right;\n",
       "    }\n",
       "</style>\n",
       "<table border=\"1\" class=\"dataframe\">\n",
       "  <thead>\n",
       "    <tr style=\"text-align: right;\">\n",
       "      <th></th>\n",
       "      <th>total_images</th>\n",
       "      <th>last_price</th>\n",
       "      <th>total_area</th>\n",
       "      <th>first_day_exposition</th>\n",
       "      <th>rooms</th>\n",
       "      <th>ceiling_height</th>\n",
       "      <th>floors_total</th>\n",
       "      <th>living_area</th>\n",
       "      <th>floor</th>\n",
       "      <th>is_apartment</th>\n",
       "      <th>...</th>\n",
       "      <th>parks_around3000</th>\n",
       "      <th>parks_nearest</th>\n",
       "      <th>ponds_around3000</th>\n",
       "      <th>ponds_nearest</th>\n",
       "      <th>days_exposition</th>\n",
       "      <th>price_metr</th>\n",
       "      <th>weekday</th>\n",
       "      <th>month</th>\n",
       "      <th>year</th>\n",
       "      <th>floor_group</th>\n",
       "    </tr>\n",
       "  </thead>\n",
       "  <tbody>\n",
       "    <tr>\n",
       "      <td>0</td>\n",
       "      <td>20</td>\n",
       "      <td>13000000.0</td>\n",
       "      <td>108.00</td>\n",
       "      <td>2019-03-07</td>\n",
       "      <td>3</td>\n",
       "      <td>2.70</td>\n",
       "      <td>16</td>\n",
       "      <td>51.000000</td>\n",
       "      <td>8</td>\n",
       "      <td>False</td>\n",
       "      <td>...</td>\n",
       "      <td>1</td>\n",
       "      <td>482</td>\n",
       "      <td>2</td>\n",
       "      <td>755</td>\n",
       "      <td>0</td>\n",
       "      <td>120370.0</td>\n",
       "      <td>4</td>\n",
       "      <td>3</td>\n",
       "      <td>2019</td>\n",
       "      <td>Другой</td>\n",
       "    </tr>\n",
       "    <tr>\n",
       "      <td>1</td>\n",
       "      <td>7</td>\n",
       "      <td>3350000.0</td>\n",
       "      <td>40.40</td>\n",
       "      <td>2018-12-04</td>\n",
       "      <td>1</td>\n",
       "      <td>2.50</td>\n",
       "      <td>11</td>\n",
       "      <td>18.600000</td>\n",
       "      <td>1</td>\n",
       "      <td>False</td>\n",
       "      <td>...</td>\n",
       "      <td>0</td>\n",
       "      <td>NaN</td>\n",
       "      <td>0</td>\n",
       "      <td>NaN</td>\n",
       "      <td>81</td>\n",
       "      <td>82921.0</td>\n",
       "      <td>2</td>\n",
       "      <td>12</td>\n",
       "      <td>2018</td>\n",
       "      <td>Первый</td>\n",
       "    </tr>\n",
       "    <tr>\n",
       "      <td>2</td>\n",
       "      <td>10</td>\n",
       "      <td>5196000.0</td>\n",
       "      <td>56.00</td>\n",
       "      <td>2015-08-20</td>\n",
       "      <td>2</td>\n",
       "      <td>2.50</td>\n",
       "      <td>5</td>\n",
       "      <td>34.300000</td>\n",
       "      <td>4</td>\n",
       "      <td>False</td>\n",
       "      <td>...</td>\n",
       "      <td>1</td>\n",
       "      <td>90</td>\n",
       "      <td>2</td>\n",
       "      <td>574</td>\n",
       "      <td>558</td>\n",
       "      <td>92786.0</td>\n",
       "      <td>4</td>\n",
       "      <td>8</td>\n",
       "      <td>2015</td>\n",
       "      <td>Другой</td>\n",
       "    </tr>\n",
       "    <tr>\n",
       "      <td>4</td>\n",
       "      <td>2</td>\n",
       "      <td>10000000.0</td>\n",
       "      <td>100.00</td>\n",
       "      <td>2018-06-19</td>\n",
       "      <td>2</td>\n",
       "      <td>3.03</td>\n",
       "      <td>14</td>\n",
       "      <td>32.000000</td>\n",
       "      <td>13</td>\n",
       "      <td>False</td>\n",
       "      <td>...</td>\n",
       "      <td>2</td>\n",
       "      <td>112</td>\n",
       "      <td>1</td>\n",
       "      <td>48</td>\n",
       "      <td>121</td>\n",
       "      <td>100000.0</td>\n",
       "      <td>2</td>\n",
       "      <td>6</td>\n",
       "      <td>2018</td>\n",
       "      <td>Другой</td>\n",
       "    </tr>\n",
       "    <tr>\n",
       "      <td>5</td>\n",
       "      <td>10</td>\n",
       "      <td>2890000.0</td>\n",
       "      <td>30.40</td>\n",
       "      <td>2018-09-10</td>\n",
       "      <td>1</td>\n",
       "      <td>2.50</td>\n",
       "      <td>12</td>\n",
       "      <td>14.400000</td>\n",
       "      <td>5</td>\n",
       "      <td>False</td>\n",
       "      <td>...</td>\n",
       "      <td>NaN</td>\n",
       "      <td>NaN</td>\n",
       "      <td>NaN</td>\n",
       "      <td>NaN</td>\n",
       "      <td>55</td>\n",
       "      <td>95066.0</td>\n",
       "      <td>1</td>\n",
       "      <td>9</td>\n",
       "      <td>2018</td>\n",
       "      <td>Другой</td>\n",
       "    </tr>\n",
       "    <tr>\n",
       "      <td>6</td>\n",
       "      <td>6</td>\n",
       "      <td>3700000.0</td>\n",
       "      <td>37.30</td>\n",
       "      <td>2017-11-02</td>\n",
       "      <td>1</td>\n",
       "      <td>2.50</td>\n",
       "      <td>26</td>\n",
       "      <td>10.600000</td>\n",
       "      <td>6</td>\n",
       "      <td>False</td>\n",
       "      <td>...</td>\n",
       "      <td>0</td>\n",
       "      <td>NaN</td>\n",
       "      <td>0</td>\n",
       "      <td>NaN</td>\n",
       "      <td>155</td>\n",
       "      <td>99196.0</td>\n",
       "      <td>4</td>\n",
       "      <td>11</td>\n",
       "      <td>2017</td>\n",
       "      <td>Другой</td>\n",
       "    </tr>\n",
       "    <tr>\n",
       "      <td>7</td>\n",
       "      <td>5</td>\n",
       "      <td>7915000.0</td>\n",
       "      <td>71.60</td>\n",
       "      <td>2019-04-18</td>\n",
       "      <td>2</td>\n",
       "      <td>2.50</td>\n",
       "      <td>24</td>\n",
       "      <td>41.203774</td>\n",
       "      <td>22</td>\n",
       "      <td>False</td>\n",
       "      <td>...</td>\n",
       "      <td>0</td>\n",
       "      <td>NaN</td>\n",
       "      <td>0</td>\n",
       "      <td>NaN</td>\n",
       "      <td>0</td>\n",
       "      <td>110545.0</td>\n",
       "      <td>4</td>\n",
       "      <td>4</td>\n",
       "      <td>2019</td>\n",
       "      <td>Другой</td>\n",
       "    </tr>\n",
       "    <tr>\n",
       "      <td>8</td>\n",
       "      <td>20</td>\n",
       "      <td>2900000.0</td>\n",
       "      <td>33.16</td>\n",
       "      <td>2018-05-23</td>\n",
       "      <td>1</td>\n",
       "      <td>2.50</td>\n",
       "      <td>27</td>\n",
       "      <td>15.430000</td>\n",
       "      <td>26</td>\n",
       "      <td>False</td>\n",
       "      <td>...</td>\n",
       "      <td>NaN</td>\n",
       "      <td>NaN</td>\n",
       "      <td>NaN</td>\n",
       "      <td>NaN</td>\n",
       "      <td>189</td>\n",
       "      <td>87455.0</td>\n",
       "      <td>3</td>\n",
       "      <td>5</td>\n",
       "      <td>2018</td>\n",
       "      <td>Другой</td>\n",
       "    </tr>\n",
       "    <tr>\n",
       "      <td>9</td>\n",
       "      <td>18</td>\n",
       "      <td>5400000.0</td>\n",
       "      <td>61.00</td>\n",
       "      <td>2017-02-26</td>\n",
       "      <td>3</td>\n",
       "      <td>2.50</td>\n",
       "      <td>9</td>\n",
       "      <td>43.600000</td>\n",
       "      <td>7</td>\n",
       "      <td>False</td>\n",
       "      <td>...</td>\n",
       "      <td>0</td>\n",
       "      <td>NaN</td>\n",
       "      <td>0</td>\n",
       "      <td>NaN</td>\n",
       "      <td>289</td>\n",
       "      <td>88525.0</td>\n",
       "      <td>7</td>\n",
       "      <td>2</td>\n",
       "      <td>2017</td>\n",
       "      <td>Другой</td>\n",
       "    </tr>\n",
       "    <tr>\n",
       "      <td>10</td>\n",
       "      <td>5</td>\n",
       "      <td>5050000.0</td>\n",
       "      <td>39.60</td>\n",
       "      <td>2017-11-16</td>\n",
       "      <td>1</td>\n",
       "      <td>2.67</td>\n",
       "      <td>12</td>\n",
       "      <td>20.300000</td>\n",
       "      <td>3</td>\n",
       "      <td>False</td>\n",
       "      <td>...</td>\n",
       "      <td>1</td>\n",
       "      <td>310</td>\n",
       "      <td>2</td>\n",
       "      <td>553</td>\n",
       "      <td>137</td>\n",
       "      <td>127525.0</td>\n",
       "      <td>4</td>\n",
       "      <td>11</td>\n",
       "      <td>2017</td>\n",
       "      <td>Другой</td>\n",
       "    </tr>\n",
       "    <tr>\n",
       "      <td>11</td>\n",
       "      <td>9</td>\n",
       "      <td>3300000.0</td>\n",
       "      <td>44.00</td>\n",
       "      <td>2018-08-27</td>\n",
       "      <td>2</td>\n",
       "      <td>2.50</td>\n",
       "      <td>5</td>\n",
       "      <td>31.000000</td>\n",
       "      <td>4</td>\n",
       "      <td>False</td>\n",
       "      <td>...</td>\n",
       "      <td>0</td>\n",
       "      <td>NaN</td>\n",
       "      <td>0</td>\n",
       "      <td>NaN</td>\n",
       "      <td>7</td>\n",
       "      <td>75000.0</td>\n",
       "      <td>1</td>\n",
       "      <td>8</td>\n",
       "      <td>2018</td>\n",
       "      <td>Другой</td>\n",
       "    </tr>\n",
       "    <tr>\n",
       "      <td>12</td>\n",
       "      <td>10</td>\n",
       "      <td>3890000.0</td>\n",
       "      <td>54.00</td>\n",
       "      <td>2016-06-30</td>\n",
       "      <td>2</td>\n",
       "      <td>2.50</td>\n",
       "      <td>5</td>\n",
       "      <td>30.000000</td>\n",
       "      <td>5</td>\n",
       "      <td>False</td>\n",
       "      <td>...</td>\n",
       "      <td>NaN</td>\n",
       "      <td>NaN</td>\n",
       "      <td>NaN</td>\n",
       "      <td>NaN</td>\n",
       "      <td>90</td>\n",
       "      <td>72037.0</td>\n",
       "      <td>4</td>\n",
       "      <td>6</td>\n",
       "      <td>2016</td>\n",
       "      <td>Последний</td>\n",
       "    </tr>\n",
       "    <tr>\n",
       "      <td>13</td>\n",
       "      <td>20</td>\n",
       "      <td>3550000.0</td>\n",
       "      <td>42.80</td>\n",
       "      <td>2017-07-01</td>\n",
       "      <td>2</td>\n",
       "      <td>2.56</td>\n",
       "      <td>5</td>\n",
       "      <td>27.000000</td>\n",
       "      <td>5</td>\n",
       "      <td>False</td>\n",
       "      <td>...</td>\n",
       "      <td>1</td>\n",
       "      <td>294</td>\n",
       "      <td>3</td>\n",
       "      <td>298</td>\n",
       "      <td>366</td>\n",
       "      <td>82944.0</td>\n",
       "      <td>6</td>\n",
       "      <td>7</td>\n",
       "      <td>2017</td>\n",
       "      <td>Последний</td>\n",
       "    </tr>\n",
       "  </tbody>\n",
       "</table>\n",
       "<p>13 rows × 27 columns</p>\n",
       "</div>"
      ],
      "text/plain": [
       "    total_images  last_price  total_area first_day_exposition  rooms  \\\n",
       "0             20  13000000.0      108.00           2019-03-07      3   \n",
       "1              7   3350000.0       40.40           2018-12-04      1   \n",
       "2             10   5196000.0       56.00           2015-08-20      2   \n",
       "4              2  10000000.0      100.00           2018-06-19      2   \n",
       "5             10   2890000.0       30.40           2018-09-10      1   \n",
       "6              6   3700000.0       37.30           2017-11-02      1   \n",
       "7              5   7915000.0       71.60           2019-04-18      2   \n",
       "8             20   2900000.0       33.16           2018-05-23      1   \n",
       "9             18   5400000.0       61.00           2017-02-26      3   \n",
       "10             5   5050000.0       39.60           2017-11-16      1   \n",
       "11             9   3300000.0       44.00           2018-08-27      2   \n",
       "12            10   3890000.0       54.00           2016-06-30      2   \n",
       "13            20   3550000.0       42.80           2017-07-01      2   \n",
       "\n",
       "    ceiling_height  floors_total  living_area  floor  is_apartment  ...  \\\n",
       "0             2.70            16    51.000000      8         False  ...   \n",
       "1             2.50            11    18.600000      1         False  ...   \n",
       "2             2.50             5    34.300000      4         False  ...   \n",
       "4             3.03            14    32.000000     13         False  ...   \n",
       "5             2.50            12    14.400000      5         False  ...   \n",
       "6             2.50            26    10.600000      6         False  ...   \n",
       "7             2.50            24    41.203774     22         False  ...   \n",
       "8             2.50            27    15.430000     26         False  ...   \n",
       "9             2.50             9    43.600000      7         False  ...   \n",
       "10            2.67            12    20.300000      3         False  ...   \n",
       "11            2.50             5    31.000000      4         False  ...   \n",
       "12            2.50             5    30.000000      5         False  ...   \n",
       "13            2.56             5    27.000000      5         False  ...   \n",
       "\n",
       "    parks_around3000  parks_nearest  ponds_around3000  ponds_nearest  \\\n",
       "0                  1            482                 2            755   \n",
       "1                  0            NaN                 0            NaN   \n",
       "2                  1             90                 2            574   \n",
       "4                  2            112                 1             48   \n",
       "5                NaN            NaN               NaN            NaN   \n",
       "6                  0            NaN                 0            NaN   \n",
       "7                  0            NaN                 0            NaN   \n",
       "8                NaN            NaN               NaN            NaN   \n",
       "9                  0            NaN                 0            NaN   \n",
       "10                 1            310                 2            553   \n",
       "11                 0            NaN                 0            NaN   \n",
       "12               NaN            NaN               NaN            NaN   \n",
       "13                 1            294                 3            298   \n",
       "\n",
       "   days_exposition  price_metr  weekday  month  year  floor_group  \n",
       "0                0    120370.0        4      3  2019       Другой  \n",
       "1               81     82921.0        2     12  2018       Первый  \n",
       "2              558     92786.0        4      8  2015       Другой  \n",
       "4              121    100000.0        2      6  2018       Другой  \n",
       "5               55     95066.0        1      9  2018       Другой  \n",
       "6              155     99196.0        4     11  2017       Другой  \n",
       "7                0    110545.0        4      4  2019       Другой  \n",
       "8              189     87455.0        3      5  2018       Другой  \n",
       "9              289     88525.0        7      2  2017       Другой  \n",
       "10             137    127525.0        4     11  2017       Другой  \n",
       "11               7     75000.0        1      8  2018       Другой  \n",
       "12              90     72037.0        4      6  2016    Последний  \n",
       "13             366     82944.0        6      7  2017    Последний  \n",
       "\n",
       "[13 rows x 27 columns]"
      ]
     },
     "execution_count": 55,
     "metadata": {},
     "output_type": "execute_result"
    }
   ],
   "source": [
    "good_data['floor_group'] = good_data.apply(flr, axis=1)\n",
    "good_data.head(13)"
   ]
  },
  {
   "cell_type": "code",
   "execution_count": 56,
   "metadata": {},
   "outputs": [
    {
     "data": {
      "text/html": [
       "<div>\n",
       "<style scoped>\n",
       "    .dataframe tbody tr th:only-of-type {\n",
       "        vertical-align: middle;\n",
       "    }\n",
       "\n",
       "    .dataframe tbody tr th {\n",
       "        vertical-align: top;\n",
       "    }\n",
       "\n",
       "    .dataframe thead th {\n",
       "        text-align: right;\n",
       "    }\n",
       "</style>\n",
       "<table border=\"1\" class=\"dataframe\">\n",
       "  <thead>\n",
       "    <tr style=\"text-align: right;\">\n",
       "      <th></th>\n",
       "      <th>total_images</th>\n",
       "      <th>last_price</th>\n",
       "      <th>total_area</th>\n",
       "      <th>first_day_exposition</th>\n",
       "      <th>rooms</th>\n",
       "      <th>ceiling_height</th>\n",
       "      <th>floors_total</th>\n",
       "      <th>living_area</th>\n",
       "      <th>floor</th>\n",
       "      <th>is_apartment</th>\n",
       "      <th>...</th>\n",
       "      <th>ponds_around3000</th>\n",
       "      <th>ponds_nearest</th>\n",
       "      <th>days_exposition</th>\n",
       "      <th>price_metr</th>\n",
       "      <th>weekday</th>\n",
       "      <th>month</th>\n",
       "      <th>year</th>\n",
       "      <th>floor_group</th>\n",
       "      <th>part_living</th>\n",
       "      <th>part_kitchen</th>\n",
       "    </tr>\n",
       "  </thead>\n",
       "  <tbody>\n",
       "    <tr>\n",
       "      <td>0</td>\n",
       "      <td>20</td>\n",
       "      <td>13000000.0</td>\n",
       "      <td>108.0</td>\n",
       "      <td>2019-03-07</td>\n",
       "      <td>3</td>\n",
       "      <td>2.70</td>\n",
       "      <td>16</td>\n",
       "      <td>51.0</td>\n",
       "      <td>8</td>\n",
       "      <td>False</td>\n",
       "      <td>...</td>\n",
       "      <td>2</td>\n",
       "      <td>755</td>\n",
       "      <td>0</td>\n",
       "      <td>120370.0</td>\n",
       "      <td>4</td>\n",
       "      <td>3</td>\n",
       "      <td>2019</td>\n",
       "      <td>Другой</td>\n",
       "      <td>0.472222</td>\n",
       "      <td>0.231481</td>\n",
       "    </tr>\n",
       "    <tr>\n",
       "      <td>1</td>\n",
       "      <td>7</td>\n",
       "      <td>3350000.0</td>\n",
       "      <td>40.4</td>\n",
       "      <td>2018-12-04</td>\n",
       "      <td>1</td>\n",
       "      <td>2.50</td>\n",
       "      <td>11</td>\n",
       "      <td>18.6</td>\n",
       "      <td>1</td>\n",
       "      <td>False</td>\n",
       "      <td>...</td>\n",
       "      <td>0</td>\n",
       "      <td>NaN</td>\n",
       "      <td>81</td>\n",
       "      <td>82921.0</td>\n",
       "      <td>2</td>\n",
       "      <td>12</td>\n",
       "      <td>2018</td>\n",
       "      <td>Первый</td>\n",
       "      <td>0.460396</td>\n",
       "      <td>0.272277</td>\n",
       "    </tr>\n",
       "    <tr>\n",
       "      <td>2</td>\n",
       "      <td>10</td>\n",
       "      <td>5196000.0</td>\n",
       "      <td>56.0</td>\n",
       "      <td>2015-08-20</td>\n",
       "      <td>2</td>\n",
       "      <td>2.50</td>\n",
       "      <td>5</td>\n",
       "      <td>34.3</td>\n",
       "      <td>4</td>\n",
       "      <td>False</td>\n",
       "      <td>...</td>\n",
       "      <td>2</td>\n",
       "      <td>574</td>\n",
       "      <td>558</td>\n",
       "      <td>92786.0</td>\n",
       "      <td>4</td>\n",
       "      <td>8</td>\n",
       "      <td>2015</td>\n",
       "      <td>Другой</td>\n",
       "      <td>0.612500</td>\n",
       "      <td>0.148214</td>\n",
       "    </tr>\n",
       "    <tr>\n",
       "      <td>4</td>\n",
       "      <td>2</td>\n",
       "      <td>10000000.0</td>\n",
       "      <td>100.0</td>\n",
       "      <td>2018-06-19</td>\n",
       "      <td>2</td>\n",
       "      <td>3.03</td>\n",
       "      <td>14</td>\n",
       "      <td>32.0</td>\n",
       "      <td>13</td>\n",
       "      <td>False</td>\n",
       "      <td>...</td>\n",
       "      <td>1</td>\n",
       "      <td>48</td>\n",
       "      <td>121</td>\n",
       "      <td>100000.0</td>\n",
       "      <td>2</td>\n",
       "      <td>6</td>\n",
       "      <td>2018</td>\n",
       "      <td>Другой</td>\n",
       "      <td>0.320000</td>\n",
       "      <td>0.410000</td>\n",
       "    </tr>\n",
       "    <tr>\n",
       "      <td>5</td>\n",
       "      <td>10</td>\n",
       "      <td>2890000.0</td>\n",
       "      <td>30.4</td>\n",
       "      <td>2018-09-10</td>\n",
       "      <td>1</td>\n",
       "      <td>2.50</td>\n",
       "      <td>12</td>\n",
       "      <td>14.4</td>\n",
       "      <td>5</td>\n",
       "      <td>False</td>\n",
       "      <td>...</td>\n",
       "      <td>NaN</td>\n",
       "      <td>NaN</td>\n",
       "      <td>55</td>\n",
       "      <td>95066.0</td>\n",
       "      <td>1</td>\n",
       "      <td>9</td>\n",
       "      <td>2018</td>\n",
       "      <td>Другой</td>\n",
       "      <td>0.473684</td>\n",
       "      <td>0.299342</td>\n",
       "    </tr>\n",
       "  </tbody>\n",
       "</table>\n",
       "<p>5 rows × 29 columns</p>\n",
       "</div>"
      ],
      "text/plain": [
       "   total_images  last_price  total_area first_day_exposition  rooms  \\\n",
       "0            20  13000000.0       108.0           2019-03-07      3   \n",
       "1             7   3350000.0        40.4           2018-12-04      1   \n",
       "2            10   5196000.0        56.0           2015-08-20      2   \n",
       "4             2  10000000.0       100.0           2018-06-19      2   \n",
       "5            10   2890000.0        30.4           2018-09-10      1   \n",
       "\n",
       "   ceiling_height  floors_total  living_area  floor  is_apartment  ...  \\\n",
       "0            2.70            16         51.0      8         False  ...   \n",
       "1            2.50            11         18.6      1         False  ...   \n",
       "2            2.50             5         34.3      4         False  ...   \n",
       "4            3.03            14         32.0     13         False  ...   \n",
       "5            2.50            12         14.4      5         False  ...   \n",
       "\n",
       "   ponds_around3000  ponds_nearest  days_exposition  price_metr weekday  \\\n",
       "0                 2            755                0    120370.0       4   \n",
       "1                 0            NaN               81     82921.0       2   \n",
       "2                 2            574              558     92786.0       4   \n",
       "4                 1             48              121    100000.0       2   \n",
       "5               NaN            NaN               55     95066.0       1   \n",
       "\n",
       "   month  year  floor_group  part_living  part_kitchen  \n",
       "0      3  2019       Другой     0.472222      0.231481  \n",
       "1     12  2018       Первый     0.460396      0.272277  \n",
       "2      8  2015       Другой     0.612500      0.148214  \n",
       "4      6  2018       Другой     0.320000      0.410000  \n",
       "5      9  2018       Другой     0.473684      0.299342  \n",
       "\n",
       "[5 rows x 29 columns]"
      ]
     },
     "execution_count": 56,
     "metadata": {},
     "output_type": "execute_result"
    }
   ],
   "source": [
    "# 4. Соотношения Жилой и Общей площади, Площадь Кухни к общей площади\n",
    "good_data['part_living'] = good_data['living_area'] / good_data['total_area']\n",
    "good_data['part_kitchen'] = good_data['kitchen_area'] / good_data['total_area']\n",
    "\n",
    "good_data.head()"
   ]
  },
  {
   "cell_type": "code",
   "execution_count": 57,
   "metadata": {},
   "outputs": [
    {
     "data": {
      "text/plain": [
       "[Text(0, 0.5, 'cityCenters_nearest'), (0, 300000), Text(0.5, 0, 'price_metr')]"
      ]
     },
     "execution_count": 57,
     "metadata": {},
     "output_type": "execute_result"
    },
    {
     "data": {
      "image/png": "[encoded data removed]",
      "text/plain": [
       "<Figure size 432x288 with 1 Axes>"
      ]
     },
     "metadata": {
      "needs_background": "light"
     },
     "output_type": "display_data"
    }
   ],
   "source": [
    "# 5. Диаграмма scatter plot\n",
    "plt.scatter(good_data.price_metr, good_data.cityCenters_nearest)\n",
    "plt.gca().set(xlim=(0, 300000), xlabel='price_metr', ylabel='cityCenters_nearest')\n",
    "# На графике очень хорошо прослеживается динамика при приближении к центру города, цена за кв. метр возрастает\n",
    "# Но есть и странные значения где всё наоборот. С этими значениями нужно явно поработать"
   ]
  },
  {
   "cell_type": "markdown",
   "metadata": {},
   "source": [
    "### Шаг 4. Проведите исследовательский анализ данных и выполните инструкции:"
   ]
  },
  {
   "cell_type": "code",
   "execution_count": 58,
   "metadata": {},
   "outputs": [
    {
     "data": {
      "text/plain": [
       "array([<matplotlib.axes._subplots.AxesSubplot object at 0x7f48387d42d0>],\n",
       "      dtype=object)"
      ]
     },
     "execution_count": 58,
     "metadata": {},
     "output_type": "execute_result"
    },
    {
     "data": {
      "image/png": "[encoded data removed]",
      "text/plain": [
       "<Figure size 720x432 with 1 Axes>"
      ]
     },
     "metadata": {
      "needs_background": "light"
     },
     "output_type": "display_data"
    }
   ],
   "source": [
    "# Совместим данные по Площади: Общая, Жилая и Кухня\n",
    "ax = good_data.hist('total_area', bins=100, range=(20, 150), figsize=(10, 6))\n",
    "good_data.hist('living_area', bins=100, range=(20, 150), ax=ax)\n",
    "good_data.hist('kitchen_area', bins=100, range=(20, 150), ax=ax)\n",
    "# Очень странно. Похоже на то что местами жилая зона больше общей, это надо исправлять.\n",
    "# Вариантов тут несколько: Расширять общую площать, сокращать жилую или кухонную. Т.к. быстро это не понять\n",
    "# а на результат задания это сильно не влияет, пока просто обращу на это внимание."
   ]
  },
  {
   "cell_type": "code",
   "execution_count": 59,
   "metadata": {},
   "outputs": [
    {
     "data": {
      "text/plain": [
       "array([[<matplotlib.axes._subplots.AxesSubplot object at 0x7f4838569b90>]],\n",
       "      dtype=object)"
      ]
     },
     "execution_count": 59,
     "metadata": {},
     "output_type": "execute_result"
    },
    {
     "data": {
      "image/png": "[encoded data removed]",
      "text/plain": [
       "<Figure size 432x288 with 1 Axes>"
      ]
     },
     "metadata": {
      "needs_background": "light"
     },
     "output_type": "display_data"
    }
   ],
   "source": [
    "good_data.hist('ceiling_height', bins=50, range=(2.4, 4))"
   ]
  },
  {
   "cell_type": "code",
   "execution_count": 60,
   "metadata": {},
   "outputs": [
    {
     "data": {
      "text/plain": [
       "array([[<matplotlib.axes._subplots.AxesSubplot object at 0x7f48384b9790>]],\n",
       "      dtype=object)"
      ]
     },
     "execution_count": 60,
     "metadata": {},
     "output_type": "execute_result"
    },
    {
     "data": {
      "image/png": "[encoded data removed]",
      "text/plain": [
       "<Figure size 432x288 with 1 Axes>"
      ]
     },
     "metadata": {
      "needs_background": "light"
     },
     "output_type": "display_data"
    }
   ],
   "source": [
    "good_data.hist('rooms', bins=7, range=(0, 6))"
   ]
  },
  {
   "cell_type": "code",
   "execution_count": 61,
   "metadata": {},
   "outputs": [
    {
     "data": {
      "text/html": [
       "<div>\n",
       "<style scoped>\n",
       "    .dataframe tbody tr th:only-of-type {\n",
       "        vertical-align: middle;\n",
       "    }\n",
       "\n",
       "    .dataframe tbody tr th {\n",
       "        vertical-align: top;\n",
       "    }\n",
       "\n",
       "    .dataframe thead th {\n",
       "        text-align: right;\n",
       "    }\n",
       "</style>\n",
       "<table border=\"1\" class=\"dataframe\">\n",
       "  <thead>\n",
       "    <tr style=\"text-align: right;\">\n",
       "      <th></th>\n",
       "      <th>count_rooms</th>\n",
       "    </tr>\n",
       "    <tr>\n",
       "      <th>rooms</th>\n",
       "      <th></th>\n",
       "    </tr>\n",
       "  </thead>\n",
       "  <tbody>\n",
       "    <tr>\n",
       "      <td>0</td>\n",
       "      <td>188</td>\n",
       "    </tr>\n",
       "    <tr>\n",
       "      <td>1</td>\n",
       "      <td>8005</td>\n",
       "    </tr>\n",
       "    <tr>\n",
       "      <td>2</td>\n",
       "      <td>7846</td>\n",
       "    </tr>\n",
       "    <tr>\n",
       "      <td>3</td>\n",
       "      <td>5534</td>\n",
       "    </tr>\n",
       "    <tr>\n",
       "      <td>4</td>\n",
       "      <td>951</td>\n",
       "    </tr>\n",
       "    <tr>\n",
       "      <td>5</td>\n",
       "      <td>174</td>\n",
       "    </tr>\n",
       "    <tr>\n",
       "      <td>6</td>\n",
       "      <td>23</td>\n",
       "    </tr>\n",
       "    <tr>\n",
       "      <td>7</td>\n",
       "      <td>5</td>\n",
       "    </tr>\n",
       "    <tr>\n",
       "      <td>8</td>\n",
       "      <td>1</td>\n",
       "    </tr>\n",
       "  </tbody>\n",
       "</table>\n",
       "</div>"
      ],
      "text/plain": [
       "       count_rooms\n",
       "rooms             \n",
       "0              188\n",
       "1             8005\n",
       "2             7846\n",
       "3             5534\n",
       "4              951\n",
       "5              174\n",
       "6               23\n",
       "7                5\n",
       "8                1"
      ]
     },
     "execution_count": 61,
     "metadata": {},
     "output_type": "execute_result"
    }
   ],
   "source": [
    "pvt = good_data.pivot_table(index='rooms', aggfunc='count', values='last_price')\n",
    "pvt.columns = ['count_rooms']\n",
    "pvt"
   ]
  },
  {
   "cell_type": "markdown",
   "metadata": {},
   "source": [
    "Данные по цене, площади и высоте потолков уже скорректированы и просмотрены ранее.\n",
    "Выводы по ним следующие:\n",
    " - **Цены**: Адекватные цены от 400 тыс до 20 млн.;\n",
    " - **Площадь**: Нормальный диапазон от 20 до 150 м.кв, медиана по площади 51 м.кв;\n",
    " - **Высота потолков**: Большинство квартир имеет высоту потолков = 2,5 м. Нормальный диапазон от 2,4 м до 4 м. \n",
    "     Всё что не входит в этот диапазон является выбросом;\n",
    " - **Кол-во комнат**: Большинство квартир это 1 и 2 комнатные, меньше 3х комнатных, всё остальное существенно меньше"
   ]
  },
  {
   "cell_type": "markdown",
   "metadata": {},
   "source": [
    "## Время продажи квартиры\n",
    "Постройте гистограмму. Посчитайте среднее и медиану. Опишите, сколько обычно занимает продажа. Когда можно считать, что продажи прошли очень быстро, а когда необычно долго?\""
   ]
  },
  {
   "cell_type": "code",
   "execution_count": 62,
   "metadata": {},
   "outputs": [
    {
     "data": {
      "text/plain": [
       "array([[<matplotlib.axes._subplots.AxesSubplot object at 0x7f483836e950>]],\n",
       "      dtype=object)"
      ]
     },
     "execution_count": 62,
     "metadata": {},
     "output_type": "execute_result"
    },
    {
     "data": {
      "image/png": "[encoded data removed]",
      "text/plain": [
       "<Figure size 432x288 with 1 Axes>"
      ]
     },
     "metadata": {
      "needs_background": "light"
     },
     "output_type": "display_data"
    }
   ],
   "source": [
    "# Резко выделяется кол-во дней = 45, 60 и 90 возможно система автоматически закрывает объявления в этом промежутке\n",
    "# Думаю при оценке результатов лучше будет избавиться от этих полей\n",
    "good_data.hist('days_exposition', bins=50, range=(1, 100))"
   ]
  },
  {
   "cell_type": "code",
   "execution_count": 63,
   "metadata": {},
   "outputs": [
    {
     "data": {
      "text/plain": [
       "0     2940\n",
       "45     875\n",
       "60     538\n",
       "Name: days_exposition, dtype: int64"
      ]
     },
     "execution_count": 63,
     "metadata": {},
     "output_type": "execute_result"
    }
   ],
   "source": [
    "good_data['days_exposition'].value_counts().head(3)"
   ]
  },
  {
   "cell_type": "code",
   "execution_count": 64,
   "metadata": {},
   "outputs": [
    {
     "name": "stdout",
     "output_type": "stream",
     "text": [
      "<class 'pandas.core.frame.DataFrame'>\n",
      "Int64Index: 22727 entries, 0 to 23698\n",
      "Data columns (total 29 columns):\n",
      "total_images            22727 non-null int64\n",
      "last_price              22727 non-null float64\n",
      "total_area              22727 non-null float64\n",
      "first_day_exposition    22727 non-null datetime64[ns]\n",
      "rooms                   22727 non-null int64\n",
      "ceiling_height          22727 non-null float64\n",
      "floors_total            22727 non-null Int64\n",
      "living_area             22727 non-null float64\n",
      "floor                   22727 non-null int64\n",
      "is_apartment            22727 non-null bool\n",
      "studio                  22727 non-null bool\n",
      "open_plan               22727 non-null bool\n",
      "kitchen_area            22727 non-null float64\n",
      "balcony                 22727 non-null int64\n",
      "locality_name           22727 non-null object\n",
      "airports_nearest        17229 non-null Int64\n",
      "cityCenters_nearest     17246 non-null Int64\n",
      "parks_around3000        17247 non-null Int64\n",
      "parks_nearest           7438 non-null Int64\n",
      "ponds_around3000        17247 non-null Int64\n",
      "ponds_nearest           8438 non-null Int64\n",
      "days_exposition         22727 non-null int64\n",
      "price_metr              22727 non-null float64\n",
      "weekday                 22727 non-null int64\n",
      "month                   22727 non-null int64\n",
      "year                    22727 non-null int64\n",
      "floor_group             22727 non-null object\n",
      "part_living             22727 non-null float64\n",
      "part_kitchen            22727 non-null float64\n",
      "dtypes: Int64(7), bool(3), datetime64[ns](1), float64(8), int64(8), object(2)\n",
      "memory usage: 5.5+ MB\n"
     ]
    }
   ],
   "source": [
    "good_data.info()"
   ]
  },
  {
   "cell_type": "code",
   "execution_count": 65,
   "metadata": {},
   "outputs": [
    {
     "data": {
      "text/plain": [
       "array([[<matplotlib.axes._subplots.AxesSubplot object at 0x7f48381754d0>]],\n",
       "      dtype=object)"
      ]
     },
     "execution_count": 65,
     "metadata": {},
     "output_type": "execute_result"
    },
    {
     "data": {
      "image/png": "[encoded data removed]",
      "text/plain": [
       "<Figure size 432x288 with 1 Axes>"
      ]
     },
     "metadata": {
      "needs_background": "light"
     },
     "output_type": "display_data"
    },
    {
     "data": {
      "image/png": "[encoded data removed]",
      "text/plain": [
       "<Figure size 432x288 with 1 Axes>"
      ]
     },
     "metadata": {
      "needs_background": "light"
     },
     "output_type": "display_data"
    }
   ],
   "source": [
    "# Построим диаграмму без автоматического закрытия в периоды 45, 60 и 90 дней\n",
    "our_list = [45, 60, 90]\n",
    "good_data.query('days_exposition not in @our_list').hist('days_exposition', bins=50, range=(1, 101))\n",
    "\n",
    "good_data.hist('days_exposition', bins=50, range=(1, 100))"
   ]
  },
  {
   "cell_type": "code",
   "execution_count": 66,
   "metadata": {},
   "outputs": [
    {
     "data": {
      "text/html": [
       "<div>\n",
       "<style scoped>\n",
       "    .dataframe tbody tr th:only-of-type {\n",
       "        vertical-align: middle;\n",
       "    }\n",
       "\n",
       "    .dataframe tbody tr th {\n",
       "        vertical-align: top;\n",
       "    }\n",
       "\n",
       "    .dataframe thead th {\n",
       "        text-align: right;\n",
       "    }\n",
       "</style>\n",
       "<table border=\"1\" class=\"dataframe\">\n",
       "  <thead>\n",
       "    <tr style=\"text-align: right;\">\n",
       "      <th></th>\n",
       "      <th>total_images</th>\n",
       "      <th>last_price</th>\n",
       "      <th>total_area</th>\n",
       "      <th>rooms</th>\n",
       "      <th>ceiling_height</th>\n",
       "      <th>floors_total</th>\n",
       "      <th>living_area</th>\n",
       "      <th>floor</th>\n",
       "      <th>kitchen_area</th>\n",
       "      <th>balcony</th>\n",
       "      <th>...</th>\n",
       "      <th>parks_nearest</th>\n",
       "      <th>ponds_around3000</th>\n",
       "      <th>ponds_nearest</th>\n",
       "      <th>days_exposition</th>\n",
       "      <th>price_metr</th>\n",
       "      <th>weekday</th>\n",
       "      <th>month</th>\n",
       "      <th>year</th>\n",
       "      <th>part_living</th>\n",
       "      <th>part_kitchen</th>\n",
       "    </tr>\n",
       "  </thead>\n",
       "  <tbody>\n",
       "    <tr>\n",
       "      <td>count</td>\n",
       "      <td>21148.000000</td>\n",
       "      <td>2.114800e+04</td>\n",
       "      <td>21148.000000</td>\n",
       "      <td>21148.000000</td>\n",
       "      <td>21148.000000</td>\n",
       "      <td>21148.000000</td>\n",
       "      <td>21148.000000</td>\n",
       "      <td>21148.000000</td>\n",
       "      <td>21148.000000</td>\n",
       "      <td>21148.000000</td>\n",
       "      <td>...</td>\n",
       "      <td>7017.000000</td>\n",
       "      <td>16205.000000</td>\n",
       "      <td>7919.000000</td>\n",
       "      <td>21148.000000</td>\n",
       "      <td>21148.000000</td>\n",
       "      <td>21148.000000</td>\n",
       "      <td>21148.000000</td>\n",
       "      <td>21148.000000</td>\n",
       "      <td>21148.000000</td>\n",
       "      <td>21148.000000</td>\n",
       "    </tr>\n",
       "    <tr>\n",
       "      <td>mean</td>\n",
       "      <td>9.910677</td>\n",
       "      <td>5.377611e+06</td>\n",
       "      <td>55.830319</td>\n",
       "      <td>1.991630</td>\n",
       "      <td>2.659103</td>\n",
       "      <td>10.751513</td>\n",
       "      <td>31.988854</td>\n",
       "      <td>5.896350</td>\n",
       "      <td>9.886574</td>\n",
       "      <td>0.599253</td>\n",
       "      <td>...</td>\n",
       "      <td>493.342312</td>\n",
       "      <td>0.736748</td>\n",
       "      <td>525.264048</td>\n",
       "      <td>161.620390</td>\n",
       "      <td>95353.749338</td>\n",
       "      <td>3.556696</td>\n",
       "      <td>6.409590</td>\n",
       "      <td>2017.366985</td>\n",
       "      <td>0.563881</td>\n",
       "      <td>0.187020</td>\n",
       "    </tr>\n",
       "    <tr>\n",
       "      <td>std</td>\n",
       "      <td>5.598253</td>\n",
       "      <td>3.091218e+06</td>\n",
       "      <td>21.883402</td>\n",
       "      <td>0.945168</td>\n",
       "      <td>1.045638</td>\n",
       "      <td>6.602987</td>\n",
       "      <td>15.007167</td>\n",
       "      <td>4.887396</td>\n",
       "      <td>4.538293</td>\n",
       "      <td>0.958067</td>\n",
       "      <td>...</td>\n",
       "      <td>338.766636</td>\n",
       "      <td>0.915491</td>\n",
       "      <td>277.223317</td>\n",
       "      <td>215.916243</td>\n",
       "      <td>32539.949200</td>\n",
       "      <td>1.782799</td>\n",
       "      <td>3.474462</td>\n",
       "      <td>1.047797</td>\n",
       "      <td>0.102055</td>\n",
       "      <td>0.072552</td>\n",
       "    </tr>\n",
       "    <tr>\n",
       "      <td>min</td>\n",
       "      <td>0.000000</td>\n",
       "      <td>4.300000e+05</td>\n",
       "      <td>20.000000</td>\n",
       "      <td>0.000000</td>\n",
       "      <td>1.000000</td>\n",
       "      <td>1.000000</td>\n",
       "      <td>2.000000</td>\n",
       "      <td>1.000000</td>\n",
       "      <td>0.000000</td>\n",
       "      <td>0.000000</td>\n",
       "      <td>...</td>\n",
       "      <td>1.000000</td>\n",
       "      <td>0.000000</td>\n",
       "      <td>13.000000</td>\n",
       "      <td>0.000000</td>\n",
       "      <td>7963.000000</td>\n",
       "      <td>1.000000</td>\n",
       "      <td>1.000000</td>\n",
       "      <td>2014.000000</td>\n",
       "      <td>0.038462</td>\n",
       "      <td>0.000000</td>\n",
       "    </tr>\n",
       "    <tr>\n",
       "      <td>5%</td>\n",
       "      <td>1.000000</td>\n",
       "      <td>1.900000e+06</td>\n",
       "      <td>31.000000</td>\n",
       "      <td>1.000000</td>\n",
       "      <td>2.500000</td>\n",
       "      <td>4.000000</td>\n",
       "      <td>15.100000</td>\n",
       "      <td>1.000000</td>\n",
       "      <td>5.400000</td>\n",
       "      <td>0.000000</td>\n",
       "      <td>...</td>\n",
       "      <td>97.000000</td>\n",
       "      <td>0.000000</td>\n",
       "      <td>96.000000</td>\n",
       "      <td>0.000000</td>\n",
       "      <td>41550.250000</td>\n",
       "      <td>1.000000</td>\n",
       "      <td>1.000000</td>\n",
       "      <td>2015.000000</td>\n",
       "      <td>0.395349</td>\n",
       "      <td>0.099762</td>\n",
       "    </tr>\n",
       "    <tr>\n",
       "      <td>10%</td>\n",
       "      <td>2.000000</td>\n",
       "      <td>2.500000e+06</td>\n",
       "      <td>32.800000</td>\n",
       "      <td>1.000000</td>\n",
       "      <td>2.500000</td>\n",
       "      <td>5.000000</td>\n",
       "      <td>16.300000</td>\n",
       "      <td>1.000000</td>\n",
       "      <td>6.000000</td>\n",
       "      <td>0.000000</td>\n",
       "      <td>...</td>\n",
       "      <td>162.000000</td>\n",
       "      <td>0.000000</td>\n",
       "      <td>151.000000</td>\n",
       "      <td>0.000000</td>\n",
       "      <td>55894.200000</td>\n",
       "      <td>1.000000</td>\n",
       "      <td>2.000000</td>\n",
       "      <td>2016.000000</td>\n",
       "      <td>0.430108</td>\n",
       "      <td>0.110687</td>\n",
       "    </tr>\n",
       "    <tr>\n",
       "      <td>20%</td>\n",
       "      <td>5.000000</td>\n",
       "      <td>3.150000e+06</td>\n",
       "      <td>37.000000</td>\n",
       "      <td>1.000000</td>\n",
       "      <td>2.500000</td>\n",
       "      <td>5.000000</td>\n",
       "      <td>18.000000</td>\n",
       "      <td>2.000000</td>\n",
       "      <td>6.600000</td>\n",
       "      <td>0.000000</td>\n",
       "      <td>...</td>\n",
       "      <td>250.000000</td>\n",
       "      <td>0.000000</td>\n",
       "      <td>256.000000</td>\n",
       "      <td>11.000000</td>\n",
       "      <td>71126.200000</td>\n",
       "      <td>2.000000</td>\n",
       "      <td>3.000000</td>\n",
       "      <td>2017.000000</td>\n",
       "      <td>0.480000</td>\n",
       "      <td>0.127660</td>\n",
       "    </tr>\n",
       "    <tr>\n",
       "      <td>30%</td>\n",
       "      <td>7.000000</td>\n",
       "      <td>3.620000e+06</td>\n",
       "      <td>42.000000</td>\n",
       "      <td>1.000000</td>\n",
       "      <td>2.500000</td>\n",
       "      <td>5.000000</td>\n",
       "      <td>20.000000</td>\n",
       "      <td>3.000000</td>\n",
       "      <td>7.500000</td>\n",
       "      <td>0.000000</td>\n",
       "      <td>...</td>\n",
       "      <td>329.800000</td>\n",
       "      <td>0.000000</td>\n",
       "      <td>351.400000</td>\n",
       "      <td>29.000000</td>\n",
       "      <td>80696.000000</td>\n",
       "      <td>2.000000</td>\n",
       "      <td>4.000000</td>\n",
       "      <td>2017.000000</td>\n",
       "      <td>0.511509</td>\n",
       "      <td>0.141330</td>\n",
       "    </tr>\n",
       "    <tr>\n",
       "      <td>40%</td>\n",
       "      <td>8.000000</td>\n",
       "      <td>4.100000e+06</td>\n",
       "      <td>45.200000</td>\n",
       "      <td>2.000000</td>\n",
       "      <td>2.500000</td>\n",
       "      <td>8.000000</td>\n",
       "      <td>27.000000</td>\n",
       "      <td>4.000000</td>\n",
       "      <td>8.300000</td>\n",
       "      <td>0.000000</td>\n",
       "      <td>...</td>\n",
       "      <td>395.000000</td>\n",
       "      <td>0.000000</td>\n",
       "      <td>433.000000</td>\n",
       "      <td>53.000000</td>\n",
       "      <td>88000.000000</td>\n",
       "      <td>3.000000</td>\n",
       "      <td>5.000000</td>\n",
       "      <td>2017.000000</td>\n",
       "      <td>0.543264</td>\n",
       "      <td>0.157025</td>\n",
       "    </tr>\n",
       "    <tr>\n",
       "      <td>50%</td>\n",
       "      <td>10.000000</td>\n",
       "      <td>4.577500e+06</td>\n",
       "      <td>51.000000</td>\n",
       "      <td>2.000000</td>\n",
       "      <td>2.500000</td>\n",
       "      <td>9.000000</td>\n",
       "      <td>30.000000</td>\n",
       "      <td>4.000000</td>\n",
       "      <td>9.000000</td>\n",
       "      <td>0.000000</td>\n",
       "      <td>...</td>\n",
       "      <td>458.000000</td>\n",
       "      <td>0.000000</td>\n",
       "      <td>511.000000</td>\n",
       "      <td>82.000000</td>\n",
       "      <td>94444.000000</td>\n",
       "      <td>4.000000</td>\n",
       "      <td>6.000000</td>\n",
       "      <td>2017.000000</td>\n",
       "      <td>0.570033</td>\n",
       "      <td>0.171875</td>\n",
       "    </tr>\n",
       "    <tr>\n",
       "      <td>60%</td>\n",
       "      <td>11.000000</td>\n",
       "      <td>5.150000e+06</td>\n",
       "      <td>57.000000</td>\n",
       "      <td>2.000000</td>\n",
       "      <td>2.560000</td>\n",
       "      <td>10.000000</td>\n",
       "      <td>32.600000</td>\n",
       "      <td>5.000000</td>\n",
       "      <td>10.000000</td>\n",
       "      <td>0.000000</td>\n",
       "      <td>...</td>\n",
       "      <td>514.600000</td>\n",
       "      <td>1.000000</td>\n",
       "      <td>593.000000</td>\n",
       "      <td>119.000000</td>\n",
       "      <td>100629.800000</td>\n",
       "      <td>4.000000</td>\n",
       "      <td>8.000000</td>\n",
       "      <td>2018.000000</td>\n",
       "      <td>0.593130</td>\n",
       "      <td>0.192080</td>\n",
       "    </tr>\n",
       "    <tr>\n",
       "      <td>70%</td>\n",
       "      <td>13.000000</td>\n",
       "      <td>5.950000e+06</td>\n",
       "      <td>62.895000</td>\n",
       "      <td>2.000000</td>\n",
       "      <td>2.650000</td>\n",
       "      <td>13.000000</td>\n",
       "      <td>38.000000</td>\n",
       "      <td>7.000000</td>\n",
       "      <td>10.800000</td>\n",
       "      <td>1.000000</td>\n",
       "      <td>...</td>\n",
       "      <td>579.000000</td>\n",
       "      <td>1.000000</td>\n",
       "      <td>684.000000</td>\n",
       "      <td>173.000000</td>\n",
       "      <td>108041.100000</td>\n",
       "      <td>5.000000</td>\n",
       "      <td>9.000000</td>\n",
       "      <td>2018.000000</td>\n",
       "      <td>0.618421</td>\n",
       "      <td>0.219598</td>\n",
       "    </tr>\n",
       "    <tr>\n",
       "      <td>80%</td>\n",
       "      <td>15.000000</td>\n",
       "      <td>7.100000e+06</td>\n",
       "      <td>72.000000</td>\n",
       "      <td>3.000000</td>\n",
       "      <td>2.750000</td>\n",
       "      <td>16.000000</td>\n",
       "      <td>43.500000</td>\n",
       "      <td>9.000000</td>\n",
       "      <td>12.000000</td>\n",
       "      <td>1.000000</td>\n",
       "      <td>...</td>\n",
       "      <td>649.000000</td>\n",
       "      <td>1.000000</td>\n",
       "      <td>790.000000</td>\n",
       "      <td>264.000000</td>\n",
       "      <td>117892.600000</td>\n",
       "      <td>5.000000</td>\n",
       "      <td>10.000000</td>\n",
       "      <td>2018.000000</td>\n",
       "      <td>0.649487</td>\n",
       "      <td>0.246373</td>\n",
       "    </tr>\n",
       "    <tr>\n",
       "      <td>90%</td>\n",
       "      <td>18.000000</td>\n",
       "      <td>9.400000e+06</td>\n",
       "      <td>85.400000</td>\n",
       "      <td>3.000000</td>\n",
       "      <td>2.903000</td>\n",
       "      <td>22.000000</td>\n",
       "      <td>51.200000</td>\n",
       "      <td>13.000000</td>\n",
       "      <td>14.800000</td>\n",
       "      <td>2.000000</td>\n",
       "      <td>...</td>\n",
       "      <td>765.000000</td>\n",
       "      <td>2.000000</td>\n",
       "      <td>902.000000</td>\n",
       "      <td>435.000000</td>\n",
       "      <td>133983.700000</td>\n",
       "      <td>6.000000</td>\n",
       "      <td>11.000000</td>\n",
       "      <td>2019.000000</td>\n",
       "      <td>0.691696</td>\n",
       "      <td>0.277778</td>\n",
       "    </tr>\n",
       "    <tr>\n",
       "      <td>95%</td>\n",
       "      <td>20.000000</td>\n",
       "      <td>1.199325e+07</td>\n",
       "      <td>99.000000</td>\n",
       "      <td>4.000000</td>\n",
       "      <td>3.086500</td>\n",
       "      <td>25.000000</td>\n",
       "      <td>60.000000</td>\n",
       "      <td>16.000000</td>\n",
       "      <td>17.400000</td>\n",
       "      <td>2.000000</td>\n",
       "      <td>...</td>\n",
       "      <td>967.000000</td>\n",
       "      <td>3.000000</td>\n",
       "      <td>981.000000</td>\n",
       "      <td>614.000000</td>\n",
       "      <td>149116.700000</td>\n",
       "      <td>7.000000</td>\n",
       "      <td>12.000000</td>\n",
       "      <td>2019.000000</td>\n",
       "      <td>0.722222</td>\n",
       "      <td>0.307692</td>\n",
       "    </tr>\n",
       "    <tr>\n",
       "      <td>97%</td>\n",
       "      <td>20.000000</td>\n",
       "      <td>1.350000e+07</td>\n",
       "      <td>109.000000</td>\n",
       "      <td>4.000000</td>\n",
       "      <td>3.200000</td>\n",
       "      <td>25.000000</td>\n",
       "      <td>67.000000</td>\n",
       "      <td>19.000000</td>\n",
       "      <td>20.000000</td>\n",
       "      <td>2.000000</td>\n",
       "      <td>...</td>\n",
       "      <td>1256.000000</td>\n",
       "      <td>3.000000</td>\n",
       "      <td>1032.000000</td>\n",
       "      <td>757.000000</td>\n",
       "      <td>160471.490000</td>\n",
       "      <td>7.000000</td>\n",
       "      <td>12.000000</td>\n",
       "      <td>2019.000000</td>\n",
       "      <td>0.740741</td>\n",
       "      <td>0.334127</td>\n",
       "    </tr>\n",
       "    <tr>\n",
       "      <td>99%</td>\n",
       "      <td>20.000000</td>\n",
       "      <td>1.670000e+07</td>\n",
       "      <td>127.353000</td>\n",
       "      <td>4.000000</td>\n",
       "      <td>3.500000</td>\n",
       "      <td>26.000000</td>\n",
       "      <td>80.000000</td>\n",
       "      <td>23.000000</td>\n",
       "      <td>28.000000</td>\n",
       "      <td>5.000000</td>\n",
       "      <td>...</td>\n",
       "      <td>2102.000000</td>\n",
       "      <td>3.000000</td>\n",
       "      <td>1159.000000</td>\n",
       "      <td>1043.000000</td>\n",
       "      <td>188947.830000</td>\n",
       "      <td>7.000000</td>\n",
       "      <td>12.000000</td>\n",
       "      <td>2019.000000</td>\n",
       "      <td>0.787576</td>\n",
       "      <td>0.413447</td>\n",
       "    </tr>\n",
       "    <tr>\n",
       "      <td>max</td>\n",
       "      <td>50.000000</td>\n",
       "      <td>2.000000e+07</td>\n",
       "      <td>150.000000</td>\n",
       "      <td>8.000000</td>\n",
       "      <td>100.000000</td>\n",
       "      <td>60.000000</td>\n",
       "      <td>128.000000</td>\n",
       "      <td>33.000000</td>\n",
       "      <td>64.000000</td>\n",
       "      <td>5.000000</td>\n",
       "      <td>...</td>\n",
       "      <td>3190.000000</td>\n",
       "      <td>3.000000</td>\n",
       "      <td>1344.000000</td>\n",
       "      <td>1580.000000</td>\n",
       "      <td>600000.000000</td>\n",
       "      <td>7.000000</td>\n",
       "      <td>12.000000</td>\n",
       "      <td>2019.000000</td>\n",
       "      <td>1.000000</td>\n",
       "      <td>0.787879</td>\n",
       "    </tr>\n",
       "  </tbody>\n",
       "</table>\n",
       "<p>18 rows × 23 columns</p>\n",
       "</div>"
      ],
      "text/plain": [
       "       total_images    last_price    total_area         rooms  ceiling_height  \\\n",
       "count  21148.000000  2.114800e+04  21148.000000  21148.000000    21148.000000   \n",
       "mean       9.910677  5.377611e+06     55.830319      1.991630        2.659103   \n",
       "std        5.598253  3.091218e+06     21.883402      0.945168        1.045638   \n",
       "min        0.000000  4.300000e+05     20.000000      0.000000        1.000000   \n",
       "5%         1.000000  1.900000e+06     31.000000      1.000000        2.500000   \n",
       "10%        2.000000  2.500000e+06     32.800000      1.000000        2.500000   \n",
       "20%        5.000000  3.150000e+06     37.000000      1.000000        2.500000   \n",
       "30%        7.000000  3.620000e+06     42.000000      1.000000        2.500000   \n",
       "40%        8.000000  4.100000e+06     45.200000      2.000000        2.500000   \n",
       "50%       10.000000  4.577500e+06     51.000000      2.000000        2.500000   \n",
       "60%       11.000000  5.150000e+06     57.000000      2.000000        2.560000   \n",
       "70%       13.000000  5.950000e+06     62.895000      2.000000        2.650000   \n",
       "80%       15.000000  7.100000e+06     72.000000      3.000000        2.750000   \n",
       "90%       18.000000  9.400000e+06     85.400000      3.000000        2.903000   \n",
       "95%       20.000000  1.199325e+07     99.000000      4.000000        3.086500   \n",
       "97%       20.000000  1.350000e+07    109.000000      4.000000        3.200000   \n",
       "99%       20.000000  1.670000e+07    127.353000      4.000000        3.500000   \n",
       "max       50.000000  2.000000e+07    150.000000      8.000000      100.000000   \n",
       "\n",
       "       floors_total   living_area         floor  kitchen_area       balcony  \\\n",
       "count  21148.000000  21148.000000  21148.000000  21148.000000  21148.000000   \n",
       "mean      10.751513     31.988854      5.896350      9.886574      0.599253   \n",
       "std        6.602987     15.007167      4.887396      4.538293      0.958067   \n",
       "min        1.000000      2.000000      1.000000      0.000000      0.000000   \n",
       "5%         4.000000     15.100000      1.000000      5.400000      0.000000   \n",
       "10%        5.000000     16.300000      1.000000      6.000000      0.000000   \n",
       "20%        5.000000     18.000000      2.000000      6.600000      0.000000   \n",
       "30%        5.000000     20.000000      3.000000      7.500000      0.000000   \n",
       "40%        8.000000     27.000000      4.000000      8.300000      0.000000   \n",
       "50%        9.000000     30.000000      4.000000      9.000000      0.000000   \n",
       "60%       10.000000     32.600000      5.000000     10.000000      0.000000   \n",
       "70%       13.000000     38.000000      7.000000     10.800000      1.000000   \n",
       "80%       16.000000     43.500000      9.000000     12.000000      1.000000   \n",
       "90%       22.000000     51.200000     13.000000     14.800000      2.000000   \n",
       "95%       25.000000     60.000000     16.000000     17.400000      2.000000   \n",
       "97%       25.000000     67.000000     19.000000     20.000000      2.000000   \n",
       "99%       26.000000     80.000000     23.000000     28.000000      5.000000   \n",
       "max       60.000000    128.000000     33.000000     64.000000      5.000000   \n",
       "\n",
       "       ...  parks_nearest  ponds_around3000  ponds_nearest  days_exposition  \\\n",
       "count  ...    7017.000000      16205.000000    7919.000000     21148.000000   \n",
       "mean   ...     493.342312          0.736748     525.264048       161.620390   \n",
       "std    ...     338.766636          0.915491     277.223317       215.916243   \n",
       "min    ...       1.000000          0.000000      13.000000         0.000000   \n",
       "5%     ...      97.000000          0.000000      96.000000         0.000000   \n",
       "10%    ...     162.000000          0.000000     151.000000         0.000000   \n",
       "20%    ...     250.000000          0.000000     256.000000        11.000000   \n",
       "30%    ...     329.800000          0.000000     351.400000        29.000000   \n",
       "40%    ...     395.000000          0.000000     433.000000        53.000000   \n",
       "50%    ...     458.000000          0.000000     511.000000        82.000000   \n",
       "60%    ...     514.600000          1.000000     593.000000       119.000000   \n",
       "70%    ...     579.000000          1.000000     684.000000       173.000000   \n",
       "80%    ...     649.000000          1.000000     790.000000       264.000000   \n",
       "90%    ...     765.000000          2.000000     902.000000       435.000000   \n",
       "95%    ...     967.000000          3.000000     981.000000       614.000000   \n",
       "97%    ...    1256.000000          3.000000    1032.000000       757.000000   \n",
       "99%    ...    2102.000000          3.000000    1159.000000      1043.000000   \n",
       "max    ...    3190.000000          3.000000    1344.000000      1580.000000   \n",
       "\n",
       "          price_metr       weekday         month          year   part_living  \\\n",
       "count   21148.000000  21148.000000  21148.000000  21148.000000  21148.000000   \n",
       "mean    95353.749338      3.556696      6.409590   2017.366985      0.563881   \n",
       "std     32539.949200      1.782799      3.474462      1.047797      0.102055   \n",
       "min      7963.000000      1.000000      1.000000   2014.000000      0.038462   \n",
       "5%      41550.250000      1.000000      1.000000   2015.000000      0.395349   \n",
       "10%     55894.200000      1.000000      2.000000   2016.000000      0.430108   \n",
       "20%     71126.200000      2.000000      3.000000   2017.000000      0.480000   \n",
       "30%     80696.000000      2.000000      4.000000   2017.000000      0.511509   \n",
       "40%     88000.000000      3.000000      5.000000   2017.000000      0.543264   \n",
       "50%     94444.000000      4.000000      6.000000   2017.000000      0.570033   \n",
       "60%    100629.800000      4.000000      8.000000   2018.000000      0.593130   \n",
       "70%    108041.100000      5.000000      9.000000   2018.000000      0.618421   \n",
       "80%    117892.600000      5.000000     10.000000   2018.000000      0.649487   \n",
       "90%    133983.700000      6.000000     11.000000   2019.000000      0.691696   \n",
       "95%    149116.700000      7.000000     12.000000   2019.000000      0.722222   \n",
       "97%    160471.490000      7.000000     12.000000   2019.000000      0.740741   \n",
       "99%    188947.830000      7.000000     12.000000   2019.000000      0.787576   \n",
       "max    600000.000000      7.000000     12.000000   2019.000000      1.000000   \n",
       "\n",
       "       part_kitchen  \n",
       "count  21148.000000  \n",
       "mean       0.187020  \n",
       "std        0.072552  \n",
       "min        0.000000  \n",
       "5%         0.099762  \n",
       "10%        0.110687  \n",
       "20%        0.127660  \n",
       "30%        0.141330  \n",
       "40%        0.157025  \n",
       "50%        0.171875  \n",
       "60%        0.192080  \n",
       "70%        0.219598  \n",
       "80%        0.246373  \n",
       "90%        0.277778  \n",
       "95%        0.307692  \n",
       "97%        0.334127  \n",
       "99%        0.413447  \n",
       "max        0.787879  \n",
       "\n",
       "[18 rows x 23 columns]"
      ]
     },
     "execution_count": 66,
     "metadata": {},
     "output_type": "execute_result"
    }
   ],
   "source": [
    "good_data.query('days_exposition not in @our_list').describe(percentiles=[0.05, 0.1, 0.2, 0.3, 0.4, 0.5, 0.6, 0.7, 0.8, 0.9, 0.95, 0.97,0.99])"
   ]
  },
  {
   "cell_type": "markdown",
   "metadata": {},
   "source": [
    "Итого - большинство квартир закрываются с 3х дневного срока и дальше по убыванию"
   ]
  },
  {
   "cell_type": "code",
   "execution_count": 67,
   "metadata": {
    "scrolled": true
   },
   "outputs": [
    {
     "data": {
      "text/plain": [
       "array([[<matplotlib.axes._subplots.AxesSubplot object at 0x7f4838086550>]],\n",
       "      dtype=object)"
      ]
     },
     "execution_count": 67,
     "metadata": {},
     "output_type": "execute_result"
    },
    {
     "data": {
      "image/png": "[encoded data removed]",
      "text/plain": [
       "<Figure size 432x288 with 1 Axes>"
      ]
     },
     "metadata": {
      "needs_background": "light"
     },
     "output_type": "display_data"
    }
   ],
   "source": [
    "# Добавим группировку по 30 дням\n",
    "good_data['month_expos'] = ((good_data['days_exposition']+29)// 30)*30\n",
    "good_data.query('days_exposition not in @our_list').hist('month_expos', bins=50, range=(1, 600))\n",
    "\n",
    "# Около 50% квартир продается в диапазоне 3 х месяцев\n",
    "# После 600 дней вероятность продать квартиру = почти ноль"
   ]
  },
  {
   "cell_type": "markdown",
   "metadata": {},
   "source": [
    "## Факторы влияющие на продажу квартиры"
   ]
  },
  {
   "cell_type": "markdown",
   "metadata": {},
   "source": [
    "#### Зависимость Цены и кол-ва Комнат"
   ]
  },
  {
   "cell_type": "code",
   "execution_count": 68,
   "metadata": {},
   "outputs": [
    {
     "data": {
      "text/plain": [
       "array([[<matplotlib.axes._subplots.AxesSubplot object at 0x7f48388a0150>]],\n",
       "      dtype=object)"
      ]
     },
     "execution_count": 68,
     "metadata": {},
     "output_type": "execute_result"
    },
    {
     "data": {
      "image/png": "[encoded data removed]",
      "text/plain": [
       "<Figure size 432x288 with 1 Axes>"
      ]
     },
     "metadata": {
      "needs_background": "light"
     },
     "output_type": "display_data"
    }
   ],
   "source": [
    "good_data.hist('last_price', bins=100, range=(0, 20000000)) "
   ]
  },
  {
   "cell_type": "code",
   "execution_count": 69,
   "metadata": {},
   "outputs": [
    {
     "data": {
      "text/plain": [
       "0.47701669747615033"
      ]
     },
     "execution_count": 69,
     "metadata": {},
     "output_type": "execute_result"
    },
    {
     "data": {
      "image/png": "[encoded data removed]",
      "text/plain": [
       "<Figure size 432x288 with 1 Axes>"
      ]
     },
     "metadata": {
      "needs_background": "light"
     },
     "output_type": "display_data"
    }
   ],
   "source": [
    "good_data.plot(x='rooms', y='last_price', kind='scatter')\n",
    "good_data['last_price'].corr(good_data['rooms'])"
   ]
  },
  {
   "cell_type": "markdown",
   "metadata": {},
   "source": [
    "#### Зависимость Цены и кол-ва комнат положительная и составляет 48%, оно и понятно, т.к. в основном при увеличении количества комнат кол-во метров жилой площади так же растет"
   ]
  },
  {
   "cell_type": "markdown",
   "metadata": {},
   "source": [
    "## Корреляция - цена за кв. м. и кол-во комнат"
   ]
  },
  {
   "cell_type": "code",
   "execution_count": 70,
   "metadata": {},
   "outputs": [
    {
     "data": {
      "text/plain": [
       "array([[<matplotlib.axes._subplots.AxesSubplot object at 0x7f4833bfb850>]],\n",
       "      dtype=object)"
      ]
     },
     "execution_count": 70,
     "metadata": {},
     "output_type": "execute_result"
    },
    {
     "data": {
      "image/png": "[encoded data removed]",
      "text/plain": [
       "<Figure size 432x288 with 1 Axes>"
      ]
     },
     "metadata": {
      "needs_background": "light"
     },
     "output_type": "display_data"
    }
   ],
   "source": [
    "# Поработаем с кол-ом комнат и ценой\n",
    "# Цена за метр начинается с 10 000 до 200 000\n",
    "good_data.hist('price_metr', bins=100, range=(0, 300000))"
   ]
  },
  {
   "cell_type": "code",
   "execution_count": 93,
   "metadata": {},
   "outputs": [
    {
     "data": {
      "text/plain": [
       "0.7616278897629677"
      ]
     },
     "execution_count": 93,
     "metadata": {},
     "output_type": "execute_result"
    },
    {
     "data": {
      "image/png": "[encoded data removed]",
      "text/plain": [
       "<Figure size 432x288 with 1 Axes>"
      ]
     },
     "metadata": {
      "needs_background": "light"
     },
     "output_type": "display_data"
    }
   ],
   "source": [
    "# Цена очень сильно зависит от кол-ва квадратных метров, корреляция высокая = 0,76\n",
    "good_data.plot(x='total_area', y='last_price', kind='scatter')\n",
    "good_data['total_area'].corr(good_data['last_price'])"
   ]
  },
  {
   "cell_type": "code",
   "execution_count": 72,
   "metadata": {},
   "outputs": [
    {
     "data": {
      "text/plain": [
       "-0.12793593365891326"
      ]
     },
     "execution_count": 72,
     "metadata": {},
     "output_type": "execute_result"
    },
    {
     "data": {
      "image/png": "[encoded data removed]",
      "text/plain": [
       "<Figure size 432x288 with 1 Axes>"
      ]
     },
     "metadata": {
      "needs_background": "light"
     },
     "output_type": "display_data"
    }
   ],
   "source": [
    "# Слабая зависимость сохранилась, т.е. при увеличении кол-ва комнат цена за квадратный метр \n",
    "# немного снижается\n",
    "room_list = [1, 2, 3, 4, 5]\n",
    "good_room = good_data.query('rooms in @room_list and price_metr <= 200000')\n",
    "good_room.plot(x='rooms', y='price_metr', kind='scatter')\n",
    "good_room['price_metr'].corr(good_room['rooms'])"
   ]
  },
  {
   "cell_type": "markdown",
   "metadata": {},
   "source": [
    "### Зависимость Этаж-Цена кв. Метр"
   ]
  },
  {
   "cell_type": "code",
   "execution_count": 73,
   "metadata": {},
   "outputs": [
    {
     "data": {
      "text/html": [
       "<div>\n",
       "<style scoped>\n",
       "    .dataframe tbody tr th:only-of-type {\n",
       "        vertical-align: middle;\n",
       "    }\n",
       "\n",
       "    .dataframe tbody tr th {\n",
       "        vertical-align: top;\n",
       "    }\n",
       "\n",
       "    .dataframe thead th {\n",
       "        text-align: right;\n",
       "    }\n",
       "</style>\n",
       "<table border=\"1\" class=\"dataframe\">\n",
       "  <thead>\n",
       "    <tr style=\"text-align: right;\">\n",
       "      <th></th>\n",
       "      <th>price_metr</th>\n",
       "    </tr>\n",
       "    <tr>\n",
       "      <th>floor_group</th>\n",
       "      <th></th>\n",
       "    </tr>\n",
       "  </thead>\n",
       "  <tbody>\n",
       "    <tr>\n",
       "      <td>Первый</td>\n",
       "      <td>80245.133192</td>\n",
       "    </tr>\n",
       "    <tr>\n",
       "      <td>Последний</td>\n",
       "      <td>86313.691260</td>\n",
       "    </tr>\n",
       "    <tr>\n",
       "      <td>Другой</td>\n",
       "      <td>99002.193121</td>\n",
       "    </tr>\n",
       "  </tbody>\n",
       "</table>\n",
       "</div>"
      ],
      "text/plain": [
       "               price_metr\n",
       "floor_group              \n",
       "Первый       80245.133192\n",
       "Последний    86313.691260\n",
       "Другой       99002.193121"
      ]
     },
     "execution_count": 73,
     "metadata": {},
     "output_type": "execute_result"
    }
   ],
   "source": [
    "good_data.pivot_table(index='floor_group', values='price_metr', aggfunc='mean').sort_values('price_metr')\n"
   ]
  },
  {
   "cell_type": "code",
   "execution_count": 74,
   "metadata": {},
   "outputs": [
    {
     "data": {
      "text/plain": [
       "-0.12602305663764302"
      ]
     },
     "execution_count": 74,
     "metadata": {},
     "output_type": "execute_result"
    },
    {
     "data": {
      "image/png": "[encoded data removed]",
      "text/plain": [
       "<Figure size 432x288 with 1 Axes>"
      ]
     },
     "metadata": {
      "needs_background": "light"
     },
     "output_type": "display_data"
    }
   ],
   "source": [
    "good_data.plot(x='rooms', y='price_metr', kind='scatter')\n",
    "good_data['price_metr'].corr(good_data['rooms'])"
   ]
  },
  {
   "cell_type": "markdown",
   "metadata": {},
   "source": [
    "#### Зависимость цены и этажности явно есть"
   ]
  },
  {
   "cell_type": "markdown",
   "metadata": {},
   "source": [
    "Изучите, зависит ли цена от квадратного метра, числа комнат, этажа (первого или последнего), удалённости от центра. Также изучите зависимость от даты размещения: дня недели, месяца и года. \"Выберите 10 населённых пунктов с наибольшим числом объявлений. Посчитайте среднюю цену квадратного метра в этих населённых пунктах. Выделите населённые пункты с самой высокой и низкой стоимостью жилья. Эти данные можно найти по имени в столбце 'locality_name'. \""
   ]
  },
  {
   "cell_type": "code",
   "execution_count": 75,
   "metadata": {},
   "outputs": [
    {
     "data": {
      "text/plain": [
       "Index(['total_images', 'last_price', 'total_area', 'first_day_exposition',\n",
       "       'rooms', 'ceiling_height', 'floors_total', 'living_area', 'floor',\n",
       "       'is_apartment', 'studio', 'open_plan', 'kitchen_area', 'balcony',\n",
       "       'locality_name', 'airports_nearest', 'cityCenters_nearest',\n",
       "       'parks_around3000', 'parks_nearest', 'ponds_around3000',\n",
       "       'ponds_nearest', 'days_exposition', 'price_metr', 'weekday', 'month',\n",
       "       'year', 'floor_group', 'part_living', 'part_kitchen', 'month_expos'],\n",
       "      dtype='object')"
      ]
     },
     "execution_count": 75,
     "metadata": {},
     "output_type": "execute_result"
    }
   ],
   "source": [
    "good_data.columns"
   ]
  },
  {
   "cell_type": "code",
   "execution_count": 116,
   "metadata": {},
   "outputs": [],
   "source": [
    "columns_stat = good_data.filter(items = ['price_metr','ceiling_height', 'living_area', 'days_exposition'\n",
    "                                        , 'rooms', 'total_area'\n",
    "                                        , 'airports_nearest', 'cityCenters_nearest'\n",
    "                                        ,'parks_nearest', 'ponds_nearest', 'days_exposition'\n",
    "                                        ])"
   ]
  },
  {
   "cell_type": "code",
   "execution_count": 123,
   "metadata": {},
   "outputs": [
    {
     "data": {
      "text/plain": [
       "price_metr             1.000000\n",
       "ceiling_height         0.112897\n",
       "living_area           -0.016747\n",
       "days_exposition       -0.008679\n",
       "rooms                 -0.126023\n",
       "total_area             0.078217\n",
       "airports_nearest      -0.040180\n",
       "cityCenters_nearest   -0.395175\n",
       "parks_nearest          0.089692\n",
       "ponds_nearest         -0.075224\n",
       "days_exposition       -0.008679\n",
       "Name: price_metr, dtype: float64"
      ]
     },
     "execution_count": 123,
     "metadata": {},
     "output_type": "execute_result"
    }
   ],
   "source": [
    "columns_stat.corr()['price_metr']\n",
    "# В принципе цена за квадратный метр больше всего зависит от Близости к центру, немного влияет Высота потолка, кол-во комнат"
   ]
  },
  {
   "cell_type": "code",
   "execution_count": 124,
   "metadata": {},
   "outputs": [
    {
     "data": {
      "text/plain": [
       "Санкт-Петербург    14847\n",
       "Мурино               590\n",
       "Кудрово              472\n",
       "Шушары               439\n",
       "Всеволожск           396\n",
       "Пушкин               355\n",
       "Колпино              337\n",
       "Парголово            326\n",
       "Гатчина              307\n",
       "Выборг               235\n",
       "Name: locality_name, dtype: int64"
      ]
     },
     "execution_count": 124,
     "metadata": {},
     "output_type": "execute_result"
    }
   ],
   "source": [
    "# Отберем 10 населенных пунктов с наибольшим числом объявлений и закинем этот список в переменную: 'top_cities'\n",
    "top_cities = good_data['locality_name'].value_counts().head(10)\n",
    "top_cities"
   ]
  },
  {
   "cell_type": "code",
   "execution_count": 125,
   "metadata": {},
   "outputs": [
    {
     "data": {
      "text/plain": [
       "Index(['total_images', 'last_price', 'total_area', 'first_day_exposition',\n",
       "       'rooms', 'ceiling_height', 'floors_total', 'living_area', 'floor',\n",
       "       'is_apartment', 'studio', 'open_plan', 'kitchen_area', 'balcony',\n",
       "       'locality_name', 'airports_nearest', 'cityCenters_nearest',\n",
       "       'parks_around3000', 'parks_nearest', 'ponds_around3000',\n",
       "       'ponds_nearest', 'days_exposition', 'price_metr', 'weekday', 'month',\n",
       "       'year', 'floor_group', 'part_living', 'part_kitchen', 'month_expos'],\n",
       "      dtype='object')"
      ]
     },
     "execution_count": 125,
     "metadata": {},
     "output_type": "execute_result"
    }
   ],
   "source": [
    "good_data.columns"
   ]
  },
  {
   "cell_type": "code",
   "execution_count": 126,
   "metadata": {},
   "outputs": [],
   "source": [
    "# Создаем столбец с расстоянием до центра в км\n",
    "good_data['cityCenter_km'] = good_data['cityCenters_nearest'] // 1000"
   ]
  },
  {
   "cell_type": "code",
   "execution_count": 127,
   "metadata": {},
   "outputs": [
    {
     "data": {
      "text/html": [
       "<div>\n",
       "<style scoped>\n",
       "    .dataframe tbody tr th:only-of-type {\n",
       "        vertical-align: middle;\n",
       "    }\n",
       "\n",
       "    .dataframe tbody tr th {\n",
       "        vertical-align: top;\n",
       "    }\n",
       "\n",
       "    .dataframe thead th {\n",
       "        text-align: right;\n",
       "    }\n",
       "</style>\n",
       "<table border=\"1\" class=\"dataframe\">\n",
       "  <thead>\n",
       "    <tr style=\"text-align: right;\">\n",
       "      <th></th>\n",
       "      <th>cityCenter_km</th>\n",
       "      <th>price_metr</th>\n",
       "      <th>rooms</th>\n",
       "      <th>total_area</th>\n",
       "    </tr>\n",
       "    <tr>\n",
       "      <th>locality_name</th>\n",
       "      <th></th>\n",
       "      <th></th>\n",
       "      <th></th>\n",
       "      <th></th>\n",
       "    </tr>\n",
       "  </thead>\n",
       "  <tbody>\n",
       "    <tr>\n",
       "      <td>Санкт-Петербург</td>\n",
       "      <td>12</td>\n",
       "      <td>103670.0</td>\n",
       "      <td>2</td>\n",
       "      <td>53.000</td>\n",
       "    </tr>\n",
       "    <tr>\n",
       "      <td>Пушкин</td>\n",
       "      <td>27</td>\n",
       "      <td>99650.0</td>\n",
       "      <td>2</td>\n",
       "      <td>53.000</td>\n",
       "    </tr>\n",
       "    <tr>\n",
       "      <td>Кудрово</td>\n",
       "      <td>0</td>\n",
       "      <td>95675.5</td>\n",
       "      <td>1</td>\n",
       "      <td>40.000</td>\n",
       "    </tr>\n",
       "    <tr>\n",
       "      <td>Парголово</td>\n",
       "      <td>19</td>\n",
       "      <td>91780.5</td>\n",
       "      <td>1</td>\n",
       "      <td>42.950</td>\n",
       "    </tr>\n",
       "    <tr>\n",
       "      <td>Мурино</td>\n",
       "      <td>21</td>\n",
       "      <td>86175.5</td>\n",
       "      <td>1</td>\n",
       "      <td>37.465</td>\n",
       "    </tr>\n",
       "    <tr>\n",
       "      <td>Шушары</td>\n",
       "      <td>24</td>\n",
       "      <td>76829.0</td>\n",
       "      <td>2</td>\n",
       "      <td>50.200</td>\n",
       "    </tr>\n",
       "    <tr>\n",
       "      <td>Колпино</td>\n",
       "      <td>32</td>\n",
       "      <td>74722.0</td>\n",
       "      <td>2</td>\n",
       "      <td>50.000</td>\n",
       "    </tr>\n",
       "    <tr>\n",
       "      <td>Гатчина</td>\n",
       "      <td>0</td>\n",
       "      <td>67797.0</td>\n",
       "      <td>2</td>\n",
       "      <td>45.000</td>\n",
       "    </tr>\n",
       "    <tr>\n",
       "      <td>Всеволожск</td>\n",
       "      <td>0</td>\n",
       "      <td>65789.0</td>\n",
       "      <td>2</td>\n",
       "      <td>53.550</td>\n",
       "    </tr>\n",
       "    <tr>\n",
       "      <td>Выборг</td>\n",
       "      <td>0</td>\n",
       "      <td>58158.0</td>\n",
       "      <td>2</td>\n",
       "      <td>50.000</td>\n",
       "    </tr>\n",
       "  </tbody>\n",
       "</table>\n",
       "</div>"
      ],
      "text/plain": [
       "                 cityCenter_km  price_metr  rooms  total_area\n",
       "locality_name                                                \n",
       "Санкт-Петербург             12    103670.0      2      53.000\n",
       "Пушкин                      27     99650.0      2      53.000\n",
       "Кудрово                      0     95675.5      1      40.000\n",
       "Парголово                   19     91780.5      1      42.950\n",
       "Мурино                      21     86175.5      1      37.465\n",
       "Шушары                      24     76829.0      2      50.200\n",
       "Колпино                     32     74722.0      2      50.000\n",
       "Гатчина                      0     67797.0      2      45.000\n",
       "Всеволожск                   0     65789.0      2      53.550\n",
       "Выборг                       0     58158.0      2      50.000"
      ]
     },
     "execution_count": 127,
     "metadata": {},
     "output_type": "execute_result"
    }
   ],
   "source": [
    "# Посчитаем среднюю цену за квадратный метр в топ 10 городов\n",
    "(good_data\n",
    " .query('locality_name in @top_cities.index')\n",
    " .pivot_table(index='locality_name', values=['price_metr', 'cityCenter_km', 'rooms', 'total_area'], \n",
    "              aggfunc='median', fill_value=0)\n",
    " .sort_values(by='price_metr', ascending=False)\n",
    ")"
   ]
  },
  {
   "cell_type": "markdown",
   "metadata": {},
   "source": [
    "В целом удаленность от СПб влияет на стоимость м.кв.\n",
    "Например Выборг расположен на расстоянии до СПб в 120 км, Гатчина в 42 км и стоимость жилья там дешевле.\n",
    "Но вот в Пушкино стоимость жилья почти равна СПб, хотя расстояние до центра там 27 км - видимо сам район и инфроструктура тоже влияют на стоимость."
   ]
  },
  {
   "cell_type": "code",
   "execution_count": 128,
   "metadata": {},
   "outputs": [
    {
     "data": {
      "text/plain": [
       "<matplotlib.axes._subplots.AxesSubplot at 0x7f482bcca7d0>"
      ]
     },
     "execution_count": 128,
     "metadata": {},
     "output_type": "execute_result"
    },
    {
     "data": {
      "image/png": "[encoded data removed]",
      "text/plain": [
       "<Figure size 1296x360 with 1 Axes>"
      ]
     },
     "metadata": {
      "needs_background": "light"
     },
     "output_type": "display_data"
    }
   ],
   "source": [
    "# Посмотрим стоимость кв.м. на предмет сезонности, влияет ли стоимость по годам и месяцам, на примере СПб\n",
    "ax = (good_data[good_data['locality_name'] == 'Санкт-Петербург']\n",
    " .query('year==2017')\n",
    " .pivot_table(index=['year', 'month'], values='price_metr', aggfunc='median')\n",
    " .plot(grid=True, style='o-', figsize=(18, 5))\n",
    ")\n",
    "\n",
    "(good_data[good_data['locality_name'] == 'Санкт-Петербург']\n",
    " .query('year==2018')\n",
    " .pivot_table(index=['year', 'month'], values='price_metr', aggfunc='median')\n",
    " .plot(grid=True, style='o-', ax=ax, figsize=(18, 5))\n",
    ")\n",
    "\n",
    "(good_data[good_data['locality_name'] == 'Санкт-Петербург']\n",
    " .query('year==2019')\n",
    " .pivot_table(index=['year', 'month'], values='price_metr', aggfunc='median')\n",
    " .plot(grid=True, style='o-', ax=ax, figsize=(18, 5))\n",
    ")\n"
   ]
  },
  {
   "cell_type": "code",
   "execution_count": 129,
   "metadata": {},
   "outputs": [
    {
     "data": {
      "text/html": [
       "<div>\n",
       "<style scoped>\n",
       "    .dataframe tbody tr th:only-of-type {\n",
       "        vertical-align: middle;\n",
       "    }\n",
       "\n",
       "    .dataframe tbody tr th {\n",
       "        vertical-align: top;\n",
       "    }\n",
       "\n",
       "    .dataframe thead th {\n",
       "        text-align: right;\n",
       "    }\n",
       "</style>\n",
       "<table border=\"1\" class=\"dataframe\">\n",
       "  <thead>\n",
       "    <tr style=\"text-align: right;\">\n",
       "      <th>month</th>\n",
       "      <th>1</th>\n",
       "      <th>2</th>\n",
       "      <th>3</th>\n",
       "      <th>4</th>\n",
       "      <th>5</th>\n",
       "      <th>6</th>\n",
       "      <th>7</th>\n",
       "      <th>8</th>\n",
       "      <th>9</th>\n",
       "      <th>10</th>\n",
       "      <th>11</th>\n",
       "      <th>12</th>\n",
       "    </tr>\n",
       "    <tr>\n",
       "      <th>year</th>\n",
       "      <th></th>\n",
       "      <th></th>\n",
       "      <th></th>\n",
       "      <th></th>\n",
       "      <th></th>\n",
       "      <th></th>\n",
       "      <th></th>\n",
       "      <th></th>\n",
       "      <th></th>\n",
       "      <th></th>\n",
       "      <th></th>\n",
       "      <th></th>\n",
       "    </tr>\n",
       "  </thead>\n",
       "  <tbody>\n",
       "    <tr>\n",
       "      <td>2014</td>\n",
       "      <td>NaN</td>\n",
       "      <td>NaN</td>\n",
       "      <td>NaN</td>\n",
       "      <td>NaN</td>\n",
       "      <td>NaN</td>\n",
       "      <td>NaN</td>\n",
       "      <td>NaN</td>\n",
       "      <td>NaN</td>\n",
       "      <td>NaN</td>\n",
       "      <td>NaN</td>\n",
       "      <td>122263.5</td>\n",
       "      <td>116162.0</td>\n",
       "    </tr>\n",
       "    <tr>\n",
       "      <td>2015</td>\n",
       "      <td>100000.0</td>\n",
       "      <td>98682.5</td>\n",
       "      <td>95161.0</td>\n",
       "      <td>109551.0</td>\n",
       "      <td>103053.0</td>\n",
       "      <td>101610.0</td>\n",
       "      <td>102532.0</td>\n",
       "      <td>103380.5</td>\n",
       "      <td>111905.0</td>\n",
       "      <td>97433.0</td>\n",
       "      <td>95743.5</td>\n",
       "      <td>94280.0</td>\n",
       "    </tr>\n",
       "    <tr>\n",
       "      <td>2016</td>\n",
       "      <td>100000.0</td>\n",
       "      <td>101351.0</td>\n",
       "      <td>99211.0</td>\n",
       "      <td>100324.5</td>\n",
       "      <td>100847.0</td>\n",
       "      <td>100000.0</td>\n",
       "      <td>95702.0</td>\n",
       "      <td>95013.5</td>\n",
       "      <td>100484.0</td>\n",
       "      <td>103030.0</td>\n",
       "      <td>96991.5</td>\n",
       "      <td>97698.5</td>\n",
       "    </tr>\n",
       "    <tr>\n",
       "      <td>2017</td>\n",
       "      <td>104048.0</td>\n",
       "      <td>99355.0</td>\n",
       "      <td>96890.0</td>\n",
       "      <td>98765.0</td>\n",
       "      <td>97778.0</td>\n",
       "      <td>100000.0</td>\n",
       "      <td>100000.0</td>\n",
       "      <td>102693.0</td>\n",
       "      <td>103078.5</td>\n",
       "      <td>100000.0</td>\n",
       "      <td>100000.0</td>\n",
       "      <td>102487.0</td>\n",
       "    </tr>\n",
       "    <tr>\n",
       "      <td>2018</td>\n",
       "      <td>103352.0</td>\n",
       "      <td>101493.0</td>\n",
       "      <td>102740.0</td>\n",
       "      <td>106410.0</td>\n",
       "      <td>107075.0</td>\n",
       "      <td>108856.0</td>\n",
       "      <td>104572.5</td>\n",
       "      <td>106816.0</td>\n",
       "      <td>108025.0</td>\n",
       "      <td>106487.0</td>\n",
       "      <td>107317.0</td>\n",
       "      <td>114375.0</td>\n",
       "    </tr>\n",
       "    <tr>\n",
       "      <td>2019</td>\n",
       "      <td>108840.5</td>\n",
       "      <td>112939.0</td>\n",
       "      <td>113780.0</td>\n",
       "      <td>112500.0</td>\n",
       "      <td>125749.0</td>\n",
       "      <td>NaN</td>\n",
       "      <td>NaN</td>\n",
       "      <td>NaN</td>\n",
       "      <td>NaN</td>\n",
       "      <td>NaN</td>\n",
       "      <td>NaN</td>\n",
       "      <td>NaN</td>\n",
       "    </tr>\n",
       "  </tbody>\n",
       "</table>\n",
       "</div>"
      ],
      "text/plain": [
       "month        1         2         3         4         5         6         7   \\\n",
       "year                                                                          \n",
       "2014        NaN       NaN       NaN       NaN       NaN       NaN       NaN   \n",
       "2015   100000.0   98682.5   95161.0  109551.0  103053.0  101610.0  102532.0   \n",
       "2016   100000.0  101351.0   99211.0  100324.5  100847.0  100000.0   95702.0   \n",
       "2017   104048.0   99355.0   96890.0   98765.0   97778.0  100000.0  100000.0   \n",
       "2018   103352.0  101493.0  102740.0  106410.0  107075.0  108856.0  104572.5   \n",
       "2019   108840.5  112939.0  113780.0  112500.0  125749.0       NaN       NaN   \n",
       "\n",
       "month        8         9         10        11        12  \n",
       "year                                                     \n",
       "2014        NaN       NaN       NaN  122263.5  116162.0  \n",
       "2015   103380.5  111905.0   97433.0   95743.5   94280.0  \n",
       "2016    95013.5  100484.0  103030.0   96991.5   97698.5  \n",
       "2017   102693.0  103078.5  100000.0  100000.0  102487.0  \n",
       "2018   106816.0  108025.0  106487.0  107317.0  114375.0  \n",
       "2019        NaN       NaN       NaN       NaN       NaN  "
      ]
     },
     "execution_count": 129,
     "metadata": {},
     "output_type": "execute_result"
    }
   ],
   "source": [
    "(good_data[good_data['locality_name'] == 'Санкт-Петербург']\n",
    " .pivot_table(index='year', columns='month', values='price_metr', aggfunc='median')\n",
    ")"
   ]
  },
  {
   "cell_type": "markdown",
   "metadata": {},
   "source": [
    "Подписи получились так себе, но в целом понятно что по годам цена за кв. метр растет и лучше всего в декабре, в феврале затихание, май 2019 - очень высокие цены.\n",
    "До 2017 года данные сильно валатильные и скорее всего опираться на них в расчетах не стоит."
   ]
  },
  {
   "cell_type": "markdown",
   "metadata": {},
   "source": [
    "## Удаленность от центра города в СПб"
   ]
  },
  {
   "cell_type": "code",
   "execution_count": 130,
   "metadata": {},
   "outputs": [],
   "source": [
    "# Выбираем только СПб, без пустых значений в поле Растояние до центра\n",
    "# pd.options.display.max_columns = 30\n",
    "spb_data = good_data.copy(deep=True)\n",
    "spb_data = spb_data[(spb_data['locality_name'] == 'Санкт-Петербург')&(spb_data['cityCenters_nearest'] == spb_data['cityCenters_nearest'])]"
   ]
  },
  {
   "cell_type": "code",
   "execution_count": 131,
   "metadata": {},
   "outputs": [
    {
     "data": {
      "text/plain": [
       "<matplotlib.axes._subplots.AxesSubplot at 0x7f482bcf67d0>"
      ]
     },
     "execution_count": 131,
     "metadata": {},
     "output_type": "execute_result"
    },
    {
     "data": {
      "image/png": "[encoded data removed]",
      "text/plain": [
       "<Figure size 864x360 with 1 Axes>"
      ]
     },
     "metadata": {
      "needs_background": "light"
     },
     "output_type": "display_data"
    }
   ],
   "source": [
    "# Возьмем только квартиры от 1-3 комнат в СПБ и посмотрим как меняется цена в зависимости от приближения к центру,\n",
    "# в разрезе комнат\n",
    "(spb_data.query('rooms in (1, 2, 3)')\n",
    "        .pivot_table(index='cityCenter_km',columns='rooms', values='price_metr', aggfunc='median')\n",
    "        .plot(grid=True, style='o-', figsize=(12, 5))\n",
    "       )"
   ]
  },
  {
   "cell_type": "markdown",
   "metadata": {},
   "source": [
    "Центр города лежит в диапазоне 8 км, именно с этого расстояния цены начинают резко расти вверх.\n",
    "Плюс есть какие-то 2е неадекватные по цене квартиры. Одна двухкомнатная 27 км от центра города, с золотыми люстрами а другая однокомнатная в центре - личная квартира Президента с выходом в Кремль."
   ]
  },
  {
   "cell_type": "markdown",
   "metadata": {},
   "source": [
    "## Сегмент квартир в центре"
   ]
  },
  {
   "cell_type": "code",
   "execution_count": 132,
   "metadata": {},
   "outputs": [
    {
     "data": {
      "text/html": [
       "<div>\n",
       "<style scoped>\n",
       "    .dataframe tbody tr th:only-of-type {\n",
       "        vertical-align: middle;\n",
       "    }\n",
       "\n",
       "    .dataframe tbody tr th {\n",
       "        vertical-align: top;\n",
       "    }\n",
       "\n",
       "    .dataframe thead th {\n",
       "        text-align: right;\n",
       "    }\n",
       "</style>\n",
       "<table border=\"1\" class=\"dataframe\">\n",
       "  <thead>\n",
       "    <tr style=\"text-align: right;\">\n",
       "      <th></th>\n",
       "      <th>total_images</th>\n",
       "      <th>last_price</th>\n",
       "      <th>total_area</th>\n",
       "      <th>first_day_exposition</th>\n",
       "      <th>rooms</th>\n",
       "      <th>ceiling_height</th>\n",
       "      <th>floors_total</th>\n",
       "      <th>living_area</th>\n",
       "      <th>floor</th>\n",
       "      <th>is_apartment</th>\n",
       "      <th>...</th>\n",
       "      <th>price_metr</th>\n",
       "      <th>weekday</th>\n",
       "      <th>month</th>\n",
       "      <th>year</th>\n",
       "      <th>floor_group</th>\n",
       "      <th>part_living</th>\n",
       "      <th>part_kitchen</th>\n",
       "      <th>month_expos</th>\n",
       "      <th>cityCenter_km</th>\n",
       "      <th>centr_or_not</th>\n",
       "    </tr>\n",
       "  </thead>\n",
       "  <tbody>\n",
       "    <tr>\n",
       "      <td>0</td>\n",
       "      <td>20</td>\n",
       "      <td>13000000.0</td>\n",
       "      <td>108.0</td>\n",
       "      <td>2019-03-07</td>\n",
       "      <td>3</td>\n",
       "      <td>2.70</td>\n",
       "      <td>16</td>\n",
       "      <td>51.000000</td>\n",
       "      <td>8</td>\n",
       "      <td>False</td>\n",
       "      <td>...</td>\n",
       "      <td>120370.0</td>\n",
       "      <td>4</td>\n",
       "      <td>3</td>\n",
       "      <td>2019</td>\n",
       "      <td>Другой</td>\n",
       "      <td>0.472222</td>\n",
       "      <td>0.231481</td>\n",
       "      <td>0</td>\n",
       "      <td>16</td>\n",
       "      <td>переферия</td>\n",
       "    </tr>\n",
       "    <tr>\n",
       "      <td>2</td>\n",
       "      <td>10</td>\n",
       "      <td>5196000.0</td>\n",
       "      <td>56.0</td>\n",
       "      <td>2015-08-20</td>\n",
       "      <td>2</td>\n",
       "      <td>2.50</td>\n",
       "      <td>5</td>\n",
       "      <td>34.300000</td>\n",
       "      <td>4</td>\n",
       "      <td>False</td>\n",
       "      <td>...</td>\n",
       "      <td>92786.0</td>\n",
       "      <td>4</td>\n",
       "      <td>8</td>\n",
       "      <td>2015</td>\n",
       "      <td>Другой</td>\n",
       "      <td>0.612500</td>\n",
       "      <td>0.148214</td>\n",
       "      <td>570</td>\n",
       "      <td>13</td>\n",
       "      <td>переферия</td>\n",
       "    </tr>\n",
       "    <tr>\n",
       "      <td>4</td>\n",
       "      <td>2</td>\n",
       "      <td>10000000.0</td>\n",
       "      <td>100.0</td>\n",
       "      <td>2018-06-19</td>\n",
       "      <td>2</td>\n",
       "      <td>3.03</td>\n",
       "      <td>14</td>\n",
       "      <td>32.000000</td>\n",
       "      <td>13</td>\n",
       "      <td>False</td>\n",
       "      <td>...</td>\n",
       "      <td>100000.0</td>\n",
       "      <td>2</td>\n",
       "      <td>6</td>\n",
       "      <td>2018</td>\n",
       "      <td>Другой</td>\n",
       "      <td>0.320000</td>\n",
       "      <td>0.410000</td>\n",
       "      <td>150</td>\n",
       "      <td>8</td>\n",
       "      <td>центр</td>\n",
       "    </tr>\n",
       "    <tr>\n",
       "      <td>7</td>\n",
       "      <td>5</td>\n",
       "      <td>7915000.0</td>\n",
       "      <td>71.6</td>\n",
       "      <td>2019-04-18</td>\n",
       "      <td>2</td>\n",
       "      <td>2.50</td>\n",
       "      <td>24</td>\n",
       "      <td>41.203774</td>\n",
       "      <td>22</td>\n",
       "      <td>False</td>\n",
       "      <td>...</td>\n",
       "      <td>110545.0</td>\n",
       "      <td>4</td>\n",
       "      <td>4</td>\n",
       "      <td>2019</td>\n",
       "      <td>Другой</td>\n",
       "      <td>0.575472</td>\n",
       "      <td>0.263966</td>\n",
       "      <td>0</td>\n",
       "      <td>11</td>\n",
       "      <td>переферия</td>\n",
       "    </tr>\n",
       "    <tr>\n",
       "      <td>9</td>\n",
       "      <td>18</td>\n",
       "      <td>5400000.0</td>\n",
       "      <td>61.0</td>\n",
       "      <td>2017-02-26</td>\n",
       "      <td>3</td>\n",
       "      <td>2.50</td>\n",
       "      <td>9</td>\n",
       "      <td>43.600000</td>\n",
       "      <td>7</td>\n",
       "      <td>False</td>\n",
       "      <td>...</td>\n",
       "      <td>88525.0</td>\n",
       "      <td>7</td>\n",
       "      <td>2</td>\n",
       "      <td>2017</td>\n",
       "      <td>Другой</td>\n",
       "      <td>0.714754</td>\n",
       "      <td>0.106557</td>\n",
       "      <td>300</td>\n",
       "      <td>15</td>\n",
       "      <td>переферия</td>\n",
       "    </tr>\n",
       "  </tbody>\n",
       "</table>\n",
       "<p>5 rows × 32 columns</p>\n",
       "</div>"
      ],
      "text/plain": [
       "   total_images  last_price  total_area first_day_exposition  rooms  \\\n",
       "0            20  13000000.0       108.0           2019-03-07      3   \n",
       "2            10   5196000.0        56.0           2015-08-20      2   \n",
       "4             2  10000000.0       100.0           2018-06-19      2   \n",
       "7             5   7915000.0        71.6           2019-04-18      2   \n",
       "9            18   5400000.0        61.0           2017-02-26      3   \n",
       "\n",
       "   ceiling_height  floors_total  living_area  floor  is_apartment  ...  \\\n",
       "0            2.70            16    51.000000      8         False  ...   \n",
       "2            2.50             5    34.300000      4         False  ...   \n",
       "4            3.03            14    32.000000     13         False  ...   \n",
       "7            2.50            24    41.203774     22         False  ...   \n",
       "9            2.50             9    43.600000      7         False  ...   \n",
       "\n",
       "   price_metr  weekday  month  year floor_group  part_living  part_kitchen  \\\n",
       "0    120370.0        4      3  2019      Другой     0.472222      0.231481   \n",
       "2     92786.0        4      8  2015      Другой     0.612500      0.148214   \n",
       "4    100000.0        2      6  2018      Другой     0.320000      0.410000   \n",
       "7    110545.0        4      4  2019      Другой     0.575472      0.263966   \n",
       "9     88525.0        7      2  2017      Другой     0.714754      0.106557   \n",
       "\n",
       "   month_expos  cityCenter_km  centr_or_not  \n",
       "0            0             16     переферия  \n",
       "2          570             13     переферия  \n",
       "4          150              8         центр  \n",
       "7            0             11     переферия  \n",
       "9          300             15     переферия  \n",
       "\n",
       "[5 rows x 32 columns]"
      ]
     },
     "execution_count": 132,
     "metadata": {},
     "output_type": "execute_result"
    }
   ],
   "source": [
    "# Добавляем столбец с разделением квартир на Центр и Перефирию\n",
    "\n",
    "def filter_centr(row):\n",
    "    \"\"\"\n",
    "    Если больше 8 км растояние от цента то это Переферия, если меньше то это центр\n",
    "    \"\"\"\n",
    "    if row['cityCenter_km'] > 8:\n",
    "        return 'переферия'\n",
    "    elif row['cityCenter_km'] <= 8:\n",
    "        return 'центр'\n",
    "    return 'не определено'\n",
    "\n",
    "spb_data['centr_or_not'] = spb_data.apply(filter_centr, axis=1)\n",
    "spb_data.head()"
   ]
  },
  {
   "cell_type": "markdown",
   "metadata": {},
   "source": [
    "## Определим различие по этажам"
   ]
  },
  {
   "cell_type": "code",
   "execution_count": 133,
   "metadata": {},
   "outputs": [
    {
     "data": {
      "text/plain": [
       "<matplotlib.axes._subplots.AxesSubplot at 0x7f482b77cf10>"
      ]
     },
     "execution_count": 133,
     "metadata": {},
     "output_type": "execute_result"
    },
    {
     "data": {
      "image/png": "[encoded data removed]",
      "text/plain": [
       "<Figure size 1080x720 with 1 Axes>"
      ]
     },
     "metadata": {
      "needs_background": "light"
     },
     "output_type": "display_data"
    }
   ],
   "source": [
    "# Различие в цене за м.кв по этажам в СПб в разбивке по Центру и Переферии\n",
    "(spb_data.pivot_table(index = ['floor'], \n",
    "                 columns = 'centr_or_not', \n",
    "                 values = 'price_metr', \n",
    "                 aggfunc = 'median')\n",
    "        .plot(kind = 'bar', figsize = (15,10)))"
   ]
  },
  {
   "cell_type": "markdown",
   "metadata": {},
   "source": [
    "- В целом в Центре цена за метр выше на любом этаже.\n",
    "- Начиная с 6 этажа отличие за метр начинает сильно увеличиваться. \n",
    "- Скорее всего это новые дома которые больше 5го этажа. \n",
    "- Моя любовь живет на 21 этаже почти где луна и там дороже всего в центре но мне все равно :)"
   ]
  },
  {
   "cell_type": "markdown",
   "metadata": {},
   "source": [
    "## Определим различие по Группе этажа"
   ]
  },
  {
   "cell_type": "code",
   "execution_count": 134,
   "metadata": {},
   "outputs": [
    {
     "data": {
      "text/plain": [
       "<matplotlib.axes._subplots.AxesSubplot at 0x7f482bc29c50>"
      ]
     },
     "execution_count": 134,
     "metadata": {},
     "output_type": "execute_result"
    },
    {
     "data": {
      "image/png": "[encoded data removed]",
      "text/plain": [
       "<Figure size 360x432 with 1 Axes>"
      ]
     },
     "metadata": {
      "needs_background": "light"
     },
     "output_type": "display_data"
    }
   ],
   "source": [
    "# Различие в цене за м.кв по группам этажей (Первый, не Первый - Последний)\n",
    "(spb_data.pivot_table(index = ['floor_group'], \n",
    "                 columns = 'centr_or_not', \n",
    "                 values = 'price_metr', \n",
    "                 aggfunc = 'median')\n",
    "        .plot(kind = 'bar', figsize = (5,6)))"
   ]
  },
  {
   "cell_type": "markdown",
   "metadata": {},
   "source": [
    "Ну вот, на первом этаже как никто не хотел жить так и не хочет, в центре или на переферии не важно.\n",
    "Зато можно продать свой первый этаж в центре и переехать на переферию в любой другой этаж без доплаты.\n",
    "Последний этаж не так плох как первый."
   ]
  },
  {
   "cell_type": "markdown",
   "metadata": {},
   "source": [
    "## Определим различие по потолкам"
   ]
  },
  {
   "cell_type": "code",
   "execution_count": 135,
   "metadata": {},
   "outputs": [
    {
     "data": {
      "text/html": [
       "<div>\n",
       "<style scoped>\n",
       "    .dataframe tbody tr th:only-of-type {\n",
       "        vertical-align: middle;\n",
       "    }\n",
       "\n",
       "    .dataframe tbody tr th {\n",
       "        vertical-align: top;\n",
       "    }\n",
       "\n",
       "    .dataframe thead th {\n",
       "        text-align: right;\n",
       "    }\n",
       "</style>\n",
       "<table border=\"1\" class=\"dataframe\">\n",
       "  <thead>\n",
       "    <tr style=\"text-align: right;\">\n",
       "      <th></th>\n",
       "      <th>total_images</th>\n",
       "      <th>last_price</th>\n",
       "      <th>total_area</th>\n",
       "      <th>first_day_exposition</th>\n",
       "      <th>rooms</th>\n",
       "      <th>ceiling_height</th>\n",
       "      <th>floors_total</th>\n",
       "      <th>living_area</th>\n",
       "      <th>floor</th>\n",
       "      <th>is_apartment</th>\n",
       "      <th>...</th>\n",
       "      <th>weekday</th>\n",
       "      <th>month</th>\n",
       "      <th>year</th>\n",
       "      <th>floor_group</th>\n",
       "      <th>part_living</th>\n",
       "      <th>part_kitchen</th>\n",
       "      <th>month_expos</th>\n",
       "      <th>cityCenter_km</th>\n",
       "      <th>centr_or_not</th>\n",
       "      <th>ceiling_group</th>\n",
       "    </tr>\n",
       "  </thead>\n",
       "  <tbody>\n",
       "    <tr>\n",
       "      <td>0</td>\n",
       "      <td>20</td>\n",
       "      <td>13000000.0</td>\n",
       "      <td>108.0</td>\n",
       "      <td>2019-03-07</td>\n",
       "      <td>3</td>\n",
       "      <td>2.70</td>\n",
       "      <td>16</td>\n",
       "      <td>51.000000</td>\n",
       "      <td>8</td>\n",
       "      <td>False</td>\n",
       "      <td>...</td>\n",
       "      <td>4</td>\n",
       "      <td>3</td>\n",
       "      <td>2019</td>\n",
       "      <td>Другой</td>\n",
       "      <td>0.472222</td>\n",
       "      <td>0.231481</td>\n",
       "      <td>0</td>\n",
       "      <td>16</td>\n",
       "      <td>переферия</td>\n",
       "      <td>от 2.7</td>\n",
       "    </tr>\n",
       "    <tr>\n",
       "      <td>2</td>\n",
       "      <td>10</td>\n",
       "      <td>5196000.0</td>\n",
       "      <td>56.0</td>\n",
       "      <td>2015-08-20</td>\n",
       "      <td>2</td>\n",
       "      <td>2.50</td>\n",
       "      <td>5</td>\n",
       "      <td>34.300000</td>\n",
       "      <td>4</td>\n",
       "      <td>False</td>\n",
       "      <td>...</td>\n",
       "      <td>4</td>\n",
       "      <td>8</td>\n",
       "      <td>2015</td>\n",
       "      <td>Другой</td>\n",
       "      <td>0.612500</td>\n",
       "      <td>0.148214</td>\n",
       "      <td>570</td>\n",
       "      <td>13</td>\n",
       "      <td>переферия</td>\n",
       "      <td>от 2.5</td>\n",
       "    </tr>\n",
       "    <tr>\n",
       "      <td>4</td>\n",
       "      <td>2</td>\n",
       "      <td>10000000.0</td>\n",
       "      <td>100.0</td>\n",
       "      <td>2018-06-19</td>\n",
       "      <td>2</td>\n",
       "      <td>3.03</td>\n",
       "      <td>14</td>\n",
       "      <td>32.000000</td>\n",
       "      <td>13</td>\n",
       "      <td>False</td>\n",
       "      <td>...</td>\n",
       "      <td>2</td>\n",
       "      <td>6</td>\n",
       "      <td>2018</td>\n",
       "      <td>Другой</td>\n",
       "      <td>0.320000</td>\n",
       "      <td>0.410000</td>\n",
       "      <td>150</td>\n",
       "      <td>8</td>\n",
       "      <td>центр</td>\n",
       "      <td>None</td>\n",
       "    </tr>\n",
       "    <tr>\n",
       "      <td>7</td>\n",
       "      <td>5</td>\n",
       "      <td>7915000.0</td>\n",
       "      <td>71.6</td>\n",
       "      <td>2019-04-18</td>\n",
       "      <td>2</td>\n",
       "      <td>2.50</td>\n",
       "      <td>24</td>\n",
       "      <td>41.203774</td>\n",
       "      <td>22</td>\n",
       "      <td>False</td>\n",
       "      <td>...</td>\n",
       "      <td>4</td>\n",
       "      <td>4</td>\n",
       "      <td>2019</td>\n",
       "      <td>Другой</td>\n",
       "      <td>0.575472</td>\n",
       "      <td>0.263966</td>\n",
       "      <td>0</td>\n",
       "      <td>11</td>\n",
       "      <td>переферия</td>\n",
       "      <td>от 2.5</td>\n",
       "    </tr>\n",
       "    <tr>\n",
       "      <td>9</td>\n",
       "      <td>18</td>\n",
       "      <td>5400000.0</td>\n",
       "      <td>61.0</td>\n",
       "      <td>2017-02-26</td>\n",
       "      <td>3</td>\n",
       "      <td>2.50</td>\n",
       "      <td>9</td>\n",
       "      <td>43.600000</td>\n",
       "      <td>7</td>\n",
       "      <td>False</td>\n",
       "      <td>...</td>\n",
       "      <td>7</td>\n",
       "      <td>2</td>\n",
       "      <td>2017</td>\n",
       "      <td>Другой</td>\n",
       "      <td>0.714754</td>\n",
       "      <td>0.106557</td>\n",
       "      <td>300</td>\n",
       "      <td>15</td>\n",
       "      <td>переферия</td>\n",
       "      <td>от 2.5</td>\n",
       "    </tr>\n",
       "  </tbody>\n",
       "</table>\n",
       "<p>5 rows × 33 columns</p>\n",
       "</div>"
      ],
      "text/plain": [
       "   total_images  last_price  total_area first_day_exposition  rooms  \\\n",
       "0            20  13000000.0       108.0           2019-03-07      3   \n",
       "2            10   5196000.0        56.0           2015-08-20      2   \n",
       "4             2  10000000.0       100.0           2018-06-19      2   \n",
       "7             5   7915000.0        71.6           2019-04-18      2   \n",
       "9            18   5400000.0        61.0           2017-02-26      3   \n",
       "\n",
       "   ceiling_height  floors_total  living_area  floor  is_apartment  ...  \\\n",
       "0            2.70            16    51.000000      8         False  ...   \n",
       "2            2.50             5    34.300000      4         False  ...   \n",
       "4            3.03            14    32.000000     13         False  ...   \n",
       "7            2.50            24    41.203774     22         False  ...   \n",
       "9            2.50             9    43.600000      7         False  ...   \n",
       "\n",
       "   weekday  month  year  floor_group part_living  part_kitchen  month_expos  \\\n",
       "0        4      3  2019       Другой    0.472222      0.231481            0   \n",
       "2        4      8  2015       Другой    0.612500      0.148214          570   \n",
       "4        2      6  2018       Другой    0.320000      0.410000          150   \n",
       "7        4      4  2019       Другой    0.575472      0.263966            0   \n",
       "9        7      2  2017       Другой    0.714754      0.106557          300   \n",
       "\n",
       "   cityCenter_km  centr_or_not  ceiling_group  \n",
       "0             16     переферия         от 2.7  \n",
       "2             13     переферия         от 2.5  \n",
       "4              8         центр           None  \n",
       "7             11     переферия         от 2.5  \n",
       "9             15     переферия         от 2.5  \n",
       "\n",
       "[5 rows x 33 columns]"
      ]
     },
     "execution_count": 135,
     "metadata": {},
     "output_type": "execute_result"
    }
   ],
   "source": [
    "# Различие в цене за м.кв по потолкам \n",
    "# Добавим для начала потолочную градацию от 2.5, от 2.7, от 3 и от 4м \n",
    "\n",
    "def ceil(row):\n",
    "    if row['ceiling_height'] < 2.5:\n",
    "        return 'до 2.5'\n",
    "    if row['ceiling_height'] < 2.7:\n",
    "        return 'от 2.5'\n",
    "    if row['ceiling_height'] < 3:\n",
    "        return 'от 2.7'\n",
    "    if row['ceiling_height'] >= 4:\n",
    "        return 'от 3'\n",
    "    if row['ceiling_height'] >= 8:\n",
    "        return 'от 4'\n",
    "    if row['ceiling_height'] != row['ceiling_height']:\n",
    "        return 'не определено'\n",
    "spb_data['ceiling_group'] = spb_data.apply(ceil, axis=1)\n",
    "\n",
    "spb_data.head()"
   ]
  },
  {
   "cell_type": "code",
   "execution_count": 136,
   "metadata": {},
   "outputs": [
    {
     "data": {
      "text/plain": [
       "<matplotlib.axes._subplots.AxesSubplot at 0x7f482bc5cb50>"
      ]
     },
     "execution_count": 136,
     "metadata": {},
     "output_type": "execute_result"
    },
    {
     "data": {
      "image/png": "[encoded data removed]",
      "text/plain": [
       "<Figure size 720x432 with 1 Axes>"
      ]
     },
     "metadata": {
      "needs_background": "light"
     },
     "output_type": "display_data"
    }
   ],
   "source": [
    "(spb_data.pivot_table(index = ['ceiling_group'], \n",
    "                 columns = 'centr_or_not', \n",
    "                 values = 'price_metr', \n",
    "                 aggfunc = 'median')\n",
    "        .plot(kind = 'bar', figsize = (10,6)))"
   ]
  },
  {
   "cell_type": "markdown",
   "metadata": {},
   "source": [
    "Наиболее дорогой вариант квартир с потолками от 2.7 м, а вот от 3 метров в Переферии не пользуется популярностью"
   ]
  },
  {
   "cell_type": "markdown",
   "metadata": {},
   "source": [
    "## To be Аппартаменты or not to be"
   ]
  },
  {
   "cell_type": "code",
   "execution_count": 137,
   "metadata": {},
   "outputs": [
    {
     "data": {
      "text/plain": [
       "Index(['total_images', 'last_price', 'total_area', 'first_day_exposition',\n",
       "       'rooms', 'ceiling_height', 'floors_total', 'living_area', 'floor',\n",
       "       'is_apartment', 'studio', 'open_plan', 'kitchen_area', 'balcony',\n",
       "       'locality_name', 'airports_nearest', 'cityCenters_nearest',\n",
       "       'parks_around3000', 'parks_nearest', 'ponds_around3000',\n",
       "       'ponds_nearest', 'days_exposition', 'price_metr', 'weekday', 'month',\n",
       "       'year', 'floor_group', 'part_living', 'part_kitchen', 'month_expos',\n",
       "       'cityCenter_km', 'centr_or_not', 'ceiling_group'],\n",
       "      dtype='object')"
      ]
     },
     "execution_count": 137,
     "metadata": {},
     "output_type": "execute_result"
    }
   ],
   "source": [
    "spb_data.columns"
   ]
  },
  {
   "cell_type": "code",
   "execution_count": 138,
   "metadata": {},
   "outputs": [
    {
     "data": {
      "text/plain": [
       "<matplotlib.axes._subplots.AxesSubplot at 0x7f482b246250>"
      ]
     },
     "execution_count": 138,
     "metadata": {},
     "output_type": "execute_result"
    },
    {
     "data": {
      "image/png": "[encoded data removed]",
      "text/plain": [
       "<Figure size 720x432 with 1 Axes>"
      ]
     },
     "metadata": {
      "needs_background": "light"
     },
     "output_type": "display_data"
    }
   ],
   "source": [
    "(spb_data.pivot_table(index = ['centr_or_not'], \n",
    "                 columns = 'is_apartment', \n",
    "                 values = 'price_metr', \n",
    "                 aggfunc = 'median')\n",
    "        .plot(kind = 'bar', figsize = (10,6)))"
   ]
  },
  {
   "cell_type": "code",
   "execution_count": 139,
   "metadata": {},
   "outputs": [
    {
     "data": {
      "text/html": [
       "<div>\n",
       "<style scoped>\n",
       "    .dataframe tbody tr th:only-of-type {\n",
       "        vertical-align: middle;\n",
       "    }\n",
       "\n",
       "    .dataframe tbody tr th {\n",
       "        vertical-align: top;\n",
       "    }\n",
       "\n",
       "    .dataframe thead th {\n",
       "        text-align: right;\n",
       "    }\n",
       "</style>\n",
       "<table border=\"1\" class=\"dataframe\">\n",
       "  <thead>\n",
       "    <tr style=\"text-align: right;\">\n",
       "      <th>is_apartment</th>\n",
       "      <th>False</th>\n",
       "      <th>True</th>\n",
       "    </tr>\n",
       "  </thead>\n",
       "  <tbody>\n",
       "    <tr>\n",
       "      <td>price_metr</td>\n",
       "      <td>103575.5</td>\n",
       "      <td>112093.5</td>\n",
       "    </tr>\n",
       "  </tbody>\n",
       "</table>\n",
       "</div>"
      ],
      "text/plain": [
       "is_apartment     False     True \n",
       "price_metr    103575.5  112093.5"
      ]
     },
     "execution_count": 139,
     "metadata": {},
     "output_type": "execute_result"
    }
   ],
   "source": [
    "svd_appart = spb_data.pivot_table(columns = ['is_apartment'], \n",
    "                 values = 'price_metr', \n",
    "                 aggfunc = 'median')\n",
    "svd_appart"
   ]
  },
  {
   "cell_type": "code",
   "execution_count": 140,
   "metadata": {},
   "outputs": [
    {
     "data": {
      "text/plain": [
       "array([8.22395258])"
      ]
     },
     "execution_count": 140,
     "metadata": {},
     "output_type": "execute_result"
    }
   ],
   "source": [
    "(svd_appart.values[:,1] / svd_appart.values[:,0] -1) *100"
   ]
  },
  {
   "cell_type": "markdown",
   "metadata": {},
   "source": [
    "Цены на аппартаменты в среднем выше на 8% чем на обычные квартиры"
   ]
  },
  {
   "cell_type": "code",
   "execution_count": 152,
   "metadata": {},
   "outputs": [
    {
     "name": "stdout",
     "output_type": "stream",
     "text": [
      "price_metr        1.000000\n",
      "total_area       -0.193643\n",
      "rooms            -0.326482\n",
      "ceiling_height    0.193571\n",
      "Name: price_metr, dtype: float64\n",
      "\n",
      "price_metr        1.000000\n",
      "total_area       -0.028553\n",
      "rooms            -0.286829\n",
      "ceiling_height    0.044811\n",
      "Name: price_metr, dtype: float64\n",
      "\n",
      "price_metr        1.000000\n",
      "total_area        0.078217\n",
      "rooms            -0.126023\n",
      "ceiling_height    0.112897\n",
      "Name: price_metr, dtype: float64\n"
     ]
    }
   ],
   "source": [
    "spb_filt_centr = spb_data[spb_data['centr_or_not'] == 'центр'].filter(items = ['price_metr', 'total_area', 'rooms'\n",
    "                                                                              ,'ceiling_height'])\n",
    "spb_filt_peref = spb_data[spb_data['centr_or_not'] == 'переферия'].filter(items = ['price_metr', 'total_area', 'rooms'\n",
    "                                                                              ,'ceiling_height'])\n",
    "All_dt = good_data.filter(items = ['price_metr', 'total_area', 'rooms','ceiling_height'])\n",
    "\n",
    "print(spb_filt_centr.corr()['price_metr'])\n",
    "print()\n",
    "print(spb_filt_peref.corr()['price_metr'])\n",
    "print()\n",
    "print(All_dt.corr()['price_metr'])"
   ]
  },
  {
   "cell_type": "markdown",
   "metadata": {},
   "source": [
    "### Общий итог по Корреляции: Чем ближе к центру, тем больше каждый фактор начинает коррелировать с ценой"
   ]
  },
  {
   "cell_type": "markdown",
   "metadata": {},
   "source": [
    "### Шаг 5. Общий вывод"
   ]
  },
  {
   "cell_type": "markdown",
   "metadata": {},
   "source": [
    "1. Большинство квартир представленных на рынке имеют кол-во комнат от одной до 3х, доля таких квартир составляет 92%:\n",
    "    - 1 комн = 34%;\n",
    "    - 2 комн = 33,5%\n",
    "    - 3 комн = 24,5%\n",
    "---\n",
    "2. Центр города в Санкт-Петербурге начинаяется с растояния **8 км до центра**, цены на жилье здесь стартуют с цены **110 тыс** за 1 кв. метр\n",
    "---\n",
    "3. В целом удаленность от СПб влияет на стоимость м.кв.\n",
    "Например Выборг расположен на расстоянии до СПб в 120 км, Гатчина в 42 км и стоимость жилья там дешевле.\n",
    "Но вот в Пушкино стоимость жилья почти равна СПб, хотя расстояние до центра там 27 км - видимо сам район и инфроструктура тоже влияют на стоимость\n",
    "---\n",
    "4. Цены в центре СПб по всем параметрам выше, этаж это или потолок не важно.\n",
    "    - Более высокие цены на жилье в квартирах этажностью от 6го этажа, видимо в новых домах в центре\n",
    "---\n",
    "5. На первом этаже жить никто не хочет, вот и цены там обычно ниже, не важно центр это или переферия.\n",
    "    - Но зато можно найти квартиру не на первом и не на последнем этаже продав квартиру в центре на первом\n",
    "---\n",
    "6. Наиболее дорогие квартиры с потолками от 2,7 метра, они даже более дорогие чем квартиры на переферии от 3х метров\n",
    "---\n",
    "7. Цены на аппартаменты на 8% дороже чем в обычных квартирах"
   ]
  }
 ],
 "metadata": {
  "kernelspec": {
   "display_name": "Python 3",
   "language": "python",
   "name": "python3"
  },
  "language_info": {
   "codemirror_mode": {
    "name": "ipython",
    "version": 3
   },
   "file_extension": ".py",
   "mimetype": "text/x-python",
   "name": "python",
   "nbconvert_exporter": "python",
   "pygments_lexer": "ipython3",
   "version": "3.7.6"
  }
 },
 "nbformat": 4,
 "nbformat_minor": 2
}
