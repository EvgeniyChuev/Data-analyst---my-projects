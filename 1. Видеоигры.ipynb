{
 "cells": [
  {
   "cell_type": "markdown",
   "metadata": {},
   "source": [
    "#### Цель проекта: Выявить определяющие успешность игры закономерности."
   ]
  },
  {
   "cell_type": "markdown",
   "metadata": {},
   "source": [
    "#### Описание данных\n",
    "- **Name** — название игры\n",
    "- **Platform** — платформа\n",
    "- **Year_of_Release** — год выпуска\n",
    "- **Genre** — жанр игры\n",
    "- **NA_sales** — продажи в Северной Америке (миллионы проданных копий)\n",
    "- **EU_sales** — продажи в Европе (миллионы проданных копий)\n",
    "- **JP_sales** — продажи в Японии (миллионы проданных копий)\n",
    "- **Other_sales** — продажи в других странах (миллионы проданных копий)\n",
    "- **Critic_Score** — оценка критиков (максимум 100)\n",
    "- **User_Score** — оценка пользователей (максимум 10)\n",
    "- **Rating** — рейтинг"
   ]
  },
  {
   "cell_type": "markdown",
   "metadata": {},
   "source": [
    "### <span style=\"color:blue\">Шаг_1. Открываем файл и изучаем общую информацию."
   ]
  },
  {
   "cell_type": "code",
   "execution_count": 1,
   "metadata": {},
   "outputs": [],
   "source": [
    "import pandas as pd\n",
    "import numpy as np\n",
    "import seaborn as sns\n",
    "import matplotlib.pyplot as plt\n",
    "from scipy import stats as st"
   ]
  },
  {
   "cell_type": "code",
   "execution_count": 2,
   "metadata": {},
   "outputs": [
    {
     "data": {
      "text/html": [
       "<div>\n",
       "<style scoped>\n",
       "    .dataframe tbody tr th:only-of-type {\n",
       "        vertical-align: middle;\n",
       "    }\n",
       "\n",
       "    .dataframe tbody tr th {\n",
       "        vertical-align: top;\n",
       "    }\n",
       "\n",
       "    .dataframe thead th {\n",
       "        text-align: right;\n",
       "    }\n",
       "</style>\n",
       "<table border=\"1\" class=\"dataframe\">\n",
       "  <thead>\n",
       "    <tr style=\"text-align: right;\">\n",
       "      <th></th>\n",
       "      <th>Name</th>\n",
       "      <th>Platform</th>\n",
       "      <th>Year_of_Release</th>\n",
       "      <th>Genre</th>\n",
       "      <th>NA_sales</th>\n",
       "      <th>EU_sales</th>\n",
       "      <th>JP_sales</th>\n",
       "      <th>Other_sales</th>\n",
       "      <th>Critic_Score</th>\n",
       "      <th>User_Score</th>\n",
       "      <th>Rating</th>\n",
       "    </tr>\n",
       "  </thead>\n",
       "  <tbody>\n",
       "    <tr>\n",
       "      <td>0</td>\n",
       "      <td>Wii Sports</td>\n",
       "      <td>Wii</td>\n",
       "      <td>2006.0</td>\n",
       "      <td>Sports</td>\n",
       "      <td>41.36</td>\n",
       "      <td>28.96</td>\n",
       "      <td>3.77</td>\n",
       "      <td>8.45</td>\n",
       "      <td>76.0</td>\n",
       "      <td>8</td>\n",
       "      <td>E</td>\n",
       "    </tr>\n",
       "    <tr>\n",
       "      <td>1</td>\n",
       "      <td>Super Mario Bros.</td>\n",
       "      <td>NES</td>\n",
       "      <td>1985.0</td>\n",
       "      <td>Platform</td>\n",
       "      <td>29.08</td>\n",
       "      <td>3.58</td>\n",
       "      <td>6.81</td>\n",
       "      <td>0.77</td>\n",
       "      <td>NaN</td>\n",
       "      <td>NaN</td>\n",
       "      <td>NaN</td>\n",
       "    </tr>\n",
       "    <tr>\n",
       "      <td>2</td>\n",
       "      <td>Mario Kart Wii</td>\n",
       "      <td>Wii</td>\n",
       "      <td>2008.0</td>\n",
       "      <td>Racing</td>\n",
       "      <td>15.68</td>\n",
       "      <td>12.76</td>\n",
       "      <td>3.79</td>\n",
       "      <td>3.29</td>\n",
       "      <td>82.0</td>\n",
       "      <td>8.3</td>\n",
       "      <td>E</td>\n",
       "    </tr>\n",
       "    <tr>\n",
       "      <td>3</td>\n",
       "      <td>Wii Sports Resort</td>\n",
       "      <td>Wii</td>\n",
       "      <td>2009.0</td>\n",
       "      <td>Sports</td>\n",
       "      <td>15.61</td>\n",
       "      <td>10.93</td>\n",
       "      <td>3.28</td>\n",
       "      <td>2.95</td>\n",
       "      <td>80.0</td>\n",
       "      <td>8</td>\n",
       "      <td>E</td>\n",
       "    </tr>\n",
       "    <tr>\n",
       "      <td>4</td>\n",
       "      <td>Pokemon Red/Pokemon Blue</td>\n",
       "      <td>GB</td>\n",
       "      <td>1996.0</td>\n",
       "      <td>Role-Playing</td>\n",
       "      <td>11.27</td>\n",
       "      <td>8.89</td>\n",
       "      <td>10.22</td>\n",
       "      <td>1.00</td>\n",
       "      <td>NaN</td>\n",
       "      <td>NaN</td>\n",
       "      <td>NaN</td>\n",
       "    </tr>\n",
       "  </tbody>\n",
       "</table>\n",
       "</div>"
      ],
      "text/plain": [
       "                       Name Platform  Year_of_Release         Genre  NA_sales  \\\n",
       "0                Wii Sports      Wii           2006.0        Sports     41.36   \n",
       "1         Super Mario Bros.      NES           1985.0      Platform     29.08   \n",
       "2            Mario Kart Wii      Wii           2008.0        Racing     15.68   \n",
       "3         Wii Sports Resort      Wii           2009.0        Sports     15.61   \n",
       "4  Pokemon Red/Pokemon Blue       GB           1996.0  Role-Playing     11.27   \n",
       "\n",
       "   EU_sales  JP_sales  Other_sales  Critic_Score User_Score Rating  \n",
       "0     28.96      3.77         8.45          76.0          8      E  \n",
       "1      3.58      6.81         0.77           NaN        NaN    NaN  \n",
       "2     12.76      3.79         3.29          82.0        8.3      E  \n",
       "3     10.93      3.28         2.95          80.0          8      E  \n",
       "4      8.89     10.22         1.00           NaN        NaN    NaN  "
      ]
     },
     "execution_count": 2,
     "metadata": {},
     "output_type": "execute_result"
    }
   ],
   "source": [
    "data = pd.read_csv('/datasets/games.csv')\n",
    "data.head()"
   ]
  },
  {
   "cell_type": "code",
   "execution_count": 3,
   "metadata": {},
   "outputs": [
    {
     "name": "stdout",
     "output_type": "stream",
     "text": [
      "<class 'pandas.core.frame.DataFrame'>\n",
      "RangeIndex: 16715 entries, 0 to 16714\n",
      "Data columns (total 11 columns):\n",
      "Name               16713 non-null object\n",
      "Platform           16715 non-null object\n",
      "Year_of_Release    16446 non-null float64\n",
      "Genre              16713 non-null object\n",
      "NA_sales           16715 non-null float64\n",
      "EU_sales           16715 non-null float64\n",
      "JP_sales           16715 non-null float64\n",
      "Other_sales        16715 non-null float64\n",
      "Critic_Score       8137 non-null float64\n",
      "User_Score         10014 non-null object\n",
      "Rating             9949 non-null object\n",
      "dtypes: float64(6), object(5)\n",
      "memory usage: 1.4+ MB\n"
     ]
    }
   ],
   "source": [
    "data.info()"
   ]
  },
  {
   "cell_type": "code",
   "execution_count": 4,
   "metadata": {},
   "outputs": [
    {
     "data": {
      "text/plain": [
       "array(['Sports', 'Platform', 'Racing', 'Role-Playing', 'Puzzle', 'Misc',\n",
       "       'Shooter', 'Simulation', 'Action', 'Fighting', 'Adventure',\n",
       "       'Strategy', nan], dtype=object)"
      ]
     },
     "execution_count": 4,
     "metadata": {},
     "output_type": "execute_result"
    }
   ],
   "source": [
    "data['Genre'].unique()"
   ]
  },
  {
   "cell_type": "markdown",
   "metadata": {},
   "source": [
    "### Итоги Шага_1\n",
    "- В названии есть 2 пропуска - будем удалять такие строки, игра без названия - явно не поможет оценить успешность игры :)\n",
    "- Year_of_Release - имеет 267 пропусков, заполним пропуска годами запуска в других платформах, при совпадении + Переведем в формат int\n",
    "- Critic_Score - переведем в int\n",
    "- User_Score - избавимся от текстового поля \"tbd\" (рейтинг не определен) и переведем поле в формат float\n",
    "- Возрастной рейтинг проставлен не везде, изменений не требуется.\n",
    "---\n",
    "---\n"
   ]
  },
  {
   "cell_type": "markdown",
   "metadata": {},
   "source": [
    "### <span style=\"color:blue\"> Шаг_2. Подготовка данных"
   ]
  },
  {
   "cell_type": "markdown",
   "metadata": {},
   "source": [
    "#### a. Заменим названия столбцов (приведем к нижнему регистру)"
   ]
  },
  {
   "cell_type": "code",
   "execution_count": 5,
   "metadata": {},
   "outputs": [],
   "source": [
    "data.columns = data.columns.str.lower()"
   ]
  },
  {
   "cell_type": "code",
   "execution_count": 6,
   "metadata": {},
   "outputs": [
    {
     "data": {
      "text/plain": [
       "Index(['name', 'platform', 'year_of_release', 'genre', 'na_sales', 'eu_sales',\n",
       "       'jp_sales', 'other_sales', 'critic_score', 'user_score', 'rating'],\n",
       "      dtype='object')"
      ]
     },
     "execution_count": 6,
     "metadata": {},
     "output_type": "execute_result"
    }
   ],
   "source": [
    "data.columns"
   ]
  },
  {
   "cell_type": "markdown",
   "metadata": {},
   "source": [
    "#### b. Заменим типы данных"
   ]
  },
  {
   "cell_type": "code",
   "execution_count": 7,
   "metadata": {},
   "outputs": [],
   "source": [
    "# year_of_release - int (Это года, а в годах запятые никчему)\n",
    "# critic_score - int (Поле имеет целочисленные данные, думаю его можно привести к int)\n",
    "# user_score - избавимся от текстового поля \"tbd\" и переведем поле в формат float (Поле числовое, но из-за наличия \n",
    "#              в нем текстового поля в данный момент является 'object')\n",
    "data['year_of_release'] = data['year_of_release'].astype('Int64')"
   ]
  },
  {
   "cell_type": "code",
   "execution_count": 8,
   "metadata": {},
   "outputs": [],
   "source": [
    "# data['critic_score'] = data['critic_score'].astype('Int64')\n",
    "# Не буду переводить в Int там потом из-за этого такие проблемы начинаются :)"
   ]
  },
  {
   "cell_type": "code",
   "execution_count": 9,
   "metadata": {},
   "outputs": [],
   "source": [
    "data.loc[data['user_score'] == 'tbd', 'user_score'] = np.nan"
   ]
  },
  {
   "cell_type": "code",
   "execution_count": 10,
   "metadata": {},
   "outputs": [
    {
     "data": {
      "text/plain": [
       "array(['9.7', '9.6', '9.5', '9.4', '9.3', '9.2', '9.1', '9', '8.9', '8.8',\n",
       "       '8.7', '8.6', '8.5', '8.4', '8.3', '8.2', '8.1', '8', '7.9', '7.8',\n",
       "       '7.7', '7.6', '7.5', '7.4', '7.3', '7.2', '7.1', '7', '6.9', '6.8',\n",
       "       '6.7', '6.6', '6.5', '6.4', '6.3', '6.2', '6.1', '6', '5.9', '5.8',\n",
       "       '5.7', '5.6', '5.5', '5.4', '5.3', '5.2', '5.1', '5', '4.9', '4.8',\n",
       "       '4.7', '4.6', '4.5', '4.4', '4.3', '4.2', '4.1', '4', '3.9', '3.8',\n",
       "       '3.7', '3.6', '3.5', '3.4', '3.3', '3.2', '3.1', '3', '2.9', '2.8',\n",
       "       '2.7', '2.6', '2.5', '2.4', '2.3', '2.2', '2.1', '2', '1.9', '1.8',\n",
       "       '1.7', '1.6', '1.5', '1.4', '1.3', '1.2', '1.1', '1', '0.9', '0.7',\n",
       "       '0.6', '0.5', '0.3', '0.2', '0', nan], dtype=object)"
      ]
     },
     "execution_count": 10,
     "metadata": {},
     "output_type": "execute_result"
    }
   ],
   "source": [
    "data.sort_values(by='user_score', ascending=False)['user_score'].unique()"
   ]
  },
  {
   "cell_type": "code",
   "execution_count": 11,
   "metadata": {},
   "outputs": [],
   "source": [
    "data['user_score'] = data['user_score'].astype('float64')"
   ]
  },
  {
   "cell_type": "code",
   "execution_count": 12,
   "metadata": {},
   "outputs": [
    {
     "name": "stdout",
     "output_type": "stream",
     "text": [
      "<class 'pandas.core.frame.DataFrame'>\n",
      "RangeIndex: 16715 entries, 0 to 16714\n",
      "Data columns (total 11 columns):\n",
      "name               16713 non-null object\n",
      "platform           16715 non-null object\n",
      "year_of_release    16446 non-null Int64\n",
      "genre              16713 non-null object\n",
      "na_sales           16715 non-null float64\n",
      "eu_sales           16715 non-null float64\n",
      "jp_sales           16715 non-null float64\n",
      "other_sales        16715 non-null float64\n",
      "critic_score       8137 non-null float64\n",
      "user_score         7590 non-null float64\n",
      "rating             9949 non-null object\n",
      "dtypes: Int64(1), float64(6), object(4)\n",
      "memory usage: 1.4+ MB\n"
     ]
    }
   ],
   "source": [
    "data.info()"
   ]
  },
  {
   "cell_type": "markdown",
   "metadata": {},
   "source": [
    "#### c. Обработка пропусков"
   ]
  },
  {
   "cell_type": "markdown",
   "metadata": {},
   "source": [
    "Работаем со столбцом 'Year_of_Release', заполним пропуски по аналогичным играм но запущенным в других платформах\n"
   ]
  },
  {
   "cell_type": "code",
   "execution_count": 13,
   "metadata": {},
   "outputs": [],
   "source": [
    "# 1. Отбираем игры с непустыми значениями\n",
    "release_year = data.filter(items=['name', 'year_of_release']).query('year_of_release == year_of_release')"
   ]
  },
  {
   "cell_type": "code",
   "execution_count": 14,
   "metadata": {},
   "outputs": [],
   "source": [
    "# 2. Убираем дубликаты\n",
    "release_year = release_year.drop_duplicates().reset_index(drop=True)"
   ]
  },
  {
   "cell_type": "code",
   "execution_count": 15,
   "metadata": {},
   "outputs": [
    {
     "data": {
      "text/plain": [
       "12195"
      ]
     },
     "execution_count": 15,
     "metadata": {},
     "output_type": "execute_result"
    }
   ],
   "source": [
    "# 3. Считаем кол-во строк\n",
    "release_year['name'].count()"
   ]
  },
  {
   "cell_type": "code",
   "execution_count": 17,
   "metadata": {},
   "outputs": [
    {
     "data": {
      "text/plain": [
       "11426"
      ]
     },
     "execution_count": 17,
     "metadata": {},
     "output_type": "execute_result"
    }
   ],
   "source": [
    "# 4. Проверяем кол-во уникальных игр. Оказывается у нас есть игры с разными годами запуска :(\n",
    "release_year['name'].nunique()"
   ]
  },
  {
   "cell_type": "code",
   "execution_count": 18,
   "metadata": {},
   "outputs": [],
   "source": [
    "# 5. Воспользуемся методом группировки groupby first\n",
    "release_year = release_year.groupby('name', as_index=False).first()\n",
    "release_year = release_year.rename(columns={'year_of_release':'yy_add'})"
   ]
  },
  {
   "cell_type": "code",
   "execution_count": 19,
   "metadata": {},
   "outputs": [],
   "source": [
    "# 6. Теперь можно к пустым значениям добавить данные из таблички 'release_year'\n",
    "# Сначала добавим новый столбец\n",
    "data = data.merge(release_year, on='name', how='left')"
   ]
  },
  {
   "cell_type": "code",
   "execution_count": 20,
   "metadata": {},
   "outputs": [],
   "source": [
    "# 7. Теперь проставим в пустые значения годов то что нашли и удалим лишний столбец с годом\n",
    "data.loc[(data['year_of_release'] != data['year_of_release']) & (data['yy_add'] == data['yy_add']), 'year_of_release'] = data['yy_add']"
   ]
  },
  {
   "cell_type": "code",
   "execution_count": 21,
   "metadata": {},
   "outputs": [],
   "source": [
    "del data['yy_add']"
   ]
  },
  {
   "cell_type": "code",
   "execution_count": 22,
   "metadata": {},
   "outputs": [],
   "source": [
    "# Удаляем 2 пустые строки с отсутствующими названиями игр, такие строки нам явно не помогут в анализе\n",
    "data.drop(data.query('name != name').index,inplace=True)"
   ]
  },
  {
   "cell_type": "code",
   "execution_count": 23,
   "metadata": {},
   "outputs": [
    {
     "name": "stdout",
     "output_type": "stream",
     "text": [
      "<class 'pandas.core.frame.DataFrame'>\n",
      "Int64Index: 16713 entries, 0 to 16714\n",
      "Data columns (total 11 columns):\n",
      "name               16713 non-null object\n",
      "platform           16713 non-null object\n",
      "year_of_release    16567 non-null Int64\n",
      "genre              16713 non-null object\n",
      "na_sales           16713 non-null float64\n",
      "eu_sales           16713 non-null float64\n",
      "jp_sales           16713 non-null float64\n",
      "other_sales        16713 non-null float64\n",
      "critic_score       8137 non-null float64\n",
      "user_score         7590 non-null float64\n",
      "rating             9949 non-null object\n",
      "dtypes: Int64(1), float64(6), object(4)\n",
      "memory usage: 1.5+ MB\n"
     ]
    }
   ],
   "source": [
    "data.info()"
   ]
  },
  {
   "cell_type": "markdown",
   "metadata": {},
   "source": [
    "#### d. Возможные причины пропусков"
   ]
  },
  {
   "cell_type": "markdown",
   "metadata": {},
   "source": [
    "- **Год выпуска** - данные могли быть взяты из старых источников в которых это поле не было указано, или данные могли быть не заполнены оператором, при добавлении данных.\n",
    "- **Рейтинги** - могли быть не проставлены по 2 причинам, либо игра не поподала в такой рейтинг, либо это новая игра и данные находяться на уточнении **tbd**"
   ]
  },
  {
   "cell_type": "markdown",
   "metadata": {},
   "source": [
    "#### e. Посчитаем суммарные продажи во всех регионах и добавим их в нов. столбец 'all_sales'"
   ]
  },
  {
   "cell_type": "code",
   "execution_count": 24,
   "metadata": {},
   "outputs": [],
   "source": [
    "data['all_sales'] = data['na_sales']+data['eu_sales']+data['jp_sales']+data['other_sales']"
   ]
  },
  {
   "cell_type": "code",
   "execution_count": 25,
   "metadata": {},
   "outputs": [
    {
     "data": {
      "text/html": [
       "<div>\n",
       "<style scoped>\n",
       "    .dataframe tbody tr th:only-of-type {\n",
       "        vertical-align: middle;\n",
       "    }\n",
       "\n",
       "    .dataframe tbody tr th {\n",
       "        vertical-align: top;\n",
       "    }\n",
       "\n",
       "    .dataframe thead th {\n",
       "        text-align: right;\n",
       "    }\n",
       "</style>\n",
       "<table border=\"1\" class=\"dataframe\">\n",
       "  <thead>\n",
       "    <tr style=\"text-align: right;\">\n",
       "      <th></th>\n",
       "      <th>name</th>\n",
       "      <th>platform</th>\n",
       "      <th>year_of_release</th>\n",
       "      <th>genre</th>\n",
       "      <th>na_sales</th>\n",
       "      <th>eu_sales</th>\n",
       "      <th>jp_sales</th>\n",
       "      <th>other_sales</th>\n",
       "      <th>critic_score</th>\n",
       "      <th>user_score</th>\n",
       "      <th>rating</th>\n",
       "      <th>all_sales</th>\n",
       "    </tr>\n",
       "  </thead>\n",
       "  <tbody>\n",
       "    <tr>\n",
       "      <td>0</td>\n",
       "      <td>Wii Sports</td>\n",
       "      <td>Wii</td>\n",
       "      <td>2006</td>\n",
       "      <td>Sports</td>\n",
       "      <td>41.36</td>\n",
       "      <td>28.96</td>\n",
       "      <td>3.77</td>\n",
       "      <td>8.45</td>\n",
       "      <td>76.0</td>\n",
       "      <td>8.0</td>\n",
       "      <td>E</td>\n",
       "      <td>82.54</td>\n",
       "    </tr>\n",
       "    <tr>\n",
       "      <td>1</td>\n",
       "      <td>Super Mario Bros.</td>\n",
       "      <td>NES</td>\n",
       "      <td>1985</td>\n",
       "      <td>Platform</td>\n",
       "      <td>29.08</td>\n",
       "      <td>3.58</td>\n",
       "      <td>6.81</td>\n",
       "      <td>0.77</td>\n",
       "      <td>NaN</td>\n",
       "      <td>NaN</td>\n",
       "      <td>NaN</td>\n",
       "      <td>40.24</td>\n",
       "    </tr>\n",
       "    <tr>\n",
       "      <td>2</td>\n",
       "      <td>Mario Kart Wii</td>\n",
       "      <td>Wii</td>\n",
       "      <td>2008</td>\n",
       "      <td>Racing</td>\n",
       "      <td>15.68</td>\n",
       "      <td>12.76</td>\n",
       "      <td>3.79</td>\n",
       "      <td>3.29</td>\n",
       "      <td>82.0</td>\n",
       "      <td>8.3</td>\n",
       "      <td>E</td>\n",
       "      <td>35.52</td>\n",
       "    </tr>\n",
       "    <tr>\n",
       "      <td>3</td>\n",
       "      <td>Wii Sports Resort</td>\n",
       "      <td>Wii</td>\n",
       "      <td>2009</td>\n",
       "      <td>Sports</td>\n",
       "      <td>15.61</td>\n",
       "      <td>10.93</td>\n",
       "      <td>3.28</td>\n",
       "      <td>2.95</td>\n",
       "      <td>80.0</td>\n",
       "      <td>8.0</td>\n",
       "      <td>E</td>\n",
       "      <td>32.77</td>\n",
       "    </tr>\n",
       "    <tr>\n",
       "      <td>4</td>\n",
       "      <td>Pokemon Red/Pokemon Blue</td>\n",
       "      <td>GB</td>\n",
       "      <td>1996</td>\n",
       "      <td>Role-Playing</td>\n",
       "      <td>11.27</td>\n",
       "      <td>8.89</td>\n",
       "      <td>10.22</td>\n",
       "      <td>1.00</td>\n",
       "      <td>NaN</td>\n",
       "      <td>NaN</td>\n",
       "      <td>NaN</td>\n",
       "      <td>31.38</td>\n",
       "    </tr>\n",
       "  </tbody>\n",
       "</table>\n",
       "</div>"
      ],
      "text/plain": [
       "                       name platform  year_of_release         genre  na_sales  \\\n",
       "0                Wii Sports      Wii             2006        Sports     41.36   \n",
       "1         Super Mario Bros.      NES             1985      Platform     29.08   \n",
       "2            Mario Kart Wii      Wii             2008        Racing     15.68   \n",
       "3         Wii Sports Resort      Wii             2009        Sports     15.61   \n",
       "4  Pokemon Red/Pokemon Blue       GB             1996  Role-Playing     11.27   \n",
       "\n",
       "   eu_sales  jp_sales  other_sales  critic_score  user_score rating  all_sales  \n",
       "0     28.96      3.77         8.45          76.0         8.0      E      82.54  \n",
       "1      3.58      6.81         0.77           NaN         NaN    NaN      40.24  \n",
       "2     12.76      3.79         3.29          82.0         8.3      E      35.52  \n",
       "3     10.93      3.28         2.95          80.0         8.0      E      32.77  \n",
       "4      8.89     10.22         1.00           NaN         NaN    NaN      31.38  "
      ]
     },
     "execution_count": 25,
     "metadata": {},
     "output_type": "execute_result"
    }
   ],
   "source": [
    "data.head()"
   ]
  },
  {
   "cell_type": "markdown",
   "metadata": {},
   "source": [
    "---\n",
    "---"
   ]
  },
  {
   "cell_type": "markdown",
   "metadata": {},
   "source": [
    "### <span style=\"color:blue\"> Шаг_3. Исследовательский анализ данных"
   ]
  },
  {
   "cell_type": "markdown",
   "metadata": {},
   "source": [
    "#### 3.1. Посмотрим сколько игр выпускалось за разные годы и насколько прошлые года важны для текущего анализа"
   ]
  },
  {
   "cell_type": "code",
   "execution_count": 26,
   "metadata": {},
   "outputs": [
    {
     "data": {
      "text/plain": [
       "2016     502\n",
       "2015     606\n",
       "2014     581\n",
       "2013     548\n",
       "2012     662\n",
       "2011    1153\n",
       "2010    1269\n",
       "2009    1430\n",
       "2008    1441\n",
       "2007    1202\n",
       "2006    1019\n",
       "2005     947\n",
       "2004     764\n",
       "2003     783\n",
       "2002     845\n",
       "2001     486\n",
       "2000     351\n",
       "1999     339\n",
       "1998     380\n",
       "1997     289\n",
       "1996     263\n",
       "1995     219\n",
       "1994     122\n",
       "1993      60\n",
       "1992      43\n",
       "1991      42\n",
       "1990      16\n",
       "1989      17\n",
       "1988      15\n",
       "1987      16\n",
       "1986      21\n",
       "1985      14\n",
       "1984      14\n",
       "1983      17\n",
       "1982      36\n",
       "1981      46\n",
       "1980       9\n",
       "NaN      146\n",
       "Name: year_of_release, dtype: int64"
      ]
     },
     "execution_count": 26,
     "metadata": {},
     "output_type": "execute_result"
    }
   ],
   "source": [
    "# Судя по выгрузке адекватные данные по играм можно смотреть с 1994 года.\n",
    "# Но насколько это пересекается пересекается с Платформами, ведь многе из них уже закончили свои продажи, а многие начали \n",
    "# продаваться гораздо позже 1994 года\n",
    "data['year_of_release'].value_counts(dropna=False).sort_index(ascending=False)"
   ]
  },
  {
   "cell_type": "markdown",
   "metadata": {},
   "source": [
    "#### Добавляем диаграмму по годам с накоплением и подписями"
   ]
  },
  {
   "cell_type": "code",
   "execution_count": 27,
   "metadata": {},
   "outputs": [
    {
     "data": {
      "text/plain": [
       "Text(0.5, 1.0, 'Количество игр по годам')"
      ]
     },
     "execution_count": 27,
     "metadata": {},
     "output_type": "execute_result"
    },
    {
     "data": {
      "image/png": "[encoded data removed]",
      "text/plain": [
       "<Figure size 1440x360 with 1 Axes>"
      ]
     },
     "metadata": {
      "needs_background": "light"
     },
     "output_type": "display_data"
    }
   ],
   "source": [
    "year_data = data.groupby('year_of_release', as_index=False).agg({'name':'count'})\n",
    "plt.rcParams['figure.figsize']=(20,5)\n",
    "ax = sns.barplot(x=\"year_of_release\", y=\"name\", data=year_data)\n",
    "ax.set_ylabel('Кол-во игр', fontsize = 15)\n",
    "ax.set_xlabel('Года', fontsize = 15)\n",
    "ax.set_title('Количество игр по годам', fontsize = 15)"
   ]
  },
  {
   "cell_type": "markdown",
   "metadata": {},
   "source": [
    "#### 3.2. Помотрим как менялись продажи по платформам. Выберем платформы с наибольшими суммарными продажами и построим распределение по годам. Определим характерный срок появления новых и исчезновения старых платформ"
   ]
  },
  {
   "cell_type": "code",
   "execution_count": 28,
   "metadata": {},
   "outputs": [],
   "source": [
    "pd.options.display.max_columns = 40\n",
    "pd.options.display.max_rows = 30"
   ]
  },
  {
   "cell_type": "code",
   "execution_count": 29,
   "metadata": {},
   "outputs": [
    {
     "data": {
      "text/html": [
       "<div>\n",
       "<style scoped>\n",
       "    .dataframe tbody tr th:only-of-type {\n",
       "        vertical-align: middle;\n",
       "    }\n",
       "\n",
       "    .dataframe tbody tr th {\n",
       "        vertical-align: top;\n",
       "    }\n",
       "\n",
       "    .dataframe thead th {\n",
       "        text-align: right;\n",
       "    }\n",
       "</style>\n",
       "<table border=\"1\" class=\"dataframe\">\n",
       "  <thead>\n",
       "    <tr style=\"text-align: right;\">\n",
       "      <th>platform</th>\n",
       "      <th>2600</th>\n",
       "      <th>3DO</th>\n",
       "      <th>3DS</th>\n",
       "      <th>DC</th>\n",
       "      <th>DS</th>\n",
       "      <th>GB</th>\n",
       "      <th>GBA</th>\n",
       "      <th>GC</th>\n",
       "      <th>GEN</th>\n",
       "      <th>GG</th>\n",
       "      <th>N64</th>\n",
       "      <th>NES</th>\n",
       "      <th>NG</th>\n",
       "      <th>PC</th>\n",
       "      <th>PCFX</th>\n",
       "      <th>PS</th>\n",
       "      <th>PS2</th>\n",
       "      <th>PS3</th>\n",
       "      <th>PS4</th>\n",
       "      <th>PSP</th>\n",
       "      <th>PSV</th>\n",
       "      <th>SAT</th>\n",
       "      <th>SCD</th>\n",
       "      <th>SNES</th>\n",
       "      <th>TG16</th>\n",
       "      <th>WS</th>\n",
       "      <th>Wii</th>\n",
       "      <th>WiiU</th>\n",
       "      <th>X360</th>\n",
       "      <th>XB</th>\n",
       "      <th>XOne</th>\n",
       "    </tr>\n",
       "    <tr>\n",
       "      <th>year_of_release</th>\n",
       "      <th></th>\n",
       "      <th></th>\n",
       "      <th></th>\n",
       "      <th></th>\n",
       "      <th></th>\n",
       "      <th></th>\n",
       "      <th></th>\n",
       "      <th></th>\n",
       "      <th></th>\n",
       "      <th></th>\n",
       "      <th></th>\n",
       "      <th></th>\n",
       "      <th></th>\n",
       "      <th></th>\n",
       "      <th></th>\n",
       "      <th></th>\n",
       "      <th></th>\n",
       "      <th></th>\n",
       "      <th></th>\n",
       "      <th></th>\n",
       "      <th></th>\n",
       "      <th></th>\n",
       "      <th></th>\n",
       "      <th></th>\n",
       "      <th></th>\n",
       "      <th></th>\n",
       "      <th></th>\n",
       "      <th></th>\n",
       "      <th></th>\n",
       "      <th></th>\n",
       "      <th></th>\n",
       "    </tr>\n",
       "  </thead>\n",
       "  <tbody>\n",
       "    <tr>\n",
       "      <td>2016</td>\n",
       "      <td>-</td>\n",
       "      <td>-</td>\n",
       "      <td>15.14</td>\n",
       "      <td>-</td>\n",
       "      <td>-</td>\n",
       "      <td>-</td>\n",
       "      <td>-</td>\n",
       "      <td>-</td>\n",
       "      <td>-</td>\n",
       "      <td>-</td>\n",
       "      <td>-</td>\n",
       "      <td>-</td>\n",
       "      <td>-</td>\n",
       "      <td>5.25</td>\n",
       "      <td>-</td>\n",
       "      <td>-</td>\n",
       "      <td>-</td>\n",
       "      <td>3.6</td>\n",
       "      <td>69.25</td>\n",
       "      <td>-</td>\n",
       "      <td>4.25</td>\n",
       "      <td>-</td>\n",
       "      <td>-</td>\n",
       "      <td>-</td>\n",
       "      <td>-</td>\n",
       "      <td>-</td>\n",
       "      <td>0.18</td>\n",
       "      <td>4.6</td>\n",
       "      <td>1.52</td>\n",
       "      <td>-</td>\n",
       "      <td>26.15</td>\n",
       "    </tr>\n",
       "    <tr>\n",
       "      <td>2015</td>\n",
       "      <td>-</td>\n",
       "      <td>-</td>\n",
       "      <td>27.78</td>\n",
       "      <td>-</td>\n",
       "      <td>-</td>\n",
       "      <td>-</td>\n",
       "      <td>-</td>\n",
       "      <td>-</td>\n",
       "      <td>-</td>\n",
       "      <td>-</td>\n",
       "      <td>-</td>\n",
       "      <td>-</td>\n",
       "      <td>-</td>\n",
       "      <td>8.52</td>\n",
       "      <td>-</td>\n",
       "      <td>-</td>\n",
       "      <td>-</td>\n",
       "      <td>16.82</td>\n",
       "      <td>118.9</td>\n",
       "      <td>0.12</td>\n",
       "      <td>6.25</td>\n",
       "      <td>-</td>\n",
       "      <td>-</td>\n",
       "      <td>-</td>\n",
       "      <td>-</td>\n",
       "      <td>-</td>\n",
       "      <td>1.14</td>\n",
       "      <td>16.35</td>\n",
       "      <td>11.96</td>\n",
       "      <td>-</td>\n",
       "      <td>60.14</td>\n",
       "    </tr>\n",
       "    <tr>\n",
       "      <td>2014</td>\n",
       "      <td>-</td>\n",
       "      <td>-</td>\n",
       "      <td>43.76</td>\n",
       "      <td>-</td>\n",
       "      <td>-</td>\n",
       "      <td>-</td>\n",
       "      <td>-</td>\n",
       "      <td>-</td>\n",
       "      <td>-</td>\n",
       "      <td>-</td>\n",
       "      <td>-</td>\n",
       "      <td>-</td>\n",
       "      <td>-</td>\n",
       "      <td>13.28</td>\n",
       "      <td>-</td>\n",
       "      <td>-</td>\n",
       "      <td>-</td>\n",
       "      <td>47.76</td>\n",
       "      <td>100</td>\n",
       "      <td>0.24</td>\n",
       "      <td>11.9</td>\n",
       "      <td>-</td>\n",
       "      <td>-</td>\n",
       "      <td>-</td>\n",
       "      <td>-</td>\n",
       "      <td>-</td>\n",
       "      <td>3.75</td>\n",
       "      <td>22.03</td>\n",
       "      <td>34.74</td>\n",
       "      <td>-</td>\n",
       "      <td>54.07</td>\n",
       "    </tr>\n",
       "    <tr>\n",
       "      <td>2013</td>\n",
       "      <td>-</td>\n",
       "      <td>-</td>\n",
       "      <td>56.57</td>\n",
       "      <td>-</td>\n",
       "      <td>1.54</td>\n",
       "      <td>-</td>\n",
       "      <td>-</td>\n",
       "      <td>-</td>\n",
       "      <td>-</td>\n",
       "      <td>-</td>\n",
       "      <td>-</td>\n",
       "      <td>-</td>\n",
       "      <td>-</td>\n",
       "      <td>13.01</td>\n",
       "      <td>-</td>\n",
       "      <td>-</td>\n",
       "      <td>-</td>\n",
       "      <td>113.25</td>\n",
       "      <td>25.99</td>\n",
       "      <td>3.38</td>\n",
       "      <td>10.59</td>\n",
       "      <td>-</td>\n",
       "      <td>-</td>\n",
       "      <td>-</td>\n",
       "      <td>-</td>\n",
       "      <td>-</td>\n",
       "      <td>8.59</td>\n",
       "      <td>21.65</td>\n",
       "      <td>88.58</td>\n",
       "      <td>-</td>\n",
       "      <td>18.96</td>\n",
       "    </tr>\n",
       "    <tr>\n",
       "      <td>2012</td>\n",
       "      <td>-</td>\n",
       "      <td>-</td>\n",
       "      <td>51.76</td>\n",
       "      <td>-</td>\n",
       "      <td>11.67</td>\n",
       "      <td>-</td>\n",
       "      <td>-</td>\n",
       "      <td>-</td>\n",
       "      <td>-</td>\n",
       "      <td>-</td>\n",
       "      <td>-</td>\n",
       "      <td>-</td>\n",
       "      <td>-</td>\n",
       "      <td>23.45</td>\n",
       "      <td>-</td>\n",
       "      <td>-</td>\n",
       "      <td>-</td>\n",
       "      <td>108.28</td>\n",
       "      <td>-</td>\n",
       "      <td>7.95</td>\n",
       "      <td>16.19</td>\n",
       "      <td>-</td>\n",
       "      <td>-</td>\n",
       "      <td>-</td>\n",
       "      <td>-</td>\n",
       "      <td>-</td>\n",
       "      <td>22.94</td>\n",
       "      <td>17.56</td>\n",
       "      <td>100.72</td>\n",
       "      <td>-</td>\n",
       "      <td>-</td>\n",
       "    </tr>\n",
       "    <tr>\n",
       "      <td>...</td>\n",
       "      <td>...</td>\n",
       "      <td>...</td>\n",
       "      <td>...</td>\n",
       "      <td>...</td>\n",
       "      <td>...</td>\n",
       "      <td>...</td>\n",
       "      <td>...</td>\n",
       "      <td>...</td>\n",
       "      <td>...</td>\n",
       "      <td>...</td>\n",
       "      <td>...</td>\n",
       "      <td>...</td>\n",
       "      <td>...</td>\n",
       "      <td>...</td>\n",
       "      <td>...</td>\n",
       "      <td>...</td>\n",
       "      <td>...</td>\n",
       "      <td>...</td>\n",
       "      <td>...</td>\n",
       "      <td>...</td>\n",
       "      <td>...</td>\n",
       "      <td>...</td>\n",
       "      <td>...</td>\n",
       "      <td>...</td>\n",
       "      <td>...</td>\n",
       "      <td>...</td>\n",
       "      <td>...</td>\n",
       "      <td>...</td>\n",
       "      <td>...</td>\n",
       "      <td>...</td>\n",
       "      <td>...</td>\n",
       "    </tr>\n",
       "    <tr>\n",
       "      <td>1984</td>\n",
       "      <td>0.27</td>\n",
       "      <td>-</td>\n",
       "      <td>-</td>\n",
       "      <td>-</td>\n",
       "      <td>-</td>\n",
       "      <td>-</td>\n",
       "      <td>-</td>\n",
       "      <td>-</td>\n",
       "      <td>-</td>\n",
       "      <td>-</td>\n",
       "      <td>-</td>\n",
       "      <td>50.08</td>\n",
       "      <td>-</td>\n",
       "      <td>-</td>\n",
       "      <td>-</td>\n",
       "      <td>-</td>\n",
       "      <td>-</td>\n",
       "      <td>-</td>\n",
       "      <td>-</td>\n",
       "      <td>-</td>\n",
       "      <td>-</td>\n",
       "      <td>-</td>\n",
       "      <td>-</td>\n",
       "      <td>-</td>\n",
       "      <td>-</td>\n",
       "      <td>-</td>\n",
       "      <td>-</td>\n",
       "      <td>-</td>\n",
       "      <td>-</td>\n",
       "      <td>-</td>\n",
       "      <td>-</td>\n",
       "    </tr>\n",
       "    <tr>\n",
       "      <td>1983</td>\n",
       "      <td>5.84</td>\n",
       "      <td>-</td>\n",
       "      <td>-</td>\n",
       "      <td>-</td>\n",
       "      <td>-</td>\n",
       "      <td>-</td>\n",
       "      <td>-</td>\n",
       "      <td>-</td>\n",
       "      <td>-</td>\n",
       "      <td>-</td>\n",
       "      <td>-</td>\n",
       "      <td>10.96</td>\n",
       "      <td>-</td>\n",
       "      <td>-</td>\n",
       "      <td>-</td>\n",
       "      <td>-</td>\n",
       "      <td>-</td>\n",
       "      <td>-</td>\n",
       "      <td>-</td>\n",
       "      <td>-</td>\n",
       "      <td>-</td>\n",
       "      <td>-</td>\n",
       "      <td>-</td>\n",
       "      <td>-</td>\n",
       "      <td>-</td>\n",
       "      <td>-</td>\n",
       "      <td>-</td>\n",
       "      <td>-</td>\n",
       "      <td>-</td>\n",
       "      <td>-</td>\n",
       "      <td>-</td>\n",
       "    </tr>\n",
       "    <tr>\n",
       "      <td>1982</td>\n",
       "      <td>28.88</td>\n",
       "      <td>-</td>\n",
       "      <td>-</td>\n",
       "      <td>-</td>\n",
       "      <td>-</td>\n",
       "      <td>-</td>\n",
       "      <td>-</td>\n",
       "      <td>-</td>\n",
       "      <td>-</td>\n",
       "      <td>-</td>\n",
       "      <td>-</td>\n",
       "      <td>-</td>\n",
       "      <td>-</td>\n",
       "      <td>-</td>\n",
       "      <td>-</td>\n",
       "      <td>-</td>\n",
       "      <td>-</td>\n",
       "      <td>-</td>\n",
       "      <td>-</td>\n",
       "      <td>-</td>\n",
       "      <td>-</td>\n",
       "      <td>-</td>\n",
       "      <td>-</td>\n",
       "      <td>-</td>\n",
       "      <td>-</td>\n",
       "      <td>-</td>\n",
       "      <td>-</td>\n",
       "      <td>-</td>\n",
       "      <td>-</td>\n",
       "      <td>-</td>\n",
       "      <td>-</td>\n",
       "    </tr>\n",
       "    <tr>\n",
       "      <td>1981</td>\n",
       "      <td>35.68</td>\n",
       "      <td>-</td>\n",
       "      <td>-</td>\n",
       "      <td>-</td>\n",
       "      <td>-</td>\n",
       "      <td>-</td>\n",
       "      <td>-</td>\n",
       "      <td>-</td>\n",
       "      <td>-</td>\n",
       "      <td>-</td>\n",
       "      <td>-</td>\n",
       "      <td>-</td>\n",
       "      <td>-</td>\n",
       "      <td>-</td>\n",
       "      <td>-</td>\n",
       "      <td>-</td>\n",
       "      <td>-</td>\n",
       "      <td>-</td>\n",
       "      <td>-</td>\n",
       "      <td>-</td>\n",
       "      <td>-</td>\n",
       "      <td>-</td>\n",
       "      <td>-</td>\n",
       "      <td>-</td>\n",
       "      <td>-</td>\n",
       "      <td>-</td>\n",
       "      <td>-</td>\n",
       "      <td>-</td>\n",
       "      <td>-</td>\n",
       "      <td>-</td>\n",
       "      <td>-</td>\n",
       "    </tr>\n",
       "    <tr>\n",
       "      <td>1980</td>\n",
       "      <td>11.38</td>\n",
       "      <td>-</td>\n",
       "      <td>-</td>\n",
       "      <td>-</td>\n",
       "      <td>-</td>\n",
       "      <td>-</td>\n",
       "      <td>-</td>\n",
       "      <td>-</td>\n",
       "      <td>-</td>\n",
       "      <td>-</td>\n",
       "      <td>-</td>\n",
       "      <td>-</td>\n",
       "      <td>-</td>\n",
       "      <td>-</td>\n",
       "      <td>-</td>\n",
       "      <td>-</td>\n",
       "      <td>-</td>\n",
       "      <td>-</td>\n",
       "      <td>-</td>\n",
       "      <td>-</td>\n",
       "      <td>-</td>\n",
       "      <td>-</td>\n",
       "      <td>-</td>\n",
       "      <td>-</td>\n",
       "      <td>-</td>\n",
       "      <td>-</td>\n",
       "      <td>-</td>\n",
       "      <td>-</td>\n",
       "      <td>-</td>\n",
       "      <td>-</td>\n",
       "      <td>-</td>\n",
       "    </tr>\n",
       "  </tbody>\n",
       "</table>\n",
       "<p>37 rows × 31 columns</p>\n",
       "</div>"
      ],
      "text/plain": [
       "platform          2600 3DO    3DS DC     DS GB GBA GC GEN GG N64    NES NG  \\\n",
       "year_of_release                                                              \n",
       "2016                 -   -  15.14  -      -  -   -  -   -  -   -      -  -   \n",
       "2015                 -   -  27.78  -      -  -   -  -   -  -   -      -  -   \n",
       "2014                 -   -  43.76  -      -  -   -  -   -  -   -      -  -   \n",
       "2013                 -   -  56.57  -   1.54  -   -  -   -  -   -      -  -   \n",
       "2012                 -   -  51.76  -  11.67  -   -  -   -  -   -      -  -   \n",
       "...                ...  ..    ... ..    ... ..  .. ..  .. ..  ..    ... ..   \n",
       "1984              0.27   -      -  -      -  -   -  -   -  -   -  50.08  -   \n",
       "1983              5.84   -      -  -      -  -   -  -   -  -   -  10.96  -   \n",
       "1982             28.88   -      -  -      -  -   -  -   -  -   -      -  -   \n",
       "1981             35.68   -      -  -      -  -   -  -   -  -   -      -  -   \n",
       "1980             11.38   -      -  -      -  -   -  -   -  -   -      -  -   \n",
       "\n",
       "platform            PC PCFX PS PS2     PS3    PS4   PSP    PSV SAT SCD SNES  \\\n",
       "year_of_release                                                               \n",
       "2016              5.25    -  -   -     3.6  69.25     -   4.25   -   -    -   \n",
       "2015              8.52    -  -   -   16.82  118.9  0.12   6.25   -   -    -   \n",
       "2014             13.28    -  -   -   47.76    100  0.24   11.9   -   -    -   \n",
       "2013             13.01    -  -   -  113.25  25.99  3.38  10.59   -   -    -   \n",
       "2012             23.45    -  -   -  108.28      -  7.95  16.19   -   -    -   \n",
       "...                ...  ... ..  ..     ...    ...   ...    ...  ..  ..  ...   \n",
       "1984                 -    -  -   -       -      -     -      -   -   -    -   \n",
       "1983                 -    -  -   -       -      -     -      -   -   -    -   \n",
       "1982                 -    -  -   -       -      -     -      -   -   -    -   \n",
       "1981                 -    -  -   -       -      -     -      -   -   -    -   \n",
       "1980                 -    -  -   -       -      -     -      -   -   -    -   \n",
       "\n",
       "platform        TG16 WS    Wii   WiiU    X360 XB   XOne  \n",
       "year_of_release                                          \n",
       "2016               -  -   0.18    4.6    1.52  -  26.15  \n",
       "2015               -  -   1.14  16.35   11.96  -  60.14  \n",
       "2014               -  -   3.75  22.03   34.74  -  54.07  \n",
       "2013               -  -   8.59  21.65   88.58  -  18.96  \n",
       "2012               -  -  22.94  17.56  100.72  -      -  \n",
       "...              ... ..    ...    ...     ... ..    ...  \n",
       "1984               -  -      -      -       -  -      -  \n",
       "1983               -  -      -      -       -  -      -  \n",
       "1982               -  -      -      -       -  -      -  \n",
       "1981               -  -      -      -       -  -      -  \n",
       "1980               -  -      -      -       -  -      -  \n",
       "\n",
       "[37 rows x 31 columns]"
      ]
     },
     "execution_count": 29,
     "metadata": {},
     "output_type": "execute_result"
    }
   ],
   "source": [
    "# Посмотрим распределение по платформам за последние годы\n",
    "pd.options.display.max_rows = 30\n",
    "data.pivot_table(index='year_of_release', columns='platform', values='all_sales', aggfunc='sum', fill_value = '-').sort_index(ascending=False)"
   ]
  },
  {
   "cell_type": "markdown",
   "metadata": {},
   "source": [
    "Получается что многие платформы уже просто не существуют и для построения прогноза продаж на 2017 год, данные по ним совсем не нужны."
   ]
  },
  {
   "cell_type": "code",
   "execution_count": 30,
   "metadata": {},
   "outputs": [],
   "source": [
    "# Посчитаем кол-во продаж по платформам и отберем первые 12\n",
    "top_sales = data.groupby('platform', as_index=False).agg({'all_sales':'sum'})\\\n",
    "                .sort_values('all_sales', ascending=False)\\\n",
    "                .head(12)\\\n",
    "                .set_index('platform')\n",
    "\n",
    "# Топ 6 платформ уходят далеко вперед, с продажами более 730 млн копий\n",
    "# Но если смотреть по последним годам то самые большие продажи у PS2, а она не продавалась последние 5 лет \n",
    "# и для нашего анализа она явно не подойдет."
   ]
  },
  {
   "cell_type": "code",
   "execution_count": 31,
   "metadata": {},
   "outputs": [
    {
     "data": {
      "text/plain": [
       "Index(['PS2', 'X360', 'PS3', 'Wii', 'DS', 'PS', 'GBA', 'PS4', 'PSP', 'PC',\n",
       "       '3DS', 'XB'],\n",
       "      dtype='object', name='platform')"
      ]
     },
     "execution_count": 31,
     "metadata": {},
     "output_type": "execute_result"
    }
   ],
   "source": [
    "top_sales.index"
   ]
  },
  {
   "cell_type": "code",
   "execution_count": 32,
   "metadata": {},
   "outputs": [],
   "source": [
    "# Отберем данные только по нужным нам платформам и посмотрим распределение по годам\n",
    "only_top = data.query('platform in @top_sales.index and year_of_release>1993')"
   ]
  },
  {
   "cell_type": "code",
   "execution_count": 33,
   "metadata": {},
   "outputs": [
    {
     "data": {
      "text/plain": [
       "Index(['name', 'platform', 'year_of_release', 'genre', 'na_sales', 'eu_sales',\n",
       "       'jp_sales', 'other_sales', 'critic_score', 'user_score', 'rating',\n",
       "       'all_sales'],\n",
       "      dtype='object')"
      ]
     },
     "execution_count": 33,
     "metadata": {},
     "output_type": "execute_result"
    }
   ],
   "source": [
    "only_top.columns"
   ]
  },
  {
   "cell_type": "code",
   "execution_count": 34,
   "metadata": {},
   "outputs": [],
   "source": [
    "pvt = only_top.pivot_table(index='year_of_release', columns='platform', values='all_sales', aggfunc='sum', fill_value=0)\\\n",
    "        .reset_index()"
   ]
  },
  {
   "cell_type": "code",
   "execution_count": 35,
   "metadata": {},
   "outputs": [
    {
     "data": {
      "text/html": [
       "<div>\n",
       "<style scoped>\n",
       "    .dataframe tbody tr th:only-of-type {\n",
       "        vertical-align: middle;\n",
       "    }\n",
       "\n",
       "    .dataframe tbody tr th {\n",
       "        vertical-align: top;\n",
       "    }\n",
       "\n",
       "    .dataframe thead th {\n",
       "        text-align: right;\n",
       "    }\n",
       "</style>\n",
       "<table border=\"1\" class=\"dataframe\">\n",
       "  <thead>\n",
       "    <tr style=\"text-align: right;\">\n",
       "      <th>platform</th>\n",
       "      <th>year_of_release</th>\n",
       "      <th>3DS</th>\n",
       "      <th>DS</th>\n",
       "      <th>GBA</th>\n",
       "      <th>PC</th>\n",
       "      <th>PS</th>\n",
       "      <th>PS2</th>\n",
       "      <th>PS3</th>\n",
       "      <th>PS4</th>\n",
       "      <th>PSP</th>\n",
       "      <th>Wii</th>\n",
       "      <th>X360</th>\n",
       "      <th>XB</th>\n",
       "    </tr>\n",
       "  </thead>\n",
       "  <tbody>\n",
       "    <tr>\n",
       "      <td>0</td>\n",
       "      <td>1994</td>\n",
       "      <td>0.00</td>\n",
       "      <td>0.00</td>\n",
       "      <td>0.00</td>\n",
       "      <td>12.87</td>\n",
       "      <td>6.03</td>\n",
       "      <td>0.00</td>\n",
       "      <td>0.00</td>\n",
       "      <td>0.00</td>\n",
       "      <td>0.00</td>\n",
       "      <td>0.00</td>\n",
       "      <td>0.00</td>\n",
       "      <td>0.00</td>\n",
       "    </tr>\n",
       "    <tr>\n",
       "      <td>1</td>\n",
       "      <td>1995</td>\n",
       "      <td>0.00</td>\n",
       "      <td>0.00</td>\n",
       "      <td>0.00</td>\n",
       "      <td>4.22</td>\n",
       "      <td>35.96</td>\n",
       "      <td>0.00</td>\n",
       "      <td>0.00</td>\n",
       "      <td>0.00</td>\n",
       "      <td>0.00</td>\n",
       "      <td>0.00</td>\n",
       "      <td>0.00</td>\n",
       "      <td>0.00</td>\n",
       "    </tr>\n",
       "    <tr>\n",
       "      <td>2</td>\n",
       "      <td>1996</td>\n",
       "      <td>0.00</td>\n",
       "      <td>0.00</td>\n",
       "      <td>0.00</td>\n",
       "      <td>10.58</td>\n",
       "      <td>94.70</td>\n",
       "      <td>0.00</td>\n",
       "      <td>0.00</td>\n",
       "      <td>0.00</td>\n",
       "      <td>0.00</td>\n",
       "      <td>0.00</td>\n",
       "      <td>0.00</td>\n",
       "      <td>0.00</td>\n",
       "    </tr>\n",
       "    <tr>\n",
       "      <td>3</td>\n",
       "      <td>1997</td>\n",
       "      <td>0.00</td>\n",
       "      <td>0.00</td>\n",
       "      <td>0.00</td>\n",
       "      <td>11.27</td>\n",
       "      <td>136.17</td>\n",
       "      <td>0.00</td>\n",
       "      <td>0.00</td>\n",
       "      <td>0.00</td>\n",
       "      <td>0.00</td>\n",
       "      <td>0.00</td>\n",
       "      <td>0.00</td>\n",
       "      <td>0.00</td>\n",
       "    </tr>\n",
       "    <tr>\n",
       "      <td>4</td>\n",
       "      <td>1998</td>\n",
       "      <td>0.00</td>\n",
       "      <td>0.00</td>\n",
       "      <td>0.00</td>\n",
       "      <td>3.26</td>\n",
       "      <td>169.49</td>\n",
       "      <td>0.95</td>\n",
       "      <td>0.00</td>\n",
       "      <td>0.00</td>\n",
       "      <td>0.00</td>\n",
       "      <td>0.00</td>\n",
       "      <td>0.00</td>\n",
       "      <td>0.00</td>\n",
       "    </tr>\n",
       "    <tr>\n",
       "      <td>5</td>\n",
       "      <td>1999</td>\n",
       "      <td>0.00</td>\n",
       "      <td>0.00</td>\n",
       "      <td>0.00</td>\n",
       "      <td>4.74</td>\n",
       "      <td>144.53</td>\n",
       "      <td>0.00</td>\n",
       "      <td>0.00</td>\n",
       "      <td>0.00</td>\n",
       "      <td>0.00</td>\n",
       "      <td>0.00</td>\n",
       "      <td>0.00</td>\n",
       "      <td>0.00</td>\n",
       "    </tr>\n",
       "    <tr>\n",
       "      <td>6</td>\n",
       "      <td>2000</td>\n",
       "      <td>0.02</td>\n",
       "      <td>0.00</td>\n",
       "      <td>0.07</td>\n",
       "      <td>4.66</td>\n",
       "      <td>96.37</td>\n",
       "      <td>39.17</td>\n",
       "      <td>0.00</td>\n",
       "      <td>0.00</td>\n",
       "      <td>0.00</td>\n",
       "      <td>0.00</td>\n",
       "      <td>0.00</td>\n",
       "      <td>0.99</td>\n",
       "    </tr>\n",
       "    <tr>\n",
       "      <td>7</td>\n",
       "      <td>2001</td>\n",
       "      <td>0.00</td>\n",
       "      <td>0.00</td>\n",
       "      <td>61.53</td>\n",
       "      <td>5.47</td>\n",
       "      <td>35.59</td>\n",
       "      <td>166.43</td>\n",
       "      <td>0.00</td>\n",
       "      <td>0.00</td>\n",
       "      <td>0.00</td>\n",
       "      <td>0.00</td>\n",
       "      <td>0.00</td>\n",
       "      <td>23.82</td>\n",
       "    </tr>\n",
       "    <tr>\n",
       "      <td>8</td>\n",
       "      <td>2002</td>\n",
       "      <td>0.00</td>\n",
       "      <td>0.00</td>\n",
       "      <td>74.16</td>\n",
       "      <td>8.57</td>\n",
       "      <td>6.67</td>\n",
       "      <td>208.36</td>\n",
       "      <td>0.00</td>\n",
       "      <td>0.00</td>\n",
       "      <td>0.00</td>\n",
       "      <td>0.00</td>\n",
       "      <td>0.00</td>\n",
       "      <td>51.00</td>\n",
       "    </tr>\n",
       "    <tr>\n",
       "      <td>9</td>\n",
       "      <td>2003</td>\n",
       "      <td>0.00</td>\n",
       "      <td>0.00</td>\n",
       "      <td>56.67</td>\n",
       "      <td>8.89</td>\n",
       "      <td>2.07</td>\n",
       "      <td>193.05</td>\n",
       "      <td>0.00</td>\n",
       "      <td>0.00</td>\n",
       "      <td>0.00</td>\n",
       "      <td>0.00</td>\n",
       "      <td>0.00</td>\n",
       "      <td>55.05</td>\n",
       "    </tr>\n",
       "    <tr>\n",
       "      <td>10</td>\n",
       "      <td>2004</td>\n",
       "      <td>0.00</td>\n",
       "      <td>17.27</td>\n",
       "      <td>77.91</td>\n",
       "      <td>10.39</td>\n",
       "      <td>0.00</td>\n",
       "      <td>211.81</td>\n",
       "      <td>0.00</td>\n",
       "      <td>0.00</td>\n",
       "      <td>7.06</td>\n",
       "      <td>0.00</td>\n",
       "      <td>0.00</td>\n",
       "      <td>65.97</td>\n",
       "    </tr>\n",
       "    <tr>\n",
       "      <td>11</td>\n",
       "      <td>2005</td>\n",
       "      <td>0.00</td>\n",
       "      <td>130.14</td>\n",
       "      <td>34.53</td>\n",
       "      <td>4.38</td>\n",
       "      <td>0.00</td>\n",
       "      <td>160.66</td>\n",
       "      <td>0.19</td>\n",
       "      <td>0.00</td>\n",
       "      <td>43.84</td>\n",
       "      <td>0.00</td>\n",
       "      <td>9.22</td>\n",
       "      <td>49.09</td>\n",
       "    </tr>\n",
       "    <tr>\n",
       "      <td>12</td>\n",
       "      <td>2006</td>\n",
       "      <td>0.00</td>\n",
       "      <td>119.81</td>\n",
       "      <td>5.46</td>\n",
       "      <td>2.85</td>\n",
       "      <td>0.00</td>\n",
       "      <td>104.24</td>\n",
       "      <td>20.96</td>\n",
       "      <td>0.00</td>\n",
       "      <td>56.28</td>\n",
       "      <td>140.19</td>\n",
       "      <td>51.79</td>\n",
       "      <td>10.04</td>\n",
       "    </tr>\n",
       "    <tr>\n",
       "      <td>13</td>\n",
       "      <td>2007</td>\n",
       "      <td>0.00</td>\n",
       "      <td>147.23</td>\n",
       "      <td>3.40</td>\n",
       "      <td>9.28</td>\n",
       "      <td>0.00</td>\n",
       "      <td>76.10</td>\n",
       "      <td>73.19</td>\n",
       "      <td>0.00</td>\n",
       "      <td>47.30</td>\n",
       "      <td>153.41</td>\n",
       "      <td>95.41</td>\n",
       "      <td>0.55</td>\n",
       "    </tr>\n",
       "    <tr>\n",
       "      <td>14</td>\n",
       "      <td>2008</td>\n",
       "      <td>0.00</td>\n",
       "      <td>145.36</td>\n",
       "      <td>0.00</td>\n",
       "      <td>12.46</td>\n",
       "      <td>0.00</td>\n",
       "      <td>53.90</td>\n",
       "      <td>118.79</td>\n",
       "      <td>0.00</td>\n",
       "      <td>36.76</td>\n",
       "      <td>177.68</td>\n",
       "      <td>136.07</td>\n",
       "      <td>0.18</td>\n",
       "    </tr>\n",
       "    <tr>\n",
       "      <td>15</td>\n",
       "      <td>2009</td>\n",
       "      <td>0.00</td>\n",
       "      <td>119.56</td>\n",
       "      <td>0.00</td>\n",
       "      <td>17.05</td>\n",
       "      <td>0.00</td>\n",
       "      <td>26.40</td>\n",
       "      <td>130.93</td>\n",
       "      <td>0.00</td>\n",
       "      <td>37.78</td>\n",
       "      <td>206.97</td>\n",
       "      <td>120.82</td>\n",
       "      <td>0.00</td>\n",
       "    </tr>\n",
       "    <tr>\n",
       "      <td>16</td>\n",
       "      <td>2010</td>\n",
       "      <td>0.30</td>\n",
       "      <td>85.35</td>\n",
       "      <td>0.00</td>\n",
       "      <td>26.15</td>\n",
       "      <td>0.00</td>\n",
       "      <td>5.64</td>\n",
       "      <td>142.96</td>\n",
       "      <td>0.00</td>\n",
       "      <td>35.04</td>\n",
       "      <td>128.67</td>\n",
       "      <td>170.55</td>\n",
       "      <td>0.00</td>\n",
       "    </tr>\n",
       "    <tr>\n",
       "      <td>17</td>\n",
       "      <td>2011</td>\n",
       "      <td>63.20</td>\n",
       "      <td>26.33</td>\n",
       "      <td>0.00</td>\n",
       "      <td>35.16</td>\n",
       "      <td>0.00</td>\n",
       "      <td>0.45</td>\n",
       "      <td>157.98</td>\n",
       "      <td>0.00</td>\n",
       "      <td>17.82</td>\n",
       "      <td>59.79</td>\n",
       "      <td>145.23</td>\n",
       "      <td>0.00</td>\n",
       "    </tr>\n",
       "    <tr>\n",
       "      <td>18</td>\n",
       "      <td>2012</td>\n",
       "      <td>51.76</td>\n",
       "      <td>11.67</td>\n",
       "      <td>0.00</td>\n",
       "      <td>23.45</td>\n",
       "      <td>0.00</td>\n",
       "      <td>0.00</td>\n",
       "      <td>108.28</td>\n",
       "      <td>0.00</td>\n",
       "      <td>7.95</td>\n",
       "      <td>22.94</td>\n",
       "      <td>100.72</td>\n",
       "      <td>0.00</td>\n",
       "    </tr>\n",
       "    <tr>\n",
       "      <td>19</td>\n",
       "      <td>2013</td>\n",
       "      <td>56.57</td>\n",
       "      <td>1.54</td>\n",
       "      <td>0.00</td>\n",
       "      <td>13.01</td>\n",
       "      <td>0.00</td>\n",
       "      <td>0.00</td>\n",
       "      <td>113.25</td>\n",
       "      <td>25.99</td>\n",
       "      <td>3.38</td>\n",
       "      <td>8.59</td>\n",
       "      <td>88.58</td>\n",
       "      <td>0.00</td>\n",
       "    </tr>\n",
       "    <tr>\n",
       "      <td>20</td>\n",
       "      <td>2014</td>\n",
       "      <td>43.76</td>\n",
       "      <td>0.00</td>\n",
       "      <td>0.00</td>\n",
       "      <td>13.28</td>\n",
       "      <td>0.00</td>\n",
       "      <td>0.00</td>\n",
       "      <td>47.76</td>\n",
       "      <td>100.00</td>\n",
       "      <td>0.24</td>\n",
       "      <td>3.75</td>\n",
       "      <td>34.74</td>\n",
       "      <td>0.00</td>\n",
       "    </tr>\n",
       "    <tr>\n",
       "      <td>21</td>\n",
       "      <td>2015</td>\n",
       "      <td>27.78</td>\n",
       "      <td>0.00</td>\n",
       "      <td>0.00</td>\n",
       "      <td>8.52</td>\n",
       "      <td>0.00</td>\n",
       "      <td>0.00</td>\n",
       "      <td>16.82</td>\n",
       "      <td>118.90</td>\n",
       "      <td>0.12</td>\n",
       "      <td>1.14</td>\n",
       "      <td>11.96</td>\n",
       "      <td>0.00</td>\n",
       "    </tr>\n",
       "    <tr>\n",
       "      <td>22</td>\n",
       "      <td>2016</td>\n",
       "      <td>15.14</td>\n",
       "      <td>0.00</td>\n",
       "      <td>0.00</td>\n",
       "      <td>5.25</td>\n",
       "      <td>0.00</td>\n",
       "      <td>0.00</td>\n",
       "      <td>3.60</td>\n",
       "      <td>69.25</td>\n",
       "      <td>0.00</td>\n",
       "      <td>0.18</td>\n",
       "      <td>1.52</td>\n",
       "      <td>0.00</td>\n",
       "    </tr>\n",
       "  </tbody>\n",
       "</table>\n",
       "</div>"
      ],
      "text/plain": [
       "platform  year_of_release    3DS      DS    GBA     PC      PS     PS2  \\\n",
       "0                    1994   0.00    0.00   0.00  12.87    6.03    0.00   \n",
       "1                    1995   0.00    0.00   0.00   4.22   35.96    0.00   \n",
       "2                    1996   0.00    0.00   0.00  10.58   94.70    0.00   \n",
       "3                    1997   0.00    0.00   0.00  11.27  136.17    0.00   \n",
       "4                    1998   0.00    0.00   0.00   3.26  169.49    0.95   \n",
       "5                    1999   0.00    0.00   0.00   4.74  144.53    0.00   \n",
       "6                    2000   0.02    0.00   0.07   4.66   96.37   39.17   \n",
       "7                    2001   0.00    0.00  61.53   5.47   35.59  166.43   \n",
       "8                    2002   0.00    0.00  74.16   8.57    6.67  208.36   \n",
       "9                    2003   0.00    0.00  56.67   8.89    2.07  193.05   \n",
       "10                   2004   0.00   17.27  77.91  10.39    0.00  211.81   \n",
       "11                   2005   0.00  130.14  34.53   4.38    0.00  160.66   \n",
       "12                   2006   0.00  119.81   5.46   2.85    0.00  104.24   \n",
       "13                   2007   0.00  147.23   3.40   9.28    0.00   76.10   \n",
       "14                   2008   0.00  145.36   0.00  12.46    0.00   53.90   \n",
       "15                   2009   0.00  119.56   0.00  17.05    0.00   26.40   \n",
       "16                   2010   0.30   85.35   0.00  26.15    0.00    5.64   \n",
       "17                   2011  63.20   26.33   0.00  35.16    0.00    0.45   \n",
       "18                   2012  51.76   11.67   0.00  23.45    0.00    0.00   \n",
       "19                   2013  56.57    1.54   0.00  13.01    0.00    0.00   \n",
       "20                   2014  43.76    0.00   0.00  13.28    0.00    0.00   \n",
       "21                   2015  27.78    0.00   0.00   8.52    0.00    0.00   \n",
       "22                   2016  15.14    0.00   0.00   5.25    0.00    0.00   \n",
       "\n",
       "platform     PS3     PS4    PSP     Wii    X360     XB  \n",
       "0           0.00    0.00   0.00    0.00    0.00   0.00  \n",
       "1           0.00    0.00   0.00    0.00    0.00   0.00  \n",
       "2           0.00    0.00   0.00    0.00    0.00   0.00  \n",
       "3           0.00    0.00   0.00    0.00    0.00   0.00  \n",
       "4           0.00    0.00   0.00    0.00    0.00   0.00  \n",
       "5           0.00    0.00   0.00    0.00    0.00   0.00  \n",
       "6           0.00    0.00   0.00    0.00    0.00   0.99  \n",
       "7           0.00    0.00   0.00    0.00    0.00  23.82  \n",
       "8           0.00    0.00   0.00    0.00    0.00  51.00  \n",
       "9           0.00    0.00   0.00    0.00    0.00  55.05  \n",
       "10          0.00    0.00   7.06    0.00    0.00  65.97  \n",
       "11          0.19    0.00  43.84    0.00    9.22  49.09  \n",
       "12         20.96    0.00  56.28  140.19   51.79  10.04  \n",
       "13         73.19    0.00  47.30  153.41   95.41   0.55  \n",
       "14        118.79    0.00  36.76  177.68  136.07   0.18  \n",
       "15        130.93    0.00  37.78  206.97  120.82   0.00  \n",
       "16        142.96    0.00  35.04  128.67  170.55   0.00  \n",
       "17        157.98    0.00  17.82   59.79  145.23   0.00  \n",
       "18        108.28    0.00   7.95   22.94  100.72   0.00  \n",
       "19        113.25   25.99   3.38    8.59   88.58   0.00  \n",
       "20         47.76  100.00   0.24    3.75   34.74   0.00  \n",
       "21         16.82  118.90   0.12    1.14   11.96   0.00  \n",
       "22          3.60   69.25   0.00    0.18    1.52   0.00  "
      ]
     },
     "execution_count": 35,
     "metadata": {},
     "output_type": "execute_result"
    }
   ],
   "source": [
    "pvt"
   ]
  },
  {
   "cell_type": "code",
   "execution_count": 36,
   "metadata": {},
   "outputs": [
    {
     "data": {
      "image/png": "[encoded data removed]",
      "text/plain": [
       "<Figure size 1800x1080 with 12 Axes>"
      ]
     },
     "metadata": {
      "needs_background": "light"
     },
     "output_type": "display_data"
    }
   ],
   "source": [
    "fig, ax = plt.subplots(6,2, figsize=(25, 15))\n",
    "\n",
    "ax = ax.ravel() \n",
    " \n",
    "num_of_subplot = 0\n",
    "\n",
    "for column in top_sales.index:\n",
    "    sns.barplot(x=\"year_of_release\", y=column, data=pvt, ax=ax[num_of_subplot])\n",
    "    num_of_subplot += 1  "
   ]
  },
  {
   "cell_type": "markdown",
   "metadata": {},
   "source": [
    "#### Самая 'живучая' платформа это 'PC' которая стабильно продает игры с 1994 года, остальные платформы живут максимум 12 лет\n",
    "- Таким образом смотреть платформы с запуском позже 12 лет не имеет смысла, кроме pc"
   ]
  },
  {
   "cell_type": "markdown",
   "metadata": {},
   "source": [
    "#### 3.3. Отберем данные по кретериям озвученным выше"
   ]
  },
  {
   "cell_type": "code",
   "execution_count": 37,
   "metadata": {},
   "outputs": [],
   "source": [
    "data_filter = data.query('year_of_release >=2005 | platform == \"PC\"')"
   ]
  },
  {
   "cell_type": "markdown",
   "metadata": {},
   "source": [
    "#### Посмотрим на отобранные платформы и определим лидирующий, падающих, растущих, а так же несколько потенциально прибыльных платформ."
   ]
  },
  {
   "cell_type": "code",
   "execution_count": 38,
   "metadata": {},
   "outputs": [
    {
     "data": {
      "text/html": [
       "<div>\n",
       "<style scoped>\n",
       "    .dataframe tbody tr th:only-of-type {\n",
       "        vertical-align: middle;\n",
       "    }\n",
       "\n",
       "    .dataframe tbody tr th {\n",
       "        vertical-align: top;\n",
       "    }\n",
       "\n",
       "    .dataframe thead th {\n",
       "        text-align: right;\n",
       "    }\n",
       "</style>\n",
       "<table border=\"1\" class=\"dataframe\">\n",
       "  <thead>\n",
       "    <tr style=\"text-align: right;\">\n",
       "      <th>platform</th>\n",
       "      <th>3DS</th>\n",
       "      <th>DC</th>\n",
       "      <th>DS</th>\n",
       "      <th>GBA</th>\n",
       "      <th>GC</th>\n",
       "      <th>PC</th>\n",
       "      <th>PS2</th>\n",
       "      <th>PS3</th>\n",
       "      <th>PS4</th>\n",
       "      <th>PSP</th>\n",
       "      <th>PSV</th>\n",
       "      <th>Wii</th>\n",
       "      <th>WiiU</th>\n",
       "      <th>X360</th>\n",
       "      <th>XB</th>\n",
       "      <th>XOne</th>\n",
       "    </tr>\n",
       "    <tr>\n",
       "      <th>year_of_release</th>\n",
       "      <th></th>\n",
       "      <th></th>\n",
       "      <th></th>\n",
       "      <th></th>\n",
       "      <th></th>\n",
       "      <th></th>\n",
       "      <th></th>\n",
       "      <th></th>\n",
       "      <th></th>\n",
       "      <th></th>\n",
       "      <th></th>\n",
       "      <th></th>\n",
       "      <th></th>\n",
       "      <th></th>\n",
       "      <th></th>\n",
       "      <th></th>\n",
       "    </tr>\n",
       "  </thead>\n",
       "  <tbody>\n",
       "    <tr>\n",
       "      <td>2016</td>\n",
       "      <td>15.14</td>\n",
       "      <td>-</td>\n",
       "      <td>-</td>\n",
       "      <td>-</td>\n",
       "      <td>-</td>\n",
       "      <td>5.25</td>\n",
       "      <td>-</td>\n",
       "      <td>3.6</td>\n",
       "      <td>69.25</td>\n",
       "      <td>-</td>\n",
       "      <td>4.25</td>\n",
       "      <td>0.18</td>\n",
       "      <td>4.6</td>\n",
       "      <td>1.52</td>\n",
       "      <td>-</td>\n",
       "      <td>26.15</td>\n",
       "    </tr>\n",
       "    <tr>\n",
       "      <td>2015</td>\n",
       "      <td>27.78</td>\n",
       "      <td>-</td>\n",
       "      <td>-</td>\n",
       "      <td>-</td>\n",
       "      <td>-</td>\n",
       "      <td>8.52</td>\n",
       "      <td>-</td>\n",
       "      <td>16.82</td>\n",
       "      <td>118.9</td>\n",
       "      <td>0.12</td>\n",
       "      <td>6.25</td>\n",
       "      <td>1.14</td>\n",
       "      <td>16.35</td>\n",
       "      <td>11.96</td>\n",
       "      <td>-</td>\n",
       "      <td>60.14</td>\n",
       "    </tr>\n",
       "    <tr>\n",
       "      <td>2014</td>\n",
       "      <td>43.76</td>\n",
       "      <td>-</td>\n",
       "      <td>-</td>\n",
       "      <td>-</td>\n",
       "      <td>-</td>\n",
       "      <td>13.28</td>\n",
       "      <td>-</td>\n",
       "      <td>47.76</td>\n",
       "      <td>100</td>\n",
       "      <td>0.24</td>\n",
       "      <td>11.9</td>\n",
       "      <td>3.75</td>\n",
       "      <td>22.03</td>\n",
       "      <td>34.74</td>\n",
       "      <td>-</td>\n",
       "      <td>54.07</td>\n",
       "    </tr>\n",
       "    <tr>\n",
       "      <td>2013</td>\n",
       "      <td>56.57</td>\n",
       "      <td>-</td>\n",
       "      <td>1.54</td>\n",
       "      <td>-</td>\n",
       "      <td>-</td>\n",
       "      <td>13.01</td>\n",
       "      <td>-</td>\n",
       "      <td>113.25</td>\n",
       "      <td>25.99</td>\n",
       "      <td>3.38</td>\n",
       "      <td>10.59</td>\n",
       "      <td>8.59</td>\n",
       "      <td>21.65</td>\n",
       "      <td>88.58</td>\n",
       "      <td>-</td>\n",
       "      <td>18.96</td>\n",
       "    </tr>\n",
       "    <tr>\n",
       "      <td>2012</td>\n",
       "      <td>51.76</td>\n",
       "      <td>-</td>\n",
       "      <td>11.67</td>\n",
       "      <td>-</td>\n",
       "      <td>-</td>\n",
       "      <td>23.45</td>\n",
       "      <td>-</td>\n",
       "      <td>108.28</td>\n",
       "      <td>-</td>\n",
       "      <td>7.95</td>\n",
       "      <td>16.19</td>\n",
       "      <td>22.94</td>\n",
       "      <td>17.56</td>\n",
       "      <td>100.72</td>\n",
       "      <td>-</td>\n",
       "      <td>-</td>\n",
       "    </tr>\n",
       "    <tr>\n",
       "      <td>2011</td>\n",
       "      <td>63.2</td>\n",
       "      <td>-</td>\n",
       "      <td>26.33</td>\n",
       "      <td>-</td>\n",
       "      <td>-</td>\n",
       "      <td>35.16</td>\n",
       "      <td>0.45</td>\n",
       "      <td>157.98</td>\n",
       "      <td>-</td>\n",
       "      <td>17.82</td>\n",
       "      <td>4.63</td>\n",
       "      <td>59.79</td>\n",
       "      <td>-</td>\n",
       "      <td>145.23</td>\n",
       "      <td>-</td>\n",
       "      <td>-</td>\n",
       "    </tr>\n",
       "    <tr>\n",
       "      <td>2010</td>\n",
       "      <td>0.3</td>\n",
       "      <td>-</td>\n",
       "      <td>85.35</td>\n",
       "      <td>-</td>\n",
       "      <td>-</td>\n",
       "      <td>26.15</td>\n",
       "      <td>5.64</td>\n",
       "      <td>142.96</td>\n",
       "      <td>-</td>\n",
       "      <td>35.04</td>\n",
       "      <td>-</td>\n",
       "      <td>128.67</td>\n",
       "      <td>-</td>\n",
       "      <td>170.55</td>\n",
       "      <td>-</td>\n",
       "      <td>-</td>\n",
       "    </tr>\n",
       "    <tr>\n",
       "      <td>2009</td>\n",
       "      <td>-</td>\n",
       "      <td>-</td>\n",
       "      <td>119.56</td>\n",
       "      <td>-</td>\n",
       "      <td>-</td>\n",
       "      <td>17.05</td>\n",
       "      <td>26.4</td>\n",
       "      <td>130.93</td>\n",
       "      <td>-</td>\n",
       "      <td>37.78</td>\n",
       "      <td>-</td>\n",
       "      <td>206.97</td>\n",
       "      <td>-</td>\n",
       "      <td>120.82</td>\n",
       "      <td>-</td>\n",
       "      <td>-</td>\n",
       "    </tr>\n",
       "    <tr>\n",
       "      <td>2008</td>\n",
       "      <td>-</td>\n",
       "      <td>0.04</td>\n",
       "      <td>145.36</td>\n",
       "      <td>-</td>\n",
       "      <td>-</td>\n",
       "      <td>12.46</td>\n",
       "      <td>53.9</td>\n",
       "      <td>118.79</td>\n",
       "      <td>-</td>\n",
       "      <td>36.76</td>\n",
       "      <td>-</td>\n",
       "      <td>177.68</td>\n",
       "      <td>-</td>\n",
       "      <td>136.07</td>\n",
       "      <td>0.18</td>\n",
       "      <td>-</td>\n",
       "    </tr>\n",
       "    <tr>\n",
       "      <td>2007</td>\n",
       "      <td>-</td>\n",
       "      <td>0.02</td>\n",
       "      <td>147.23</td>\n",
       "      <td>3.4</td>\n",
       "      <td>0.27</td>\n",
       "      <td>9.28</td>\n",
       "      <td>76.1</td>\n",
       "      <td>73.19</td>\n",
       "      <td>-</td>\n",
       "      <td>47.3</td>\n",
       "      <td>-</td>\n",
       "      <td>153.41</td>\n",
       "      <td>-</td>\n",
       "      <td>95.41</td>\n",
       "      <td>0.55</td>\n",
       "      <td>-</td>\n",
       "    </tr>\n",
       "    <tr>\n",
       "      <td>2006</td>\n",
       "      <td>-</td>\n",
       "      <td>-</td>\n",
       "      <td>119.81</td>\n",
       "      <td>5.46</td>\n",
       "      <td>11.55</td>\n",
       "      <td>2.85</td>\n",
       "      <td>104.24</td>\n",
       "      <td>20.96</td>\n",
       "      <td>-</td>\n",
       "      <td>56.28</td>\n",
       "      <td>-</td>\n",
       "      <td>140.19</td>\n",
       "      <td>-</td>\n",
       "      <td>51.79</td>\n",
       "      <td>10.04</td>\n",
       "      <td>-</td>\n",
       "    </tr>\n",
       "    <tr>\n",
       "      <td>2005</td>\n",
       "      <td>-</td>\n",
       "      <td>-</td>\n",
       "      <td>130.14</td>\n",
       "      <td>34.53</td>\n",
       "      <td>27.91</td>\n",
       "      <td>4.38</td>\n",
       "      <td>160.66</td>\n",
       "      <td>0.19</td>\n",
       "      <td>-</td>\n",
       "      <td>43.84</td>\n",
       "      <td>-</td>\n",
       "      <td>-</td>\n",
       "      <td>-</td>\n",
       "      <td>9.22</td>\n",
       "      <td>49.09</td>\n",
       "      <td>-</td>\n",
       "    </tr>\n",
       "    <tr>\n",
       "      <td>2004</td>\n",
       "      <td>-</td>\n",
       "      <td>-</td>\n",
       "      <td>-</td>\n",
       "      <td>-</td>\n",
       "      <td>-</td>\n",
       "      <td>10.39</td>\n",
       "      <td>-</td>\n",
       "      <td>-</td>\n",
       "      <td>-</td>\n",
       "      <td>-</td>\n",
       "      <td>-</td>\n",
       "      <td>-</td>\n",
       "      <td>-</td>\n",
       "      <td>-</td>\n",
       "      <td>-</td>\n",
       "      <td>-</td>\n",
       "    </tr>\n",
       "    <tr>\n",
       "      <td>2003</td>\n",
       "      <td>-</td>\n",
       "      <td>-</td>\n",
       "      <td>-</td>\n",
       "      <td>-</td>\n",
       "      <td>-</td>\n",
       "      <td>8.89</td>\n",
       "      <td>-</td>\n",
       "      <td>-</td>\n",
       "      <td>-</td>\n",
       "      <td>-</td>\n",
       "      <td>-</td>\n",
       "      <td>-</td>\n",
       "      <td>-</td>\n",
       "      <td>-</td>\n",
       "      <td>-</td>\n",
       "      <td>-</td>\n",
       "    </tr>\n",
       "    <tr>\n",
       "      <td>2002</td>\n",
       "      <td>-</td>\n",
       "      <td>-</td>\n",
       "      <td>-</td>\n",
       "      <td>-</td>\n",
       "      <td>-</td>\n",
       "      <td>8.57</td>\n",
       "      <td>-</td>\n",
       "      <td>-</td>\n",
       "      <td>-</td>\n",
       "      <td>-</td>\n",
       "      <td>-</td>\n",
       "      <td>-</td>\n",
       "      <td>-</td>\n",
       "      <td>-</td>\n",
       "      <td>-</td>\n",
       "      <td>-</td>\n",
       "    </tr>\n",
       "    <tr>\n",
       "      <td>2001</td>\n",
       "      <td>-</td>\n",
       "      <td>-</td>\n",
       "      <td>-</td>\n",
       "      <td>-</td>\n",
       "      <td>-</td>\n",
       "      <td>5.47</td>\n",
       "      <td>-</td>\n",
       "      <td>-</td>\n",
       "      <td>-</td>\n",
       "      <td>-</td>\n",
       "      <td>-</td>\n",
       "      <td>-</td>\n",
       "      <td>-</td>\n",
       "      <td>-</td>\n",
       "      <td>-</td>\n",
       "      <td>-</td>\n",
       "    </tr>\n",
       "    <tr>\n",
       "      <td>2000</td>\n",
       "      <td>-</td>\n",
       "      <td>-</td>\n",
       "      <td>-</td>\n",
       "      <td>-</td>\n",
       "      <td>-</td>\n",
       "      <td>4.66</td>\n",
       "      <td>-</td>\n",
       "      <td>-</td>\n",
       "      <td>-</td>\n",
       "      <td>-</td>\n",
       "      <td>-</td>\n",
       "      <td>-</td>\n",
       "      <td>-</td>\n",
       "      <td>-</td>\n",
       "      <td>-</td>\n",
       "      <td>-</td>\n",
       "    </tr>\n",
       "    <tr>\n",
       "      <td>1999</td>\n",
       "      <td>-</td>\n",
       "      <td>-</td>\n",
       "      <td>-</td>\n",
       "      <td>-</td>\n",
       "      <td>-</td>\n",
       "      <td>4.74</td>\n",
       "      <td>-</td>\n",
       "      <td>-</td>\n",
       "      <td>-</td>\n",
       "      <td>-</td>\n",
       "      <td>-</td>\n",
       "      <td>-</td>\n",
       "      <td>-</td>\n",
       "      <td>-</td>\n",
       "      <td>-</td>\n",
       "      <td>-</td>\n",
       "    </tr>\n",
       "    <tr>\n",
       "      <td>1998</td>\n",
       "      <td>-</td>\n",
       "      <td>-</td>\n",
       "      <td>-</td>\n",
       "      <td>-</td>\n",
       "      <td>-</td>\n",
       "      <td>3.26</td>\n",
       "      <td>-</td>\n",
       "      <td>-</td>\n",
       "      <td>-</td>\n",
       "      <td>-</td>\n",
       "      <td>-</td>\n",
       "      <td>-</td>\n",
       "      <td>-</td>\n",
       "      <td>-</td>\n",
       "      <td>-</td>\n",
       "      <td>-</td>\n",
       "    </tr>\n",
       "    <tr>\n",
       "      <td>1997</td>\n",
       "      <td>-</td>\n",
       "      <td>-</td>\n",
       "      <td>-</td>\n",
       "      <td>-</td>\n",
       "      <td>-</td>\n",
       "      <td>11.27</td>\n",
       "      <td>-</td>\n",
       "      <td>-</td>\n",
       "      <td>-</td>\n",
       "      <td>-</td>\n",
       "      <td>-</td>\n",
       "      <td>-</td>\n",
       "      <td>-</td>\n",
       "      <td>-</td>\n",
       "      <td>-</td>\n",
       "      <td>-</td>\n",
       "    </tr>\n",
       "    <tr>\n",
       "      <td>1996</td>\n",
       "      <td>-</td>\n",
       "      <td>-</td>\n",
       "      <td>-</td>\n",
       "      <td>-</td>\n",
       "      <td>-</td>\n",
       "      <td>10.58</td>\n",
       "      <td>-</td>\n",
       "      <td>-</td>\n",
       "      <td>-</td>\n",
       "      <td>-</td>\n",
       "      <td>-</td>\n",
       "      <td>-</td>\n",
       "      <td>-</td>\n",
       "      <td>-</td>\n",
       "      <td>-</td>\n",
       "      <td>-</td>\n",
       "    </tr>\n",
       "    <tr>\n",
       "      <td>1995</td>\n",
       "      <td>-</td>\n",
       "      <td>-</td>\n",
       "      <td>-</td>\n",
       "      <td>-</td>\n",
       "      <td>-</td>\n",
       "      <td>4.22</td>\n",
       "      <td>-</td>\n",
       "      <td>-</td>\n",
       "      <td>-</td>\n",
       "      <td>-</td>\n",
       "      <td>-</td>\n",
       "      <td>-</td>\n",
       "      <td>-</td>\n",
       "      <td>-</td>\n",
       "      <td>-</td>\n",
       "      <td>-</td>\n",
       "    </tr>\n",
       "    <tr>\n",
       "      <td>1994</td>\n",
       "      <td>-</td>\n",
       "      <td>-</td>\n",
       "      <td>-</td>\n",
       "      <td>-</td>\n",
       "      <td>-</td>\n",
       "      <td>12.87</td>\n",
       "      <td>-</td>\n",
       "      <td>-</td>\n",
       "      <td>-</td>\n",
       "      <td>-</td>\n",
       "      <td>-</td>\n",
       "      <td>-</td>\n",
       "      <td>-</td>\n",
       "      <td>-</td>\n",
       "      <td>-</td>\n",
       "      <td>-</td>\n",
       "    </tr>\n",
       "    <tr>\n",
       "      <td>1992</td>\n",
       "      <td>-</td>\n",
       "      <td>-</td>\n",
       "      <td>-</td>\n",
       "      <td>-</td>\n",
       "      <td>-</td>\n",
       "      <td>3.03</td>\n",
       "      <td>-</td>\n",
       "      <td>-</td>\n",
       "      <td>-</td>\n",
       "      <td>-</td>\n",
       "      <td>-</td>\n",
       "      <td>-</td>\n",
       "      <td>-</td>\n",
       "      <td>-</td>\n",
       "      <td>-</td>\n",
       "      <td>-</td>\n",
       "    </tr>\n",
       "    <tr>\n",
       "      <td>1988</td>\n",
       "      <td>-</td>\n",
       "      <td>-</td>\n",
       "      <td>-</td>\n",
       "      <td>-</td>\n",
       "      <td>-</td>\n",
       "      <td>0.03</td>\n",
       "      <td>-</td>\n",
       "      <td>-</td>\n",
       "      <td>-</td>\n",
       "      <td>-</td>\n",
       "      <td>-</td>\n",
       "      <td>-</td>\n",
       "      <td>-</td>\n",
       "      <td>-</td>\n",
       "      <td>-</td>\n",
       "      <td>-</td>\n",
       "    </tr>\n",
       "    <tr>\n",
       "      <td>1985</td>\n",
       "      <td>-</td>\n",
       "      <td>-</td>\n",
       "      <td>-</td>\n",
       "      <td>-</td>\n",
       "      <td>-</td>\n",
       "      <td>0.04</td>\n",
       "      <td>-</td>\n",
       "      <td>-</td>\n",
       "      <td>-</td>\n",
       "      <td>-</td>\n",
       "      <td>-</td>\n",
       "      <td>-</td>\n",
       "      <td>-</td>\n",
       "      <td>-</td>\n",
       "      <td>-</td>\n",
       "      <td>-</td>\n",
       "    </tr>\n",
       "  </tbody>\n",
       "</table>\n",
       "</div>"
      ],
      "text/plain": [
       "platform           3DS    DC      DS    GBA     GC     PC     PS2     PS3  \\\n",
       "year_of_release                                                             \n",
       "2016             15.14     -       -      -      -   5.25       -     3.6   \n",
       "2015             27.78     -       -      -      -   8.52       -   16.82   \n",
       "2014             43.76     -       -      -      -  13.28       -   47.76   \n",
       "2013             56.57     -    1.54      -      -  13.01       -  113.25   \n",
       "2012             51.76     -   11.67      -      -  23.45       -  108.28   \n",
       "2011              63.2     -   26.33      -      -  35.16    0.45  157.98   \n",
       "2010               0.3     -   85.35      -      -  26.15    5.64  142.96   \n",
       "2009                 -     -  119.56      -      -  17.05    26.4  130.93   \n",
       "2008                 -  0.04  145.36      -      -  12.46    53.9  118.79   \n",
       "2007                 -  0.02  147.23    3.4   0.27   9.28    76.1   73.19   \n",
       "2006                 -     -  119.81   5.46  11.55   2.85  104.24   20.96   \n",
       "2005                 -     -  130.14  34.53  27.91   4.38  160.66    0.19   \n",
       "2004                 -     -       -      -      -  10.39       -       -   \n",
       "2003                 -     -       -      -      -   8.89       -       -   \n",
       "2002                 -     -       -      -      -   8.57       -       -   \n",
       "2001                 -     -       -      -      -   5.47       -       -   \n",
       "2000                 -     -       -      -      -   4.66       -       -   \n",
       "1999                 -     -       -      -      -   4.74       -       -   \n",
       "1998                 -     -       -      -      -   3.26       -       -   \n",
       "1997                 -     -       -      -      -  11.27       -       -   \n",
       "1996                 -     -       -      -      -  10.58       -       -   \n",
       "1995                 -     -       -      -      -   4.22       -       -   \n",
       "1994                 -     -       -      -      -  12.87       -       -   \n",
       "1992                 -     -       -      -      -   3.03       -       -   \n",
       "1988                 -     -       -      -      -   0.03       -       -   \n",
       "1985                 -     -       -      -      -   0.04       -       -   \n",
       "\n",
       "platform           PS4    PSP    PSV     Wii   WiiU    X360     XB   XOne  \n",
       "year_of_release                                                            \n",
       "2016             69.25      -   4.25    0.18    4.6    1.52      -  26.15  \n",
       "2015             118.9   0.12   6.25    1.14  16.35   11.96      -  60.14  \n",
       "2014               100   0.24   11.9    3.75  22.03   34.74      -  54.07  \n",
       "2013             25.99   3.38  10.59    8.59  21.65   88.58      -  18.96  \n",
       "2012                 -   7.95  16.19   22.94  17.56  100.72      -      -  \n",
       "2011                 -  17.82   4.63   59.79      -  145.23      -      -  \n",
       "2010                 -  35.04      -  128.67      -  170.55      -      -  \n",
       "2009                 -  37.78      -  206.97      -  120.82      -      -  \n",
       "2008                 -  36.76      -  177.68      -  136.07   0.18      -  \n",
       "2007                 -   47.3      -  153.41      -   95.41   0.55      -  \n",
       "2006                 -  56.28      -  140.19      -   51.79  10.04      -  \n",
       "2005                 -  43.84      -       -      -    9.22  49.09      -  \n",
       "2004                 -      -      -       -      -       -      -      -  \n",
       "2003                 -      -      -       -      -       -      -      -  \n",
       "2002                 -      -      -       -      -       -      -      -  \n",
       "2001                 -      -      -       -      -       -      -      -  \n",
       "2000                 -      -      -       -      -       -      -      -  \n",
       "1999                 -      -      -       -      -       -      -      -  \n",
       "1998                 -      -      -       -      -       -      -      -  \n",
       "1997                 -      -      -       -      -       -      -      -  \n",
       "1996                 -      -      -       -      -       -      -      -  \n",
       "1995                 -      -      -       -      -       -      -      -  \n",
       "1994                 -      -      -       -      -       -      -      -  \n",
       "1992                 -      -      -       -      -       -      -      -  \n",
       "1988                 -      -      -       -      -       -      -      -  \n",
       "1985                 -      -      -       -      -       -      -      -  "
      ]
     },
     "execution_count": 38,
     "metadata": {},
     "output_type": "execute_result"
    }
   ],
   "source": [
    "data_filter.pivot_table(index='year_of_release'\n",
    "                        , columns='platform', values='all_sales'\n",
    "                        , aggfunc='sum', fill_value = '-').sort_index(ascending=False)"
   ]
  },
  {
   "cell_type": "markdown",
   "metadata": {},
   "source": [
    "- Лидирующей платформой с запуском в 2016 году является 'PS4' с продажами 69.25\n",
    "- Платформы которые прекратили совсем выпуск новых продуктов довольно много это:\n",
    "    - 'DC', 'DS', 'GBA', 'GC', 'PS2', 'PSP' и 'XB'\n",
    "- Платформы продажи по которым слабеют это:\n",
    "    - '3DS', 'PC', 'PS3', 'Wii', 'X360'\n",
    "- Потенциально прибыльные платформы:\n",
    "    - 'PS4' и возможно 'XOne'\n",
    "- Так же хочется отметить отсутствие новых запусков платформ, самые последние были запущены 4 года назад"
   ]
  },
  {
   "cell_type": "markdown",
   "metadata": {},
   "source": [
    "#### 3.4. Строим boxplot-ы, в разбивке по платформам "
   ]
  },
  {
   "cell_type": "code",
   "execution_count": 39,
   "metadata": {},
   "outputs": [
    {
     "data": {
      "text/plain": [
       "Text(0.5, 0, 'Платформы')"
      ]
     },
     "execution_count": 39,
     "metadata": {},
     "output_type": "execute_result"
    },
    {
     "data": {
      "image/png": "[encoded data removed]",
      "text/plain": [
       "<Figure size 1440x360 with 1 Axes>"
      ]
     },
     "metadata": {
      "needs_background": "light"
     },
     "output_type": "display_data"
    }
   ],
   "source": [
    "ax = sns.boxplot(x=\"platform\", y=\"all_sales\", data=data_filter.query('all_sales<0.2'))\n",
    "ax.set_title('Распределение вероятностей Продаж по платформам', fontsize = 15)\n",
    "ax.set_ylabel('Продажи, млн копий', fontsize = 15)\n",
    "ax.set_xlabel('Платформы', fontsize = 15)"
   ]
  },
  {
   "cell_type": "markdown",
   "metadata": {},
   "source": [
    "Получается что большинство игр во всех платформах имеют медианные значения в районе 75 000, но есть и очень популярные игры которые выходят далеко за рамки 3 Сигм."
   ]
  },
  {
   "cell_type": "markdown",
   "metadata": {},
   "source": [
    "#### 3.5. \n",
    "- Посмотрим, как влияют на продажи внутри одной популярной платформы отзывы пользователей и критиков. \n",
    "- Построим диаграмму рассеяния \n",
    "- Посчитаем корреляцию между отзывами и продажами\n",
    "- Сформулируем выводы"
   ]
  },
  {
   "cell_type": "markdown",
   "metadata": {},
   "source": [
    "Еще больше сократим наши данные по платформам, т.к. те платформы которые давно не выпускали новинок вряд-ли могут претендовать на хорошие продажи в 2017 году"
   ]
  },
  {
   "cell_type": "code",
   "execution_count": 40,
   "metadata": {},
   "outputs": [],
   "source": [
    "data_filter = data_filter.query('platform in (\"3DS\", \"PC\", \"PS4\", \"PSV\", \"XOne\")')"
   ]
  },
  {
   "cell_type": "markdown",
   "metadata": {},
   "source": [
    "Проведем анализ на основе самой перспективной платформе \"PS4\""
   ]
  },
  {
   "cell_type": "code",
   "execution_count": 41,
   "metadata": {},
   "outputs": [
    {
     "data": {
      "text/html": [
       "<div>\n",
       "<style scoped>\n",
       "    .dataframe tbody tr th:only-of-type {\n",
       "        vertical-align: middle;\n",
       "    }\n",
       "\n",
       "    .dataframe tbody tr th {\n",
       "        vertical-align: top;\n",
       "    }\n",
       "\n",
       "    .dataframe thead th {\n",
       "        text-align: right;\n",
       "    }\n",
       "</style>\n",
       "<table border=\"1\" class=\"dataframe\">\n",
       "  <thead>\n",
       "    <tr style=\"text-align: right;\">\n",
       "      <th></th>\n",
       "      <th>name</th>\n",
       "      <th>platform</th>\n",
       "      <th>year_of_release</th>\n",
       "      <th>genre</th>\n",
       "      <th>na_sales</th>\n",
       "      <th>eu_sales</th>\n",
       "      <th>jp_sales</th>\n",
       "      <th>other_sales</th>\n",
       "      <th>critic_score</th>\n",
       "      <th>user_score</th>\n",
       "      <th>rating</th>\n",
       "      <th>all_sales</th>\n",
       "    </tr>\n",
       "  </thead>\n",
       "  <tbody>\n",
       "    <tr>\n",
       "      <td>31</td>\n",
       "      <td>Call of Duty: Black Ops 3</td>\n",
       "      <td>PS4</td>\n",
       "      <td>2015</td>\n",
       "      <td>Shooter</td>\n",
       "      <td>6.03</td>\n",
       "      <td>5.86</td>\n",
       "      <td>0.36</td>\n",
       "      <td>2.38</td>\n",
       "      <td>NaN</td>\n",
       "      <td>NaN</td>\n",
       "      <td>NaN</td>\n",
       "      <td>14.63</td>\n",
       "    </tr>\n",
       "    <tr>\n",
       "      <td>33</td>\n",
       "      <td>Pokemon X/Pokemon Y</td>\n",
       "      <td>3DS</td>\n",
       "      <td>2013</td>\n",
       "      <td>Role-Playing</td>\n",
       "      <td>5.28</td>\n",
       "      <td>4.19</td>\n",
       "      <td>4.35</td>\n",
       "      <td>0.78</td>\n",
       "      <td>NaN</td>\n",
       "      <td>NaN</td>\n",
       "      <td>NaN</td>\n",
       "      <td>14.60</td>\n",
       "    </tr>\n",
       "    <tr>\n",
       "      <td>40</td>\n",
       "      <td>Mario Kart 7</td>\n",
       "      <td>3DS</td>\n",
       "      <td>2011</td>\n",
       "      <td>Racing</td>\n",
       "      <td>5.03</td>\n",
       "      <td>4.02</td>\n",
       "      <td>2.69</td>\n",
       "      <td>0.91</td>\n",
       "      <td>85.0</td>\n",
       "      <td>8.2</td>\n",
       "      <td>E</td>\n",
       "      <td>12.65</td>\n",
       "    </tr>\n",
       "    <tr>\n",
       "      <td>42</td>\n",
       "      <td>Grand Theft Auto V</td>\n",
       "      <td>PS4</td>\n",
       "      <td>2014</td>\n",
       "      <td>Action</td>\n",
       "      <td>3.96</td>\n",
       "      <td>6.31</td>\n",
       "      <td>0.38</td>\n",
       "      <td>1.97</td>\n",
       "      <td>97.0</td>\n",
       "      <td>8.3</td>\n",
       "      <td>M</td>\n",
       "      <td>12.62</td>\n",
       "    </tr>\n",
       "    <tr>\n",
       "      <td>47</td>\n",
       "      <td>Pokemon Omega Ruby/Pokemon Alpha Sapphire</td>\n",
       "      <td>3DS</td>\n",
       "      <td>2014</td>\n",
       "      <td>Role-Playing</td>\n",
       "      <td>4.35</td>\n",
       "      <td>3.49</td>\n",
       "      <td>3.10</td>\n",
       "      <td>0.74</td>\n",
       "      <td>NaN</td>\n",
       "      <td>NaN</td>\n",
       "      <td>NaN</td>\n",
       "      <td>11.68</td>\n",
       "    </tr>\n",
       "  </tbody>\n",
       "</table>\n",
       "</div>"
      ],
      "text/plain": [
       "                                         name platform  year_of_release  \\\n",
       "31                  Call of Duty: Black Ops 3      PS4             2015   \n",
       "33                        Pokemon X/Pokemon Y      3DS             2013   \n",
       "40                               Mario Kart 7      3DS             2011   \n",
       "42                         Grand Theft Auto V      PS4             2014   \n",
       "47  Pokemon Omega Ruby/Pokemon Alpha Sapphire      3DS             2014   \n",
       "\n",
       "           genre  na_sales  eu_sales  jp_sales  other_sales  critic_score  \\\n",
       "31       Shooter      6.03      5.86      0.36         2.38           NaN   \n",
       "33  Role-Playing      5.28      4.19      4.35         0.78           NaN   \n",
       "40        Racing      5.03      4.02      2.69         0.91          85.0   \n",
       "42        Action      3.96      6.31      0.38         1.97          97.0   \n",
       "47  Role-Playing      4.35      3.49      3.10         0.74           NaN   \n",
       "\n",
       "    user_score rating  all_sales  \n",
       "31         NaN    NaN      14.63  \n",
       "33         NaN    NaN      14.60  \n",
       "40         8.2      E      12.65  \n",
       "42         8.3      M      12.62  \n",
       "47         NaN    NaN      11.68  "
      ]
     },
     "execution_count": 41,
     "metadata": {},
     "output_type": "execute_result"
    }
   ],
   "source": [
    "data_filter.head()"
   ]
  },
  {
   "cell_type": "code",
   "execution_count": 42,
   "metadata": {},
   "outputs": [],
   "source": [
    "ps4_data_user = data_filter.query('user_score>0 and platform == \"PS4\"').filter(['user_score', 'all_sales']).reset_index(drop=True)"
   ]
  },
  {
   "cell_type": "code",
   "execution_count": 43,
   "metadata": {},
   "outputs": [
    {
     "data": {
      "image/png": "[encoded data removed]",
      "text/plain": [
       "<Figure size 720x360 with 1 Axes>"
      ]
     },
     "metadata": {
      "needs_background": "light"
     },
     "output_type": "display_data"
    }
   ],
   "source": [
    "# Строим диаграмму рассеяния по отзывам пользователей 'User_Score'\n",
    "fig, ax = plt.subplots()\n",
    "ax = sns.scatterplot('user_score','all_sales', data=ps4_data_user.query('all_sales<6'), s=150)\n",
    "ax.set_title((\"Корреляция\", ps4_data_user['user_score'].corr(ps4_data_user['all_sales'])),fontstyle = 'oblique', fontsize = 15)\n",
    "ax.set_ylabel('Продажи, млн копий', fontsize = 15)\n",
    "ax.set_xlabel('Оценки пользователей', fontsize = 15)\n",
    "fig.set_figwidth(10)\n",
    "fig.set_figheight(5) "
   ]
  },
  {
   "cell_type": "code",
   "execution_count": 44,
   "metadata": {},
   "outputs": [
    {
     "data": {
      "text/html": [
       "<div>\n",
       "<style scoped>\n",
       "    .dataframe tbody tr th:only-of-type {\n",
       "        vertical-align: middle;\n",
       "    }\n",
       "\n",
       "    .dataframe tbody tr th {\n",
       "        vertical-align: top;\n",
       "    }\n",
       "\n",
       "    .dataframe thead th {\n",
       "        text-align: right;\n",
       "    }\n",
       "</style>\n",
       "<table border=\"1\" class=\"dataframe\">\n",
       "  <thead>\n",
       "    <tr style=\"text-align: right;\">\n",
       "      <th></th>\n",
       "      <th>name</th>\n",
       "      <th>platform</th>\n",
       "      <th>year_of_release</th>\n",
       "      <th>genre</th>\n",
       "      <th>na_sales</th>\n",
       "      <th>eu_sales</th>\n",
       "      <th>jp_sales</th>\n",
       "      <th>other_sales</th>\n",
       "      <th>critic_score</th>\n",
       "      <th>user_score</th>\n",
       "      <th>rating</th>\n",
       "      <th>all_sales</th>\n",
       "    </tr>\n",
       "  </thead>\n",
       "  <tbody>\n",
       "    <tr>\n",
       "      <td>31</td>\n",
       "      <td>Call of Duty: Black Ops 3</td>\n",
       "      <td>PS4</td>\n",
       "      <td>2015</td>\n",
       "      <td>Shooter</td>\n",
       "      <td>6.03</td>\n",
       "      <td>5.86</td>\n",
       "      <td>0.36</td>\n",
       "      <td>2.38</td>\n",
       "      <td>NaN</td>\n",
       "      <td>NaN</td>\n",
       "      <td>NaN</td>\n",
       "      <td>14.63</td>\n",
       "    </tr>\n",
       "    <tr>\n",
       "      <td>33</td>\n",
       "      <td>Pokemon X/Pokemon Y</td>\n",
       "      <td>3DS</td>\n",
       "      <td>2013</td>\n",
       "      <td>Role-Playing</td>\n",
       "      <td>5.28</td>\n",
       "      <td>4.19</td>\n",
       "      <td>4.35</td>\n",
       "      <td>0.78</td>\n",
       "      <td>NaN</td>\n",
       "      <td>NaN</td>\n",
       "      <td>NaN</td>\n",
       "      <td>14.60</td>\n",
       "    </tr>\n",
       "    <tr>\n",
       "      <td>40</td>\n",
       "      <td>Mario Kart 7</td>\n",
       "      <td>3DS</td>\n",
       "      <td>2011</td>\n",
       "      <td>Racing</td>\n",
       "      <td>5.03</td>\n",
       "      <td>4.02</td>\n",
       "      <td>2.69</td>\n",
       "      <td>0.91</td>\n",
       "      <td>85.0</td>\n",
       "      <td>8.2</td>\n",
       "      <td>E</td>\n",
       "      <td>12.65</td>\n",
       "    </tr>\n",
       "    <tr>\n",
       "      <td>42</td>\n",
       "      <td>Grand Theft Auto V</td>\n",
       "      <td>PS4</td>\n",
       "      <td>2014</td>\n",
       "      <td>Action</td>\n",
       "      <td>3.96</td>\n",
       "      <td>6.31</td>\n",
       "      <td>0.38</td>\n",
       "      <td>1.97</td>\n",
       "      <td>97.0</td>\n",
       "      <td>8.3</td>\n",
       "      <td>M</td>\n",
       "      <td>12.62</td>\n",
       "    </tr>\n",
       "    <tr>\n",
       "      <td>47</td>\n",
       "      <td>Pokemon Omega Ruby/Pokemon Alpha Sapphire</td>\n",
       "      <td>3DS</td>\n",
       "      <td>2014</td>\n",
       "      <td>Role-Playing</td>\n",
       "      <td>4.35</td>\n",
       "      <td>3.49</td>\n",
       "      <td>3.10</td>\n",
       "      <td>0.74</td>\n",
       "      <td>NaN</td>\n",
       "      <td>NaN</td>\n",
       "      <td>NaN</td>\n",
       "      <td>11.68</td>\n",
       "    </tr>\n",
       "  </tbody>\n",
       "</table>\n",
       "</div>"
      ],
      "text/plain": [
       "                                         name platform  year_of_release  \\\n",
       "31                  Call of Duty: Black Ops 3      PS4             2015   \n",
       "33                        Pokemon X/Pokemon Y      3DS             2013   \n",
       "40                               Mario Kart 7      3DS             2011   \n",
       "42                         Grand Theft Auto V      PS4             2014   \n",
       "47  Pokemon Omega Ruby/Pokemon Alpha Sapphire      3DS             2014   \n",
       "\n",
       "           genre  na_sales  eu_sales  jp_sales  other_sales  critic_score  \\\n",
       "31       Shooter      6.03      5.86      0.36         2.38           NaN   \n",
       "33  Role-Playing      5.28      4.19      4.35         0.78           NaN   \n",
       "40        Racing      5.03      4.02      2.69         0.91          85.0   \n",
       "42        Action      3.96      6.31      0.38         1.97          97.0   \n",
       "47  Role-Playing      4.35      3.49      3.10         0.74           NaN   \n",
       "\n",
       "    user_score rating  all_sales  \n",
       "31         NaN    NaN      14.63  \n",
       "33         NaN    NaN      14.60  \n",
       "40         8.2      E      12.65  \n",
       "42         8.3      M      12.62  \n",
       "47         NaN    NaN      11.68  "
      ]
     },
     "execution_count": 44,
     "metadata": {},
     "output_type": "execute_result"
    }
   ],
   "source": [
    "data_filter.head()"
   ]
  },
  {
   "cell_type": "code",
   "execution_count": 45,
   "metadata": {},
   "outputs": [],
   "source": [
    "# Сделаем тоже самое но по 'critic_score'\n",
    "ps4_data_critic = data_filter.query('critic_score>0 and platform == \"PS4\"')\\\n",
    ".filter(['critic_score', 'all_sales']).reset_index(drop=True)"
   ]
  },
  {
   "cell_type": "code",
   "execution_count": 46,
   "metadata": {},
   "outputs": [
    {
     "data": {
      "image/png": "[encoded data removed]",
      "text/plain": [
       "<Figure size 720x360 with 1 Axes>"
      ]
     },
     "metadata": {
      "needs_background": "light"
     },
     "output_type": "display_data"
    }
   ],
   "source": [
    "fig, ax = plt.subplots()\n",
    "ax = sns.scatterplot('critic_score','all_sales', data=ps4_data_critic.query('all_sales<6'), s=150)\n",
    "ax.set_title((\"Корреляция\", ps4_data_critic['critic_score'].corr(ps4_data_critic['all_sales'])),fontstyle = 'oblique', fontsize = 15)\n",
    "ax.set_ylabel('Продажи, млн копий', fontsize = 15)\n",
    "ax.set_xlabel('Оценки критиков', fontsize = 15)\n",
    "fig.set_figwidth(10)\n",
    "fig.set_figheight(5) "
   ]
  },
  {
   "cell_type": "code",
   "execution_count": 47,
   "metadata": {},
   "outputs": [
    {
     "name": "stdout",
     "output_type": "stream",
     "text": [
      "<class 'pandas.core.frame.DataFrame'>\n",
      "RangeIndex: 257 entries, 0 to 256\n",
      "Data columns (total 2 columns):\n",
      "user_score    257 non-null float64\n",
      "all_sales     257 non-null float64\n",
      "dtypes: float64(2)\n",
      "memory usage: 4.1 KB\n"
     ]
    }
   ],
   "source": [
    "ps4_data_user.info()"
   ]
  },
  {
   "cell_type": "code",
   "execution_count": 48,
   "metadata": {},
   "outputs": [
    {
     "data": {
      "text/plain": [
       "-0.031957110204556424"
      ]
     },
     "execution_count": 48,
     "metadata": {},
     "output_type": "execute_result"
    }
   ],
   "source": [
    "# Считаем корреляцию по Пользовательским оценкам\n",
    "ps4_data_user['user_score'].corr(ps4_data_user['all_sales'])"
   ]
  },
  {
   "cell_type": "code",
   "execution_count": 49,
   "metadata": {},
   "outputs": [
    {
     "data": {
      "text/html": [
       "<div>\n",
       "<style scoped>\n",
       "    .dataframe tbody tr th:only-of-type {\n",
       "        vertical-align: middle;\n",
       "    }\n",
       "\n",
       "    .dataframe tbody tr th {\n",
       "        vertical-align: top;\n",
       "    }\n",
       "\n",
       "    .dataframe thead th {\n",
       "        text-align: right;\n",
       "    }\n",
       "</style>\n",
       "<table border=\"1\" class=\"dataframe\">\n",
       "  <thead>\n",
       "    <tr style=\"text-align: right;\">\n",
       "      <th></th>\n",
       "      <th>critic_score</th>\n",
       "      <th>all_sales</th>\n",
       "    </tr>\n",
       "  </thead>\n",
       "  <tbody>\n",
       "    <tr>\n",
       "      <td>0</td>\n",
       "      <td>97.0</td>\n",
       "      <td>12.62</td>\n",
       "    </tr>\n",
       "    <tr>\n",
       "      <td>1</td>\n",
       "      <td>82.0</td>\n",
       "      <td>8.58</td>\n",
       "    </tr>\n",
       "    <tr>\n",
       "      <td>2</td>\n",
       "      <td>83.0</td>\n",
       "      <td>7.66</td>\n",
       "    </tr>\n",
       "    <tr>\n",
       "      <td>3</td>\n",
       "      <td>85.0</td>\n",
       "      <td>7.60</td>\n",
       "    </tr>\n",
       "    <tr>\n",
       "      <td>4</td>\n",
       "      <td>87.0</td>\n",
       "      <td>7.17</td>\n",
       "    </tr>\n",
       "  </tbody>\n",
       "</table>\n",
       "</div>"
      ],
      "text/plain": [
       "   critic_score  all_sales\n",
       "0          97.0      12.62\n",
       "1          82.0       8.58\n",
       "2          83.0       7.66\n",
       "3          85.0       7.60\n",
       "4          87.0       7.17"
      ]
     },
     "execution_count": 49,
     "metadata": {},
     "output_type": "execute_result"
    }
   ],
   "source": [
    "ps4_data_critic.head()"
   ]
  },
  {
   "cell_type": "code",
   "execution_count": 50,
   "metadata": {},
   "outputs": [],
   "source": [
    "ps4_data_critic['critic_score'] = ps4_data_critic['critic_score'].astype('int')"
   ]
  },
  {
   "cell_type": "code",
   "execution_count": 51,
   "metadata": {},
   "outputs": [
    {
     "data": {
      "text/plain": [
       "0.40656790206178095"
      ]
     },
     "execution_count": 51,
     "metadata": {},
     "output_type": "execute_result"
    }
   ],
   "source": [
    "# Считаем корреляцию по оценкам Критиков\n",
    "ps4_data_critic['critic_score'].corr(ps4_data_critic['all_sales'])"
   ]
  },
  {
   "cell_type": "markdown",
   "metadata": {},
   "source": [
    "#### Выводы\n",
    "Получается что оценки пользователей совсем не коррелируют с продажами, в то время как оценки критиков имеют 40% положительную корреляцию. Хотя возможно что и критики всё подряд не критикуют а только то что хорошо продаётся :)"
   ]
  },
  {
   "cell_type": "markdown",
   "metadata": {},
   "source": [
    "#### 3.6. Посмотрим как соотносятся полученные выводы PS4 с другими платформами "
   ]
  },
  {
   "cell_type": "code",
   "execution_count": 52,
   "metadata": {},
   "outputs": [],
   "source": [
    "# Отберем нужные нам данные\n",
    "data_rating_critic = data.copy(deep=True).query('platform in (\"3DS\", \"PC\", \"PS4\", \"PSV\", \"XOne\") and critic_score>0')\n",
    "# data_rating_critic = data_filter\n"
   ]
  },
  {
   "cell_type": "code",
   "execution_count": 53,
   "metadata": {},
   "outputs": [
    {
     "name": "stdout",
     "output_type": "stream",
     "text": [
      "Корреляция по 3DS = 0.3494009303924131\n",
      "Корреляция по PC = 0.2568867378948215\n",
      "Корреляция по PS4 = 0.40656790206178095\n",
      "Корреляция по PSV = 0.1315167215429264\n",
      "Корреляция по XOne = 0.4169983280084017\n"
     ]
    }
   ],
   "source": [
    "# Сначала посмотрим корреляцию продаж с рейтингом критиков\n",
    "for plat in [\"3DS\", \"PC\", \"PS4\", \"PSV\", \"XOne\"]:\n",
    "    print('Корреляция по', plat, '=',\n",
    "        data_rating_critic.query('platform == @plat')['critic_score']\n",
    "          .corr(data_rating_critic.query('platform == @plat')['all_sales']))"
   ]
  },
  {
   "cell_type": "code",
   "execution_count": 54,
   "metadata": {},
   "outputs": [],
   "source": [
    "data_rating_users = data.copy(deep=True).query('platform in (\"3DS\", \"PC\", \"PS4\", \"PSV\", \"XOne\") and user_score>0')"
   ]
  },
  {
   "cell_type": "code",
   "execution_count": 55,
   "metadata": {},
   "outputs": [
    {
     "name": "stdout",
     "output_type": "stream",
     "text": [
      "Корреляция по 3DS = 0.22480798039571082\n",
      "Корреляция по PC = 0.010475684621486417\n",
      "Корреляция по PS4 = -0.031957110204556424\n",
      "Корреляция по PSV = 0.013579522883028902\n",
      "Корреляция по XOne = -0.06892505328279414\n"
     ]
    }
   ],
   "source": [
    "# Теперь посмотрим на корреляцию с рейтингом пользователей\n",
    "for plat in [\"3DS\", \"PC\", \"PS4\", \"PSV\", \"XOne\"]:\n",
    "    print('Корреляция по', plat, '=',\n",
    "        data_rating_users.query('platform == @plat')['user_score']\n",
    "          .corr(data_rating_users.query('platform == @plat')['all_sales']))"
   ]
  },
  {
   "cell_type": "markdown",
   "metadata": {},
   "source": [
    "Аналогичные выводы можно вывести и по остальным платформам, рейтинг критиков намного лучше коррелирует с продажами чем рейтинг пользователей."
   ]
  },
  {
   "cell_type": "markdown",
   "metadata": {},
   "source": [
    "#### 3.7. Посмотрим на общее распределение игр по жанрам. Что можно сказать о самых прибыльных жанрах и выделяются ли жанры с высокими и низкими продажами"
   ]
  },
  {
   "cell_type": "code",
   "execution_count": 56,
   "metadata": {},
   "outputs": [
    {
     "data": {
      "text/html": [
       "<div>\n",
       "<style scoped>\n",
       "    .dataframe tbody tr th:only-of-type {\n",
       "        vertical-align: middle;\n",
       "    }\n",
       "\n",
       "    .dataframe tbody tr th {\n",
       "        vertical-align: top;\n",
       "    }\n",
       "\n",
       "    .dataframe thead th {\n",
       "        text-align: right;\n",
       "    }\n",
       "</style>\n",
       "<table border=\"1\" class=\"dataframe\">\n",
       "  <thead>\n",
       "    <tr style=\"text-align: right;\">\n",
       "      <th></th>\n",
       "      <th>genre</th>\n",
       "      <th>all_sales</th>\n",
       "    </tr>\n",
       "  </thead>\n",
       "  <tbody>\n",
       "    <tr>\n",
       "      <td>0</td>\n",
       "      <td>Action</td>\n",
       "      <td>199.36</td>\n",
       "    </tr>\n",
       "    <tr>\n",
       "      <td>1</td>\n",
       "      <td>Shooter</td>\n",
       "      <td>170.94</td>\n",
       "    </tr>\n",
       "    <tr>\n",
       "      <td>2</td>\n",
       "      <td>Sports</td>\n",
       "      <td>109.48</td>\n",
       "    </tr>\n",
       "    <tr>\n",
       "      <td>3</td>\n",
       "      <td>Role-Playing</td>\n",
       "      <td>101.44</td>\n",
       "    </tr>\n",
       "    <tr>\n",
       "      <td>4</td>\n",
       "      <td>Misc</td>\n",
       "      <td>37.55</td>\n",
       "    </tr>\n",
       "    <tr>\n",
       "      <td>5</td>\n",
       "      <td>Fighting</td>\n",
       "      <td>28.22</td>\n",
       "    </tr>\n",
       "    <tr>\n",
       "      <td>6</td>\n",
       "      <td>Racing</td>\n",
       "      <td>27.52</td>\n",
       "    </tr>\n",
       "    <tr>\n",
       "      <td>7</td>\n",
       "      <td>Platform</td>\n",
       "      <td>18.09</td>\n",
       "    </tr>\n",
       "    <tr>\n",
       "      <td>8</td>\n",
       "      <td>Adventure</td>\n",
       "      <td>17.55</td>\n",
       "    </tr>\n",
       "    <tr>\n",
       "      <td>9</td>\n",
       "      <td>Simulation</td>\n",
       "      <td>13.13</td>\n",
       "    </tr>\n",
       "    <tr>\n",
       "      <td>10</td>\n",
       "      <td>Strategy</td>\n",
       "      <td>3.96</td>\n",
       "    </tr>\n",
       "    <tr>\n",
       "      <td>11</td>\n",
       "      <td>Puzzle</td>\n",
       "      <td>2.21</td>\n",
       "    </tr>\n",
       "  </tbody>\n",
       "</table>\n",
       "</div>"
      ],
      "text/plain": [
       "           genre  all_sales\n",
       "0         Action     199.36\n",
       "1        Shooter     170.94\n",
       "2         Sports     109.48\n",
       "3   Role-Playing     101.44\n",
       "4           Misc      37.55\n",
       "5       Fighting      28.22\n",
       "6         Racing      27.52\n",
       "7       Platform      18.09\n",
       "8      Adventure      17.55\n",
       "9     Simulation      13.13\n",
       "10      Strategy       3.96\n",
       "11        Puzzle       2.21"
      ]
     },
     "execution_count": 56,
     "metadata": {},
     "output_type": "execute_result"
    }
   ],
   "source": [
    "# a. Возьмем данные за последние 3 года, как наиболее релевантные для нашего анализа и посмотрим распределение по жанрам\n",
    "genre_data = data.query('year_of_release >=2014')\\\n",
    "                .groupby(by='genre', as_index=False)\\\n",
    "                .agg({'all_sales':'sum'})\\\n",
    "                .sort_values(by='all_sales', ascending=False)\\\n",
    "                .reset_index(drop=True)\n",
    "genre_data"
   ]
  },
  {
   "cell_type": "code",
   "execution_count": 57,
   "metadata": {
    "scrolled": true
   },
   "outputs": [
    {
     "data": {
      "text/plain": [
       "Text(0, 0.5, 'Жанры')"
      ]
     },
     "execution_count": 57,
     "metadata": {},
     "output_type": "execute_result"
    },
    {
     "data": {
      "image/png": "[encoded data removed]",
      "text/plain": [
       "<Figure size 1440x360 with 1 Axes>"
      ]
     },
     "metadata": {
      "needs_background": "light"
     },
     "output_type": "display_data"
    }
   ],
   "source": [
    "ax = genre_data.sort_values('all_sales').plot.barh(x='genre', y='all_sales', color='orange')\n",
    "ax.set_title('Продажи по жанрам')\n",
    "ax.set_xlabel('Продажи, млн экз')\n",
    "ax.set_ylabel('Жанры')"
   ]
  },
  {
   "cell_type": "markdown",
   "metadata": {},
   "source": [
    "#### Выводы: Наиболее прибыльными являются 4 жанра: это:\n",
    "- Action;\n",
    "- Shooter;\n",
    "- Sports;\n",
    "- Role-Playing.\n",
    "Всё остальное существенно проигрывает этим 4м\n",
    "---\n",
    "- Strategy, Puzzle - канули в лета"
   ]
  },
  {
   "cell_type": "markdown",
   "metadata": {},
   "source": [
    "### <span style=\"color:blue\"> Шаг_4: Составим портрет пользователя каждого региона"
   ]
  },
  {
   "cell_type": "markdown",
   "metadata": {},
   "source": [
    "#### 4.1. Рассмотрим ТОП-5 Платформ по регионам"
   ]
  },
  {
   "cell_type": "code",
   "execution_count": 58,
   "metadata": {},
   "outputs": [],
   "source": [
    "# Возьмем данные за последние 3 года\n",
    "good_data = data.query('year_of_release >=2014 and na_sales>0')"
   ]
  },
  {
   "cell_type": "code",
   "execution_count": 59,
   "metadata": {},
   "outputs": [
    {
     "data": {
      "text/html": [
       "<div>\n",
       "<style scoped>\n",
       "    .dataframe tbody tr th:only-of-type {\n",
       "        vertical-align: middle;\n",
       "    }\n",
       "\n",
       "    .dataframe tbody tr th {\n",
       "        vertical-align: top;\n",
       "    }\n",
       "\n",
       "    .dataframe thead th {\n",
       "        text-align: right;\n",
       "    }\n",
       "</style>\n",
       "<table border=\"1\" class=\"dataframe\">\n",
       "  <thead>\n",
       "    <tr style=\"text-align: right;\">\n",
       "      <th>platform</th>\n",
       "      <th>3DS</th>\n",
       "      <th>PC</th>\n",
       "      <th>PS3</th>\n",
       "      <th>PS4</th>\n",
       "      <th>PSV</th>\n",
       "      <th>Wii</th>\n",
       "      <th>WiiU</th>\n",
       "      <th>X360</th>\n",
       "      <th>XOne</th>\n",
       "    </tr>\n",
       "    <tr>\n",
       "      <th>year_of_release</th>\n",
       "      <th></th>\n",
       "      <th></th>\n",
       "      <th></th>\n",
       "      <th></th>\n",
       "      <th></th>\n",
       "      <th></th>\n",
       "      <th></th>\n",
       "      <th></th>\n",
       "      <th></th>\n",
       "    </tr>\n",
       "  </thead>\n",
       "  <tbody>\n",
       "    <tr>\n",
       "      <td>2014</td>\n",
       "      <td>36.55</td>\n",
       "      <td>11.38</td>\n",
       "      <td>44.58</td>\n",
       "      <td>99.31</td>\n",
       "      <td>8.20</td>\n",
       "      <td>3.70</td>\n",
       "      <td>21.59</td>\n",
       "      <td>34.69</td>\n",
       "      <td>54.01</td>\n",
       "    </tr>\n",
       "    <tr>\n",
       "      <td>2015</td>\n",
       "      <td>19.85</td>\n",
       "      <td>6.73</td>\n",
       "      <td>14.20</td>\n",
       "      <td>116.44</td>\n",
       "      <td>1.72</td>\n",
       "      <td>1.10</td>\n",
       "      <td>16.21</td>\n",
       "      <td>11.83</td>\n",
       "      <td>59.96</td>\n",
       "    </tr>\n",
       "    <tr>\n",
       "      <td>2016</td>\n",
       "      <td>10.73</td>\n",
       "      <td>4.11</td>\n",
       "      <td>2.39</td>\n",
       "      <td>65.74</td>\n",
       "      <td>0.84</td>\n",
       "      <td>0.18</td>\n",
       "      <td>4.55</td>\n",
       "      <td>1.50</td>\n",
       "      <td>26.07</td>\n",
       "    </tr>\n",
       "  </tbody>\n",
       "</table>\n",
       "</div>"
      ],
      "text/plain": [
       "platform           3DS     PC    PS3     PS4   PSV   Wii   WiiU   X360   XOne\n",
       "year_of_release                                                              \n",
       "2014             36.55  11.38  44.58   99.31  8.20  3.70  21.59  34.69  54.01\n",
       "2015             19.85   6.73  14.20  116.44  1.72  1.10  16.21  11.83  59.96\n",
       "2016             10.73   4.11   2.39   65.74  0.84  0.18   4.55   1.50  26.07"
      ]
     },
     "execution_count": 59,
     "metadata": {},
     "output_type": "execute_result"
    }
   ],
   "source": [
    "pvt_heat = good_data.pivot_table(\n",
    "                index='year_of_release',\n",
    "                columns='platform',\n",
    "                values='all_sales',\n",
    "                aggfunc=sum,\n",
    "                fill_value=0)\n",
    "pvt_heat"
   ]
  },
  {
   "cell_type": "code",
   "execution_count": 60,
   "metadata": {},
   "outputs": [
    {
     "data": {
      "image/png": "[encoded data removed]",
      "text/plain": [
       "<Figure size 720x216 with 2 Axes>"
      ]
     },
     "metadata": {
      "needs_background": "light"
     },
     "output_type": "display_data"
    }
   ],
   "source": [
    "plt.figure(figsize=(10, 3))\n",
    "ax = sns.heatmap(pvt_heat, annot=True, fmt=\".1f\", cmap=\"Blues\")\n",
    "ax.set_title('Динамика продаж по платформам', fontsize=16)\n",
    "ax.set_xlabel('Платформы', fontsize=12)\n",
    "ax.set_ylabel('Года', fontsize=12)\n",
    "plt.show()"
   ]
  },
  {
   "cell_type": "code",
   "execution_count": 61,
   "metadata": {},
   "outputs": [
    {
     "data": {
      "image/png": "[encoded data removed]",
      "text/plain": [
       "<Figure size 1440x360 with 1 Axes>"
      ]
     },
     "metadata": {},
     "output_type": "display_data"
    },
    {
     "data": {
      "image/png": "[encoded data removed]",
      "text/plain": [
       "<Figure size 1440x360 with 1 Axes>"
      ]
     },
     "metadata": {},
     "output_type": "display_data"
    },
    {
     "data": {
      "image/png": "[encoded data removed]",
      "text/plain": [
       "<Figure size 1440x360 with 1 Axes>"
      ]
     },
     "metadata": {},
     "output_type": "display_data"
    }
   ],
   "source": [
    "# создадим цикл, чтобы посмотреть на долевое распределение продаж по платформам внутри каждого региона\n",
    "for region in ['na_sales', 'eu_sales', 'jp_sales']:\n",
    "    # группируем данные по платформам\n",
    "    platform_by_region = (good_data\n",
    "                   .pivot_table(index='platform', values=region, aggfunc='sum').copy()\n",
    "                      .sort_values(by=region, ascending=False))\n",
    "    # оставляем в датасете ТОП 5\n",
    "    platform_by_region = platform_by_region.head()\n",
    "    # строим круговую диаграмму для каждого региона\n",
    "    labels = platform_by_region.index\n",
    "    fig, ax = plt.subplots()\n",
    "    ax.pie(platform_by_region[region], labels=labels, autopct='%1.1f%%', startangle=90)\n",
    "    ax.axis('equal')\n",
    "    plt.title(region)\n",
    "    plt.show()"
   ]
  },
  {
   "cell_type": "markdown",
   "metadata": {},
   "source": [
    "#### Распределение получилось совершенно разным для регионов\n",
    "- Северная Америка - Лидер \"PS4\" - 39%, \"XOne\" - 32%, Остальные платформы в пределах 10%\n",
    "- Европа - Лидер \"PS4\" - 55,1%, \"XOne\" - 19,6%, Остальные платформы в пределах 10%\n",
    "- Япония - Лидер \"3DS\" - 47,9%, \"PS4\" - 16,3%, XOne\" - совсем отсутствует, и по убыванию \"PSV\", \"PS3\", \"WiiV=U\""
   ]
  },
  {
   "cell_type": "markdown",
   "metadata": {},
   "source": [
    "#### 4.2. ТОП-5 Жанров"
   ]
  },
  {
   "cell_type": "code",
   "execution_count": 62,
   "metadata": {},
   "outputs": [
    {
     "data": {
      "image/png": "[encoded data removed]",
      "text/plain": [
       "<Figure size 1440x360 with 1 Axes>"
      ]
     },
     "metadata": {},
     "output_type": "display_data"
    },
    {
     "data": {
      "image/png": "[encoded data removed]",
      "text/plain": [
       "<Figure size 1440x360 with 1 Axes>"
      ]
     },
     "metadata": {},
     "output_type": "display_data"
    },
    {
     "data": {
      "image/png": "[encoded data removed]",
      "text/plain": [
       "<Figure size 1440x360 with 1 Axes>"
      ]
     },
     "metadata": {},
     "output_type": "display_data"
    }
   ],
   "source": [
    "# Сделаем тоже самое с Жанрами\n",
    "for region in ['na_sales', 'eu_sales', 'jp_sales']:\n",
    "    # группируем данные по жанрам\n",
    "    genre_by_region = (good_data\n",
    "                   .pivot_table(index='genre', values=region, aggfunc='sum').copy()\n",
    "                      .sort_values(by=region, ascending=False))\n",
    "    # оставляем в датасете ТОП 5\n",
    "    genre_by_region = genre_by_region.head()\n",
    "    # строим круговую диаграмму для каждого региона\n",
    "    labels = genre_by_region.index\n",
    "    fig, ax = plt.subplots()\n",
    "    ax.pie(genre_by_region[region], labels=labels, autopct='%1.1f%%', startangle=90)\n",
    "    ax.axis('equal')\n",
    "    plt.title(region)\n",
    "    plt.show()"
   ]
  },
  {
   "cell_type": "markdown",
   "metadata": {},
   "source": [
    "#### И вновь как и с платформами в жанрах так же разные предпочтения, но в Европе и Сев Америке распределение похожее\n",
    "- Сев Америка и Европа первые 3 места **Shooter, Action и Sports**\n",
    "- В то время как в Японии большинство продаж в 2х жанрах: это **Role-Playing и Actoin**\n",
    "---\n",
    "- Скорее всего это связано с тем что на этих рынках совершенно разные лидеры в игровых платформах а так-же возможно у них разные предпочтения в жанрах"
   ]
  },
  {
   "cell_type": "markdown",
   "metadata": {},
   "source": [
    "#### 4.3. Посмотрим на продажи и Рейтинг ESRB в разных регионах"
   ]
  },
  {
   "cell_type": "code",
   "execution_count": 63,
   "metadata": {},
   "outputs": [
    {
     "data": {
      "text/plain": [
       "array([nan, 'M', 'E', 'T', 'E10+'], dtype=object)"
      ]
     },
     "execution_count": 63,
     "metadata": {},
     "output_type": "execute_result"
    }
   ],
   "source": [
    "good_data['rating'].unique()"
   ]
  },
  {
   "cell_type": "code",
   "execution_count": 64,
   "metadata": {},
   "outputs": [
    {
     "data": {
      "image/png": "[encoded data removed]",
      "text/plain": [
       "<Figure size 1440x360 with 1 Axes>"
      ]
     },
     "metadata": {},
     "output_type": "display_data"
    },
    {
     "data": {
      "image/png": "[encoded data removed]",
      "text/plain": [
       "<Figure size 1440x360 with 1 Axes>"
      ]
     },
     "metadata": {},
     "output_type": "display_data"
    },
    {
     "data": {
      "image/png": "[encoded data removed]",
      "text/plain": [
       "<Figure size 1440x360 with 1 Axes>"
      ]
     },
     "metadata": {},
     "output_type": "display_data"
    }
   ],
   "source": [
    "# Сделаем тоже самое с Рейтингом\n",
    "for region in ['na_sales', 'eu_sales', 'jp_sales']:\n",
    "    # группируем данные по жанрам\n",
    "    rating_by_region = (good_data\n",
    "                    .query('rating == rating')    \n",
    "                    .pivot_table(index='rating', values=region, aggfunc='sum').copy()\n",
    "                    .sort_values(by=region, ascending=False))\n",
    "\n",
    "    # строим круговую диаграмму для каждого региона\n",
    "    labels = rating_by_region.index\n",
    "    fig, ax = plt.subplots()\n",
    "    ax.pie(rating_by_region[region], labels=labels, autopct='%1.1f%%', startangle=90)\n",
    "    ax.axis('equal')\n",
    "    plt.title(region)\n",
    "    plt.show()"
   ]
  },
  {
   "cell_type": "markdown",
   "metadata": {},
   "source": [
    "#### Описание возрастных ограничений\t\n",
    "- **E**\t    «Everyone» — «Для всех»\n",
    "- **M**\t    «Mature» — «Для взрослых»: Материалы игры не подходят для подростков младше 17 лет. \n",
    "- **T**     «Teen» — «Подросткам»: Игра подходит для лиц от 13 лет и старше.\n",
    "- **E10+**\t«Everyone 10 and older» — «Для всех от 10 лет и старше»\n",
    "- **K-A**\t«Kids to Adults»\n",
    "- **AO**\t«Adults Only 18+» — «Только для взрослых»: Содержание игры только для взрослых старше 18 лет. \n",
    "- **EC**\t«Early childhood» - «Для детей младшего возраста»\n",
    "- **RP**\t«Rating Pending» — «Рейтинг ожидается»: Продукт был отправлен в ESRB и ожидает присвоения рейтинга.\n"
   ]
  },
  {
   "cell_type": "markdown",
   "metadata": {},
   "source": [
    "#### Тут совсем интересно получается\n",
    "- В Северной Америке и Европе основные потребители игр явяются взрослые люди от 18 лет\n",
    "- В Японии же в основном играют Тинейджеры от 13 лет\n",
    "- На втором месте во всех регионах со средней долей в 25% расположился сегмент \"Для всех\", т.е. без ограничений."
   ]
  },
  {
   "cell_type": "markdown",
   "metadata": {},
   "source": [
    "### Итоги Шага_4\n",
    "1. Европа и Северная Америка имеют схожее распределения по Платформам, жанру и рейтингу, в то время как в Японии мы получаем совершенно другой рынок начиная от платформ и заканчивая тем что в игры там играют в основном Тинейджеры."
   ]
  },
  {
   "cell_type": "markdown",
   "metadata": {},
   "source": [
    "### <span style=\"color:blue\"> Шаг_5: Проверим гипотезы"
   ]
  },
  {
   "cell_type": "markdown",
   "metadata": {},
   "source": [
    "#### 5.1. Гипотеза первая: Средние пользовательские рейтинги платформ Xbox One и PC одинаковые"
   ]
  },
  {
   "cell_type": "markdown",
   "metadata": {},
   "source": [
    "Формулируем нулевую гипотизу\n",
    "- H0 - Средние пользовательские рейтинги платформ Xbox One и PC одинаковые\n",
    "- H1 - Средние рейтинги в этих платформах разные"
   ]
  },
  {
   "cell_type": "code",
   "execution_count": 65,
   "metadata": {},
   "outputs": [],
   "source": [
    "# Формируем выборки по платформам Xbox One и PC\n",
    "XOne_data = data.query('year_of_release >=2014 and platform == \"XOne\" and user_score>0')\n",
    "PC_data = data.query('year_of_release >=2014 and platform == \"PC\" and user_score>0')"
   ]
  },
  {
   "cell_type": "code",
   "execution_count": 66,
   "metadata": {},
   "outputs": [
    {
     "data": {
      "text/html": [
       "<div>\n",
       "<style scoped>\n",
       "    .dataframe tbody tr th:only-of-type {\n",
       "        vertical-align: middle;\n",
       "    }\n",
       "\n",
       "    .dataframe tbody tr th {\n",
       "        vertical-align: top;\n",
       "    }\n",
       "\n",
       "    .dataframe thead th {\n",
       "        text-align: right;\n",
       "    }\n",
       "</style>\n",
       "<table border=\"1\" class=\"dataframe\">\n",
       "  <thead>\n",
       "    <tr style=\"text-align: right;\">\n",
       "      <th></th>\n",
       "      <th>platform</th>\n",
       "      <th>PC</th>\n",
       "      <th>XOne</th>\n",
       "    </tr>\n",
       "  </thead>\n",
       "  <tbody>\n",
       "    <tr>\n",
       "      <td rowspan=\"7\" valign=\"top\">user_score</td>\n",
       "      <td>mean</td>\n",
       "      <td>6.298361</td>\n",
       "      <td>6.594545</td>\n",
       "    </tr>\n",
       "    <tr>\n",
       "      <td>median</td>\n",
       "      <td>6.800000</td>\n",
       "      <td>6.800000</td>\n",
       "    </tr>\n",
       "    <tr>\n",
       "      <td>count</td>\n",
       "      <td>122.000000</td>\n",
       "      <td>165.000000</td>\n",
       "    </tr>\n",
       "    <tr>\n",
       "      <td>max</td>\n",
       "      <td>9.300000</td>\n",
       "      <td>9.200000</td>\n",
       "    </tr>\n",
       "    <tr>\n",
       "      <td>min</td>\n",
       "      <td>1.400000</td>\n",
       "      <td>1.600000</td>\n",
       "    </tr>\n",
       "    <tr>\n",
       "      <td>var</td>\n",
       "      <td>2.901154</td>\n",
       "      <td>1.891007</td>\n",
       "    </tr>\n",
       "    <tr>\n",
       "      <td>std</td>\n",
       "      <td>1.703278</td>\n",
       "      <td>1.375139</td>\n",
       "    </tr>\n",
       "  </tbody>\n",
       "</table>\n",
       "</div>"
      ],
      "text/plain": [
       "platform                   PC        XOne\n",
       "user_score mean      6.298361    6.594545\n",
       "           median    6.800000    6.800000\n",
       "           count   122.000000  165.000000\n",
       "           max       9.300000    9.200000\n",
       "           min       1.400000    1.600000\n",
       "           var       2.901154    1.891007\n",
       "           std       1.703278    1.375139"
      ]
     },
     "execution_count": 66,
     "metadata": {},
     "output_type": "execute_result"
    }
   ],
   "source": [
    "# Посмотрим на наши данные более подробно\n",
    "data.query('year_of_release >=2014 and platform in (\"XOne\",\"PC\") and user_score>0')\\\n",
    "    .groupby('platform')\\\n",
    "    .agg({'user_score': ['mean', 'median','count', 'max', 'min', 'var', 'std']})\\\n",
    "    .T\\"
   ]
  },
  {
   "cell_type": "markdown",
   "metadata": {},
   "source": [
    "Данные по платформам вроде как идентичные, за исключением вариации и стандартного отклонения"
   ]
  },
  {
   "cell_type": "code",
   "execution_count": 67,
   "metadata": {},
   "outputs": [
    {
     "name": "stdout",
     "output_type": "stream",
     "text": [
      "p-значение: 0.10450507919348415\n",
      "Не получилось отвергнуть нулевую гипотезу\n"
     ]
    }
   ],
   "source": [
    "# Возьмем уровень alpha = 0.05 что будет соответствовать 95% точности результата\n",
    "\n",
    "alpha = .05\n",
    "\n",
    "results = st.ttest_ind(\n",
    "    XOne_data['user_score'],\n",
    "    PC_data['user_score'])\n",
    "\n",
    "print('p-значение:', results.pvalue)\n",
    "\n",
    "if results.pvalue < alpha:\n",
    "    print(\"Отвергаем нулевую гипотезу\")\n",
    "else:\n",
    "    print(\"Не получилось отвергнуть нулевую гипотезу\")"
   ]
  },
  {
   "cell_type": "markdown",
   "metadata": {},
   "source": [
    "#### Итоги по пункту 5.1. Так и есть не удалось отвергнуть нулевую гипотезу, данные практически идентичные\n",
    "---"
   ]
  },
  {
   "cell_type": "markdown",
   "metadata": {},
   "source": [
    "#### 5.2. Гипотеза вторая: Средние пользовательские рейтинги жанров Action (англ. «действие», экшен-игры) и Sports (англ. «спортивные соревнования») разные."
   ]
  },
  {
   "cell_type": "markdown",
   "metadata": {},
   "source": [
    "Формулируем нулевую гипотизу\n",
    "- H0 - Средние пользовательские рейтинги жанров Action и Sports одинаковые\n",
    "- H1 - Средние рейтинги в этих жанрах разные"
   ]
  },
  {
   "cell_type": "code",
   "execution_count": 68,
   "metadata": {},
   "outputs": [],
   "source": [
    "# Формируем выборки по этим жанрам\n",
    "Action_data = data.query('year_of_release >=2014 and genre == \"Action\" and user_score>0')\n",
    "Sports_data = data.query('year_of_release >=2014 and genre == \"Sports\" and user_score>0')"
   ]
  },
  {
   "cell_type": "code",
   "execution_count": 69,
   "metadata": {},
   "outputs": [
    {
     "data": {
      "text/html": [
       "<div>\n",
       "<style scoped>\n",
       "    .dataframe tbody tr th:only-of-type {\n",
       "        vertical-align: middle;\n",
       "    }\n",
       "\n",
       "    .dataframe tbody tr th {\n",
       "        vertical-align: top;\n",
       "    }\n",
       "\n",
       "    .dataframe thead th {\n",
       "        text-align: right;\n",
       "    }\n",
       "</style>\n",
       "<table border=\"1\" class=\"dataframe\">\n",
       "  <thead>\n",
       "    <tr style=\"text-align: right;\">\n",
       "      <th></th>\n",
       "      <th>genre</th>\n",
       "      <th>Action</th>\n",
       "      <th>Sports</th>\n",
       "    </tr>\n",
       "  </thead>\n",
       "  <tbody>\n",
       "    <tr>\n",
       "      <td rowspan=\"7\" valign=\"top\">user_score</td>\n",
       "      <td>mean</td>\n",
       "      <td>6.760606</td>\n",
       "      <td>5.225197</td>\n",
       "    </tr>\n",
       "    <tr>\n",
       "      <td>median</td>\n",
       "      <td>7.100000</td>\n",
       "      <td>5.500000</td>\n",
       "    </tr>\n",
       "    <tr>\n",
       "      <td>count</td>\n",
       "      <td>297.000000</td>\n",
       "      <td>127.000000</td>\n",
       "    </tr>\n",
       "    <tr>\n",
       "      <td>max</td>\n",
       "      <td>9.000000</td>\n",
       "      <td>8.800000</td>\n",
       "    </tr>\n",
       "    <tr>\n",
       "      <td>min</td>\n",
       "      <td>2.000000</td>\n",
       "      <td>0.200000</td>\n",
       "    </tr>\n",
       "    <tr>\n",
       "      <td>var</td>\n",
       "      <td>1.898477</td>\n",
       "      <td>3.446979</td>\n",
       "    </tr>\n",
       "    <tr>\n",
       "      <td>std</td>\n",
       "      <td>1.377852</td>\n",
       "      <td>1.856604</td>\n",
       "    </tr>\n",
       "  </tbody>\n",
       "</table>\n",
       "</div>"
      ],
      "text/plain": [
       "genre                  Action      Sports\n",
       "user_score mean      6.760606    5.225197\n",
       "           median    7.100000    5.500000\n",
       "           count   297.000000  127.000000\n",
       "           max       9.000000    8.800000\n",
       "           min       2.000000    0.200000\n",
       "           var       1.898477    3.446979\n",
       "           std       1.377852    1.856604"
      ]
     },
     "execution_count": 69,
     "metadata": {},
     "output_type": "execute_result"
    }
   ],
   "source": [
    "# Посмотрим на наши данные более подробно\n",
    "data.query('year_of_release >=2014 and genre in (\"Action\",\"Sports\") and user_score>0')\\\n",
    "    .groupby('genre')\\\n",
    "    .agg({'user_score': ['mean', 'median','count', 'max', 'min', 'var', 'std']})\\\n",
    "    .T\\"
   ]
  },
  {
   "cell_type": "markdown",
   "metadata": {},
   "source": [
    "Данные визуально разные. Проверим уровнь значимости"
   ]
  },
  {
   "cell_type": "code",
   "execution_count": 70,
   "metadata": {},
   "outputs": [
    {
     "name": "stdout",
     "output_type": "stream",
     "text": [
      "p-значение: 2.8711147985105864e-19\n",
      "Отвергаем нулевую гипотезу\n"
     ]
    }
   ],
   "source": [
    "alpha = .05\n",
    "\n",
    "results = st.ttest_ind(\n",
    "    Action_data['user_score'],\n",
    "    Sports_data['user_score'])\n",
    "\n",
    "print('p-значение:', results.pvalue)\n",
    "\n",
    "if results.pvalue < alpha:\n",
    "    print(\"Отвергаем нулевую гипотезу\")\n",
    "else:\n",
    "    print(\"Не получилось отвергнуть нулевую гипотезу\")"
   ]
  },
  {
   "cell_type": "markdown",
   "metadata": {},
   "source": [
    "#### Итоги по пункту 5.2. Рейтинги жанров Action и Sports действительно разные"
   ]
  },
  {
   "cell_type": "markdown",
   "metadata": {},
   "source": [
    "#### Обовнование выбора теста для проверки гипотезы такое:\n",
    "- Т.к. мы предпологаем что пользователи в наших выборках разные будем использовать метод st.ttest_ind().\n",
    "- Если бы мы сравнивали одних и тех же клиентов до и после, то нужно было-бы использовать scipy.stats.ttest_rel()\n",
    "- И у нас не одна выборка а две. Для одной можно было-бы использовать метод: scipy.stats.ttest_1samp()"
   ]
  },
  {
   "cell_type": "markdown",
   "metadata": {},
   "source": [
    "### <span style=\"color:blue\"> Шаг_6: Общие итоги исследования\n",
    "1. Пиковое значение продаж было отмечено в 2008 и 2009 году, после этого продажи начинают с каждым годом снижаться, тут видимо сказывается переход игроков в бесплатные игры с оплатой только за продвижение, но это не точно :)\n",
    "2. Максимальная живучесть игровой платформы это 12 лет, кроме PC который имеет более или менее стабильные продажи;\n",
    "3. Высокий потенциал развития у консоли PS4, она практически единственная которая показывает прирост год к году;\n",
    "4. В основном игры продаются в кол-ве копий 75 000, но есть и сильные всплески в виде 82.5 млн;\n",
    "5. Оценки пользователей совершенно не коррелируют с продажами, в то время как оценки Критиков коррелируют с продажами на уровне 0.4, возможно это связанно с тем что Критики делают свои оценки только по играм которые имеют хорошие продажи;\n",
    "6. Наиболее прибыльными Жанрами игр являются:\n",
    "- Action;\n",
    "- Shooter;\n",
    "- Sports;\n",
    "- Role-Playing.\n",
    "Всё остальное существенно проигрывает этим 4м;\n",
    "7. Игровые рынки в Японии совершенно отличаются от рынков Северной Америки и Европы:\n",
    "- Так в Северной Америке и Европе лидерами являются консоли: \"PS4\", \"XOne\", в то время как в Японии это \"3DS\";\n",
    "- Пользователи игр в Северной Америке и Европе в основном взрослые люди от 18 лет, тогда как в Японии это Подростки;\n",
    "- Жанр игр так же отличен Европа и Сев Америка это Shooter и Action, в то время как в Японии большинство продаж это Role-Playing;\n",
    "8. Средние пользовательские рейтинги платформ Xbox One и PC одинаковые;\n",
    "9. Рейтинги жанров Action и Sports действительно разные"
   ]
  }
 ],
 "metadata": {
  "kernelspec": {
   "display_name": "Python 3",
   "language": "python",
   "name": "python3"
  },
  "language_info": {
   "codemirror_mode": {
    "name": "ipython",
    "version": 3
   },
   "file_extension": ".py",
   "mimetype": "text/x-python",
   "name": "python",
   "nbconvert_exporter": "python",
   "pygments_lexer": "ipython3",
   "version": "3.7.6"
  }
 },
 "nbformat": 4,
 "nbformat_minor": 2
}
